{
 "cells": [
  {
   "cell_type": "code",
   "execution_count": 1,
   "metadata": {},
   "outputs": [],
   "source": [
    "useMock=False"
   ]
  },
  {
   "cell_type": "code",
   "execution_count": 2,
   "metadata": {},
   "outputs": [],
   "source": [
    "from cffi import FFI\n",
    "ffi = FFI()\n",
    "with open('extracted_headers/safe_c_ffi_data.h','r') as f:\n",
    "    myHeaders=f.read()\n",
    "ffi.cdef(myHeaders)\n",
    "with open('extracted_headers/safe_c_ffi_funcs.h','r') as f:\n",
    "    funs=f.read()\n",
    "ffi.cdef(funs)\n",
    "lib=ffi.dlopen('../compiled_binaries/libsafe_app' + useMock*'_mock' + '.so')"
   ]
  },
  {
   "cell_type": "markdown",
   "metadata": {},
   "source": [
    "---"
   ]
  },
  {
   "cell_type": "markdown",
   "metadata": {},
   "source": [
    "maybe it makes most sense to really define the data types by hand and just check them for changes with updates on the api - not entirely sure\n",
    "\n",
    "- rid"
   ]
  },
  {
   "cell_type": "markdown",
   "metadata": {},
   "source": [
    "---"
   ]
  },
  {
   "cell_type": "markdown",
   "metadata": {},
   "source": [
    "```c\n",
    "typedef unsigned long int uintptr_t;\n",
    "\n",
    "typedef struct {\n",
    " char* id;\n",
    " char* scope;\n",
    " char* name;\n",
    " char* vendor;\n",
    "} AppExchangeInfo;\n",
    "```"
   ]
  },
  {
   "cell_type": "code",
   "execution_count": 3,
   "metadata": {},
   "outputs": [],
   "source": [
    "class AppExchangeInfo:\n",
    "    def __init__(self,id=b'noId',scope=b'noScope',name=b'noName',vendor=b'nobody'):\n",
    "        self.id = ffi.new('char[]',id)\n",
    "        self.scope = ffi.new('char[]',scope)\n",
    "        self.name = ffi.new('char[]',name)\n",
    "        self.vendor = ffi.new('char[]',vendor)\n",
    "\n",
    "        self.entity = ffi.new('AppExchangeInfo *',[self.id,self.scope,self.name,self.vendor])"
   ]
  },
  {
   "cell_type": "code",
   "execution_count": 4,
   "metadata": {},
   "outputs": [],
   "source": [
    "def AppExchangeInfo(id=b'noId',scope=b'noScope',name=b'noName',vendor=b'nobody'):\n",
    "    id = ffi.new('char[]',id)\n",
    "    scope = ffi.new('char[]',scope)\n",
    "    name = ffi.new('char[]',name)\n",
    "    vendor = ffi.new('char[]',vendor)\n",
    "\n",
    "    myStruct = ffi.new('AppExchangeInfo *',[id,scope,name,vendor])\n",
    "    \n",
    "    return myStruct, [id, scope, name, vendor]"
   ]
  },
  {
   "cell_type": "markdown",
   "metadata": {},
   "source": [
    "newExChangeInfo,infopayload = AppExchangeInfo(b'0.0.2',name=b'pyTest',vendor=b'rid')"
   ]
  },
  {
   "cell_type": "markdown",
   "metadata": {},
   "source": [
    "newExChangeInfo,infopayload = AppExchangeInfo(id=b'meh',scope=b'myScope',\n",
    "                                              name=b'PyTests only today',vendor=b'rid')"
   ]
  },
  {
   "cell_type": "markdown",
   "metadata": {
    "scrolled": true
   },
   "source": [
    "ffi.string(newExChangeInfo.vendor)"
   ]
  },
  {
   "cell_type": "markdown",
   "metadata": {},
   "source": [
    "ffi.string(newExChangeInfo.name)"
   ]
  },
  {
   "cell_type": "markdown",
   "metadata": {},
   "source": [
    "```c\n",
    "typedef struct {\n",
    " _Bool read;\n",
    " _Bool insert;\n",
    " _Bool update;\n",
    " _Bool delete;\n",
    " _Bool manage_permissions;\n",
    "} PermissionSet;\n",
    "```"
   ]
  },
  {
   "cell_type": "code",
   "execution_count": 5,
   "metadata": {},
   "outputs": [],
   "source": [
    "def PermissionSet(read=True,insert=True,update=True,delete=True,manage_permissions=True):\n",
    "    return ffi.new('PermissionSet *',[read,insert,update,delete,manage_permissions])"
   ]
  },
  {
   "cell_type": "markdown",
   "metadata": {},
   "source": [
    "newPermissionSet = PermissionSet()"
   ]
  },
  {
   "cell_type": "markdown",
   "metadata": {},
   "source": [
    "```c\n",
    "typedef struct {\n",
    " char* cont_name;\n",
    " PermissionSet access;\n",
    "} ContainerPermissions;\n",
    "```"
   ]
  },
  {
   "cell_type": "code",
   "execution_count": 6,
   "metadata": {},
   "outputs": [],
   "source": [
    "def ContainerPermissions(name=b'noName',access=None):\n",
    "    containerName = ffi.new('char[]',name)\n",
    "    if not access:\n",
    "        access = PermissionSet()\n",
    "    container = ffi.new('ContainerPermissions *',[containerName,access[0]])\n",
    "    \n",
    "    return container, [containerName,access]"
   ]
  },
  {
   "cell_type": "markdown",
   "metadata": {},
   "source": [
    "newPermissions,permission_addon=ContainerPermissions(b'_pictures',newPermissionSet)"
   ]
  },
  {
   "cell_type": "code",
   "execution_count": 7,
   "metadata": {},
   "outputs": [],
   "source": [
    "newPermissions,permission_addon=ContainerPermissions(b'_publicNames')"
   ]
  },
  {
   "cell_type": "code",
   "execution_count": 8,
   "metadata": {},
   "outputs": [],
   "source": [
    "newPermissions,permission_addon=ContainerPermissions(b'_music')"
   ]
  },
  {
   "cell_type": "code",
   "execution_count": null,
   "metadata": {},
   "outputs": [],
   "source": []
  },
  {
   "cell_type": "code",
   "execution_count": 9,
   "metadata": {},
   "outputs": [
    {
     "data": {
      "text/plain": [
       "b'_music'"
      ]
     },
     "execution_count": 9,
     "metadata": {},
     "output_type": "execute_result"
    }
   ],
   "source": [
    "ffi.string(newPermissions.cont_name)"
   ]
  },
  {
   "cell_type": "markdown",
   "metadata": {},
   "source": [
    "```c\n",
    "typedef struct {\n",
    " AppExchangeInfo app;\n",
    " _Bool app_container;\n",
    " ContainerPermissions* containers;\n",
    " uintptr_t containers_len;\n",
    " uintptr_t containers_cap;\n",
    "} AuthReq;\n",
    "```"
   ]
  },
  {
   "cell_type": "code",
   "execution_count": 10,
   "metadata": {},
   "outputs": [],
   "source": [
    "def AuthReq(permissions,containers_len,containers_cap,id=b'noId',scope=b'pythonscript',\n",
    "            name=b'noName',vendor=b'nobody',app_container=True):\n",
    "    \n",
    "    newExChangeInfo,infopayload = AppExchangeInfo(id,scope,name,vendor)\n",
    "    \n",
    "    authReq = ffi.new('AuthReq *',[newExChangeInfo[0],app_container,permissions,containers_len,containers_cap])\n",
    "    \n",
    "    return authReq, [newExChangeInfo,infopayload]"
   ]
  },
  {
   "cell_type": "markdown",
   "metadata": {},
   "source": [
    "myAuth,addData=AuthReq(newPermissions,0,0,id=b'ridsTest',scope=b'pythonscript'\n",
    "                       ,name=b'PyTest',vendor=b'rid never work',app_container=True)"
   ]
  },
  {
   "cell_type": "markdown",
   "metadata": {},
   "source": [
    "myAuth,addData=AuthReq(newPermissions,0,0,id=b'ridsTest',scope=b'pythonscript'\n",
    "                       ,name=b'PyTest',vendor=b'nobody',app_container=True)"
   ]
  },
  {
   "cell_type": "code",
   "execution_count": 11,
   "metadata": {},
   "outputs": [],
   "source": [
    "myAuth,addData=AuthReq(newPermissions,1,1,id=b'newProgId_unique_thing',scope=b'lalali'\n",
    "                       ,name=b'newProgramName',vendor=b'nobody',app_container=True)"
   ]
  },
  {
   "cell_type": "code",
   "execution_count": null,
   "metadata": {},
   "outputs": [],
   "source": []
  },
  {
   "cell_type": "code",
   "execution_count": 12,
   "metadata": {},
   "outputs": [],
   "source": [
    "@ffi.callback(\"void(void *, FfiResult *)\")\n",
    "def feedback(userData, result):\n",
    "    print(userData)\n",
    "    print(result.error_code)"
   ]
  },
  {
   "cell_type": "code",
   "execution_count": 13,
   "metadata": {},
   "outputs": [
    {
     "name": "stdout",
     "output_type": "stream",
     "text": [
      "<cdata 'void *' NULL>\n",
      "0\n"
     ]
    }
   ],
   "source": [
    "lib.app_set_additional_search_path(ffi.new('char[]',b'../compiled_binaries/'),ffi.NULL,feedback)"
   ]
  },
  {
   "cell_type": "code",
   "execution_count": null,
   "metadata": {},
   "outputs": [],
   "source": []
  },
  {
   "cell_type": "code",
   "execution_count": null,
   "metadata": {},
   "outputs": [],
   "source": []
  },
  {
   "cell_type": "markdown",
   "metadata": {
    "collapsed": true
   },
   "source": [
    "@ffi.callback(\"void(void *, FfiResult *, unsigned int, char *)\")\n",
    "def o_cb(userData, result, noClueWhatNumber, resultString):\n",
    "    print(userData)\n",
    "    print(result)\n",
    "    print(noClueWhatNumber)\n",
    "    print(resultString)"
   ]
  },
  {
   "cell_type": "markdown",
   "metadata": {},
   "source": [
    "lib.encode_auth_req(myAuth,ffi.NULL,o_cb)"
   ]
  },
  {
   "cell_type": "code",
   "execution_count": null,
   "metadata": {},
   "outputs": [],
   "source": []
  },
  {
   "cell_type": "code",
   "execution_count": null,
   "metadata": {},
   "outputs": [],
   "source": []
  },
  {
   "cell_type": "markdown",
   "metadata": {},
   "source": [
    "myAuth.containers.access.insert=True"
   ]
  },
  {
   "cell_type": "markdown",
   "metadata": {
    "collapsed": true
   },
   "source": [
    "myAuth.containers.access.delete=True"
   ]
  },
  {
   "cell_type": "markdown",
   "metadata": {
    "collapsed": true
   },
   "source": [
    "myAuth.containers.access.read=True"
   ]
  },
  {
   "cell_type": "code",
   "execution_count": 14,
   "metadata": {},
   "outputs": [
    {
     "data": {
      "text/plain": [
       "b'newProgramName'"
      ]
     },
     "execution_count": 14,
     "metadata": {},
     "output_type": "execute_result"
    }
   ],
   "source": [
    "ffi.string(myAuth.app.name)"
   ]
  },
  {
   "cell_type": "code",
   "execution_count": 15,
   "metadata": {},
   "outputs": [
    {
     "data": {
      "text/plain": [
       "b'newProgId_unique_thing'"
      ]
     },
     "execution_count": 15,
     "metadata": {},
     "output_type": "execute_result"
    }
   ],
   "source": [
    "ffi.string(myAuth.app.id)"
   ]
  },
  {
   "cell_type": "code",
   "execution_count": 16,
   "metadata": {},
   "outputs": [],
   "source": [
    "encodedAuth=None"
   ]
  },
  {
   "cell_type": "code",
   "execution_count": 17,
   "metadata": {},
   "outputs": [],
   "source": [
    "@ffi.callback(\"void(void *, FfiResult *, unsigned long int, char *)\")\n",
    "def o_cb(userData, result, reqId, encodedReq):\n",
    "    global encodedAuth\n",
    "    print(userData)\n",
    "    print(result.error_code)\n",
    "    if result.error_code != 0:\n",
    "        print(ffi.string(result.description))\n",
    "    print(reqId)\n",
    "    print(ffi.string(encodedReq))\n",
    "    encodedAuth = ffi.string(encodedReq)"
   ]
  },
  {
   "cell_type": "code",
   "execution_count": 18,
   "metadata": {},
   "outputs": [],
   "source": [
    "@ffi.callback(\"void(void *, FfiResult *, unsigned int, char *)\")\n",
    "def o_cb(userData, result, reqId, encodedReq):\n",
    "    global encodedAuth\n",
    "    print(userData)\n",
    "    print(result.error_code)\n",
    "    if result.error_code != 0:\n",
    "        print(ffi.string(result.description))\n",
    "    print(reqId)\n",
    "    print(ffi.string(encodedReq))\n",
    "    encodedAuth = ffi.string(encodedReq)"
   ]
  },
  {
   "cell_type": "code",
   "execution_count": 19,
   "metadata": {
    "scrolled": true
   },
   "outputs": [
    {
     "name": "stdout",
     "output_type": "stream",
     "text": [
      "<cdata 'void *' NULL>\n",
      "0\n",
      "2681354838\n",
      "b'AAAAAFY60p8AAAAAFgAAAAAAAABuZXdQcm9nSWRfdW5pcXVlX3RoaW5nAQYAAAAAAAAAbGFsYWxpDgAAAAAAAABuZXdQcm9ncmFtTmFtZQYAAAAAAAAAbm9ib2R5AQEAAAAAAAAABgAAAAAAAABfbXVzaWMFAAAAAAAAAAAAAAABAAAAAgAAAAMAAAAEAAAA'\n"
     ]
    }
   ],
   "source": [
    "lib.encode_auth_req(myAuth,ffi.NULL,o_cb)"
   ]
  },
  {
   "cell_type": "code",
   "execution_count": 20,
   "metadata": {},
   "outputs": [
    {
     "data": {
      "text/plain": [
       "b'safe-auth://AAAAAFY60p8AAAAAFgAAAAAAAABuZXdQcm9nSWRfdW5pcXVlX3RoaW5nAQYAAAAAAAAAbGFsYWxpDgAAAAAAAABuZXdQcm9ncmFtTmFtZQYAAAAAAAAAbm9ib2R5AQEAAAAAAAAABgAAAAAAAABfbXVzaWMFAAAAAAAAAAAAAAABAAAAAgAAAAMAAAAEAAAA'"
      ]
     },
     "execution_count": 20,
     "metadata": {},
     "output_type": "execute_result"
    }
   ],
   "source": [
    "b'safe-auth://' + encodedAuth"
   ]
  },
  {
   "cell_type": "code",
   "execution_count": null,
   "metadata": {},
   "outputs": [],
   "source": []
  },
  {
   "cell_type": "code",
   "execution_count": 21,
   "metadata": {},
   "outputs": [],
   "source": [
    "import base64"
   ]
  },
  {
   "cell_type": "code",
   "execution_count": 22,
   "metadata": {},
   "outputs": [
    {
     "data": {
      "text/plain": [
       "b'bmV3UHJvZ0lkX3VuaXF1ZV90aGluZw==\\n'"
      ]
     },
     "execution_count": 22,
     "metadata": {},
     "output_type": "execute_result"
    }
   ],
   "source": [
    "base64.encodebytes(ffi.string(myAuth.app.id))"
   ]
  },
  {
   "cell_type": "code",
   "execution_count": 23,
   "metadata": {},
   "outputs": [
    {
     "data": {
      "text/plain": [
       "b'bmV3UHJvZ0lkX3VuaXF1ZV90aGluZw'"
      ]
     },
     "execution_count": 23,
     "metadata": {},
     "output_type": "execute_result"
    }
   ],
   "source": [
    "base64.b64encode(b'newProgId_unique_thing').strip(b'=')"
   ]
  },
  {
   "cell_type": "code",
   "execution_count": 24,
   "metadata": {},
   "outputs": [],
   "source": [
    "schemeName=b'safe-'+base64.b64encode(b'newProgId_unique_thing').strip(b'=')"
   ]
  },
  {
   "cell_type": "code",
   "execution_count": 25,
   "metadata": {},
   "outputs": [
    {
     "data": {
      "text/plain": [
       "b'safe-bmV3UHJvZ0lkX3VuaXF1ZV90aGluZw'"
      ]
     },
     "execution_count": 25,
     "metadata": {},
     "output_type": "execute_result"
    }
   ],
   "source": [
    "schemeName"
   ]
  },
  {
   "cell_type": "code",
   "execution_count": 26,
   "metadata": {
    "scrolled": true
   },
   "outputs": [],
   "source": [
    "\n",
    "sysUri = FFI()\n",
    "with open('extracted_headers/safe_c_ffi_data.h','r') as f:\n",
    "    myHeaders=f.read()\n",
    "sysUri.cdef(myHeaders)\n",
    "with open('extracted_headers/system_uri.h','r') as f:\n",
    "    funs=f.read()\n",
    "sysUri.cdef(funs)\n",
    "lib2=sysUri.dlopen('../compiled_binaries/libsystem_uri.so')"
   ]
  },
  {
   "cell_type": "code",
   "execution_count": 27,
   "metadata": {},
   "outputs": [],
   "source": [
    "@sysUri.callback(\"void(void *, FfiResult *)\")\n",
    "def installerFeedback(userData, result):\n",
    "    print(userData)\n",
    "    print(result.error_code)"
   ]
  },
  {
   "cell_type": "markdown",
   "metadata": {},
   "source": [
    "```c\n",
    "void install(char* bundle, \n",
    "             char* vendor, \n",
    "             char* name, \n",
    "             char* exec_args, \n",
    "             uint_least64_t exec_args_len, \n",
    "             char* icon, \n",
    "             char* schemes, \n",
    "             void* user_data, \n",
    "             void (*o_cb)(void* user_data, FfiResult* result));\n",
    "```"
   ]
  },
  {
   "cell_type": "code",
   "execution_count": 28,
   "metadata": {},
   "outputs": [
    {
     "name": "stdout",
     "output_type": "stream",
     "text": [
      "b'newProgramName'\n",
      "b'nobody'\n",
      "b'lalali'\n"
     ]
    }
   ],
   "source": [
    "print(ffi.string(myAuth.app.name))\n",
    "print(ffi.string(myAuth.app.vendor))\n",
    "print(ffi.string(myAuth.app.scope))"
   ]
  },
  {
   "cell_type": "code",
   "execution_count": 29,
   "metadata": {},
   "outputs": [
    {
     "name": "stdout",
     "output_type": "stream",
     "text": [
      "/home/yomuga/maidsafe/pySafe/pySafe\n"
     ]
    }
   ],
   "source": [
    "import os\n",
    "print(os.getcwd())"
   ]
  },
  {
   "cell_type": "code",
   "execution_count": 30,
   "metadata": {},
   "outputs": [],
   "source": [
    "pathToHandler=(os.getcwd()+'/uriHandler.py').encode()"
   ]
  },
  {
   "cell_type": "code",
   "execution_count": 31,
   "metadata": {},
   "outputs": [
    {
     "data": {
      "text/plain": [
       "b'/home/yomuga/maidsafe/pySafe/pySafe/uriHandler.py'"
      ]
     },
     "execution_count": 31,
     "metadata": {},
     "output_type": "execute_result"
    }
   ],
   "source": [
    "pathToHandler"
   ]
  },
  {
   "cell_type": "markdown",
   "metadata": {},
   "source": [
    "```c\n",
    "myAuth,addData=AuthReq(newPermissions,1,1,id=b'newProgId',scope=b'lalali'\n",
    "                       ,name=b'newProgramName',vendor=b'nobody',app_container=False)\n",
    "```"
   ]
  },
  {
   "cell_type": "code",
   "execution_count": 32,
   "metadata": {},
   "outputs": [],
   "source": [
    "bundle=sysUri.new('char[]',ffi.string(myAuth.app.id))\n",
    "vendor=sysUri.new('char[]',ffi.string(myAuth.app.vendor))\n",
    "name=sysUri.new('char[]',ffi.string(myAuth.app.name))\n",
    "exec_args=sysUri.new('char[]',b'python')\n",
    "exec_args2=sysUri.new('char[]',pathToHandler)\n",
    "exec_args_len=2\n",
    "icon=sysUri.new('char[]',b'')\n",
    "schemes=sysUri.new('char[]',schemeName)\n",
    "user_data=sysUri.NULL"
   ]
  },
  {
   "cell_type": "code",
   "execution_count": 33,
   "metadata": {},
   "outputs": [],
   "source": [
    "exec_args_1 = sysUri.new('char*[]',[exec_args,exec_args2])"
   ]
  },
  {
   "cell_type": "code",
   "execution_count": null,
   "metadata": {},
   "outputs": [],
   "source": []
  },
  {
   "cell_type": "code",
   "execution_count": 34,
   "metadata": {},
   "outputs": [
    {
     "name": "stdout",
     "output_type": "stream",
     "text": [
      "<cdata 'void *' NULL>\n",
      "0\n"
     ]
    }
   ],
   "source": [
    "lib2.install(bundle,vendor,name,exec_args_1 ,exec_args_len,icon,schemes,user_data,installerFeedback)"
   ]
  },
  {
   "cell_type": "code",
   "execution_count": null,
   "metadata": {},
   "outputs": [],
   "source": []
  },
  {
   "cell_type": "markdown",
   "metadata": {},
   "source": [
    "```c \n",
    "void open_uri(char* uri, \n",
    "              void* user_data, \n",
    "              void (*o_cb)(void* user_data, FfiResult* result));\n",
    "```"
   ]
  },
  {
   "cell_type": "code",
   "execution_count": 35,
   "metadata": {},
   "outputs": [],
   "source": [
    "@sysUri.callback(\"void(void *, FfiResult *)\")\n",
    "def openerFeedback(userData, result):\n",
    "    global res\n",
    "    res = result\n",
    "    print(userData)\n",
    "    print(result.error_code)"
   ]
  },
  {
   "cell_type": "code",
   "execution_count": 36,
   "metadata": {},
   "outputs": [
    {
     "data": {
      "text/plain": [
       "b'newProgramName'"
      ]
     },
     "execution_count": 36,
     "metadata": {},
     "output_type": "execute_result"
    }
   ],
   "source": [
    "ffi.string(myAuth.app.name)"
   ]
  },
  {
   "cell_type": "code",
   "execution_count": 37,
   "metadata": {},
   "outputs": [
    {
     "data": {
      "text/plain": [
       "b'nobody'"
      ]
     },
     "execution_count": 37,
     "metadata": {},
     "output_type": "execute_result"
    }
   ],
   "source": [
    "ffi.string(myAuth.app.vendor)"
   ]
  },
  {
   "cell_type": "code",
   "execution_count": 38,
   "metadata": {
    "scrolled": true
   },
   "outputs": [
    {
     "data": {
      "text/plain": [
       "b'newProgramName'"
      ]
     },
     "execution_count": 38,
     "metadata": {},
     "output_type": "execute_result"
    }
   ],
   "source": [
    "ffi.string(myAuth.app.name)"
   ]
  },
  {
   "cell_type": "code",
   "execution_count": 39,
   "metadata": {},
   "outputs": [],
   "source": [
    "uri=sysUri.new('char[]',b'safe-auth://' + encodedAuth)\n",
    "user_data=sysUri.NULL"
   ]
  },
  {
   "cell_type": "code",
   "execution_count": 40,
   "metadata": {
    "scrolled": true
   },
   "outputs": [
    {
     "name": "stdout",
     "output_type": "stream",
     "text": [
      "<cdata 'void *' NULL>\n",
      "0\n"
     ]
    }
   ],
   "source": [
    "lib2.open_uri(uri,user_data,openerFeedback)"
   ]
  },
  {
   "cell_type": "code",
   "execution_count": null,
   "metadata": {},
   "outputs": [],
   "source": []
  },
  {
   "cell_type": "code",
   "execution_count": null,
   "metadata": {},
   "outputs": [],
   "source": []
  },
  {
   "cell_type": "code",
   "execution_count": 41,
   "metadata": {},
   "outputs": [],
   "source": [
    "def printCrustConfig(configAddress,configlength=42):\n",
    "    lali=[]\n",
    "    for i in range(configlength):\n",
    "        lali.append(configAddress[i])\n",
    "    print(lali)"
   ]
  },
  {
   "cell_type": "markdown",
   "metadata": {},
   "source": [
    "```c \n",
    "void decode_ipc_msg(char* msg, \n",
    "                    void* user_data, \n",
    "                    void (*o_auth)(void* user_data, uint32_t req_id, AuthGranted* auth_granted), \n",
    "                    void (*o_unregistered)(void* user_data, uint32_t req_id, uint8_t* serialised_cfg, \n",
    "                                            uintptr_t serialised_cfg_len), \n",
    "                    void (*o_containers)(void* user_data, uint32_t req_id), \n",
    "                    void (*o_share_mdata)(void* user_data, uint32_t req_id), \n",
    "                    void (*o_revoked)(void* user_data), \n",
    "                    void (*o_err)(void* user_data, FfiResult* result, uint32_t req_id));\n",
    "```"
   ]
  },
  {
   "cell_type": "code",
   "execution_count": 42,
   "metadata": {},
   "outputs": [],
   "source": [
    "import time"
   ]
  },
  {
   "cell_type": "code",
   "execution_count": 43,
   "metadata": {},
   "outputs": [],
   "source": [
    "import safeUtils"
   ]
  },
  {
   "cell_type": "code",
   "execution_count": null,
   "metadata": {},
   "outputs": [],
   "source": []
  },
  {
   "cell_type": "code",
   "execution_count": 44,
   "metadata": {},
   "outputs": [],
   "source": [
    "@ffi.callback(\"void(void *, uint32_t, AuthGranted *)\")\n",
    "def o_auth_decode_ipc_msg(userData, req_id, auth_granted):\n",
    "    \n",
    "    printCrustConfig(auth_granted.bootstrap_config)\n",
    "    \n",
    "    print('o_auth')\n",
    "    print(userData)\n",
    "    print(req_id)\n",
    "    returnDict = ffi.from_handle(userData)\n",
    "    #returnDict['AuthGranted'] = picData\n",
    "    returnDict['AuthGranted'] = safeUtils.copy(auth_granted,ffi)\n",
    "    #print(returnDict)\n",
    "    myContainer=auth_granted.access_container_entry.containers[0]\n",
    "    print(myContainer)\n",
    "    print(auth_granted.access_container_entry.containers_len)\n",
    "    print(auth_granted.access_container_entry.containers_cap)\n",
    "    print(ffi.string(myContainer.name))\n",
    "    print(myContainer.mdata_info)\n",
    "    print(ffi.sizeof(myContainer.mdata_info))\n",
    "    print(myContainer.permissions)\n",
    "    print(ffi.sizeof(myContainer.permissions))\n"
   ]
  },
  {
   "cell_type": "code",
   "execution_count": 45,
   "metadata": {},
   "outputs": [],
   "source": [
    "@ffi.callback(\"void(void *, uint32_t, uint8_t *, uintptr_t)\")\n",
    "def o_unregistered_decode_ipc_msg(userData, req_id, serialised_cfg, serialised_cfg_len):\n",
    "    print('o_unregistered')\n",
    "    print(req_id)"
   ]
  },
  {
   "cell_type": "code",
   "execution_count": 46,
   "metadata": {},
   "outputs": [],
   "source": [
    "@ffi.callback(\"void(void *, uint32_t)\")\n",
    "def o_containers_decode_ipc_msg(userData, req_id):\n",
    "    print('o_containers')\n",
    "    print(req_id)"
   ]
  },
  {
   "cell_type": "code",
   "execution_count": 47,
   "metadata": {},
   "outputs": [],
   "source": [
    "@ffi.callback(\"void(void *, uint32_t)\")\n",
    "def o_share_mdata_decode_ipc_msg(userData, req_id):\n",
    "    print('o_share')\n",
    "    print(req_id)"
   ]
  },
  {
   "cell_type": "code",
   "execution_count": 48,
   "metadata": {},
   "outputs": [],
   "source": [
    "@ffi.callback(\"void(void *)\")\n",
    "def o_revoked_decode_ipc_msg(userData):\n",
    "    print('o_revoked')\n",
    "    print(req_id)"
   ]
  },
  {
   "cell_type": "code",
   "execution_count": 49,
   "metadata": {},
   "outputs": [],
   "source": [
    "@ffi.callback(\"void(void *, FfiResult *, uint32_t)\")\n",
    "def o_error_decode_ipc_msg(userData, result, req_id):\n",
    "    global res\n",
    "    res = result\n",
    "    print('o_err')\n",
    "    print(userData)\n",
    "    print(req_id)\n",
    "    print(result.error_code)\n",
    "    print(ffi.string(result.description))"
   ]
  },
  {
   "cell_type": "code",
   "execution_count": 50,
   "metadata": {},
   "outputs": [],
   "source": [
    "with open('answer','r') as f:\n",
    "    answer=f.readlines()"
   ]
  },
  {
   "cell_type": "code",
   "execution_count": 51,
   "metadata": {},
   "outputs": [],
   "source": [
    "import re\n",
    "data=re.compile(\"'safe-.+?:(.+?)'\")"
   ]
  },
  {
   "cell_type": "code",
   "execution_count": 52,
   "metadata": {},
   "outputs": [],
   "source": [
    "my=data.findall(answer[-1])"
   ]
  },
  {
   "cell_type": "code",
   "execution_count": 53,
   "metadata": {},
   "outputs": [],
   "source": [
    "msg = ffi.new('char[]',my[-1].encode())"
   ]
  },
  {
   "cell_type": "code",
   "execution_count": 54,
   "metadata": {
    "scrolled": true
   },
   "outputs": [
    {
     "data": {
      "text/plain": [
       "'AQAAAJg5ryQAAAAAAAAAACAAAAAAAAAAbhJf-9V6xLIwtiYS1eDRWmvSSRSBSUm2bmaPvH9TQoYgAAAAAAAAAAqM1x5AgFuxHRJYVDh2oY_eUVsniu50i2QJsszc4fMkIAAAAAAAAADe0Rxm7rghLJ-snOxS9plv8ZXZz9eg5agqrK7HFxM4u0AAAAAAAAAArtjGUW_n9nCRcUYIdiD2jCM2wc9C-xnnPhYyfatRCwje0Rxm7rghLJ-snOxS9plv8ZXZz9eg5agqrK7HFxM4uyAAAAAAAAAAFHijV65knaNjqPUztI0owutWYNkpO0lLYp7LzEuuGGQgAAAAAAAAAAWo4KdTl60iFXxXXUnT672Q27iB_CJtIC2HbOWbUIHNGQAAAAAAAAAQAAAAAAAAADE3OC42Mi43Ni44OjU0ODMTAAAAAAAAADEzOC42OC4xODUuMjE4OjU0ODMSAAAAAAAAADEzOC42OC4xODEuNTc6NTQ4MxIAAAAAAAAAMTM4LjY4LjE4MS42MDo1NDgzEgAAAAAAAAAxMzguNjguMTgxLjg2OjU0ODMSAAAAAAAAADEzOC42OC4xODEuODc6NTQ4MxMAAAAAAAAAMTM4LjY4LjE4MS4xNjg6NTQ4MxMAAAAAAAAAMTM4LjY4LjE4MS4xNzY6NTQ4MxMAAAAAAAAAMTM4LjY4LjE4MS4xNzk6NTQ4MxMAAAAAAAAAMTM4LjY4LjE4MS4xODA6NTQ4MxMAAAAAAAAAMTM4LjY4LjE4MS4xODI6NTQ4MxMAAAAAAAAAMTM4LjY4LjE4MS4yNDI6NTQ4MxMAAAAAAAAAMTM4LjY4LjE4MS4yNDM6NTQ4MxMAAAAAAAAAMTM4LjY4LjE4MS4yNDk6NTQ4MxIAAAAAAAAAMTM4LjY4LjE4OS4xNDo1NDgzEgAAAAAAAAAxMzguNjguMTg5LjE1OjU0ODMSAAAAAAAAADEzOC42OC4xODkuMTc6NTQ4MxIAAAAAAAAAMTM4LjY4LjE4OS4xODo1NDgzEgAAAAAAAAAxMzguNjguMTg5LjE5OjU0ODMSAAAAAAAAADEzOC42OC4xODkuMzE6NTQ4MxIAAAAAAAAAMTM4LjY4LjE4OS4zNDo1NDgzEgAAAAAAAAAxMzguNjguMTg5LjM2OjU0ODMSAAAAAAAAADEzOC42OC4xODkuMzg6NTQ4MxIAAAAAAAAAMTM4LjY4LjE4OS4zOTo1NDgzEQAAAAAAAAA0Ni4xMDEuNS4xNzk6NTQ4MwFrFQAAAAAAAQcAAAAAAAAAYWxwaGFfMgAFlf5pOC0qZUXG14UN8ew1nNZt-3XpLhLgUqatLXRb6pg6AAAAAAAAGAAAAAAAAABttjbyaHC7Tx-S2Tw01AzOIifGoIltz7sCAAAAAAAAAAYAAAAAAAAAX211c2ljExgLIpW-lYlpVJmzhJrb2ZRRzmJ0Znl1kNlZpCNfq-GYOgAAAAAAAAEgAAAAAAAAAI4yw9Mp-XWs7NK3NGW14SzbrNk8gB7B9RL4okaxMGbJGAAAAAAAAADtwSXPGMuIV6DeNh7xSjSX-gZG6BnTRiMABQAAAAAAAAAAAAAAAQAAAAIAAAADAAAABAAAABsAAAAAAAAAYXBwcy9uZXdQcm9nSWRfdW5pcXVlX3RoaW5nz1BzC71ba9e7Z4Mc4XSttMP-hyahT-PaPmcAYKEjuNyYOgAAAAAAAAEgAAAAAAAAAGKyNuQCVsOASo04dXUXGOj2wHSSq605eh_9sgh07d5mGAAAAAAAAACEf123ungqhwTlshumtWJcH5G08Lp-nYsABQAAAAAAAAAAAAAAAQAAAAIAAAADAAAABAAAAA'"
      ]
     },
     "execution_count": 54,
     "metadata": {},
     "output_type": "execute_result"
    }
   ],
   "source": [
    "my[-1]"
   ]
  },
  {
   "cell_type": "code",
   "execution_count": 55,
   "metadata": {},
   "outputs": [],
   "source": [
    "returnDict={}"
   ]
  },
  {
   "cell_type": "code",
   "execution_count": 56,
   "metadata": {},
   "outputs": [],
   "source": [
    "myHand=ffi.new_handle(returnDict)"
   ]
  },
  {
   "cell_type": "code",
   "execution_count": null,
   "metadata": {},
   "outputs": [],
   "source": []
  },
  {
   "cell_type": "code",
   "execution_count": 57,
   "metadata": {
    "scrolled": false
   },
   "outputs": [
    {
     "name": "stdout",
     "output_type": "stream",
     "text": [
      "[25, 0, 0, 0, 0, 0, 0, 0, 16, 0, 0, 0, 0, 0, 0, 0, 49, 55, 56, 46, 54, 50, 46, 55, 54, 46, 56, 58, 53, 52, 56, 51, 19, 0, 0, 0, 0, 0, 0, 0, 49, 51]\n",
      "o_auth\n",
      "<cdata 'void *' 0x7f3efdd8c2c8>\n",
      "615463320\n",
      "<cdata 'ContainerInfo &' 0x55ed600c8980>\n",
      "2\n",
      "2\n",
      "b'_music'\n",
      "<cdata 'MDataInfo &' 0x55ed600c8988>\n",
      "160\n",
      "<cdata 'PermissionSet &' 0x55ed600c8a28>\n",
      "5\n"
     ]
    }
   ],
   "source": [
    "lib.decode_ipc_msg(msg,myHand,o_auth_decode_ipc_msg,o_unregistered_decode_ipc_msg\n",
    "                   ,o_containers_decode_ipc_msg,o_share_mdata_decode_ipc_msg,\n",
    "                   o_revoked_decode_ipc_msg,o_error_decode_ipc_msg)"
   ]
  },
  {
   "cell_type": "markdown",
   "metadata": {
    "scrolled": true
   },
   "source": [
    "#time.sleep(3)\n",
    "lib.decode_ipc_msg(msg,ffi.new_handle(returnDict),o_auth_decode_ipc_msg,o_unregistered_decode_ipc_msg\n",
    "                   ,o_containers_decode_ipc_msg,o_share_mdata_decode_ipc_msg,\n",
    "                   o_revoked_decode_ipc_msg,o_error_decode_ipc_msg)"
   ]
  },
  {
   "cell_type": "markdown",
   "metadata": {},
   "source": [
    "----"
   ]
  },
  {
   "cell_type": "markdown",
   "metadata": {},
   "source": [
    "now the app"
   ]
  },
  {
   "cell_type": "markdown",
   "metadata": {},
   "source": [
    "ffi.cdef('''\n",
    "typedef struct { ...; } foo_t;\n",
    "''')"
   ]
  },
  {
   "cell_type": "code",
   "execution_count": 58,
   "metadata": {},
   "outputs": [],
   "source": [
    "@ffi.callback(\"void(void*)\")\n",
    "def disconnect_app_registered(user_data):\n",
    "    print('disconnected - callback from app_registered')"
   ]
  },
  {
   "cell_type": "code",
   "execution_count": 59,
   "metadata": {},
   "outputs": [],
   "source": [
    "innerData=None\n",
    "@ffi.callback(\"void(void* , FfiResult* , App* app)\")\n",
    "def result_app_registered(user_data, result, app):\n",
    "    print('results')\n",
    "    print('error code: ')\n",
    "    print(result.error_code)\n",
    "    if result.error_code != 0:\n",
    "        print(ffi.string(result.description))\n",
    "    returnDict = ffi.from_handle(user_data)\n",
    "    returnDict['app']=app"
   ]
  },
  {
   "cell_type": "markdown",
   "metadata": {
    "scrolled": false
   },
   "source": [
    "lib.app_registered(myAuth.app.id,grantedAuth,ffi.NULL,disconnect_app_registered,result_app_registered)"
   ]
  },
  {
   "cell_type": "code",
   "execution_count": 60,
   "metadata": {
    "scrolled": true
   },
   "outputs": [
    {
     "name": "stdout",
     "output_type": "stream",
     "text": [
      "results\n",
      "error code: \n",
      "0\n"
     ]
    }
   ],
   "source": [
    "lib.app_registered(myAuth.app.id,returnDict['AuthGranted'][0],ffi.new_handle(returnDict),disconnect_app_registered,result_app_registered)"
   ]
  },
  {
   "cell_type": "code",
   "execution_count": null,
   "metadata": {},
   "outputs": [],
   "source": []
  },
  {
   "cell_type": "code",
   "execution_count": null,
   "metadata": {},
   "outputs": [],
   "source": []
  },
  {
   "cell_type": "markdown",
   "metadata": {},
   "source": [
    "@ffi.callback(\"void(void* , FfiResult*)\")\n",
    "def result_clearCache(user_data, result):\n",
    "    print('results')\n",
    "    print('error code: ')\n",
    "    print(result.error_code)\n",
    "    if result.error_code != 0:\n",
    "        print(ffi.string(result.description))"
   ]
  },
  {
   "cell_type": "markdown",
   "metadata": {},
   "source": [
    "lib.app_reset_object_cache(returnDict['app'],ffi.new_handle(returnDict),result_clearCache)"
   ]
  },
  {
   "cell_type": "code",
   "execution_count": null,
   "metadata": {},
   "outputs": [],
   "source": []
  },
  {
   "cell_type": "code",
   "execution_count": null,
   "metadata": {},
   "outputs": [],
   "source": []
  },
  {
   "cell_type": "code",
   "execution_count": 61,
   "metadata": {},
   "outputs": [],
   "source": [
    "containerName=ffi.new('unsigned char[]',b'_music')"
   ]
  },
  {
   "cell_type": "code",
   "execution_count": 65,
   "metadata": {},
   "outputs": [],
   "source": [
    "@ffi.callback(\"void(void* , FfiResult*, MDataInfo *)\")\n",
    "def result_mdataInfoContainer(user_data, result, mdataInfo):\n",
    "    global myMdata\n",
    "    myMdata=mdataInfo\n",
    "    print('results')\n",
    "    print('error code: ')\n",
    "    print(result.error_code)\n",
    "    if result.error_code != 0:\n",
    "        print(ffi.string(result.description))\n",
    "    print(mdataInfo)\n",
    "    #returnDict = ffi.from_handle(user_data)\n",
    "    #returnDict['myMdata']=mdataInfo"
   ]
  },
  {
   "cell_type": "code",
   "execution_count": 66,
   "metadata": {
    "scrolled": true
   },
   "outputs": [
    {
     "name": "stdout",
     "output_type": "stream",
     "text": [
      "results\n",
      "error code: \n",
      "0\n",
      "<cdata 'MDataInfo *' 0x7f3eefffc3d8>\n"
     ]
    }
   ],
   "source": [
    "lib.access_container_get_container_mdata_info(returnDict['app'],containerName,ffi.new_handle(returnDict),result_mdataInfoContainer)"
   ]
  },
  {
   "cell_type": "code",
   "execution_count": 76,
   "metadata": {},
   "outputs": [],
   "source": [
    "returnDict['newMdata']=myMdata"
   ]
  },
  {
   "cell_type": "code",
   "execution_count": null,
   "metadata": {},
   "outputs": [],
   "source": []
  },
  {
   "cell_type": "markdown",
   "metadata": {},
   "source": [
    "createMutableData"
   ]
  },
  {
   "cell_type": "markdown",
   "metadata": {},
   "source": [
    "@ffi.callback(\"void(void* , FfiResult*, MDataInfo *)\")\n",
    "def result_mdataInfoRand(user_data, result, mdataInfo):\n",
    "    print('results')\n",
    "    print('error code: ')\n",
    "    print(result.error_code)\n",
    "    if result.error_code != 0:\n",
    "        print(ffi.string(result.description))\n",
    "    print(mdataInfo)\n",
    "    returnDict = ffi.from_handle(user_data)\n",
    "    returnDict['newMdata']=ffi.new('MDataInfo *',mdataInfo[0])"
   ]
  },
  {
   "cell_type": "markdown",
   "metadata": {
    "scrolled": false
   },
   "source": [
    "lib.mdata_info_random_public(15150,ffi.new_handle(returnDict),result_mdataInfoRand)"
   ]
  },
  {
   "cell_type": "markdown",
   "metadata": {},
   "source": [
    "lali=returnDict['newMdata']"
   ]
  },
  {
   "cell_type": "markdown",
   "metadata": {},
   "source": [
    "for i in range(22):\n",
    "    print(lali.name[i])"
   ]
  },
  {
   "cell_type": "code",
   "execution_count": null,
   "metadata": {},
   "outputs": [],
   "source": []
  },
  {
   "cell_type": "markdown",
   "metadata": {},
   "source": [
    "@ffi.callback(\"void(void* , FfiResult*, MDataInfo *)\")\n",
    "def result_mdataInfoRand(user_data, result, mdataInfo):\n",
    "    print('results')\n",
    "    print('error code: ')\n",
    "    print(result.error_code)\n",
    "    if result.error_code != 0:\n",
    "        print(ffi.string(result.description))\n",
    "    print(mdataInfo)\n",
    "    returnDict = ffi.from_handle(user_data)\n",
    "    returnDict['newMdata_private']=ffi.new('MDataInfo *',mdataInfo[0])"
   ]
  },
  {
   "cell_type": "markdown",
   "metadata": {
    "scrolled": false
   },
   "source": [
    "lib.mdata_info_random_private(15000,ffi.new_handle(returnDict),result_mdataInfoRand)"
   ]
  },
  {
   "cell_type": "code",
   "execution_count": null,
   "metadata": {},
   "outputs": [],
   "source": []
  },
  {
   "cell_type": "markdown",
   "metadata": {},
   "source": [
    "permission"
   ]
  },
  {
   "cell_type": "code",
   "execution_count": 101,
   "metadata": {},
   "outputs": [],
   "source": [
    "@ffi.callback(\"void(void* , FfiResult*, unsigned long)\")\n",
    "def result_newPermissions(user_data, result, handle):\n",
    "    print('results')\n",
    "    print('error code: ')\n",
    "    print(result.error_code)\n",
    "    if result.error_code != 0:\n",
    "        print(ffi.string(result.description))\n",
    "    print(handle)"
   ]
  },
  {
   "cell_type": "code",
   "execution_count": 102,
   "metadata": {
    "scrolled": false
   },
   "outputs": [
    {
     "name": "stdout",
     "output_type": "stream",
     "text": [
      "results\n",
      "error code: \n",
      "0\n",
      "1\n"
     ]
    }
   ],
   "source": [
    "lib.mdata_permissions_new(returnDict['app'],ffi.NULL,result_newPermissions)"
   ]
  },
  {
   "cell_type": "code",
   "execution_count": null,
   "metadata": {},
   "outputs": [],
   "source": []
  },
  {
   "cell_type": "code",
   "execution_count": 79,
   "metadata": {},
   "outputs": [],
   "source": [
    "@ffi.callback(\"void(void* , FfiResult* , unsigned long)\")\n",
    "def result_mdata_entries_new(user_data, result, entriesHandle):\n",
    "    print('results')\n",
    "    print('error code: ')\n",
    "    print(result.error_code)\n",
    "    if result.error_code != 0:\n",
    "        print(ffi.string(result.description))\n",
    "    #noway = ffi.from_handle(user_data)\n",
    "    print(entriesHandle)\n",
    "    #print(noway)\n",
    "    #noway['mdata'] = entriesHandle"
   ]
  },
  {
   "cell_type": "code",
   "execution_count": 80,
   "metadata": {
    "scrolled": true
   },
   "outputs": [
    {
     "name": "stdout",
     "output_type": "stream",
     "text": [
      "results\n",
      "error code: \n",
      "0\n",
      "1\n"
     ]
    }
   ],
   "source": [
    "lib.mdata_entries_new(returnDict['app'],ffi.NULL,result_mdata_entries_new)"
   ]
  },
  {
   "cell_type": "code",
   "execution_count": null,
   "metadata": {},
   "outputs": [],
   "source": []
  },
  {
   "cell_type": "code",
   "execution_count": 81,
   "metadata": {},
   "outputs": [],
   "source": [
    "oneKey=ffi.new('unsigned char[]',b'dask')"
   ]
  },
  {
   "cell_type": "code",
   "execution_count": 82,
   "metadata": {},
   "outputs": [
    {
     "data": {
      "text/plain": [
       "5"
      ]
     },
     "execution_count": 82,
     "metadata": {},
     "output_type": "execute_result"
    }
   ],
   "source": [
    "len(oneKey)"
   ]
  },
  {
   "cell_type": "code",
   "execution_count": 83,
   "metadata": {},
   "outputs": [],
   "source": [
    "value=ffi.new('unsigned char[]',b'we get closer...')"
   ]
  },
  {
   "cell_type": "code",
   "execution_count": 84,
   "metadata": {},
   "outputs": [
    {
     "data": {
      "text/plain": [
       "17"
      ]
     },
     "execution_count": 84,
     "metadata": {},
     "output_type": "execute_result"
    }
   ],
   "source": [
    "len(value)"
   ]
  },
  {
   "cell_type": "code",
   "execution_count": 85,
   "metadata": {},
   "outputs": [],
   "source": [
    "@ffi.callback(\"void(void* , FfiResult*)\")\n",
    "def result_mdata_entries_insert(user_data, result):\n",
    "    print('results')\n",
    "    print('error code: ')\n",
    "    print(result.error_code)\n",
    "    if result.error_code != 0:\n",
    "        print(ffi.string(result.description))"
   ]
  },
  {
   "cell_type": "code",
   "execution_count": 87,
   "metadata": {
    "scrolled": true
   },
   "outputs": [
    {
     "name": "stdout",
     "output_type": "stream",
     "text": [
      "results\n",
      "error code: \n",
      "0\n"
     ]
    }
   ],
   "source": [
    "lib.mdata_entries_insert(returnDict['app'],1,oneKey,len(oneKey),value,len(value),ffi.NULL,result_mdata_entries_insert)"
   ]
  },
  {
   "cell_type": "code",
   "execution_count": null,
   "metadata": {},
   "outputs": [],
   "source": []
  },
  {
   "cell_type": "code",
   "execution_count": null,
   "metadata": {},
   "outputs": [],
   "source": []
  },
  {
   "cell_type": "code",
   "execution_count": 88,
   "metadata": {},
   "outputs": [
    {
     "data": {
      "text/plain": [
       "b'dask'"
      ]
     },
     "execution_count": 88,
     "metadata": {},
     "output_type": "execute_result"
    }
   ],
   "source": [
    "ffi.string(oneKey)"
   ]
  },
  {
   "cell_type": "code",
   "execution_count": 91,
   "metadata": {},
   "outputs": [],
   "source": [
    "@ffi.callback(\"void(void* , FfiResult*, unsigned char*, unsigned long, unsigned long)\")\n",
    "def result_mdata_entries_get(user_data, result, value, val_length, noClueWhatThisIs):\n",
    "    print('results')\n",
    "    print('error code: ')\n",
    "    print(result.error_code)\n",
    "    if result.error_code != 0:\n",
    "        print(ffi.string(result.description))\n",
    "    print(ffi.string(value))"
   ]
  },
  {
   "cell_type": "code",
   "execution_count": 92,
   "metadata": {
    "scrolled": true
   },
   "outputs": [
    {
     "name": "stdout",
     "output_type": "stream",
     "text": [
      "results\n",
      "error code: \n",
      "0\n",
      "b'we get closer...'\n"
     ]
    }
   ],
   "source": [
    "lib.mdata_entries_get(returnDict['app'],1,oneKey,len(oneKey),ffi.NULL,result_mdata_entries_get)"
   ]
  },
  {
   "cell_type": "code",
   "execution_count": null,
   "metadata": {},
   "outputs": [],
   "source": []
  },
  {
   "cell_type": "code",
   "execution_count": null,
   "metadata": {},
   "outputs": [],
   "source": []
  },
  {
   "cell_type": "code",
   "execution_count": null,
   "metadata": {},
   "outputs": [],
   "source": []
  },
  {
   "cell_type": "code",
   "execution_count": 109,
   "metadata": {},
   "outputs": [],
   "source": [
    "@ffi.callback(\"void(void* , FfiResult* , unsigned long)\")\n",
    "def result_app_pub_sign_key(user_data, result, entriesHandle):\n",
    "    print('results')\n",
    "    print('error code: ')\n",
    "    print(result.error_code)\n",
    "    if result.error_code != 0:\n",
    "        print(ffi.string(result.description))\n",
    "    print(entriesHandle)"
   ]
  },
  {
   "cell_type": "code",
   "execution_count": 110,
   "metadata": {
    "scrolled": true
   },
   "outputs": [
    {
     "name": "stdout",
     "output_type": "stream",
     "text": [
      "results\n",
      "error code: \n",
      "0\n",
      "3\n"
     ]
    }
   ],
   "source": [
    "lib.app_pub_sign_key(returnDict['app'],ffi.NULL,result_app_pub_sign_key)"
   ]
  },
  {
   "cell_type": "code",
   "execution_count": null,
   "metadata": {},
   "outputs": [],
   "source": []
  },
  {
   "cell_type": "code",
   "execution_count": null,
   "metadata": {},
   "outputs": [],
   "source": []
  },
  {
   "cell_type": "code",
   "execution_count": null,
   "metadata": {},
   "outputs": [],
   "source": []
  },
  {
   "cell_type": "code",
   "execution_count": 111,
   "metadata": {},
   "outputs": [],
   "source": [
    "@ffi.callback(\"void(void *, FfiResult *)\")\n",
    "def result_mdata_put(user_data, result):\n",
    "    print('results')\n",
    "    print('error code: ')\n",
    "    print(result.error_code)\n",
    "    if result.error_code != 0:\n",
    "        print(ffi.string(result.description))"
   ]
  },
  {
   "cell_type": "code",
   "execution_count": 112,
   "metadata": {},
   "outputs": [
    {
     "name": "stdout",
     "output_type": "stream",
     "text": [
      "results\n",
      "error code: \n",
      "0\n"
     ]
    }
   ],
   "source": [
    "lib.mdata_put(returnDict['app'],returnDict['newMdata'],1,2,ffi.NULL,result_mdata_put)"
   ]
  },
  {
   "cell_type": "code",
   "execution_count": null,
   "metadata": {},
   "outputs": [],
   "source": []
  },
  {
   "cell_type": "code",
   "execution_count": null,
   "metadata": {},
   "outputs": [],
   "source": []
  },
  {
   "cell_type": "code",
   "execution_count": 71,
   "metadata": {},
   "outputs": [],
   "source": [
    "newPermissions=PermissionSet()"
   ]
  },
  {
   "cell_type": "code",
   "execution_count": 72,
   "metadata": {},
   "outputs": [
    {
     "data": {
      "text/plain": [
       "True"
      ]
     },
     "execution_count": 72,
     "metadata": {},
     "output_type": "execute_result"
    }
   ],
   "source": [
    "newPermissions.insert"
   ]
  },
  {
   "cell_type": "code",
   "execution_count": 73,
   "metadata": {},
   "outputs": [],
   "source": [
    "@ffi.callback(\"void(void* , FfiResult*)\")\n",
    "def result_setPermissions(user_data, result):\n",
    "    print('results')\n",
    "    print('error code: ')\n",
    "    print(result.error_code)\n",
    "    if result.error_code != 0:\n",
    "        print(ffi.string(result.description))\n",
    "    #returnDict = ffi.from_handle(user_data)\n",
    "    #returnDict['newMdata']=ffi.new('PermissionSet *',handle[0])"
   ]
  },
  {
   "cell_type": "code",
   "execution_count": 74,
   "metadata": {
    "scrolled": false
   },
   "outputs": [
    {
     "name": "stdout",
     "output_type": "stream",
     "text": [
      "results\n",
      "error code: \n",
      "-100\n",
      "b'Core error: Routing client error -> Access denied'\n"
     ]
    }
   ],
   "source": [
    "lib.mdata_set_user_permissions(returnDict['app'],returnDict['newMdata_private'],\n",
    "                               3,newPermissions,1,ffi.NULL,result_setPermissions)"
   ]
  },
  {
   "cell_type": "code",
   "execution_count": null,
   "metadata": {},
   "outputs": [],
   "source": []
  },
  {
   "cell_type": "code",
   "execution_count": null,
   "metadata": {},
   "outputs": [],
   "source": []
  },
  {
   "cell_type": "code",
   "execution_count": null,
   "metadata": {},
   "outputs": [],
   "source": []
  },
  {
   "cell_type": "code",
   "execution_count": null,
   "metadata": {},
   "outputs": [],
   "source": []
  },
  {
   "cell_type": "code",
   "execution_count": 77,
   "metadata": {},
   "outputs": [],
   "source": [
    "@ffi.callback(\"void(void* , FfiResult* , unsigned long, unsigned long)\")\n",
    "def result_sign_generate_key_pair(user_data, result, pubKeyHandle, secKeyHandle):\n",
    "    print('results')\n",
    "    print('error code: ')\n",
    "    print(result.error_code)\n",
    "    if result.error_code != 0:\n",
    "        print(ffi.string(result.description))\n",
    "    print(pubKeyHandle)\n",
    "    print(secKeyHandle)"
   ]
  },
  {
   "cell_type": "code",
   "execution_count": 78,
   "metadata": {
    "scrolled": true
   },
   "outputs": [
    {
     "name": "stdout",
     "output_type": "stream",
     "text": [
      "results\n",
      "error code: \n",
      "0\n",
      "4\n",
      "5\n"
     ]
    }
   ],
   "source": [
    "lib.sign_generate_key_pair(returnDict['app'],ffi.NULL,result_sign_generate_key_pair)"
   ]
  },
  {
   "cell_type": "code",
   "execution_count": null,
   "metadata": {},
   "outputs": [],
   "source": []
  },
  {
   "cell_type": "code",
   "execution_count": 75,
   "metadata": {},
   "outputs": [],
   "source": [
    "@ffi.callback(\"void(void* , FfiResult*, PermissionSet*)\")\n",
    "def result_getPermissions(user_data, result, handle):\n",
    "    print('results')\n",
    "    print('error code: ')\n",
    "    print(result.error_code)\n",
    "    if result.error_code != 0:\n",
    "        print(ffi.string(result.description))\n",
    "    print(handle)\n",
    "    #returnDict = ffi.from_handle(user_data)\n",
    "    #returnDict['newMdata']=ffi.new('PermissionSet *',handle[0])"
   ]
  },
  {
   "cell_type": "code",
   "execution_count": 77,
   "metadata": {
    "scrolled": false
   },
   "outputs": [
    {
     "name": "stdout",
     "output_type": "stream",
     "text": [
      "results\n",
      "error code: \n",
      "-1011\n",
      "b'Invalid sign public key handle'\n",
      "<cdata 'PermissionSet *' NULL>\n"
     ]
    }
   ],
   "source": [
    "lib.mdata_permissions_get(returnDict['app'],1,4,ffi.new_handle(returnDict),result_getPermissions)"
   ]
  },
  {
   "cell_type": "code",
   "execution_count": null,
   "metadata": {},
   "outputs": [],
   "source": []
  },
  {
   "cell_type": "code",
   "execution_count": null,
   "metadata": {},
   "outputs": [],
   "source": []
  },
  {
   "cell_type": "code",
   "execution_count": null,
   "metadata": {},
   "outputs": [],
   "source": []
  },
  {
   "cell_type": "code",
   "execution_count": 75,
   "metadata": {},
   "outputs": [],
   "source": [
    "@ffi.callback(\"void(void *, FfiResult *)\")\n",
    "def result_mdata_put(user_data, result):\n",
    "    print('results')\n",
    "    print('error code: ')\n",
    "    print(result.error_code)\n",
    "    if result.error_code != 0:\n",
    "        print(ffi.string(result.description))"
   ]
  },
  {
   "cell_type": "code",
   "execution_count": 76,
   "metadata": {},
   "outputs": [
    {
     "name": "stdout",
     "output_type": "stream",
     "text": [
      "results\n",
      "error code: \n",
      "-100\n",
      "b'Core error: Routing client error -> Access denied'\n"
     ]
    }
   ],
   "source": [
    "lib.mdata_put(returnDict['app'],returnDict['newMdata'],1,2,ffi.NULL,result_mdata_put)"
   ]
  },
  {
   "cell_type": "code",
   "execution_count": null,
   "metadata": {},
   "outputs": [],
   "source": []
  },
  {
   "cell_type": "code",
   "execution_count": null,
   "metadata": {},
   "outputs": [],
   "source": []
  },
  {
   "cell_type": "code",
   "execution_count": null,
   "metadata": {},
   "outputs": [],
   "source": []
  },
  {
   "cell_type": "code",
   "execution_count": 105,
   "metadata": {},
   "outputs": [],
   "source": [
    "@ffi.callback(\"void(void* , FfiResult*, PermissionSet*)\")\n",
    "def result_getPermissions(user_data, result, handle):\n",
    "    print('results')\n",
    "    print('error code: ')\n",
    "    print(result.error_code)\n",
    "    if result.error_code != 0:\n",
    "        print(ffi.string(result.description))\n",
    "    print(handle)\n",
    "    returnDict = ffi.from_handle(user_data)\n",
    "    returnDict['newMdata']=ffi.new('PermissionSet *',handle[0])"
   ]
  },
  {
   "cell_type": "code",
   "execution_count": null,
   "metadata": {
    "scrolled": false
   },
   "outputs": [
    {
     "name": "stdout",
     "output_type": "stream",
     "text": [
      "results\n",
      "error code: \n",
      "-1011\n",
      "b'Invalid sign public key handle'\n",
      "<cdata 'PermissionSet *' NULL>\n"
     ]
    }
   ],
   "source": [
    "lib.mdata_permissions_get(returnDict['app'],3,0,ffi.new_handle(returnDict),result_getPermissions)"
   ]
  },
  {
   "cell_type": "markdown",
   "metadata": {},
   "source": [
    "permissionSet"
   ]
  },
  {
   "cell_type": "code",
   "execution_count": 62,
   "metadata": {},
   "outputs": [],
   "source": [
    "@ffi.callback(\"void(void* , FfiResult*, unsigned long)\")\n",
    "def result_clearCache(user_data, result, handle):\n",
    "    print('results')\n",
    "    print('error code: ')\n",
    "    print(result.error_code)\n",
    "    if result.error_code != 0:\n",
    "        print(ffi.string(result.description))\n",
    "    print(handle)"
   ]
  },
  {
   "cell_type": "code",
   "execution_count": 63,
   "metadata": {
    "scrolled": false
   },
   "outputs": [
    {
     "name": "stdout",
     "output_type": "stream",
     "text": [
      "results\n",
      "error code: \n",
      "0\n",
      "1\n"
     ]
    }
   ],
   "source": [
    "lib.mdata_permissions_new(returnDict['app'],ffi.NULL,result_clearCache)"
   ]
  },
  {
   "cell_type": "code",
   "execution_count": null,
   "metadata": {},
   "outputs": [],
   "source": []
  },
  {
   "cell_type": "code",
   "execution_count": null,
   "metadata": {},
   "outputs": [],
   "source": []
  },
  {
   "cell_type": "code",
   "execution_count": null,
   "metadata": {},
   "outputs": [],
   "source": []
  },
  {
   "cell_type": "code",
   "execution_count": null,
   "metadata": {},
   "outputs": [],
   "source": []
  },
  {
   "cell_type": "code",
   "execution_count": 62,
   "metadata": {},
   "outputs": [],
   "source": [
    "@ffi.callback(\"void(void* , FfiResult*, unsigned long)\")\n",
    "def result_clearCache(user_data, result, handle):\n",
    "    print('results')\n",
    "    print('error code: ')\n",
    "    print(result.error_code)\n",
    "    if result.error_code != 0:\n",
    "        print(ffi.string(result.description))\n",
    "    print(handle)"
   ]
  },
  {
   "cell_type": "code",
   "execution_count": 63,
   "metadata": {
    "scrolled": true
   },
   "outputs": [
    {
     "name": "stdout",
     "output_type": "stream",
     "text": [
      "results\n",
      "error code: \n",
      "0\n",
      "1\n"
     ]
    }
   ],
   "source": [
    "lib.idata_new_self_encryptor(returnDict['app'],ffi.NULL,result_clearCache)"
   ]
  },
  {
   "cell_type": "code",
   "execution_count": null,
   "metadata": {},
   "outputs": [],
   "source": []
  },
  {
   "cell_type": "code",
   "execution_count": null,
   "metadata": {},
   "outputs": [],
   "source": []
  },
  {
   "cell_type": "code",
   "execution_count": 64,
   "metadata": {},
   "outputs": [],
   "source": [
    "with open('picData.jpeg','rb') as f:\n",
    "    picData = f.read()"
   ]
  },
  {
   "cell_type": "code",
   "execution_count": 67,
   "metadata": {},
   "outputs": [],
   "source": [
    "writeData=ffi.new('unsigned char[]',picData)"
   ]
  },
  {
   "cell_type": "code",
   "execution_count": 68,
   "metadata": {},
   "outputs": [
    {
     "data": {
      "text/plain": [
       "113025"
      ]
     },
     "execution_count": 68,
     "metadata": {},
     "output_type": "execute_result"
    }
   ],
   "source": [
    "ffi.sizeof(writeData)"
   ]
  },
  {
   "cell_type": "code",
   "execution_count": 69,
   "metadata": {},
   "outputs": [],
   "source": [
    "@ffi.callback(\"void(void* , FfiResult*)\")\n",
    "def result_writeData(user_data, result):\n",
    "    print('results')\n",
    "    print('error code: ')\n",
    "    print(result.error_code)\n",
    "    if result.error_code != 0:\n",
    "        print(ffi.string(result.description))"
   ]
  },
  {
   "cell_type": "code",
   "execution_count": 71,
   "metadata": {
    "scrolled": true
   },
   "outputs": [
    {
     "name": "stdout",
     "output_type": "stream",
     "text": [
      "results\n",
      "error code: \n",
      "0\n"
     ]
    }
   ],
   "source": [
    "lib.idata_write_to_self_encryptor(returnDict['app'],1,writeData,ffi.sizeof(writeData),ffi.NULL,result_writeData)"
   ]
  },
  {
   "cell_type": "code",
   "execution_count": null,
   "metadata": {},
   "outputs": [],
   "source": []
  },
  {
   "cell_type": "code",
   "execution_count": null,
   "metadata": {},
   "outputs": [],
   "source": []
  },
  {
   "cell_type": "code",
   "execution_count": 72,
   "metadata": {},
   "outputs": [],
   "source": [
    "@ffi.callback(\"void(void* , FfiResult*, unsigned long)\")\n",
    "def result_cipher(user_data, result, handle):\n",
    "    print('results')\n",
    "    print('error code: ')\n",
    "    print(result.error_code)\n",
    "    if result.error_code != 0:\n",
    "        print(ffi.string(result.description))\n",
    "    print(handle)"
   ]
  },
  {
   "cell_type": "code",
   "execution_count": 73,
   "metadata": {},
   "outputs": [
    {
     "name": "stdout",
     "output_type": "stream",
     "text": [
      "results\n",
      "error code: \n",
      "0\n",
      "2\n"
     ]
    }
   ],
   "source": [
    "lib.cipher_opt_new_symmetric(returnDict['app'],ffi.NULL,result_cipher)"
   ]
  },
  {
   "cell_type": "code",
   "execution_count": null,
   "metadata": {},
   "outputs": [],
   "source": []
  },
  {
   "cell_type": "code",
   "execution_count": 74,
   "metadata": {},
   "outputs": [],
   "source": [
    "@ffi.callback(\"void(void* , FfiResult*, XorNameArray*)\")\n",
    "def result_closeEncryptor(user_data, result,name):\n",
    "    print('results')\n",
    "    print('error code: ')\n",
    "    print(result.error_code)\n",
    "    if result.error_code != 0:\n",
    "        print(ffi.string(result.description))\n",
    "    for i in range(32):\n",
    "        try:\n",
    "            print(name[i])\n",
    "        except:\n",
    "            pass"
   ]
  },
  {
   "cell_type": "code",
   "execution_count": 75,
   "metadata": {
    "scrolled": true
   },
   "outputs": [
    {
     "name": "stdout",
     "output_type": "stream",
     "text": [
      "results\n",
      "error code: \n",
      "-16\n",
      "b'Self-encryption error: Storage error: Routing client error -> Access denied'\n"
     ]
    }
   ],
   "source": [
    "lib.idata_close_self_encryptor(returnDict['app'],1,2,ffi.NULL,result_closeEncryptor)"
   ]
  },
  {
   "cell_type": "code",
   "execution_count": null,
   "metadata": {},
   "outputs": [],
   "source": []
  },
  {
   "cell_type": "code",
   "execution_count": null,
   "metadata": {},
   "outputs": [],
   "source": []
  },
  {
   "cell_type": "code",
   "execution_count": 59,
   "metadata": {},
   "outputs": [],
   "source": [
    "lalai={}"
   ]
  },
  {
   "cell_type": "code",
   "execution_count": 61,
   "metadata": {},
   "outputs": [],
   "source": [
    "@ffi.callback(\"void(void* , FfiResult* , unsigned long)\")\n",
    "def result_mdata_entries_new(user_data, result, entriesHandle):\n",
    "    print('results')\n",
    "    print('error code: ')\n",
    "    print(result.error_code)\n",
    "    if result.error_code != 0:\n",
    "        print(ffi.string(result.description))\n",
    "    noway = ffi.from_handle(user_data)\n",
    "    print(entriesHandle)\n",
    "    print(noway)\n",
    "    #noway['mdata'] = entriesHandle"
   ]
  },
  {
   "cell_type": "markdown",
   "metadata": {
    "scrolled": false
   },
   "source": [
    "lib.mdata_entries_new(returnDict['app'],ffi.new_handle(returnDict),result_mdata_entries_new)"
   ]
  },
  {
   "cell_type": "code",
   "execution_count": null,
   "metadata": {
    "scrolled": true
   },
   "outputs": [
    {
     "name": "stdout",
     "output_type": "stream",
     "text": [
      "results\n",
      "error code: \n",
      "0\n"
     ]
    }
   ],
   "source": [
    "lib.mdata_entries_new(returnDict['app'],ffi.new_handle(returnDict),result_mdata_entries_new)"
   ]
  },
  {
   "cell_type": "code",
   "execution_count": null,
   "metadata": {},
   "outputs": [],
   "source": []
  },
  {
   "cell_type": "code",
   "execution_count": 58,
   "metadata": {},
   "outputs": [],
   "source": [
    "@ffi.callback(\"void(void* , FfiResult*)\")\n",
    "def result_access_container_refresh_access_info(user_data, result):\n",
    "    print('results')\n",
    "    print('error code: ')\n",
    "    print(result.error_code)\n",
    "    if result.error_code != 0:\n",
    "        print(ffi.string(result.description))\n",
    "    #noway['mdata'] = entriesHandle"
   ]
  },
  {
   "cell_type": "code",
   "execution_count": 59,
   "metadata": {},
   "outputs": [
    {
     "name": "stdout",
     "output_type": "stream",
     "text": [
      "results\n",
      "error code: \n",
      "-106\n",
      "b'Core error: Routing client error -> Requested entry not found'\n"
     ]
    }
   ],
   "source": [
    "lib.access_container_refresh_access_info(returnDict['app'],ffi.NULL,result_access_container_refresh_access_info)"
   ]
  },
  {
   "cell_type": "code",
   "execution_count": null,
   "metadata": {},
   "outputs": [],
   "source": []
  },
  {
   "cell_type": "code",
   "execution_count": 71,
   "metadata": {},
   "outputs": [],
   "source": [
    "@ffi.callback(\"void(void* , FfiResult* , ContainerPermissions*, unsigned long)\")\n",
    "def result_access_container_fetch(user_data, result, permissions, entriesHandle):\n",
    "    print('results')\n",
    "    print('error code: ')\n",
    "    print(result.error_code)\n",
    "    if result.error_code != 0:\n",
    "        print(ffi.string(result.description))\n",
    "    noway = ffi.from_handle(user_data)\n",
    "    print(entriesHandle)\n",
    "    print(noway)\n",
    "    #noway['mdata'] = entriesHandle"
   ]
  },
  {
   "cell_type": "code",
   "execution_count": 72,
   "metadata": {},
   "outputs": [
    {
     "name": "stdout",
     "output_type": "stream",
     "text": [
      "results\n",
      "error code: \n",
      "-106\n",
      "b'Core error: Routing client error -> Requested entry not found'\n"
     ]
    }
   ],
   "source": [
    "lib.access_container_fetch(returnDict['app'],ffi.new_handle(returnDict),result_access_container_fetch)"
   ]
  },
  {
   "cell_type": "code",
   "execution_count": null,
   "metadata": {},
   "outputs": [],
   "source": []
  },
  {
   "cell_type": "code",
   "execution_count": 115,
   "metadata": {},
   "outputs": [],
   "source": [
    "@ffi.callback(\"void(void* , FfiResult* , AccountInfo*)\")\n",
    "def result_app_account_info(user_data, result, info):\n",
    "    print('results')\n",
    "    print('error code: ')\n",
    "    print(result.error_code)\n",
    "    if result.error_code != 0:\n",
    "        print(ffi.string(result.description))\n",
    "    #returnDict = ffi.from_handle(user_data)\n",
    "    #if info != ffi.NULL:\n",
    "    #    returnDict['info'] = safeUtils.copy(info,ffi)\n",
    "    print(info)"
   ]
  },
  {
   "cell_type": "code",
   "execution_count": 116,
   "metadata": {},
   "outputs": [
    {
     "name": "stdout",
     "output_type": "stream",
     "text": [
      "results\n",
      "error code: \n",
      "-100\n",
      "b'Core error: Routing client error -> Access denied'\n",
      "<cdata 'AccountInfo *' NULL>\n"
     ]
    }
   ],
   "source": [
    "lib.app_account_info(returnDict['app'],ffi.new_handle(returnDict),result_app_account_info)"
   ]
  },
  {
   "cell_type": "code",
   "execution_count": null,
   "metadata": {},
   "outputs": [],
   "source": []
  },
  {
   "cell_type": "code",
   "execution_count": 121,
   "metadata": {},
   "outputs": [],
   "source": [
    "@ffi.callback(\"void(void *, FfiResult *, ContainerPermissions *, unsigned long)\")\n",
    "def result_access_container_fetch(user_data, result, permissions, permissionLength):\n",
    "    print('results')\n",
    "    print('error code: ')\n",
    "    print(result.error_code)\n",
    "    if result.error_code != 0:\n",
    "        print(ffi.string(result.description))\n",
    "    #returnDict = ffi.from_handle(user_data)\n",
    "    if permissions != ffi.NULL:\n",
    "        returnDict['info'] = safeUtils.copy(permissions,ffi)\n",
    "    print(permissions[0])"
   ]
  },
  {
   "cell_type": "code",
   "execution_count": 122,
   "metadata": {},
   "outputs": [
    {
     "name": "stdout",
     "output_type": "stream",
     "text": [
      "results\n",
      "error code: \n",
      "0\n",
      "<cdata 'ContainerPermissions &' 0x7fbc04015230>\n"
     ]
    }
   ],
   "source": [
    "lib.access_container_fetch(returnDict['app'],ffi.new_handle(returnDict),result_access_container_fetch)"
   ]
  },
  {
   "cell_type": "code",
   "execution_count": 127,
   "metadata": {},
   "outputs": [],
   "source": [
    "myConPerm=returnDict['info'][0]"
   ]
  },
  {
   "cell_type": "code",
   "execution_count": 129,
   "metadata": {},
   "outputs": [
    {
     "data": {
      "text/plain": [
       "b'_music'"
      ]
     },
     "execution_count": 129,
     "metadata": {},
     "output_type": "execute_result"
    }
   ],
   "source": [
    "ffi.string(myConPerm.cont_name)"
   ]
  },
  {
   "cell_type": "code",
   "execution_count": null,
   "metadata": {},
   "outputs": [],
   "source": []
  },
  {
   "cell_type": "code",
   "execution_count": null,
   "metadata": {},
   "outputs": [],
   "source": []
  },
  {
   "cell_type": "code",
   "execution_count": null,
   "metadata": {},
   "outputs": [],
   "source": [
    "lib.access_container_get_container_mdata_info()"
   ]
  },
  {
   "cell_type": "code",
   "execution_count": null,
   "metadata": {},
   "outputs": [],
   "source": []
  },
  {
   "cell_type": "code",
   "execution_count": 62,
   "metadata": {},
   "outputs": [],
   "source": [
    "@ffi.callback(\"void(void *, FfiResult *)\")\n",
    "def result_app_init_logging(user_data, result):\n",
    "    print('results')\n",
    "    print('error code: ')\n",
    "    print(result.error_code)\n",
    "    if result.error_code != 0:\n",
    "        print(ffi.string(result.description))\n",
    "    returnDict = ffi.from_handle(user_data)"
   ]
  },
  {
   "cell_type": "code",
   "execution_count": 63,
   "metadata": {},
   "outputs": [],
   "source": [
    "output_file_name=ffi.new('char[]',b'/home/yomuga/maidsafe/pySafe/pySafe/log_out')"
   ]
  },
  {
   "cell_type": "code",
   "execution_count": 64,
   "metadata": {},
   "outputs": [
    {
     "name": "stdout",
     "output_type": "stream",
     "text": [
      "results\n",
      "error code: \n",
      "0\n"
     ]
    }
   ],
   "source": [
    "lib.app_init_logging(output_file_name,ffi.new_handle(returnDict),result_app_init_logging)"
   ]
  },
  {
   "cell_type": "code",
   "execution_count": null,
   "metadata": {},
   "outputs": [],
   "source": []
  },
  {
   "cell_type": "code",
   "execution_count": null,
   "metadata": {},
   "outputs": [],
   "source": []
  },
  {
   "cell_type": "code",
   "execution_count": 128,
   "metadata": {},
   "outputs": [],
   "source": [
    "@ffi.callback(\"void(void *, FfiResult *, char *)\")\n",
    "def result_app_output_log_path(user_data, result,logFile):\n",
    "    print('results')\n",
    "    print('error code: ')\n",
    "    print(result.error_code)\n",
    "    if result.error_code != 0:\n",
    "        print(ffi.string(result.description))\n",
    "    print(ffi.string(logFile))\n",
    "    returnDict['filePath'] = ffi.string(logFile)"
   ]
  },
  {
   "cell_type": "code",
   "execution_count": 131,
   "metadata": {},
   "outputs": [],
   "source": [
    "file_name=ffi.new('char[]',b'log_out2')"
   ]
  },
  {
   "cell_type": "code",
   "execution_count": 132,
   "metadata": {},
   "outputs": [
    {
     "name": "stdout",
     "output_type": "stream",
     "text": [
      "results\n",
      "error code: \n",
      "0\n",
      "b'../compiled_binaries/log_out2'\n"
     ]
    }
   ],
   "source": [
    "lib.app_output_log_path(file_name,ffi.new_handle(returnDict),result_app_output_log_path)"
   ]
  },
  {
   "cell_type": "code",
   "execution_count": null,
   "metadata": {},
   "outputs": [],
   "source": []
  },
  {
   "cell_type": "code",
   "execution_count": 73,
   "metadata": {},
   "outputs": [],
   "source": [
    "newMdata=ffi.new('MDataInfo *')"
   ]
  },
  {
   "cell_type": "code",
   "execution_count": 74,
   "metadata": {},
   "outputs": [],
   "source": [
    "newMdata.type_tag=15017"
   ]
  },
  {
   "cell_type": "code",
   "execution_count": 67,
   "metadata": {},
   "outputs": [],
   "source": [
    "for i in range(32):\n",
    "    newMdata.name[i]=i+1"
   ]
  },
  {
   "cell_type": "code",
   "execution_count": 68,
   "metadata": {},
   "outputs": [],
   "source": [
    "@ffi.callback(\"void(void *, FfiResult *)\")\n",
    "def result_mdata_put(user_data, result):\n",
    "    print('results')\n",
    "    print('error code: ')\n",
    "    print(result.error_code)\n",
    "    if result.error_code != 0:\n",
    "        print(ffi.string(result.description))"
   ]
  },
  {
   "cell_type": "code",
   "execution_count": 69,
   "metadata": {},
   "outputs": [
    {
     "name": "stdout",
     "output_type": "stream",
     "text": [
      "results\n",
      "error code: \n",
      "-100\n",
      "b'Core error: Routing client error -> Access denied'\n"
     ]
    }
   ],
   "source": [
    "lib.mdata_put(returnDict['app'],newMdata,0,0,ffi.new_handle(returnDict),result_mdata_put)"
   ]
  },
  {
   "cell_type": "code",
   "execution_count": null,
   "metadata": {},
   "outputs": [],
   "source": []
  },
  {
   "cell_type": "code",
   "execution_count": 70,
   "metadata": {},
   "outputs": [
    {
     "data": {
      "text/plain": [
       "<cdata 'void * *' 0x5642362969c0>"
      ]
     },
     "execution_count": 70,
     "metadata": {},
     "output_type": "execute_result"
    }
   ],
   "source": [
    "returnDict['app']"
   ]
  }
 ],
 "metadata": {
  "kernelspec": {
   "display_name": "Python 3",
   "language": "python",
   "name": "python3"
  },
  "language_info": {
   "codemirror_mode": {
    "name": "ipython",
    "version": 3
   },
   "file_extension": ".py",
   "mimetype": "text/x-python",
   "name": "python",
   "nbconvert_exporter": "python",
   "pygments_lexer": "ipython3",
   "version": "3.6.4"
  }
 },
 "nbformat": 4,
 "nbformat_minor": 2
}
