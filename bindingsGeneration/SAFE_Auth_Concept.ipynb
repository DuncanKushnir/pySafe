{
 "cells": [
  {
   "cell_type": "markdown",
   "metadata": {},
   "source": [
    "### this is the Authenticator-Class containing all important methods that an authenticator needs to work"
   ]
  },
  {
   "cell_type": "code",
   "execution_count": 1,
   "metadata": {},
   "outputs": [],
   "source": [
    "from cffi import FFI\n",
    "ffi = FFI()"
   ]
  },
  {
   "cell_type": "code",
   "execution_count": 2,
   "metadata": {},
   "outputs": [],
   "source": [
    "import SafeDataTypes_Concept as dataTypes"
   ]
  },
  {
   "cell_type": "code",
   "execution_count": 3,
   "metadata": {},
   "outputs": [],
   "source": [
    "ffi.cdef(dataTypes.SafeUtils().datattypes)"
   ]
  },
  {
   "cell_type": "code",
   "execution_count": 4,
   "metadata": {},
   "outputs": [],
   "source": [
    "ffi.cdef('''\n",
    "void login(char* account_locator, char* account_password, void* user_data, void(*)(void*), void(*)(void*, FfiResult*, Authenticator*));\n",
    "void create_acc(char* account_locator, char* account_password, char* invitation, void* user_data, void(*)(void*), void(*)(void*, FfiResult*, Authenticator*));\n",
    "''')"
   ]
  },
  {
   "cell_type": "code",
   "execution_count": 5,
   "metadata": {},
   "outputs": [],
   "source": [
    "class Auth:\n",
    "    def __init__(self,\n",
    "            name='noAuth',\n",
    "            version='0.0.0',\n",
    "            vendor='rid',\n",
    "            libLocation='../../safe_client_libs/target/debug/libsafe_authenticator.so',\n",
    "            addr='http://localhost'):\n",
    "        self.name = name\n",
    "        self.version = version\n",
    "        self.vendor = vendor\n",
    "        self.url = addr\n",
    "        self.lib = ffi.dlopen(libLocation)"
   ]
  },
  {
   "cell_type": "markdown",
   "metadata": {},
   "source": [
    "#### the login function needs to know at least the two first arguments to work"
   ]
  },
  {
   "cell_type": "code",
   "execution_count": 16,
   "metadata": {},
   "outputs": [],
   "source": [
    "def login(self,account_locator,account_password,user_data=b''):\n",
    "    ''' char* account_locator, char* account_password, void* user_data ''' \n",
    "    \n",
    "    @ffi.callback(\"void(void*)\")\n",
    "    def o_disconnect_notifier_cb(user_data):\n",
    "        pass\n",
    "    \n",
    "    \n",
    "    @ffi.callback(\"void(void*,FfiResult*,Authenticator*)\")\n",
    "    def o_cb(user_data,result,authenticaor):\n",
    "        \n",
    "        if result.error_code == 0:\n",
    "            print('successfully logged into the SAFE Network')\n",
    "        else:\n",
    "            print('an Error occured - Error Code: ' + str(result.error_code))\n",
    "            print('Error description: ' + str(dataTypes.SafeUtils.getCString(result.description)))\n",
    "    \n",
    "    account_locator = dataTypes.cstr(account_locator)\n",
    "    password = dataTypes.cstr(account_password)\n",
    "    userData = dataTypes.cstr(user_data)\n",
    "    \n",
    "    self.lib.login(account_locator.entity,password.entity,userData.entity,o_disconnect_notifier_cb,o_cb)\n",
    "    \n",
    "    \n",
    "Auth.login = login\n",
    "del(login)"
   ]
  },
  {
   "cell_type": "markdown",
   "metadata": {},
   "source": [
    "parameters for account creation\n",
    "\n",
    "account_locator | account_password | invitation | user_data\n",
    "--- | --- | --- | ---\n",
    "important; your first login string | important; your second login string | random string in mock routing | no clue\n"
   ]
  },
  {
   "cell_type": "code",
   "execution_count": 12,
   "metadata": {},
   "outputs": [],
   "source": [
    "def create_acc(self,account_locator,account_password,invitation,user_data=b''):\n",
    "    ''' char* account_locator, char* account_password, char* invitation, void* user_data ''' \n",
    "    \n",
    "    @ffi.callback(\"void(void*)\")\n",
    "    def o_disconnect_notifier_cb(user_data):\n",
    "        pass\n",
    "    \n",
    "    \n",
    "    @ffi.callback(\"void(void*,FfiResult*,Authenticator*)\")\n",
    "    def o_cb(user_data,result,authenticator):\n",
    "        \n",
    "        if result.error_code == 0:\n",
    "            print('successfully created new SAFE Network Account')\n",
    "        else:\n",
    "            print('an Error occured - Error Code: ' + str(result.error_code))\n",
    "            print('Error description: ' + str(dataTypes.SafeUtils.getCString(result.description)))\n",
    "    \n",
    "    account_locator = dataTypes.cstr(account_locator)\n",
    "    password = dataTypes.cstr(account_password)\n",
    "    invitation = dataTypes.cstr(invitation)\n",
    "    userData = dataTypes.cstr(user_data)\n",
    "    \n",
    "    self.lib.create_acc(account_locator.entity,password.entity,invitation.entity,userData.entity,o_disconnect_notifier_cb,o_cb)\n",
    "    \n",
    "    \n",
    "Auth.create_acc = create_acc\n",
    "del(create_acc)"
   ]
  },
  {
   "cell_type": "code",
   "execution_count": null,
   "metadata": {},
   "outputs": [],
   "source": []
  },
  {
   "cell_type": "code",
   "execution_count": null,
   "metadata": {},
   "outputs": [],
   "source": []
  }
 ],
 "metadata": {
  "kernelspec": {
   "display_name": "Python 3",
   "language": "python",
   "name": "python3"
  },
  "language_info": {
   "codemirror_mode": {
    "name": "ipython",
    "version": 3
   },
   "file_extension": ".py",
   "mimetype": "text/x-python",
   "name": "python",
   "nbconvert_exporter": "python",
   "pygments_lexer": "ipython3",
   "version": "3.5.4"
  }
 },
 "nbformat": 4,
 "nbformat_minor": 2
}
