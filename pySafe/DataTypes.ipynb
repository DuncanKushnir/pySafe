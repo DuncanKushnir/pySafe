{
 "cells": [
  {
   "cell_type": "code",
   "execution_count": 1,
   "metadata": {
    "collapsed": true
   },
   "outputs": [],
   "source": [
    "from cffi import FFI\n",
    "ffi = FFI()\n",
    "with open('extracted_headers/safe_c_ffi_data.h','r') as f:\n",
    "    myHeaders=f.read()\n",
    "ffi.cdef(myHeaders)\n",
    "with open('extracted_headers/safe_c_ffi_funcs.h','r') as f:\n",
    "    funs=f.read()\n",
    "ffi.cdef(funs)\n",
    "lib=ffi.dlopen('../compiled_binaries/libsafe_app.so')"
   ]
  },
  {
   "cell_type": "markdown",
   "metadata": {},
   "source": [
    "---"
   ]
  },
  {
   "cell_type": "markdown",
   "metadata": {},
   "source": [
    "maybe it makes most sense to really define the data types by hand and just check them for changes with updates on the api - not entirely sure\n",
    "\n",
    "- rid"
   ]
  },
  {
   "cell_type": "markdown",
   "metadata": {},
   "source": [
    "---"
   ]
  },
  {
   "cell_type": "markdown",
   "metadata": {},
   "source": [
    "```c\n",
    "typedef unsigned long int uintptr_t;\n",
    "\n",
    "typedef struct {\n",
    " char* id;\n",
    " char* scope;\n",
    " char* name;\n",
    " char* vendor;\n",
    "} AppExchangeInfo;\n",
    "```"
   ]
  },
  {
   "cell_type": "code",
   "execution_count": 2,
   "metadata": {
    "collapsed": true
   },
   "outputs": [],
   "source": [
    "class AppExchangeInfo:\n",
    "    def __init__(self,id=b'noId',scope=b'noScope',name=b'noName',vendor=b'nobody'):\n",
    "        self.id = ffi.new('char[]',id)\n",
    "        self.scope = ffi.new('char[]',scope)\n",
    "        self.name = ffi.new('char[]',name)\n",
    "        self.vendor = ffi.new('char[]',vendor)\n",
    "\n",
    "        self.entity = ffi.new('AppExchangeInfo *',[self.id,self.scope,self.name,self.vendor])"
   ]
  },
  {
   "cell_type": "code",
   "execution_count": 3,
   "metadata": {
    "collapsed": true
   },
   "outputs": [],
   "source": [
    "def AppExchangeInfo(id=b'noId',scope=b'noScope',name=b'noName',vendor=b'nobody'):\n",
    "    id = ffi.new('char[]',id)\n",
    "    scope = ffi.new('char[]',scope)\n",
    "    name = ffi.new('char[]',name)\n",
    "    vendor = ffi.new('char[]',vendor)\n",
    "\n",
    "    myStruct = ffi.new('AppExchangeInfo *',[id,scope,name,vendor])\n",
    "    \n",
    "    return myStruct, [id, scope, name, vendor]"
   ]
  },
  {
   "cell_type": "code",
   "execution_count": 4,
   "metadata": {
    "collapsed": true
   },
   "outputs": [],
   "source": [
    "newExChangeInfo,infopayload = AppExchangeInfo()"
   ]
  },
  {
   "cell_type": "code",
   "execution_count": 5,
   "metadata": {
    "scrolled": true
   },
   "outputs": [
    {
     "data": {
      "text/plain": [
       "b'nobody'"
      ]
     },
     "execution_count": 5,
     "metadata": {},
     "output_type": "execute_result"
    }
   ],
   "source": [
    "ffi.string(newExChangeInfo.vendor)"
   ]
  },
  {
   "cell_type": "code",
   "execution_count": 6,
   "metadata": {},
   "outputs": [
    {
     "data": {
      "text/plain": [
       "b'noName'"
      ]
     },
     "execution_count": 6,
     "metadata": {},
     "output_type": "execute_result"
    }
   ],
   "source": [
    "ffi.string(newExChangeInfo.name)"
   ]
  },
  {
   "cell_type": "markdown",
   "metadata": {},
   "source": [
    "```c\n",
    "typedef struct {\n",
    " _Bool read;\n",
    " _Bool insert;\n",
    " _Bool update;\n",
    " _Bool delete;\n",
    " _Bool manage_permissions;\n",
    "} PermissionSet;\n",
    "```"
   ]
  },
  {
   "cell_type": "code",
   "execution_count": 7,
   "metadata": {
    "collapsed": true
   },
   "outputs": [],
   "source": [
    "def PermissionSet(read=False,insert=False,update=False,delete=False,manage_permissions=False):\n",
    "    return ffi.new('PermissionSet *',[read,insert,update,delete,manage_permissions])"
   ]
  },
  {
   "cell_type": "code",
   "execution_count": 8,
   "metadata": {
    "collapsed": true
   },
   "outputs": [],
   "source": [
    "newPermissionSet = PermissionSet()"
   ]
  },
  {
   "cell_type": "markdown",
   "metadata": {},
   "source": [
    "```c\n",
    "typedef struct {\n",
    " char* cont_name;\n",
    " PermissionSet access;\n",
    "} ContainerPermissions;\n",
    "```"
   ]
  },
  {
   "cell_type": "code",
   "execution_count": 9,
   "metadata": {
    "collapsed": true
   },
   "outputs": [],
   "source": [
    "def ContainerPermissions(name=b'noName',access=None):\n",
    "    containerName = ffi.new('char[]',name)\n",
    "    if not access:\n",
    "        access = PermissionSet()\n",
    "    container = ffi.new('ContainerPermissions *',[containerName,access[0]])\n",
    "    \n",
    "    return container, [containerName,access]"
   ]
  },
  {
   "cell_type": "code",
   "execution_count": 10,
   "metadata": {
    "collapsed": true
   },
   "outputs": [],
   "source": [
    "newPermissions,permission_addon=ContainerPermissions(b'myName2')"
   ]
  },
  {
   "cell_type": "code",
   "execution_count": 11,
   "metadata": {},
   "outputs": [
    {
     "data": {
      "text/plain": [
       "False"
      ]
     },
     "execution_count": 11,
     "metadata": {},
     "output_type": "execute_result"
    }
   ],
   "source": [
    "newPermissions.access.insert"
   ]
  },
  {
   "cell_type": "markdown",
   "metadata": {},
   "source": [
    "```c\n",
    "typedef struct {\n",
    " AppExchangeInfo app;\n",
    " _Bool app_container;\n",
    " ContainerPermissions* containers;\n",
    " uintptr_t containers_len;\n",
    " uintptr_t containers_cap;\n",
    "} AuthReq;\n",
    "```"
   ]
  },
  {
   "cell_type": "code",
   "execution_count": 12,
   "metadata": {
    "collapsed": true
   },
   "outputs": [],
   "source": [
    "def AuthReq(permissions,containers_len,containers_cap,id=b'noId',scope=b'noScope',name=b'noName',vendor=b'nobody',app_container=True):\n",
    "    \n",
    "    newExChangeInfo,infopayload = AppExchangeInfo(id,scope,name,vendor)\n",
    "    \n",
    "    authReq = ffi.new('AuthReq *',[newExChangeInfo[0],app_container,permissions,containers_len,containers_cap])\n",
    "    \n",
    "    return authReq, [newExChangeInfo,infopayload]"
   ]
  },
  {
   "cell_type": "code",
   "execution_count": 13,
   "metadata": {
    "collapsed": true
   },
   "outputs": [],
   "source": [
    "def AuthReq(permissions,containers_len,containers_cap,id=b'noId',scope=b'noScope',name=b'noName',vendor=b'nobody',app_container=True):\n",
    "    \n",
    "    newExChangeInfo,infopayload = AppExchangeInfo(id,scope,name,vendor)\n",
    "    \n",
    "    authReq = ffi.new('AuthReq *',[newExChangeInfo[0],app_container,permissions,containers_len,containers_cap])\n",
    "    \n",
    "    return authReq, [newExChangeInfo,infopayload]"
   ]
  },
  {
   "cell_type": "code",
   "execution_count": 14,
   "metadata": {
    "collapsed": true
   },
   "outputs": [],
   "source": [
    "myAuth,addData=AuthReq(newPermissions,1,1)"
   ]
  },
  {
   "cell_type": "code",
   "execution_count": null,
   "metadata": {
    "collapsed": true
   },
   "outputs": [],
   "source": []
  },
  {
   "cell_type": "code",
   "execution_count": null,
   "metadata": {
    "collapsed": true
   },
   "outputs": [],
   "source": []
  },
  {
   "cell_type": "code",
   "execution_count": null,
   "metadata": {
    "collapsed": true
   },
   "outputs": [],
   "source": []
  },
  {
   "cell_type": "code",
   "execution_count": 15,
   "metadata": {
    "collapsed": true
   },
   "outputs": [],
   "source": [
    "@ffi.callback(\"void(void *, FfiResult *)\")\n",
    "def feedback(userData, result):\n",
    "    print(userData)\n",
    "    print(result.error_code)"
   ]
  },
  {
   "cell_type": "code",
   "execution_count": 16,
   "metadata": {},
   "outputs": [
    {
     "name": "stdout",
     "output_type": "stream",
     "text": [
      "<cdata 'void *' NULL>\n",
      "0\n"
     ]
    }
   ],
   "source": [
    "lib.app_set_additional_search_path(ffi.new('char[]',b'../compiled_binaries/'),ffi.NULL,feedback)"
   ]
  },
  {
   "cell_type": "code",
   "execution_count": null,
   "metadata": {
    "collapsed": true
   },
   "outputs": [],
   "source": []
  },
  {
   "cell_type": "code",
   "execution_count": null,
   "metadata": {
    "collapsed": true
   },
   "outputs": [],
   "source": []
  },
  {
   "cell_type": "code",
   "execution_count": 17,
   "metadata": {
    "collapsed": true
   },
   "outputs": [],
   "source": [
    "@ffi.callback(\"void(void *, FfiResult *, unsigned int, char *)\")\n",
    "def o_cb(userData, result, noClueWhatNumber, resultString):\n",
    "    print(userData)\n",
    "    print(result)\n",
    "    print(noClueWhatNumber)\n",
    "    print(resultString)"
   ]
  },
  {
   "cell_type": "code",
   "execution_count": 18,
   "metadata": {},
   "outputs": [
    {
     "name": "stdout",
     "output_type": "stream",
     "text": [
      "<cdata 'void *' NULL>\n",
      "<cdata 'FfiResult *' 0x7ffe44f26958>\n",
      "0\n",
      "<cdata 'char *' NULL>\n"
     ]
    }
   ],
   "source": [
    "lib.encode_auth_req(myAuth,ffi.NULL,o_cb)"
   ]
  },
  {
   "cell_type": "code",
   "execution_count": null,
   "metadata": {
    "collapsed": true
   },
   "outputs": [],
   "source": []
  },
  {
   "cell_type": "code",
   "execution_count": null,
   "metadata": {
    "collapsed": true
   },
   "outputs": [],
   "source": []
  },
  {
   "cell_type": "code",
   "execution_count": 19,
   "metadata": {
    "collapsed": true
   },
   "outputs": [],
   "source": [
    "myAuth.containers.access.insert=True"
   ]
  },
  {
   "cell_type": "code",
   "execution_count": 20,
   "metadata": {
    "collapsed": true
   },
   "outputs": [],
   "source": [
    "myAuth.containers.access.delete=True"
   ]
  },
  {
   "cell_type": "code",
   "execution_count": 21,
   "metadata": {},
   "outputs": [
    {
     "data": {
      "text/plain": [
       "b'noName'"
      ]
     },
     "execution_count": 21,
     "metadata": {},
     "output_type": "execute_result"
    }
   ],
   "source": [
    "ffi.string(myAuth.app.name)"
   ]
  },
  {
   "cell_type": "code",
   "execution_count": 22,
   "metadata": {
    "collapsed": true
   },
   "outputs": [],
   "source": [
    "encodedAuth=None"
   ]
  },
  {
   "cell_type": "code",
   "execution_count": 23,
   "metadata": {
    "collapsed": true
   },
   "outputs": [],
   "source": [
    "@ffi.callback(\"void(void *, FfiResult *, unsigned int, char *)\")\n",
    "def o_cb(userData, result, reqId, encodedReq):\n",
    "    global encodedAuth\n",
    "    print(userData)\n",
    "    print(result.error_code)\n",
    "    print(reqId)\n",
    "    print(ffi.string(encodedReq))\n",
    "    encodedAuth = ffi.string(encodedReq)"
   ]
  },
  {
   "cell_type": "code",
   "execution_count": 47,
   "metadata": {
    "scrolled": true
   },
   "outputs": [
    {
     "name": "stdout",
     "output_type": "stream",
     "text": [
      "<cdata 'void *' NULL>\n",
      "0\n",
      "3050472663\n",
      "b'AAAAANeE0rUAAAAABAAAAAAAAABub0lkAQcAAAAAAAAAbm9TY29wZQYAAAAAAAAAbm9OYW1lBgAAAAAAAABub2JvZHkBAQAAAAAAAAAHAAAAAAAAAG15TmFtZTICAAAAAAAAAAEAAAADAAAA'\n"
     ]
    }
   ],
   "source": [
    "lib.encode_auth_req(myAuth,ffi.NULL,o_cb)"
   ]
  },
  {
   "cell_type": "code",
   "execution_count": 25,
   "metadata": {},
   "outputs": [
    {
     "data": {
      "text/plain": [
       "b'safe-auth://AAAAAICGc1AAAAAABAAAAAAAAABub0lkAQcAAAAAAAAAbm9TY29wZQYAAAAAAAAAbm9OYW1lBgAAAAAAAABub2JvZHkBAQAAAAAAAAAHAAAAAAAAAG15TmFtZTICAAAAAAAAAAEAAAADAAAA'"
      ]
     },
     "execution_count": 25,
     "metadata": {},
     "output_type": "execute_result"
    }
   ],
   "source": [
    "b'safe-auth://' + encodedAuth"
   ]
  },
  {
   "cell_type": "code",
   "execution_count": null,
   "metadata": {
    "collapsed": true
   },
   "outputs": [],
   "source": []
  },
  {
   "cell_type": "code",
   "execution_count": null,
   "metadata": {
    "collapsed": true
   },
   "outputs": [],
   "source": []
  },
  {
   "cell_type": "code",
   "execution_count": null,
   "metadata": {
    "collapsed": true
   },
   "outputs": [],
   "source": []
  },
  {
   "cell_type": "code",
   "execution_count": null,
   "metadata": {
    "collapsed": true
   },
   "outputs": [],
   "source": []
  },
  {
   "cell_type": "code",
   "execution_count": null,
   "metadata": {
    "collapsed": true
   },
   "outputs": [],
   "source": []
  },
  {
   "cell_type": "code",
   "execution_count": 26,
   "metadata": {
    "scrolled": true
   },
   "outputs": [],
   "source": [
    "\n",
    "sysUri = FFI()\n",
    "with open('extracted_headers/safe_c_ffi_data.h','r') as f:\n",
    "    myHeaders=f.read()\n",
    "sysUri.cdef(myHeaders)\n",
    "with open('extracted_headers/system_uri.h','r') as f:\n",
    "    funs=f.read()\n",
    "sysUri.cdef(funs)\n",
    "lib2=sysUri.dlopen('../compiled_binaries/libsystem_uri.so')"
   ]
  },
  {
   "cell_type": "code",
   "execution_count": 27,
   "metadata": {
    "collapsed": true
   },
   "outputs": [],
   "source": [
    "@sysUri.callback(\"void(void *, FfiResult *)\")\n",
    "def installerFeedback(userData, result):\n",
    "    print(userData)\n",
    "    print(result.error_code)"
   ]
  },
  {
   "cell_type": "markdown",
   "metadata": {},
   "source": [
    "```c\n",
    "void install(char* bundle, \n",
    "             char* vendor, \n",
    "             char* name, \n",
    "             char* exec_args, \n",
    "             uint_least64_t exec_args_len, \n",
    "             char* icon, \n",
    "             char* schemes, \n",
    "             void* user_data, \n",
    "             void (*o_cb)(void* user_data, FfiResult* result));\n",
    "```"
   ]
  },
  {
   "cell_type": "code",
   "execution_count": 28,
   "metadata": {},
   "outputs": [
    {
     "name": "stdout",
     "output_type": "stream",
     "text": [
      "b'noName'\n",
      "b'nobody'\n",
      "b'noScope'\n"
     ]
    }
   ],
   "source": [
    "print(ffi.string(myAuth.app.name))\n",
    "print(ffi.string(myAuth.app.vendor))\n",
    "print(ffi.string(myAuth.app.scope))"
   ]
  },
  {
   "cell_type": "code",
   "execution_count": 29,
   "metadata": {},
   "outputs": [],
   "source": [
    "bundle=sysUri.new('char[]',b'nobundle')\n",
    "vendor=sysUri.new('char[]',b'nobody')\n",
    "name=sysUri.new('char[]',b'noName')\n",
    "exec_args=sysUri.new('char[]',b'')#sysUri.NULL\n",
    "exec_args_len=0\n",
    "icon=sysUri.new('char[]',b'')#sysUri.NULL\n",
    "schemes=sysUri.new('char[]',b'')#sysUri.NULL\n",
    "user_data=sysUri.NULL"
   ]
  },
  {
   "cell_type": "code",
   "execution_count": 30,
   "metadata": {},
   "outputs": [
    {
     "name": "stdout",
     "output_type": "stream",
     "text": [
      "<cdata 'void *' NULL>\n",
      "0\n"
     ]
    }
   ],
   "source": [
    "lib2.install(bundle,vendor,name,exec_args,exec_args_len,icon,schemes,user_data,installerFeedback)"
   ]
  },
  {
   "cell_type": "code",
   "execution_count": null,
   "metadata": {
    "collapsed": true
   },
   "outputs": [],
   "source": []
  },
  {
   "cell_type": "markdown",
   "metadata": {},
   "source": [
    "```c \n",
    "void open_uri(char* uri, \n",
    "              void* user_data, \n",
    "              void (*o_cb)(void* user_data, FfiResult* result));\n",
    "```"
   ]
  },
  {
   "cell_type": "code",
   "execution_count": 31,
   "metadata": {},
   "outputs": [],
   "source": [
    "@sysUri.callback(\"void(void *, FfiResult *)\")\n",
    "def openerFeedback(userData, result):\n",
    "    global res\n",
    "    res = result\n",
    "    print(userData)\n",
    "    print(result.error_code)"
   ]
  },
  {
   "cell_type": "code",
   "execution_count": 32,
   "metadata": {
    "collapsed": true
   },
   "outputs": [],
   "source": [
    "uri=sysUri.new('char[]',b'safe-auth://' + encodedAuth)\n",
    "user_data=sysUri.NULL"
   ]
  },
  {
   "cell_type": "code",
   "execution_count": 46,
   "metadata": {},
   "outputs": [
    {
     "name": "stdout",
     "output_type": "stream",
     "text": [
      "<cdata 'void *' NULL>\n",
      "0\n"
     ]
    }
   ],
   "source": [
    "lib2.open_uri(uri,user_data,openerFeedback)"
   ]
  },
  {
   "cell_type": "code",
   "execution_count": null,
   "metadata": {
    "collapsed": true
   },
   "outputs": [],
   "source": []
  },
  {
   "cell_type": "markdown",
   "metadata": {},
   "source": [
    "```c \n",
    "void decode_ipc_msg(char* msg, \n",
    "                    void* user_data, \n",
    "                    void (*o_auth)(void* user_data, uint32_t req_id, AuthGranted* auth_granted), \n",
    "                    void (*o_unregistered)(void* user_data, uint32_t req_id, uint8_t* serialised_cfg, \n",
    "                                            uintptr_t serialised_cfg_len), \n",
    "                    void (*o_containers)(void* user_data, uint32_t req_id), \n",
    "                    void (*o_share_mdata)(void* user_data, uint32_t req_id), \n",
    "                    void (*o_revoked)(void* user_data), \n",
    "                    void (*o_err)(void* user_data, FfiResult* result, uint32_t req_id));\n",
    "```"
   ]
  },
  {
   "cell_type": "code",
   "execution_count": 34,
   "metadata": {
    "collapsed": true
   },
   "outputs": [],
   "source": [
    "@ffi.callback(\"void(void *, uint32_t, AuthGranted *)\")\n",
    "def o_auth_decode_ipc_msg(userData, req_id, auth_granted):\n",
    "    global grantedAuth\n",
    "    grantedAuth = auth_granted\n",
    "    print('o_auth')\n",
    "    print(userData)\n",
    "    print(reqId)"
   ]
  },
  {
   "cell_type": "code",
   "execution_count": 35,
   "metadata": {
    "collapsed": true
   },
   "outputs": [],
   "source": [
    "@ffi.callback(\"void(void *, uint32_t, uint8_t *, uintptr_t)\")\n",
    "def o_unregistered_decode_ipc_msg(userData, req_id, serialised_cfg, serialised_cfg_len):\n",
    "    print('o_unregistered')\n",
    "    print(reqId)"
   ]
  },
  {
   "cell_type": "code",
   "execution_count": 36,
   "metadata": {
    "collapsed": true
   },
   "outputs": [],
   "source": [
    "@ffi.callback(\"void(void *, uint32_t)\")\n",
    "def o_containers_decode_ipc_msg(userData, req_id):\n",
    "    print('o_containers')\n",
    "    print(reqId)"
   ]
  },
  {
   "cell_type": "code",
   "execution_count": 37,
   "metadata": {
    "collapsed": true
   },
   "outputs": [],
   "source": [
    "@ffi.callback(\"void(void *, uint32_t)\")\n",
    "def o_share_mdata_decode_ipc_msg(userData, req_id):\n",
    "    print('o_share')\n",
    "    print(reqId)"
   ]
  },
  {
   "cell_type": "code",
   "execution_count": 38,
   "metadata": {
    "collapsed": true
   },
   "outputs": [],
   "source": [
    "@ffi.callback(\"void(void *)\")\n",
    "def o_revoked_decode_ipc_msg(userData):\n",
    "    print('o_revoked')\n",
    "    print(reqId)"
   ]
  },
  {
   "cell_type": "code",
   "execution_count": 39,
   "metadata": {
    "collapsed": true
   },
   "outputs": [],
   "source": [
    "@ffi.callback(\"void(void *, FfiResult *, uint32_t)\")\n",
    "def o_error_decode_ipc_msg(userData, result, req_id):\n",
    "    global res\n",
    "    res = result\n",
    "    print('o_err')\n",
    "    print(userData)\n",
    "    print(req_id)\n",
    "    print(result.error_code)\n",
    "    print(ffi.string(result.description))"
   ]
  },
  {
   "cell_type": "code",
   "execution_count": 48,
   "metadata": {
    "collapsed": true
   },
   "outputs": [],
   "source": [
    "msg = ffi.new('char[]',b'safe-auth://' + encodedAuth)"
   ]
  },
  {
   "cell_type": "code",
   "execution_count": 49,
   "metadata": {},
   "outputs": [
    {
     "name": "stdout",
     "output_type": "stream",
     "text": [
      "o_err\n",
      "<cdata 'void *' NULL>\n",
      "0\n",
      "-1\n",
      "b'Serialisation error'\n"
     ]
    }
   ],
   "source": [
    "lib.decode_ipc_msg(msg,ffi.NULL,o_auth_decode_ipc_msg,o_unregistered_decode_ipc_msg\n",
    "                   ,o_containers_decode_ipc_msg,o_share_mdata_decode_ipc_msg,\n",
    "                   o_revoked_decode_ipc_msg,o_error_decode_ipc_msg)"
   ]
  },
  {
   "cell_type": "code",
   "execution_count": 42,
   "metadata": {
    "collapsed": true
   },
   "outputs": [],
   "source": [
    "msg = ffi.new('char[]',encodedAuth)"
   ]
  },
  {
   "cell_type": "code",
   "execution_count": 43,
   "metadata": {},
   "outputs": [
    {
     "name": "stdout",
     "output_type": "stream",
     "text": [
      "o_err\n",
      "<cdata 'void *' NULL>\n",
      "0\n",
      "-202\n",
      "b'IPC error: InvalidMsg'\n"
     ]
    }
   ],
   "source": [
    "lib.decode_ipc_msg(msg,ffi.NULL,o_auth_decode_ipc_msg,o_unregistered_decode_ipc_msg\n",
    "                   ,o_containers_decode_ipc_msg,o_share_mdata_decode_ipc_msg,\n",
    "                   o_revoked_decode_ipc_msg,o_error_decode_ipc_msg)"
   ]
  },
  {
   "cell_type": "code",
   "execution_count": null,
   "metadata": {
    "collapsed": true
   },
   "outputs": [],
   "source": []
  },
  {
   "cell_type": "code",
   "execution_count": null,
   "metadata": {
    "collapsed": true
   },
   "outputs": [],
   "source": []
  },
  {
   "cell_type": "code",
   "execution_count": null,
   "metadata": {
    "collapsed": true
   },
   "outputs": [],
   "source": []
  },
  {
   "cell_type": "code",
   "execution_count": null,
   "metadata": {
    "collapsed": true
   },
   "outputs": [],
   "source": []
  },
  {
   "cell_type": "code",
   "execution_count": null,
   "metadata": {
    "collapsed": true
   },
   "outputs": [],
   "source": []
  },
  {
   "cell_type": "code",
   "execution_count": 37,
   "metadata": {
    "collapsed": true
   },
   "outputs": [],
   "source": [
    "uriAddress=ffi.new('char[]',b'safe-auth://' + encodedAuth)"
   ]
  },
  {
   "cell_type": "code",
   "execution_count": null,
   "metadata": {
    "collapsed": true
   },
   "outputs": [],
   "source": []
  },
  {
   "cell_type": "code",
   "execution_count": null,
   "metadata": {
    "collapsed": true
   },
   "outputs": [],
   "source": []
  },
  {
   "cell_type": "code",
   "execution_count": null,
   "metadata": {
    "collapsed": true
   },
   "outputs": [],
   "source": [
    "uriAddress=ffi.new('char[]',b'safe-auth://' + encodedAuth)"
   ]
  },
  {
   "cell_type": "code",
   "execution_count": null,
   "metadata": {
    "collapsed": true
   },
   "outputs": [],
   "source": [
    "void open_uri(char* uri, void* user_data, void (*o_cb)(void* user_data, FfiResult* result));"
   ]
  },
  {
   "cell_type": "code",
   "execution_count": null,
   "metadata": {
    "collapsed": true
   },
   "outputs": [],
   "source": [
    "uriAddress=ffi.new('char[]',b'safe-auth://' + encodedAuth)"
   ]
  },
  {
   "cell_type": "code",
   "execution_count": null,
   "metadata": {
    "collapsed": true
   },
   "outputs": [],
   "source": [
    "lib2.open(uriAddress)"
   ]
  },
  {
   "cell_type": "code",
   "execution_count": null,
   "metadata": {
    "collapsed": true
   },
   "outputs": [],
   "source": []
  }
 ],
 "metadata": {
  "kernelspec": {
   "display_name": "Python 3",
   "language": "python",
   "name": "python3"
  },
  "language_info": {
   "codemirror_mode": {
    "name": "ipython",
    "version": 3
   },
   "file_extension": ".py",
   "mimetype": "text/x-python",
   "name": "python",
   "nbconvert_exporter": "python",
   "pygments_lexer": "ipython3",
   "version": "3.6.2"
  }
 },
 "nbformat": 4,
 "nbformat_minor": 2
}
