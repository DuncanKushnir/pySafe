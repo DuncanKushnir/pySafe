{
 "cells": [
  {
   "cell_type": "markdown",
   "metadata": {},
   "source": [
    "---"
   ]
  },
  {
   "cell_type": "markdown",
   "metadata": {},
   "source": [
    "# App"
   ]
  },
  {
   "cell_type": "markdown",
   "metadata": {},
   "source": [
    "---"
   ]
  },
  {
   "cell_type": "code",
   "execution_count": 1,
   "metadata": {},
   "outputs": [
    {
     "name": "stdout",
     "output_type": "stream",
     "text": [
      "SAFE python-rust interface generated, bound and available\n",
      "[15:28:26.405] pyS.ffi_in :Thread-4  (     safe_utils.py: 137) [    INFO] action succeeded: < _auth_set_additional_search_path_o_cb       \n",
      "[15:28:26.406] pyS.ffi_in :Thread-5  (     safe_utils.py: 137) [    INFO] action succeeded: < _auth_exe_file_stem_o_cb                    \n"
     ]
    }
   ],
   "source": [
    "import safenet\n",
    "safenet.setup_logger(file_level=safenet.log_util.INFO)\n",
    "myApp = safenet.App()\n",
    "newPermissions,permission_addon=safenet.safe_utils.ContainerPermissions(b'_music',ffi=myApp.ffi_app)\n",
    "myAuth_,addData=safenet.safe_utils.AuthReq(newPermissions,1,1,id=b'newProgId_unique_thing',scope=b'lalali'\n",
    "                       ,name=b'newProgramName',vendor=b'nobody',app_container=True,ffi=myApp.ffi_app)"
   ]
  },
  {
   "cell_type": "code",
   "execution_count": 2,
   "metadata": {},
   "outputs": [
    {
     "name": "stdout",
     "output_type": "stream",
     "text": [
      "[15:28:27.249] pyS.ffi_in :Thread-6  (     safe_utils.py: 137) [    INFO] action succeeded: < _encode_auth_req_o_cb                       \n"
     ]
    }
   ],
   "source": [
    "myApp.encode_auth_req(myAuth_,myApp.ffi_app.NULL)\n",
    "encodedAuth = myApp.queue.get()"
   ]
  },
  {
   "cell_type": "code",
   "execution_count": 3,
   "metadata": {},
   "outputs": [
    {
     "name": "stdout",
     "output_type": "stream",
     "text": [
      "[15:28:27.710] pyS        :MainThread(         sysUri.py:  61) [    INFO] filename is: 550GvCpij8dTzXVVdcvTCkXGVBybm26VMkrrRS8wWI.py and port number is: 30777\n",
      "[15:28:27.755] pyS.ffi_in :Thread-7  (     safe_utils.py: 137) [    INFO] action succeeded: < _install_o_cb                               \n",
      "[15:28:29.204] pyS.ffi_in :Thread-8  (     safe_utils.py: 137) [    INFO] action succeeded: < _open_uri_o_cb                              \n"
     ]
    }
   ],
   "source": [
    "grantedAuth = myApp.sysUri.quickSetup(myAuth_,encodedAuth)"
   ]
  },
  {
   "cell_type": "code",
   "execution_count": 4,
   "metadata": {},
   "outputs": [
    {
     "data": {
      "text/plain": [
       "'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'"
      ]
     },
     "execution_count": 4,
     "metadata": {},
     "output_type": "execute_result"
    }
   ],
   "source": [
    "grantedAuth"
   ]
  },
  {
   "cell_type": "code",
   "execution_count": null,
   "metadata": {},
   "outputs": [],
   "source": []
  },
  {
   "cell_type": "code",
   "execution_count": null,
   "metadata": {},
   "outputs": [],
   "source": []
  },
  {
   "cell_type": "code",
   "execution_count": null,
   "metadata": {},
   "outputs": [],
   "source": []
  },
  {
   "cell_type": "code",
   "execution_count": null,
   "metadata": {},
   "outputs": [],
   "source": []
  },
  {
   "cell_type": "code",
   "execution_count": null,
   "metadata": {},
   "outputs": [],
   "source": [
    "\n",
    "\n",
    "def getAuthReqForAppdict(appDict,reqFun,ffi=None):\n",
    "    \n",
    "    newPermissions,permission_addon=ContainerPermissions(b'_music')\n",
    "    myAuth,addData=AuthReq(newPermissions,1,1,id=b'newProgId_unique_thing',scope=b'lalali'\n",
    "                           ,name=b'newProgramName',vendor=b'nobody',app_container=True)    \n",
    "    \n",
    "    \n",
    "    \n",
    "    infopayload=[]\n",
    "    if 'permissions' in appDict:\n",
    "        permissionNum = len(appDict['permissions'])\n",
    "        permissions = ffi.new(f'ContainerPermissions[{permissionNum}]')\n",
    "        for idx, onePermission in enumerate(appDict['permissions']):\n",
    "            permissions[idx].access = PermissionSet(ffi=ffi,**ensure_correct_form(**onePermission['access']))[0]\n",
    "            #newContainer,addInfo = ContainerPermissions(*ensure_correct_form(ffi,onePermission['name']),access=newPermissionset,ffi=ffi)\n",
    "            oneContainerName = ffi.new('char[]',ensure_correct_form(ffi,onePermission['name'])[0])\n",
    "            permissions[idx].cont_name = oneContainerName \n",
    "            #permissions[idx]=newContainer[0]\n",
    "            #infopayload.append(addInfo)\n",
    "    else:\n",
    "        permissionNum = 0\n",
    "        permissions = ffi.NULL\n",
    "    print(str({item:appDict[item] for item in appDict if not item == 'permissions'}))\n",
    "    authReq,addData = reqFun(permissions,permissionNum,permissionNum,ffi=ffi,**ensure_correct_form(**{item:appDict[item] for item in appDict if not item == 'permissions'}))\n",
    "    return authReq,[addData,infopayload]\n",
    "\n",
    "    "
   ]
  },
  {
   "cell_type": "code",
   "execution_count": 5,
   "metadata": {
    "scrolled": true
   },
   "outputs": [
    {
     "name": "stdout",
     "output_type": "stream",
     "text": [
      "[03:56:39.848] pyS.ffi_in :Thread-5  (     safe_utils.py: 136) [    INFO] action succeeded: < _auth_exe_file_stem_o_cb                    \n",
      "[03:56:39.850] pyS.ffi_in :Thread-4  (     safe_utils.py: 136) [    INFO] action succeeded: < _auth_set_additional_search_path_o_cb       \n"
     ]
    }
   ],
   "source": [
    "access = {'delete' : True, 'insert' : True, 'manage_permissions' : True, 'read' : True, 'update' : True }\n",
    "onePermission = { 'access' : access, 'name' : '_testStuff'}\n",
    "\n",
    "appDict = { 'permissions' : [onePermission], 'id' : 'UniqueName', 'scope' : 'ScopeOfApp', 'name' : 'AppNewName',\n",
    "          'vendor' : 'AppVendor', 'app_container' : True}"
   ]
  },
  {
   "cell_type": "code",
   "execution_count": 6,
   "metadata": {
    "scrolled": true
   },
   "outputs": [
    {
     "name": "stdout",
     "output_type": "stream",
     "text": [
      "{'id': 'UniqueName', 'scope': 'ScopeOfApp', 'name': 'AppNewName', 'vendor': 'AppVendor', 'app_container': True}\n"
     ]
    }
   ],
   "source": [
    "myAuth_,addData = safenet.safe_utils.getAuthReqForAppdict(appDict,safenet.safe_utils.AuthReq,myApp.ffi_app)"
   ]
  },
  {
   "cell_type": "code",
   "execution_count": null,
   "metadata": {},
   "outputs": [],
   "source": []
  },
  {
   "cell_type": "markdown",
   "metadata": {},
   "source": [
    "---\n",
    "\n",
    "this needs to become nicer\n",
    "\n",
    "---"
   ]
  },
  {
   "cell_type": "code",
   "execution_count": 19,
   "metadata": {},
   "outputs": [],
   "source": [
    "grantedAuth = myApp._decode_ipc_msg(msg,myHand)"
   ]
  },
  {
   "cell_type": "code",
   "execution_count": 20,
   "metadata": {},
   "outputs": [
    {
     "name": "stdout",
     "output_type": "stream",
     "text": [
      "action succeeded\n"
     ]
    }
   ],
   "source": [
    "appItself = myApp._app_registered(myAuth_.app.id,grantedAuth[0],myApp.ffi_app.NULL)"
   ]
  },
  {
   "cell_type": "code",
   "execution_count": 21,
   "metadata": {},
   "outputs": [],
   "source": [
    "with open('safenet/myNewMutableData_as_bytes','rb') as f:\n",
    "    readData=f.read()"
   ]
  },
  {
   "cell_type": "code",
   "execution_count": 22,
   "metadata": {},
   "outputs": [],
   "source": [
    "dataOnSafe=safenet.safeUtils.getffiMutable(readData,myApp.ffi_app)"
   ]
  },
  {
   "cell_type": "code",
   "execution_count": null,
   "metadata": {},
   "outputs": [],
   "source": []
  },
  {
   "cell_type": "code",
   "execution_count": 23,
   "metadata": {},
   "outputs": [],
   "source": [
    "@myApp.ffi_app.callback(\"void(void* , FfiResult*, MDataKey*, uint64_t)\")\n",
    "def result_mdata_list_keys(user_data, result, key, size):\n",
    "    if result.error_code != 0:\n",
    "        print(myApp.ffi_app.string(result.description))\n",
    "    if size>0:\n",
    "        print(myApp.ffi_app.string(key.key))"
   ]
  },
  {
   "cell_type": "code",
   "execution_count": 24,
   "metadata": {},
   "outputs": [],
   "source": [
    "@myApp.ffi_app.callback(\"void(void* , FfiResult*, MDataValue*, uint64_t)\")\n",
    "def result_mdata_list_values(user_data, result, value, size):\n",
    "    if result.error_code != 0:\n",
    "        print(ffi.string(result.description))\n",
    "    if size>0:\n",
    "        print(ffi.string(value.content))"
   ]
  },
  {
   "cell_type": "code",
   "execution_count": 25,
   "metadata": {},
   "outputs": [
    {
     "name": "stdout",
     "output_type": "stream",
     "text": [
      "b'dask'\n"
     ]
    }
   ],
   "source": [
    "myApp.lib.safe_app.mdata_list_keys(appItself,dataOnSafe,myApp.ffi_app.NULL,result_mdata_list_keys)"
   ]
  },
  {
   "cell_type": "code",
   "execution_count": 26,
   "metadata": {},
   "outputs": [
    {
     "name": "stdout",
     "output_type": "stream",
     "text": [
      "b'we get closer...'\n"
     ]
    }
   ],
   "source": [
    "myApp.lib.safe_app.mdata_list_values(appItself,dataOnSafe,myApp.ffi_app.NULL,result_mdata_list_values)"
   ]
  },
  {
   "cell_type": "markdown",
   "metadata": {},
   "source": [
    "---\n",
    "### why doesn't this work?\n",
    "---"
   ]
  },
  {
   "cell_type": "code",
   "execution_count": null,
   "metadata": {},
   "outputs": [],
   "source": [
    "myApp.mutableData._mdata_list_keys(appItself,dataOnSafe,myApp.ffi_app.NULL)"
   ]
  },
  {
   "cell_type": "code",
   "execution_count": null,
   "metadata": {},
   "outputs": [],
   "source": [
    "myApp.mutableData._mdata_list_values(appItself,dataOnSafe,myApp.ffi_app.NULL)"
   ]
  },
  {
   "cell_type": "code",
   "execution_count": null,
   "metadata": {},
   "outputs": [],
   "source": []
  },
  {
   "cell_type": "code",
   "execution_count": 113,
   "metadata": {},
   "outputs": [],
   "source": [
    "access = {'delete' : True, 'insert' : True, 'manage_permissions' : True, 'read' : True, 'update' : True }\n",
    "containerName ='_music'\n",
    "onePermission = { 'access' : access, 'name' : containerName}\n",
    "\n",
    "appDict = { 'permissions' : [onePermission], 'id' : 'UniqueName', 'scope' : 'ScopeOfApp', 'name' : 'AppName',\n",
    "          'vendor' : 'AppVendor', 'app_container' : True}"
   ]
  },
  {
   "cell_type": "code",
   "execution_count": 148,
   "metadata": {},
   "outputs": [],
   "source": [
    "myAuth_,addData=safenet.safe_utils.AuthReq(permissions,1,1,id=b'newProgId_unique_thing',scope=b'lalali'\n",
    "                       ,name=b'newProgramName',vendor=b'nobody',app_container=True,ffi=myApp.ffi_app)"
   ]
  },
  {
   "cell_type": "code",
   "execution_count": 117,
   "metadata": {},
   "outputs": [],
   "source": [
    "appDict = { 'permissions' : [onePermission], 'id' : 'UniqueName', 'scope' : 'ScopeOfApp', 'name' : 'AppName',\n",
    "          'vendor' : 'AppVendor', 'app_container' : True}"
   ]
  },
  {
   "cell_type": "code",
   "execution_count": null,
   "metadata": {},
   "outputs": [],
   "source": []
  },
  {
   "cell_type": "code",
   "execution_count": 118,
   "metadata": {},
   "outputs": [
    {
     "data": {
      "text/plain": [
       "{'permissions': [{'access': {'delete': True,\n",
       "    'insert': False,\n",
       "    'manage_permissions': True,\n",
       "    'read': True,\n",
       "    'update': 13},\n",
       "   'name': '_music'}],\n",
       " 'id': 'UniqueName',\n",
       " 'scope': 'ScopeOfApp',\n",
       " 'name': 'AppName',\n",
       " 'vendor': 'AppVendor',\n",
       " 'ownContainer': True}"
      ]
     },
     "execution_count": 118,
     "metadata": {},
     "output_type": "execute_result"
    }
   ],
   "source": [
    "appDict"
   ]
  },
  {
   "cell_type": "code",
   "execution_count": null,
   "metadata": {},
   "outputs": [],
   "source": []
  }
 ],
 "metadata": {
  "kernelspec": {
   "display_name": "Python 3",
   "language": "python",
   "name": "python3"
  },
  "language_info": {
   "codemirror_mode": {
    "name": "ipython",
    "version": 3
   },
   "file_extension": ".py",
   "mimetype": "text/x-python",
   "name": "python",
   "nbconvert_exporter": "python",
   "pygments_lexer": "ipython3",
   "version": "3.6.7"
  }
 },
 "nbformat": 4,
 "nbformat_minor": 2
}
