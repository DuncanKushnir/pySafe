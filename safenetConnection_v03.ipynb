{
 "cells": [
  {
   "cell_type": "markdown",
   "metadata": {},
   "source": [
    "---"
   ]
  },
  {
   "cell_type": "markdown",
   "metadata": {},
   "source": [
    "# App"
   ]
  },
  {
   "cell_type": "markdown",
   "metadata": {},
   "source": [
    "---"
   ]
  },
  {
   "cell_type": "code",
   "execution_count": 1,
   "metadata": {},
   "outputs": [
    {
     "name": "stdout",
     "output_type": "stream",
     "text": [
      "SAFE python-rust interface generated, bound and available\n"
     ]
    }
   ],
   "source": [
    "import safenet\n",
    "safenet.setup_logger(file_level=safenet.log_util.WARNING)\n",
    "myApp = safenet.App()\n",
    "\n",
    "grantedAuth = 'bAEAAAAA22X6O4AAAAAAAAAAAAAQAAAAAAAAAAACGXDI7FJQJGFWTNW3C6KKWWNKBOOU4OVE3T23X7XQZHHMYK6SFOMQAAAAAAAAAAAAGJW4ZRRI6ZMOUYL6TVN4JXT4UXSX7LLJ2FLPFKJNXWY2QXGGTKIQAAAAAAAAAAAF3ZA2HS52IHNPYCNPHSRSHEFIU3ANOS56YMQTVLFPCBJYASAQLXNAAAAAAAAAAAAGQLE3OAQLBGFLOZXTKEFHPKSNYBYPTXEVOBSUP6DR7T5T6C5BDRO54QNDZO5EDWX4BGXTZIZDSCUKNQGXJO7MGIJ2VSXRAU4AJAIF3WIAAAAAAAAAAAAAHROX26R63EZUQBWCKZQMAH6UTUKGBD4BL7XPFPUK2PZT4PO6QOIAAAAAAAAAAAD2X7DZB3BEGJXXQJYX5GG5W3IW4WLWNKFF5EQYSG7S3V4VSVVPYEGIAAAAAAAAAAAIAAAAAAAAAAABRG44C4NRSFY3TMLRYHI2TIOBTCMAAAAAAAAAAAMJTHAXDMOBOGE4DKLRSGE4DUNJUHAZREAAAAAAAAAAAGEZTQLRWHAXDCOBRFY2TOORVGQ4DGEQAAAAAAAAAAAYTGOBOGY4C4MJYGEXDMMB2GU2DQMYSAAAAAAAAAAADCMZYFY3DQLRRHAYS4OBWHI2TIOBTCIAAAAAAAAAAAMJTHAXDMOBOGE4DCLRYG45DKNBYGMJQAAAAAAAAAABRGM4C4NRYFYYTQMJOGE3DQORVGQ4DGEYAAAAAAAAAAAYTGOBOGY4C4MJYGEXDCNZWHI2TIOBTCMAAAAAAAAAAAMJTHAXDMOBOGE4DCLRRG44TUNJUHAZRGAAAAAAAAAAAGEZTQLRWHAXDCOBRFYYTQMB2GU2DQMYTAAAAAAAAAAADCMZYFY3DQLRRHAYS4MJYGI5DKNBYGMJQAAAAAAAAAABRGM4C4NRYFYYTQMJOGI2DEORVGQ4DGEYAAAAAAAAAAAYTGOBOGY4C4MJYGEXDENBTHI2TIOBTCMAAAAAAAAAAAMJTHAXDMOBOGE4DCLRSGQ4TUNJUHAZREAAAAAAAAAAAGEZTQLRWHAXDCOBZFYYTIORVGQ4DGEQAAAAAAAAAAAYTGOBOGY4C4MJYHEXDCNJ2GU2DQMYSAAAAAAAAAAADCMZYFY3DQLRRHA4S4MJXHI2TIOBTCIAAAAAAAAAAAMJTHAXDMOBOGE4DSLRRHA5DKNBYGMJAAAAAAAAAAABRGM4C4NRYFYYTQOJOGE4TUNJUHAZREAAAAAAAAAAAGEZTQLRWHAXDCOBZFYZTCORVGQ4DGEQAAAAAAAAAAAYTGOBOGY4C4MJYHEXDGNB2GU2DQMYSAAAAAAAAAAADCMZYFY3DQLRRHA4S4MZWHI2TIOBTCIAAAAAAAAAAAMJTHAXDMOBOGE4DSLRTHA5DKNBYGMJAAAAAAAAAAABRGM4C4NRYFYYTQOJOGM4TUNJUHAZRCAAAAAAAAAAAGQ3C4MJQGEXDKLRRG44TUNJUHAZQC2YVAAAAAAAAAEDQAAAAAAAAAADBNRYGQYK7GIAFQXLAN3FR2BBK7UHAAOLMKFMW3BJBUV56OQEWWTVFMAW6GHV36Y4YHIAAAAAAAAABQAAAAAAAAAAAK4EPBDVXQZHYXWHJVIT4V3QAWOIRXH5YOVJHSOQBAAAAAAAAAAABKAAAAAAAAAAAMFYHA4ZPN52GQZLSKBZG6Z3SMFWW4YLNMXIYRFMERF3GPXIMLEUUNSMI52OE6TXB7B6KFFJERZK6VKS66S6QTGB2AAAAAAAAAAASAAAAAAAAAAAANDZOKQGWS7GNLJ4HTVNMATREDPGN4J7GOWKOJB24KVTJEN2GNJHBQAAAAAAAAAAAMBJ4AFZCH7MS5YLFIWQF3UJC7MMJ34ENEY35VJQAAUAAAAAAAAAAAAAAAAAACAAAAABAAAAAAMAAAAAEAAAAAAA'\n",
    "\n",
    "myApp.decode_ipc_msg(grantedAuth,None)\n",
    "\n",
    "grantedAuthPointer = myApp.queue.get()\n",
    "\n",
    "myApp.app_registered(b'otherProgramname',grantedAuthPointer[0],None)\n",
    "\n",
    "appPointer = myApp.queue.get()\n",
    "\n",
    "\n",
    "with open('myNewMutableData_as_bytes','rb') as f:\n",
    "    mutableBytes = f.read()\n",
    "\n",
    "ffiMut = safenet.safe_utils.getffiMutable(mutableBytes,myApp.ffi_app)"
   ]
  },
  {
   "cell_type": "code",
   "execution_count": 2,
   "metadata": {},
   "outputs": [],
   "source": [
    "@myApp.ffi_app.callback(\"void(void* , FfiResult*, MDataKey*, uint64_t)\")\n",
    "def result_mdata_list_keys(user_data, result, key, size):\n",
    "    #print('results')\n",
    "    #print('error code: ')\n",
    "    #print(result.error_code)\n",
    "    if result.error_code != 0:\n",
    "        print(myApp.ffi_app.string(result.description))\n",
    "    #print(key.val_len)\n",
    "    #print(size)\n",
    "    if size>0:\n",
    "        #print(key.val_len)\n",
    "        print(myApp.ffi_app.string(key.key))\n",
    "    #returnDict = ffi.from_handle(user_data)\n",
    "    #returnDict['myMdata']=mdataInfo"
   ]
  },
  {
   "cell_type": "code",
   "execution_count": 3,
   "metadata": {},
   "outputs": [],
   "source": [
    "@myApp.ffi_app.callback(\"void(void* , FfiResult*, MDataValue*, uint64_t)\")\n",
    "def result_mdata_list_values(user_data, result, value, size):\n",
    "    #print('results')\n",
    "    #print('error code: ')\n",
    "    #print(result.error_code)\n",
    "    if result.error_code != 0:\n",
    "        print(myApp.ffi_app.string(result.description))\n",
    "    #print(key.val_len)\n",
    "    #print(size)\n",
    "    if size>0:\n",
    "        #print(value.content_len)\n",
    "        print(myApp.ffi_app.string(value.content))\n",
    "    #returnDict = ffi.from_handle(user_data)\n",
    "    #returnDict['myMdata']=mdataInfo"
   ]
  },
  {
   "cell_type": "code",
   "execution_count": 6,
   "metadata": {},
   "outputs": [
    {
     "name": "stdout",
     "output_type": "stream",
     "text": [
      "b'dask'\n"
     ]
    }
   ],
   "source": [
    "myApp.lib.safe_app.mdata_list_keys(appPointer,ffiMut,myApp.ffi_app.NULL,result_mdata_list_keys)"
   ]
  },
  {
   "cell_type": "code",
   "execution_count": 7,
   "metadata": {},
   "outputs": [
    {
     "name": "stdout",
     "output_type": "stream",
     "text": [
      "b'we get closer...'\n"
     ]
    }
   ],
   "source": [
    "myApp.lib.safe_app.mdata_list_values(appPointer,ffiMut,myApp.ffi_app.NULL,result_mdata_list_values)"
   ]
  },
  {
   "cell_type": "code",
   "execution_count": null,
   "metadata": {},
   "outputs": [],
   "source": []
  },
  {
   "cell_type": "code",
   "execution_count": 8,
   "metadata": {},
   "outputs": [],
   "source": [
    "myMutable = safenet.MutableData(mutableBytes)"
   ]
  },
  {
   "cell_type": "code",
   "execution_count": 9,
   "metadata": {},
   "outputs": [
    {
     "name": "stdout",
     "output_type": "stream",
     "text": [
      "<safenet.mutabledata.MutableData object at 0x7f7c7437ef98>\n",
      "<cffi.api.FFI object at 0x7f7c742d4208>\n",
      "<bound method FFI.callback of <cffi.api.FFI object at 0x7f7c742d4208>>\n",
      "[22:51:55.283] pyS.ffi_out:Thread-13 (  safe_app_defs.py: 428) [ WARNING] i even called the lib without errors                            \n"
     ]
    }
   ],
   "source": [
    "myMutable.mdata_list_values(appPointer,ffiMut,myApp.ffi_app.NULL)"
   ]
  },
  {
   "cell_type": "code",
   "execution_count": 18,
   "metadata": {},
   "outputs": [
    {
     "name": "stdout",
     "output_type": "stream",
     "text": [
      "<safenet.app.App object at 0x7f9a480b1080>\n",
      "<cffi.api.FFI object at 0x7f9a480bbc50>\n",
      "<bound method FFI.callback of <cffi.api.FFI object at 0x7f9a480bbc50>>\n",
      "[22:32:01.373] pyS.ffi_out:Thread-12 (  safe_app_defs.py: 428) [ WARNING] i even called the lib without errors                            \n"
     ]
    }
   ],
   "source": [
    "myApp.mdata_list_values(appPointer,ffiMut,myApp.ffi_app.NULL)"
   ]
  },
  {
   "cell_type": "code",
   "execution_count": null,
   "metadata": {},
   "outputs": [],
   "source": []
  },
  {
   "cell_type": "code",
   "execution_count": null,
   "metadata": {},
   "outputs": [],
   "source": []
  },
  {
   "cell_type": "code",
   "execution_count": 17,
   "metadata": {},
   "outputs": [
    {
     "name": "stdout",
     "output_type": "stream",
     "text": [
      "[22:17:26.303] pyS.ffi_out:Thread-11 (  safe_app_defs.py: 439) [ WARNING] i even called the lib without errors                            \n",
      "b'we get closer...'\n"
     ]
    }
   ],
   "source": [
    "myMutable.mdata_list_values(appPointer,ffiMut,myApp.ffi_app.NULL,result_mdata_list_values)"
   ]
  },
  {
   "cell_type": "code",
   "execution_count": 16,
   "metadata": {},
   "outputs": [
    {
     "name": "stdout",
     "output_type": "stream",
     "text": [
      "[22:11:29.051] pyS.ffi_out:Thread-11 (  safe_app_defs.py: 423) [   DEBUG] checking if the ffi exists                                      \n",
      "[22:11:29.052] pyS.ffi_out:Thread-11 (  safe_app_defs.py: 424) [   DEBUG] <cffi.api.FFI object at 0x7f59e8284c50>                         \n",
      "[22:11:29.053] pyS.ffi_out:Thread-11 (  safe_app_defs.py: 425) [   DEBUG] <bound method FFI.callback of <cffi.api.FFI object at 0x7f59e8284c50>>\n",
      "[22:11:29.058] pyS.ffi_out:Thread-11 (  safe_app_defs.py: 426) [   DEBUG] <cffi.api._make_ffi_library.<locals>.FFILibrary object at 0x7f59e80c9748>\n",
      "[22:11:29.059] pyS.ffi_out:Thread-11 (  safe_app_defs.py: 427) [   DEBUG] <cdata 'void(*)(void * *, MDataInfo *, void *, void(*)(void *, FfiResult *, MDataValue *, unsigned long))' 0x7f59da0bdda0>\n",
      "[22:11:29.060] pyS.ffi_out:Thread-11 (  safe_app_defs.py: 428) [   DEBUG] attempting to return mdataValues                                \n",
      "[22:11:29.061] pyS.ffi_out:Thread-11 (  safe_app_defs.py: 429) [   DEBUG] app has type <cdata 'void * *' 0x7f59bc063630>                  \n",
      "[22:11:29.062] pyS.ffi_out:Thread-11 (  safe_app_defs.py: 430) [   DEBUG] info has type <cdata 'MDataInfo *' owning 160 bytes>            \n",
      "[22:11:29.063] pyS.ffi_out:Thread-11 (  safe_app_defs.py: 431) [   DEBUG] info has type 777                                               \n",
      "[22:11:29.063] pyS.ffi_out:Thread-11 (  safe_app_defs.py: 433) [   DEBUG] info has type b'\\x8f\\x7f\\xdd\\x83\\x1e\\x0e\\xf3^\\xb7\\xf4ie\\xb8\\xb0\\x91^ce\"\\xa0\\xff\\xda\\x8cs&\\x19\\x83\\xb5\\x01\\x88(\\x9d'\n",
      "[22:11:29.064] pyS.ffi_out:Thread-11 (  safe_app_defs.py: 434) [   DEBUG] user_data has type <cdata 'void *' NULL>                        \n",
      "[22:11:29.065] pyS.ffi_out:Thread-11 (  safe_app_defs.py: 435) [   DEBUG] _mdata_list_values_o_cb has type <cdata 'void(*)(void *, FfiResult *, MDataValue *, unsigned long)' calling <function mdata_list_values.<locals>._mdata_list_values.<locals>._mdata_list_values_o_cb at 0x7f59d81b69d8>>\n",
      "[22:11:29.066] pyS.ffi_out:Thread-11 (  safe_app_defs.py: 439) [ WARNING] i even called the lib without errors                            \n"
     ]
    }
   ],
   "source": [
    "myApp.mdata_list_values(appPointer,ffiMut,myApp.ffi_app.NULL,myApp.ffi_app.callback)"
   ]
  },
  {
   "cell_type": "code",
   "execution_count": 16,
   "metadata": {},
   "outputs": [
    {
     "name": "stdout",
     "output_type": "stream",
     "text": [
      "[21:51:04.161] pyS.ffi_out:Thread-11 (  safe_app_defs.py: 423) [   DEBUG] checking if the ffi exists                                      \n",
      "[21:51:04.163] pyS.ffi_out:Thread-11 (  safe_app_defs.py: 424) [   DEBUG] <cffi.api.FFI object at 0x7eff984eac88>                         \n",
      "[21:51:04.164] pyS.ffi_out:Thread-11 (  safe_app_defs.py: 425) [   DEBUG] <bound method FFI.callback of <cffi.api.FFI object at 0x7eff984eac88>>\n",
      "[21:51:04.166] pyS.ffi_out:Thread-11 (  safe_app_defs.py: 426) [   DEBUG] <cffi.api._make_ffi_library.<locals>.FFILibrary object at 0x7eff980ff780>\n",
      "[21:51:04.169] pyS.ffi_out:Thread-11 (  safe_app_defs.py: 427) [   DEBUG] <cdata 'void(*)(void * *, MDataInfo *, void *, void(*)(void *, FfiResult *, MDataValue *, unsigned long))' 0x7eff82b2dda0>\n",
      "[21:51:04.171] pyS.ffi_out:Thread-11 (  safe_app_defs.py: 428) [   DEBUG] attempting to return mdataValues                                \n",
      "[21:51:04.172] pyS.ffi_out:Thread-11 (  safe_app_defs.py: 429) [   DEBUG] app has type <cdata 'void * *' 0x7eff7009b760>                  \n",
      "[21:51:04.172] pyS.ffi_out:Thread-11 (  safe_app_defs.py: 430) [   DEBUG] info has type <cdata 'MDataInfo *' owning 160 bytes>            \n",
      "[21:51:04.173] pyS.ffi_out:Thread-11 (  safe_app_defs.py: 431) [   DEBUG] info has type 777                                               \n",
      "[21:51:04.174] pyS.ffi_out:Thread-11 (  safe_app_defs.py: 433) [   DEBUG] info has type b'\\x8f\\x7f\\xdd\\x83\\x1e\\x0e\\xf3^\\xb7\\xf4ie\\xb8\\xb0\\x91^ce\"\\xa0\\xff\\xda\\x8cs&\\x19\\x83\\xb5\\x01\\x88(\\x9d'\n",
      "[21:51:04.175] pyS.ffi_out:Thread-11 (  safe_app_defs.py: 434) [   DEBUG] user_data has type <cdata 'void *' NULL>                        \n",
      "[21:51:04.175] pyS.ffi_out:Thread-11 (  safe_app_defs.py: 435) [   DEBUG] _mdata_list_values_o_cb has type <cdata 'void(*)(void *, FfiResult *, MDataValue *, unsigned long)' calling <function mdata_list_values.<locals>._mdata_list_values.<locals>._mdata_list_values_o_cb at 0x7eff80ba1b70>>\n",
      "[21:51:04.176] pyS.ffi_out:Thread-11 (  safe_app_defs.py: 439) [ WARNING] i even called the lib without errors                            \n"
     ]
    }
   ],
   "source": [
    "myApp.mdata_list_values(appPointer,ffiMut,myApp.ffi_app.NULL,myApp.ffi_app.callback,result_mdata_list_values)"
   ]
  }
 ],
 "metadata": {
  "kernelspec": {
   "display_name": "Python 3",
   "language": "python",
   "name": "python3"
  },
  "language_info": {
   "codemirror_mode": {
    "name": "ipython",
    "version": 3
   },
   "file_extension": ".py",
   "mimetype": "text/x-python",
   "name": "python",
   "nbconvert_exporter": "python",
   "pygments_lexer": "ipython3",
   "version": "3.6.7"
  }
 },
 "nbformat": 4,
 "nbformat_minor": 2
}
