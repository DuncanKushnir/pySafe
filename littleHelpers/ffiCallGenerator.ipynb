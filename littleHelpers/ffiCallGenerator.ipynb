{
 "cells": [
  {
   "cell_type": "code",
   "execution_count": 1,
   "metadata": {},
   "outputs": [],
   "source": [
    "libOfInterest = 'safe_app'"
   ]
  },
  {
   "cell_type": "code",
   "execution_count": 2,
   "metadata": {},
   "outputs": [],
   "source": [
    "libOfInterest = 'safe_authenticator'"
   ]
  },
  {
   "cell_type": "code",
   "execution_count": 3,
   "metadata": {},
   "outputs": [],
   "source": [
    "with open('../safenet/extracted_headers/' + libOfInterest + '_function_declarations') as f:\n",
    "    functionDeclarations=f.read()"
   ]
  },
  {
   "cell_type": "code",
   "execution_count": 4,
   "metadata": {},
   "outputs": [],
   "source": [
    "oneline=functionDeclarations.splitlines()[3]"
   ]
  },
  {
   "cell_type": "code",
   "execution_count": 5,
   "metadata": {},
   "outputs": [
    {
     "data": {
      "text/plain": [
       "'void create_acc(char* account_locator, char* account_password, char* invitation, void* user_data, void (*o_disconnect_notifier_cb)(void* user_data), void (*o_cb)(void* user_data, FfiResult* result, Authenticator* authenticator));'"
      ]
     },
     "execution_count": 5,
     "metadata": {},
     "output_type": "execute_result"
    }
   ],
   "source": [
    "oneline"
   ]
  },
  {
   "cell_type": "code",
   "execution_count": 6,
   "metadata": {},
   "outputs": [],
   "source": [
    "import re"
   ]
  },
  {
   "cell_type": "code",
   "execution_count": 7,
   "metadata": {},
   "outputs": [],
   "source": [
    "startOfFunction=re.compile('.*?\\(')\n",
    "\n",
    "parameters=re.compile('\\(.*\\)')\n",
    "\n",
    "functions=re.compile(', void \\(\\*.*?\\)\\(.*?\\)')"
   ]
  },
  {
   "cell_type": "code",
   "execution_count": 8,
   "metadata": {},
   "outputs": [],
   "source": [
    "\n",
    "nameOfFunction=startOfFunction.findall(oneline)[0][5:-1]\n",
    "allParameters=parameters.findall(oneline)[0][1:-1]\n",
    "callbackfunctions=functions.findall(oneline)\n",
    "CallParameters=allParameters"
   ]
  },
  {
   "cell_type": "code",
   "execution_count": 9,
   "metadata": {},
   "outputs": [
    {
     "data": {
      "text/plain": [
       "'create_acc'"
      ]
     },
     "execution_count": 9,
     "metadata": {},
     "output_type": "execute_result"
    }
   ],
   "source": [
    "nameOfFunction"
   ]
  },
  {
   "cell_type": "code",
   "execution_count": 10,
   "metadata": {},
   "outputs": [
    {
     "data": {
      "text/plain": [
       "'char* account_locator, char* account_password, char* invitation, void* user_data, void (*o_disconnect_notifier_cb)(void* user_data), void (*o_cb)(void* user_data, FfiResult* result, Authenticator* authenticator)'"
      ]
     },
     "execution_count": 10,
     "metadata": {},
     "output_type": "execute_result"
    }
   ],
   "source": [
    "CallParameters"
   ]
  },
  {
   "cell_type": "code",
   "execution_count": 11,
   "metadata": {},
   "outputs": [
    {
     "name": "stdout",
     "output_type": "stream",
     "text": [
      ", void (*o_disconnect_notifier_cb)(void* user_data)\n",
      ", void (*o_cb)(void* user_data, FfiResult* result, Authenticator* authenticator)\n"
     ]
    }
   ],
   "source": [
    "\n",
    "for oneCallback in callbackfunctions:\n",
    "    print(oneCallback)\n",
    "    CallParameters=CallParameters.replace(oneCallback,'')"
   ]
  },
  {
   "cell_type": "code",
   "execution_count": 12,
   "metadata": {},
   "outputs": [
    {
     "data": {
      "text/plain": [
       "'char* account_locator, char* account_password, char* invitation, void* user_data'"
      ]
     },
     "execution_count": 12,
     "metadata": {},
     "output_type": "execute_result"
    }
   ],
   "source": [
    "CallParameters"
   ]
  },
  {
   "cell_type": "code",
   "execution_count": 13,
   "metadata": {},
   "outputs": [],
   "source": [
    "def getParameterDict(callParameters):\n",
    "    mydict={}\n",
    "    for onePar in callParameters:\n",
    "        datatype,name = onePar.split()\n",
    "        mydict[name]=datatype\n",
    "    return mydict"
   ]
  },
  {
   "cell_type": "code",
   "execution_count": 14,
   "metadata": {},
   "outputs": [],
   "source": [
    "callbackDict={}\n",
    "for oneCallback in callbackfunctions:\n",
    "    callbackDict[re.findall('\\(\\*.*?\\)',oneCallback)[0][2:-1]]=getParameterDict(re.findall('\\(.*?\\)',oneCallback.replace(' const',''))[-1][1:-1].split(', '))"
   ]
  },
  {
   "cell_type": "code",
   "execution_count": 15,
   "metadata": {},
   "outputs": [
    {
     "data": {
      "text/plain": [
       "'void create_acc(char* account_locator, char* account_password, char* invitation, void* user_data, void (*o_disconnect_notifier_cb)(void* user_data), void (*o_cb)(void* user_data, FfiResult* result, Authenticator* authenticator));'"
      ]
     },
     "execution_count": 15,
     "metadata": {},
     "output_type": "execute_result"
    }
   ],
   "source": [
    "oneline"
   ]
  },
  {
   "cell_type": "code",
   "execution_count": 16,
   "metadata": {},
   "outputs": [
    {
     "data": {
      "text/plain": [
       "[', void (*o_disconnect_notifier_cb)(void* user_data)',\n",
       " ', void (*o_cb)(void* user_data, FfiResult* result, Authenticator* authenticator)']"
      ]
     },
     "execution_count": 16,
     "metadata": {},
     "output_type": "execute_result"
    }
   ],
   "source": [
    "callbackfunctions"
   ]
  },
  {
   "cell_type": "code",
   "execution_count": 17,
   "metadata": {},
   "outputs": [
    {
     "data": {
      "text/plain": [
       "{'o_disconnect_notifier_cb': {'user_data': 'void*'},\n",
       " 'o_cb': {'user_data': 'void*',\n",
       "  'result': 'FfiResult*',\n",
       "  'authenticator': 'Authenticator*'}}"
      ]
     },
     "execution_count": 17,
     "metadata": {},
     "output_type": "execute_result"
    }
   ],
   "source": [
    "callbackDict"
   ]
  },
  {
   "cell_type": "code",
   "execution_count": 18,
   "metadata": {},
   "outputs": [
    {
     "data": {
      "text/plain": [
       "['account_locator', 'account_password', 'invitation', 'user_data']"
      ]
     },
     "execution_count": 18,
     "metadata": {},
     "output_type": "execute_result"
    }
   ],
   "source": [
    "[(lambda x: x.split()[-1])(x) for x in CallParameters.split(',')]"
   ]
  },
  {
   "cell_type": "code",
   "execution_count": 19,
   "metadata": {},
   "outputs": [],
   "source": [
    "def getFunctionDefPy(name,parameters,praefix,callbackNames):\n",
    "    line=praefix + 'def ' + 'self._'+name + '('\n",
    "    innerStuff=''\n",
    "    for x in [(lambda x: x.split()[-1])(x) for x in parameters.split(',')]:\n",
    "         innerStuff += x + ', '\n",
    "    innerStuff = innerStuff[:-2]\n",
    "    line = line + innerStuff \n",
    "    for one in callbackNames:\n",
    "        line += ', ' + one+'=None'\n",
    "    line = line +', safenetLib=self.lib.' + libOfInterest + '):'\n",
    "    return line,innerStuff"
   ]
  },
  {
   "cell_type": "code",
   "execution_count": 20,
   "metadata": {},
   "outputs": [],
   "source": [
    "def getFunctionCommentPy(name,parameters,praefix):\n",
    "    line=praefix + 'def '+name + '('\n",
    "    for x in [(lambda x: x.split()[0])(x) for x in parameters.split(',')]:\n",
    "        line += x + ', '\n",
    "    line = line[:-2]+', safenetLib=self.lib.' + libOfInterest + '):'\n",
    "    return line"
   ]
  },
  {
   "cell_type": "code",
   "execution_count": 21,
   "metadata": {},
   "outputs": [
    {
     "data": {
      "text/plain": [
       "'char* account_locator, char* account_password, char* invitation, void* user_data'"
      ]
     },
     "execution_count": 21,
     "metadata": {},
     "output_type": "execute_result"
    }
   ],
   "source": [
    "CallParameters"
   ]
  },
  {
   "cell_type": "code",
   "execution_count": 23,
   "metadata": {
    "scrolled": true
   },
   "outputs": [
    {
     "data": {
      "text/plain": [
       "{'o_disconnect_notifier_cb': {'user_data': 'void*'},\n",
       " 'o_cb': {'user_data': 'void*',\n",
       "  'result': 'FfiResult*',\n",
       "  'authenticator': 'Authenticator*'}}"
      ]
     },
     "execution_count": 23,
     "metadata": {},
     "output_type": "execute_result"
    }
   ],
   "source": [
    "callbackDict"
   ]
  },
  {
   "cell_type": "code",
   "execution_count": 24,
   "metadata": {},
   "outputs": [
    {
     "data": {
      "text/plain": [
       "'char* account_locator, char* account_password, char* invitation, void* user_data'"
      ]
     },
     "execution_count": 24,
     "metadata": {},
     "output_type": "execute_result"
    }
   ],
   "source": [
    "CallParameters"
   ]
  },
  {
   "cell_type": "code",
   "execution_count": 25,
   "metadata": {},
   "outputs": [
    {
     "data": {
      "text/plain": [
       "'(*o_disconnect_notifier_cb)(void* user_data)'"
      ]
     },
     "execution_count": 25,
     "metadata": {},
     "output_type": "execute_result"
    }
   ],
   "source": [
    "callbackfunctions[0][7:]"
   ]
  },
  {
   "cell_type": "code",
   "execution_count": 26,
   "metadata": {},
   "outputs": [
    {
     "data": {
      "text/plain": [
       "[', void (*o_disconnect_notifier_cb)(void* user_data)',\n",
       " ', void (*o_cb)(void* user_data, FfiResult* result, Authenticator* authenticator)']"
      ]
     },
     "execution_count": 26,
     "metadata": {},
     "output_type": "execute_result"
    }
   ],
   "source": [
    "callbackfunctions"
   ]
  },
  {
   "cell_type": "code",
   "execution_count": 27,
   "metadata": {},
   "outputs": [],
   "source": [
    "def printMethodDefinition(callParameters_string,callbackfunctions,callbackNames):\n",
    "    \n",
    "    types = [(lambda x: x.split()[0])(x) for x in callParameters_string.split(',')]\n",
    "    names = [(lambda x: x.split()[-1])(x) for x in callParameters_string.split(',')]\n",
    "    callParameters={}\n",
    "    for i,currType in enumerate(types):\n",
    "        callParameters[names[i]]=currType\n",
    "    \n",
    "    #now the doc string\n",
    "    tempstring='    \"\"\" '\n",
    "    for onepar in callParameters:\n",
    "        if callParameters[onepar] == 'void*':\n",
    "            tempstring += '[any]' + ', '\n",
    "        elif callParameters[onepar] == 'char*':\n",
    "            tempstring += 'bytes' + ', '\n",
    "        else:\n",
    "            tempstring += callParameters[onepar] + ', '\n",
    "    for onepar in callbackfunctions:\n",
    "        tempstring += '[function], '\n",
    "    \n",
    "    print(tempstring[:-2])\n",
    "    \n",
    "    tempstring='        '\n",
    "    for onepar in callParameters:\n",
    "        tempstring += callParameters[onepar] + ' ' + onepar + ', '\n",
    "    \n",
    "    print(tempstring[:-2])\n",
    "    \n",
    "    print()\n",
    "    \n",
    "    print('        > callback functions:')\n",
    "    \n",
    "    for oneCallback in callbackfunctions:\n",
    "        tempstring='        '  + str(oneCallback[7:])\n",
    "        print(tempstring)\n",
    "    print('    \"\"\"')\n",
    "    "
   ]
  },
  {
   "cell_type": "code",
   "execution_count": 28,
   "metadata": {},
   "outputs": [
    {
     "data": {
      "text/plain": [
       "'char* account_locator, char* account_password, char* invitation, void* user_data'"
      ]
     },
     "execution_count": 28,
     "metadata": {},
     "output_type": "execute_result"
    }
   ],
   "source": [
    "CallParameters"
   ]
  },
  {
   "cell_type": "code",
   "execution_count": 29,
   "metadata": {},
   "outputs": [
    {
     "data": {
      "text/plain": [
       "'create_acc'"
      ]
     },
     "execution_count": 29,
     "metadata": {},
     "output_type": "execute_result"
    }
   ],
   "source": [
    "nameOfFunction"
   ]
  },
  {
   "cell_type": "code",
   "execution_count": 30,
   "metadata": {},
   "outputs": [
    {
     "data": {
      "text/plain": [
       "['_create_acc_o_disconnect_notifier_cb', '_create_acc_o_cb']"
      ]
     },
     "execution_count": 30,
     "metadata": {},
     "output_type": "execute_result"
    }
   ],
   "source": [
    "[(lambda x: '_' + nameOfFunction + '_' + x)(x) for x in callbackDict.keys()]"
   ]
  },
  {
   "cell_type": "code",
   "execution_count": 31,
   "metadata": {},
   "outputs": [
    {
     "data": {
      "text/plain": [
       "dict_keys(['o_disconnect_notifier_cb', 'o_cb'])"
      ]
     },
     "execution_count": 31,
     "metadata": {},
     "output_type": "execute_result"
    }
   ],
   "source": [
    "callbackDict.keys()"
   ]
  },
  {
   "cell_type": "code",
   "execution_count": 32,
   "metadata": {},
   "outputs": [
    {
     "data": {
      "text/plain": [
       "dict_keys(['o_disconnect_notifier_cb', 'o_cb'])"
      ]
     },
     "execution_count": 32,
     "metadata": {},
     "output_type": "execute_result"
    }
   ],
   "source": [
    "callbackDict.keys()"
   ]
  },
  {
   "cell_type": "code",
   "execution_count": 33,
   "metadata": {},
   "outputs": [
    {
     "name": "stdout",
     "output_type": "stream",
     "text": [
      "    @safeUtils.safeThread\n",
      "    def self._create_acc(account_locator, account_password, invitation, user_data, o_disconnect_notifier_cb=None, o_cb=None, safenetLib=self.lib.safe_authenticator):\n",
      "\n",
      "    \"\"\" bytes, bytes, bytes, [any], [function], [function]\n",
      "        char* account_locator, char* account_password, char* invitation, void* user_data\n",
      "\n",
      "        > callback functions:\n",
      "        (*o_disconnect_notifier_cb)(void* user_data)\n",
      "        (*o_cb)(void* user_data, FfiResult* result, Authenticator* authenticator)\n",
      "    \"\"\"\n",
      "        @ffi.callback(\"void(void*)\")\n",
      "        def _create_acc_o_disconnect_notifier_cb(user_data):\n",
      "            if o_disconnect_notifier_cb:\n",
      "                o_disconnect_notifier_cb()\n",
      "\n",
      "\n",
      "        @ffi.callback(\"void(void* ,FfiResult* ,Authenticator*)\")\n",
      "        def _create_acc_o_cb(user_data ,result ,authenticator):\n",
      "            if o_cb:\n",
      "                o_cb()\n",
      "\n",
      "\n",
      "        safenetLib.create_acc(account_locator, account_password, invitation, user_data, _create_acc_o_disconnect_notifier_cb, _create_acc_o_cb)\n"
     ]
    }
   ],
   "source": [
    "\n",
    "praefix = '    '\n",
    "print(praefix + '@safeUtils.safeThread')\n",
    "callbackNames = [(lambda x: '_' + nameOfFunction + '_' + x)(x) for x in callbackDict.keys()]\n",
    "funDef, innerParameters = getFunctionDefPy(nameOfFunction,CallParameters,praefix,callbackDict.keys())\n",
    "print(funDef)\n",
    "print('')\n",
    "printMethodDefinition(CallParameters,callbackfunctions,nameOfFunction)\n",
    "\n",
    "praefix = praefix + '    '\n",
    "\n",
    "libCall = 'safenetLib.'+nameOfFunction+'('+innerParameters\n",
    "for callback in callbackDict:\n",
    "    declaration = praefix + f'@ffi.callback(\"void('\n",
    "    for innerparam in callbackDict[callback]:\n",
    "        declaration += callbackDict[callback][innerparam] + ' ,'\n",
    "    declaration = declaration[:-2] + ')\")'\n",
    "    print(declaration)\n",
    "    \n",
    "    \n",
    "    definition = praefix + 'def _' + nameOfFunction + '_' + str(callback) +'('\n",
    "    for innerparam in callbackDict[callback]:\n",
    "        definition += innerparam + ' ,'\n",
    "    definition = definition[:-2] + '):'\n",
    "    print(definition)\n",
    "    print(praefix + '    ' + 'if ' + callback + ':')\n",
    "    print(praefix + '    ' + '    ' + callback + '()')\n",
    "    \n",
    "    print()\n",
    "    print()\n",
    "    \n",
    "    libCall += ', _' + nameOfFunction + '_' + str(callback)\n",
    "    \n",
    "print(praefix+libCall + ')')"
   ]
  },
  {
   "cell_type": "code",
   "execution_count": 121,
   "metadata": {},
   "outputs": [
    {
     "ename": "NameError",
     "evalue": "name 'ffi' is not defined",
     "output_type": "error",
     "traceback": [
      "\u001b[0;31m---------------------------------------------------------------------------\u001b[0m",
      "\u001b[0;31mNameError\u001b[0m                                 Traceback (most recent call last)",
      "\u001b[0;32m<ipython-input-121-81e186c3b809>\u001b[0m in \u001b[0;36m<module>\u001b[0;34m\u001b[0m\n\u001b[1;32m      1\u001b[0m \u001b[0minnerData\u001b[0m\u001b[0;34m=\u001b[0m\u001b[0;32mNone\u001b[0m\u001b[0;34m\u001b[0m\u001b[0;34m\u001b[0m\u001b[0m\n\u001b[0;32m----> 2\u001b[0;31m \u001b[0;34m@\u001b[0m\u001b[0mffi\u001b[0m\u001b[0;34m.\u001b[0m\u001b[0mcallback\u001b[0m\u001b[0;34m(\u001b[0m\u001b[0;34m\"void(void* , FfiResult* , App* app)\"\u001b[0m\u001b[0;34m)\u001b[0m\u001b[0;34m\u001b[0m\u001b[0;34m\u001b[0m\u001b[0m\n\u001b[0m\u001b[1;32m      3\u001b[0m \u001b[0;32mdef\u001b[0m \u001b[0mresult_app_registered\u001b[0m\u001b[0;34m(\u001b[0m\u001b[0muser_data\u001b[0m\u001b[0;34m,\u001b[0m \u001b[0mresult\u001b[0m\u001b[0;34m,\u001b[0m \u001b[0mapp\u001b[0m\u001b[0;34m)\u001b[0m\u001b[0;34m:\u001b[0m\u001b[0;34m\u001b[0m\u001b[0;34m\u001b[0m\u001b[0m\n\u001b[1;32m      4\u001b[0m     \u001b[0mprint\u001b[0m\u001b[0;34m(\u001b[0m\u001b[0;34m'results'\u001b[0m\u001b[0;34m)\u001b[0m\u001b[0;34m\u001b[0m\u001b[0;34m\u001b[0m\u001b[0m\n\u001b[1;32m      5\u001b[0m     \u001b[0mprint\u001b[0m\u001b[0;34m(\u001b[0m\u001b[0;34m'error code: '\u001b[0m\u001b[0;34m)\u001b[0m\u001b[0;34m\u001b[0m\u001b[0;34m\u001b[0m\u001b[0m\n",
      "\u001b[0;31mNameError\u001b[0m: name 'ffi' is not defined"
     ]
    }
   ],
   "source": [
    "innerData=None\n",
    "@ffi.callback(\"void(void* , FfiResult* , App* app)\")\n",
    "def result_app_registered(user_data, result, app):\n",
    "    print('results')\n",
    "    print('error code: ')\n",
    "    print(result.error_code)\n",
    "    if result.error_code != 0:\n",
    "        print(ffi.string(result.description))\n",
    "    returnDict = ffi.from_handle(user_data)\n",
    "    returnDict['app']=app"
   ]
  },
  {
   "cell_type": "code",
   "execution_count": null,
   "metadata": {},
   "outputs": [],
   "source": []
  },
  {
   "cell_type": "code",
   "execution_count": 107,
   "metadata": {},
   "outputs": [
    {
     "data": {
      "text/plain": [
       "list"
      ]
     },
     "execution_count": 107,
     "metadata": {},
     "output_type": "execute_result"
    }
   ],
   "source": [
    "type([])"
   ]
  },
  {
   "cell_type": "code",
   "execution_count": 236,
   "metadata": {},
   "outputs": [],
   "source": [
    "from threading import Thread\n",
    "\n",
    "def threader(function):\n",
    "    def innerThread(*args,**kwargs):\n",
    "        oneThread=Thread(target=function,args=args,kwargs=kwargs)\n",
    "        oneThread.start()\n",
    "    return innerThread"
   ]
  },
  {
   "cell_type": "code",
   "execution_count": 11,
   "metadata": {},
   "outputs": [],
   "source": [
    "import time"
   ]
  },
  {
   "cell_type": "code",
   "execution_count": 232,
   "metadata": {},
   "outputs": [],
   "source": [
    "@threader\n",
    "def print3():\n",
    "    for i in range(3):\n",
    "        time.sleep(1)\n",
    "        print(i)\n",
    "        "
   ]
  },
  {
   "cell_type": "code",
   "execution_count": 234,
   "metadata": {},
   "outputs": [
    {
     "name": "stdout",
     "output_type": "stream",
     "text": [
      "ffiCallGenerator.ipynb  safeUtils.py\r\n"
     ]
    }
   ],
   "source": [
    "ls"
   ]
  },
  {
   "cell_type": "code",
   "execution_count": 6,
   "metadata": {},
   "outputs": [],
   "source": [
    "\n",
    "from threading import Thread\n",
    "# making threads for SAFE\n",
    "def thread(function):\n",
    "    def innerThread(*args,**kwargs):\n",
    "        oneThread=Thread(target=function,args=args,kwargs=kwargs)\n",
    "        oneThread.start()\n",
    "    return innerThread"
   ]
  },
  {
   "cell_type": "code",
   "execution_count": 1,
   "metadata": {},
   "outputs": [],
   "source": [
    "import safeUtils"
   ]
  },
  {
   "cell_type": "code",
   "execution_count": 2,
   "metadata": {},
   "outputs": [
    {
     "data": {
      "text/plain": [
       "<module 'safeUtils' from '/home/riddim/py/pySafe/littleHelpers/safeUtils.py'>"
      ]
     },
     "execution_count": 2,
     "metadata": {},
     "output_type": "execute_result"
    }
   ],
   "source": [
    "safeUtils"
   ]
  },
  {
   "cell_type": "code",
   "execution_count": 9,
   "metadata": {},
   "outputs": [],
   "source": [
    "import time"
   ]
  },
  {
   "cell_type": "code",
   "execution_count": 10,
   "metadata": {},
   "outputs": [],
   "source": [
    "@safeUtils.safeThread\n",
    "def print3():\n",
    "    for i in range(3):\n",
    "        time.sleep(1)\n",
    "        print(i)\n",
    "        "
   ]
  },
  {
   "cell_type": "code",
   "execution_count": null,
   "metadata": {},
   "outputs": [],
   "source": []
  },
  {
   "cell_type": "code",
   "execution_count": 11,
   "metadata": {},
   "outputs": [
    {
     "name": "stdout",
     "output_type": "stream",
     "text": [
      "0\n",
      "0\n",
      "0\n",
      "1\n",
      "1\n",
      "1\n",
      "2\n",
      "2\n",
      "2\n"
     ]
    }
   ],
   "source": [
    "print3()\n",
    "print3()\n",
    "print3()"
   ]
  },
  {
   "cell_type": "code",
   "execution_count": 199,
   "metadata": {},
   "outputs": [
    {
     "name": "stdout",
     "output_type": "stream",
     "text": [
      "1\n",
      "2\n"
     ]
    }
   ],
   "source": [
    "myLock = Lock()"
   ]
  },
  {
   "cell_type": "code",
   "execution_count": 89,
   "metadata": {},
   "outputs": [],
   "source": [
    "testVar = 3"
   ]
  },
  {
   "cell_type": "code",
   "execution_count": 90,
   "metadata": {},
   "outputs": [
    {
     "data": {
      "text/plain": [
       "3"
      ]
     },
     "execution_count": 90,
     "metadata": {},
     "output_type": "execute_result"
    }
   ],
   "source": [
    "testVar"
   ]
  },
  {
   "cell_type": "code",
   "execution_count": 172,
   "metadata": {
    "scrolled": true
   },
   "outputs": [
    {
     "ename": "RuntimeError",
     "evalue": "release unlocked lock",
     "output_type": "error",
     "traceback": [
      "\u001b[0;31m---------------------------------------------------------------------------\u001b[0m",
      "\u001b[0;31mRuntimeError\u001b[0m                              Traceback (most recent call last)",
      "\u001b[0;32m<ipython-input-172-3acaaf084fa5>\u001b[0m in \u001b[0;36m<module>\u001b[0;34m\u001b[0m\n\u001b[0;32m----> 1\u001b[0;31m \u001b[0mmyLock\u001b[0m\u001b[0;34m.\u001b[0m\u001b[0mrelease\u001b[0m\u001b[0;34m(\u001b[0m\u001b[0;34m)\u001b[0m\u001b[0;34m\u001b[0m\u001b[0;34m\u001b[0m\u001b[0m\n\u001b[0m",
      "\u001b[0;31mRuntimeError\u001b[0m: release unlocked lock"
     ]
    }
   ],
   "source": [
    "myLock.release()"
   ]
  },
  {
   "cell_type": "code",
   "execution_count": 101,
   "metadata": {},
   "outputs": [
    {
     "data": {
      "text/plain": [
       "False"
      ]
     },
     "execution_count": 101,
     "metadata": {},
     "output_type": "execute_result"
    }
   ],
   "source": [
    "myLock.locked()"
   ]
  },
  {
   "cell_type": "code",
   "execution_count": 94,
   "metadata": {},
   "outputs": [],
   "source": [
    "testVar = testVar+3"
   ]
  },
  {
   "cell_type": "code",
   "execution_count": 95,
   "metadata": {},
   "outputs": [
    {
     "data": {
      "text/plain": [
       "6"
      ]
     },
     "execution_count": 95,
     "metadata": {},
     "output_type": "execute_result"
    }
   ],
   "source": [
    "testVar"
   ]
  },
  {
   "cell_type": "code",
   "execution_count": null,
   "metadata": {},
   "outputs": [],
   "source": []
  }
 ],
 "metadata": {
  "kernelspec": {
   "display_name": "Python 3",
   "language": "python",
   "name": "python3"
  },
  "language_info": {
   "codemirror_mode": {
    "name": "ipython",
    "version": 3
   },
   "file_extension": ".py",
   "mimetype": "text/x-python",
   "name": "python",
   "nbconvert_exporter": "python",
   "pygments_lexer": "ipython3",
   "version": "3.6.7"
  }
 },
 "nbformat": 4,
 "nbformat_minor": 2
}
