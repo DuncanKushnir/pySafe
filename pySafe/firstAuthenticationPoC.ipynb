{
 "cells": [
  {
   "cell_type": "code",
   "execution_count": 1,
   "metadata": {
    "collapsed": true
   },
   "outputs": [],
   "source": [
    "useMock=True"
   ]
  },
  {
   "cell_type": "code",
   "execution_count": 2,
   "metadata": {},
   "outputs": [],
   "source": [
    "from cffi import FFI\n",
    "ffi = FFI()\n",
    "with open('extracted_headers/safe_c_ffi_data.h','r') as f:\n",
    "    myHeaders=f.read()\n",
    "ffi.cdef(myHeaders)\n",
    "with open('extracted_headers/safe_c_ffi_funcs.h','r') as f:\n",
    "    funs=f.read()\n",
    "ffi.cdef(funs)\n",
    "lib=ffi.dlopen('../compiled_binaries/libsafe_app' + useMock*'_mock' + '.so')"
   ]
  },
  {
   "cell_type": "markdown",
   "metadata": {},
   "source": [
    "---"
   ]
  },
  {
   "cell_type": "markdown",
   "metadata": {},
   "source": [
    "maybe it makes most sense to really define the data types by hand and just check them for changes with updates on the api - not entirely sure\n",
    "\n",
    "- rid"
   ]
  },
  {
   "cell_type": "markdown",
   "metadata": {},
   "source": [
    "---"
   ]
  },
  {
   "cell_type": "markdown",
   "metadata": {},
   "source": [
    "```c\n",
    "typedef unsigned long int uintptr_t;\n",
    "\n",
    "typedef struct {\n",
    " char* id;\n",
    " char* scope;\n",
    " char* name;\n",
    " char* vendor;\n",
    "} AppExchangeInfo;\n",
    "```"
   ]
  },
  {
   "cell_type": "code",
   "execution_count": 3,
   "metadata": {
    "collapsed": true
   },
   "outputs": [],
   "source": [
    "class AppExchangeInfo:\n",
    "    def __init__(self,id=b'noId',scope=b'noScope',name=b'noName',vendor=b'nobody'):\n",
    "        self.id = ffi.new('char[]',id)\n",
    "        self.scope = ffi.new('char[]',scope)\n",
    "        self.name = ffi.new('char[]',name)\n",
    "        self.vendor = ffi.new('char[]',vendor)\n",
    "\n",
    "        self.entity = ffi.new('AppExchangeInfo *',[self.id,self.scope,self.name,self.vendor])"
   ]
  },
  {
   "cell_type": "code",
   "execution_count": 4,
   "metadata": {
    "collapsed": true
   },
   "outputs": [],
   "source": [
    "def AppExchangeInfo(id=b'noId',scope=b'noScope',name=b'noName',vendor=b'nobody'):\n",
    "    id = ffi.new('char[]',id)\n",
    "    scope = ffi.new('char[]',scope)\n",
    "    name = ffi.new('char[]',name)\n",
    "    vendor = ffi.new('char[]',vendor)\n",
    "\n",
    "    myStruct = ffi.new('AppExchangeInfo *',[id,scope,name,vendor])\n",
    "    \n",
    "    return myStruct, [id, scope, name, vendor]"
   ]
  },
  {
   "cell_type": "markdown",
   "metadata": {},
   "source": [
    "newExChangeInfo,infopayload = AppExchangeInfo(b'0.0.2',name=b'pyTest',vendor=b'rid')"
   ]
  },
  {
   "cell_type": "code",
   "execution_count": 5,
   "metadata": {
    "collapsed": true
   },
   "outputs": [],
   "source": [
    "newExChangeInfo,infopayload = AppExchangeInfo(id=b'net.maidsafe.tutorials.nodejs',scope=b'0.0.1',\n",
    "                                              name=b'PyTest never ever',vendor=b'riddim from over there')"
   ]
  },
  {
   "cell_type": "code",
   "execution_count": 6,
   "metadata": {
    "scrolled": true
   },
   "outputs": [
    {
     "data": {
      "text/plain": [
       "b'riddim from over there'"
      ]
     },
     "execution_count": 6,
     "metadata": {},
     "output_type": "execute_result"
    }
   ],
   "source": [
    "ffi.string(newExChangeInfo.vendor)"
   ]
  },
  {
   "cell_type": "code",
   "execution_count": 7,
   "metadata": {},
   "outputs": [
    {
     "data": {
      "text/plain": [
       "b'PyTest never ever'"
      ]
     },
     "execution_count": 7,
     "metadata": {},
     "output_type": "execute_result"
    }
   ],
   "source": [
    "ffi.string(newExChangeInfo.name)"
   ]
  },
  {
   "cell_type": "markdown",
   "metadata": {},
   "source": [
    "```c\n",
    "typedef struct {\n",
    " _Bool read;\n",
    " _Bool insert;\n",
    " _Bool update;\n",
    " _Bool delete;\n",
    " _Bool manage_permissions;\n",
    "} PermissionSet;\n",
    "```"
   ]
  },
  {
   "cell_type": "code",
   "execution_count": 8,
   "metadata": {
    "collapsed": true
   },
   "outputs": [],
   "source": [
    "def PermissionSet(read=True,insert=True,update=True,delete=True,manage_permissions=True):\n",
    "    return ffi.new('PermissionSet *',[read,insert,update,delete,manage_permissions])"
   ]
  },
  {
   "cell_type": "code",
   "execution_count": 9,
   "metadata": {
    "collapsed": true
   },
   "outputs": [],
   "source": [
    "newPermissionSet = PermissionSet()"
   ]
  },
  {
   "cell_type": "markdown",
   "metadata": {},
   "source": [
    "```c\n",
    "typedef struct {\n",
    " char* cont_name;\n",
    " PermissionSet access;\n",
    "} ContainerPermissions;\n",
    "```"
   ]
  },
  {
   "cell_type": "code",
   "execution_count": 10,
   "metadata": {
    "collapsed": true
   },
   "outputs": [],
   "source": [
    "def ContainerPermissions(name=b'noName',access=None):\n",
    "    containerName = ffi.new('char[]',name)\n",
    "    if not access:\n",
    "        access = PermissionSet()\n",
    "    container = ffi.new('ContainerPermissions *',[containerName,access[0]])\n",
    "    \n",
    "    return container, [containerName,access]"
   ]
  },
  {
   "cell_type": "code",
   "execution_count": 11,
   "metadata": {
    "collapsed": true
   },
   "outputs": [],
   "source": [
    "newPermissions,permission_addon=ContainerPermissions(b'containerPy')"
   ]
  },
  {
   "cell_type": "code",
   "execution_count": 12,
   "metadata": {},
   "outputs": [
    {
     "data": {
      "text/plain": [
       "True"
      ]
     },
     "execution_count": 12,
     "metadata": {},
     "output_type": "execute_result"
    }
   ],
   "source": [
    "newPermissions.access.insert"
   ]
  },
  {
   "cell_type": "markdown",
   "metadata": {},
   "source": [
    "```c\n",
    "typedef struct {\n",
    " AppExchangeInfo app;\n",
    " _Bool app_container;\n",
    " ContainerPermissions* containers;\n",
    " uintptr_t containers_len;\n",
    " uintptr_t containers_cap;\n",
    "} AuthReq;\n",
    "```"
   ]
  },
  {
   "cell_type": "code",
   "execution_count": 13,
   "metadata": {
    "collapsed": true
   },
   "outputs": [],
   "source": [
    "def AuthReq(permissions,containers_len,containers_cap,id=b'noId',scope=b'pythonscript',\n",
    "            name=b'noName',vendor=b'nobody',app_container=True):\n",
    "    \n",
    "    newExChangeInfo,infopayload = AppExchangeInfo(id,scope,name,vendor)\n",
    "    \n",
    "    authReq = ffi.new('AuthReq *',[newExChangeInfo[0],app_container,permissions,containers_len,containers_cap])\n",
    "    \n",
    "    return authReq, [newExChangeInfo,infopayload]"
   ]
  },
  {
   "cell_type": "code",
   "execution_count": 14,
   "metadata": {
    "collapsed": true
   },
   "outputs": [],
   "source": [
    "myAuth,addData=AuthReq(newPermissions,0,0,id=b'ridsTest',scope=b'pythonscript'\n",
    "                       ,name=b'PyTest',vendor=b'rid never work',app_container=True)"
   ]
  },
  {
   "cell_type": "code",
   "execution_count": null,
   "metadata": {
    "collapsed": true
   },
   "outputs": [],
   "source": []
  },
  {
   "cell_type": "code",
   "execution_count": null,
   "metadata": {
    "collapsed": true
   },
   "outputs": [],
   "source": []
  },
  {
   "cell_type": "code",
   "execution_count": null,
   "metadata": {
    "collapsed": true
   },
   "outputs": [],
   "source": []
  },
  {
   "cell_type": "code",
   "execution_count": 15,
   "metadata": {
    "collapsed": true
   },
   "outputs": [],
   "source": [
    "@ffi.callback(\"void(void *, FfiResult *)\")\n",
    "def feedback(userData, result):\n",
    "    print(userData)\n",
    "    print(result.error_code)"
   ]
  },
  {
   "cell_type": "code",
   "execution_count": 16,
   "metadata": {},
   "outputs": [
    {
     "name": "stdout",
     "output_type": "stream",
     "text": [
      "<cdata 'void *' NULL>\n",
      "0\n"
     ]
    }
   ],
   "source": [
    "lib.app_set_additional_search_path(ffi.new('char[]',b'../compiled_binaries/'),ffi.NULL,feedback)"
   ]
  },
  {
   "cell_type": "code",
   "execution_count": null,
   "metadata": {
    "collapsed": true
   },
   "outputs": [],
   "source": []
  },
  {
   "cell_type": "code",
   "execution_count": null,
   "metadata": {
    "collapsed": true
   },
   "outputs": [],
   "source": []
  },
  {
   "cell_type": "markdown",
   "metadata": {
    "collapsed": true
   },
   "source": [
    "@ffi.callback(\"void(void *, FfiResult *, unsigned int, char *)\")\n",
    "def o_cb(userData, result, noClueWhatNumber, resultString):\n",
    "    print(userData)\n",
    "    print(result)\n",
    "    print(noClueWhatNumber)\n",
    "    print(resultString)"
   ]
  },
  {
   "cell_type": "markdown",
   "metadata": {},
   "source": [
    "lib.encode_auth_req(myAuth,ffi.NULL,o_cb)"
   ]
  },
  {
   "cell_type": "code",
   "execution_count": null,
   "metadata": {
    "collapsed": true
   },
   "outputs": [],
   "source": []
  },
  {
   "cell_type": "code",
   "execution_count": null,
   "metadata": {
    "collapsed": true
   },
   "outputs": [],
   "source": []
  },
  {
   "cell_type": "markdown",
   "metadata": {},
   "source": [
    "myAuth.containers.access.insert=True"
   ]
  },
  {
   "cell_type": "markdown",
   "metadata": {
    "collapsed": true
   },
   "source": [
    "myAuth.containers.access.delete=True"
   ]
  },
  {
   "cell_type": "markdown",
   "metadata": {
    "collapsed": true
   },
   "source": [
    "myAuth.containers.access.read=True"
   ]
  },
  {
   "cell_type": "code",
   "execution_count": 17,
   "metadata": {},
   "outputs": [
    {
     "data": {
      "text/plain": [
       "b'PyTest'"
      ]
     },
     "execution_count": 17,
     "metadata": {},
     "output_type": "execute_result"
    }
   ],
   "source": [
    "ffi.string(myAuth.app.name)"
   ]
  },
  {
   "cell_type": "code",
   "execution_count": 18,
   "metadata": {},
   "outputs": [
    {
     "data": {
      "text/plain": [
       "b'ridsTest'"
      ]
     },
     "execution_count": 18,
     "metadata": {},
     "output_type": "execute_result"
    }
   ],
   "source": [
    "ffi.string(myAuth.app.id)"
   ]
  },
  {
   "cell_type": "code",
   "execution_count": 19,
   "metadata": {
    "collapsed": true
   },
   "outputs": [],
   "source": [
    "encodedAuth=None"
   ]
  },
  {
   "cell_type": "code",
   "execution_count": 20,
   "metadata": {
    "collapsed": true
   },
   "outputs": [],
   "source": [
    "@ffi.callback(\"void(void *, FfiResult *, unsigned int, char *)\")\n",
    "def o_cb(userData, result, reqId, encodedReq):\n",
    "    global encodedAuth\n",
    "    print(userData)\n",
    "    print(result.error_code)\n",
    "    if result.error_code != 0:\n",
    "        print(ffi.string(result.description))\n",
    "    print(reqId)\n",
    "    print(ffi.string(encodedReq))\n",
    "    encodedAuth = ffi.string(encodedReq)"
   ]
  },
  {
   "cell_type": "code",
   "execution_count": 21,
   "metadata": {
    "scrolled": true
   },
   "outputs": [
    {
     "name": "stdout",
     "output_type": "stream",
     "text": [
      "<cdata 'void *' NULL>\n",
      "0\n",
      "3487334486\n",
      "b'AAAAAFaA3M8AAAAACAAAAAAAAAByaWRzVGVzdAEMAAAAAAAAAHB5dGhvbnNjcmlwdAYAAAAAAAAAUHlUZXN0DgAAAAAAAAByaWQgbmV2ZXIgd29yawEAAAAAAAAAAA'\n"
     ]
    }
   ],
   "source": [
    "lib.encode_auth_req(myAuth,ffi.NULL,o_cb)"
   ]
  },
  {
   "cell_type": "code",
   "execution_count": 22,
   "metadata": {},
   "outputs": [
    {
     "data": {
      "text/plain": [
       "b'safe-auth://AAAAAFaA3M8AAAAACAAAAAAAAAByaWRzVGVzdAEMAAAAAAAAAHB5dGhvbnNjcmlwdAYAAAAAAAAAUHlUZXN0DgAAAAAAAAByaWQgbmV2ZXIgd29yawEAAAAAAAAAAA'"
      ]
     },
     "execution_count": 22,
     "metadata": {},
     "output_type": "execute_result"
    }
   ],
   "source": [
    "b'safe-auth://' + encodedAuth"
   ]
  },
  {
   "cell_type": "code",
   "execution_count": null,
   "metadata": {
    "collapsed": true
   },
   "outputs": [],
   "source": []
  },
  {
   "cell_type": "code",
   "execution_count": 23,
   "metadata": {
    "collapsed": true
   },
   "outputs": [],
   "source": [
    "import base64"
   ]
  },
  {
   "cell_type": "code",
   "execution_count": 24,
   "metadata": {},
   "outputs": [],
   "source": [
    "schemeName=b'safe-'+base64.encodebytes(ffi.string(myAuth.app.id))[:-2]"
   ]
  },
  {
   "cell_type": "code",
   "execution_count": null,
   "metadata": {
    "collapsed": true
   },
   "outputs": [],
   "source": []
  },
  {
   "cell_type": "code",
   "execution_count": 25,
   "metadata": {
    "collapsed": true,
    "scrolled": true
   },
   "outputs": [],
   "source": [
    "\n",
    "sysUri = FFI()\n",
    "with open('extracted_headers/safe_c_ffi_data.h','r') as f:\n",
    "    myHeaders=f.read()\n",
    "sysUri.cdef(myHeaders)\n",
    "with open('extracted_headers/system_uri.h','r') as f:\n",
    "    funs=f.read()\n",
    "sysUri.cdef(funs)\n",
    "lib2=sysUri.dlopen('../compiled_binaries/libsystem_uri.so')"
   ]
  },
  {
   "cell_type": "code",
   "execution_count": 26,
   "metadata": {
    "collapsed": true
   },
   "outputs": [],
   "source": [
    "@sysUri.callback(\"void(void *, FfiResult *)\")\n",
    "def installerFeedback(userData, result):\n",
    "    print(userData)\n",
    "    print(result.error_code)"
   ]
  },
  {
   "cell_type": "markdown",
   "metadata": {},
   "source": [
    "```c\n",
    "void install(char* bundle, \n",
    "             char* vendor, \n",
    "             char* name, \n",
    "             char* exec_args, \n",
    "             uint_least64_t exec_args_len, \n",
    "             char* icon, \n",
    "             char* schemes, \n",
    "             void* user_data, \n",
    "             void (*o_cb)(void* user_data, FfiResult* result));\n",
    "```"
   ]
  },
  {
   "cell_type": "code",
   "execution_count": 27,
   "metadata": {},
   "outputs": [
    {
     "name": "stdout",
     "output_type": "stream",
     "text": [
      "b'PyTest'\n",
      "b'rid never work'\n",
      "b'pythonscript'\n"
     ]
    }
   ],
   "source": [
    "print(ffi.string(myAuth.app.name))\n",
    "print(ffi.string(myAuth.app.vendor))\n",
    "print(ffi.string(myAuth.app.scope))"
   ]
  },
  {
   "cell_type": "code",
   "execution_count": 28,
   "metadata": {},
   "outputs": [
    {
     "name": "stdout",
     "output_type": "stream",
     "text": [
      "/home/riddim/maidsafe/pySafe/pySafe\n"
     ]
    }
   ],
   "source": [
    "import os\n",
    "print(os.getcwd())"
   ]
  },
  {
   "cell_type": "code",
   "execution_count": 29,
   "metadata": {},
   "outputs": [],
   "source": [
    "pathToHandler=(os.getcwd()+'uriHandler.py').encode()"
   ]
  },
  {
   "cell_type": "code",
   "execution_count": 30,
   "metadata": {},
   "outputs": [
    {
     "data": {
      "text/plain": [
       "b'/home/riddim/maidsafe/pySafe/pySafeuriHandler.py'"
      ]
     },
     "execution_count": 30,
     "metadata": {},
     "output_type": "execute_result"
    }
   ],
   "source": [
    "pathToHandler"
   ]
  },
  {
   "cell_type": "code",
   "execution_count": 31,
   "metadata": {},
   "outputs": [],
   "source": [
    "bundle=sysUri.new('char[]',ffi.string(myAuth.app.id))\n",
    "vendor=sysUri.new('char[]',ffi.string(myAuth.app.vendor))\n",
    "name=sysUri.new('char[]',ffi.string(myAuth.app.name))\n",
    "exec_args=sysUri.new('char[]',b'python')\n",
    "exec_args2=sysUri.new('char[]',pathToHandler)\n",
    "exec_args_len=2\n",
    "icon=sysUri.new('char[]',b'')\n",
    "schemes=sysUri.new('char[]',schemeName)\n",
    "user_data=sysUri.NULL"
   ]
  },
  {
   "cell_type": "code",
   "execution_count": 32,
   "metadata": {},
   "outputs": [],
   "source": [
    "exec_args_1 = sysUri.new('char*[]',[exec_args,exec_args2])"
   ]
  },
  {
   "cell_type": "code",
   "execution_count": null,
   "metadata": {
    "collapsed": true
   },
   "outputs": [],
   "source": []
  },
  {
   "cell_type": "code",
   "execution_count": 33,
   "metadata": {},
   "outputs": [
    {
     "name": "stdout",
     "output_type": "stream",
     "text": [
      "<cdata 'void *' NULL>\n",
      "0\n"
     ]
    }
   ],
   "source": [
    "lib2.install(bundle,vendor,name,exec_args_1 ,exec_args_len,icon,schemes,user_data,installerFeedback)"
   ]
  },
  {
   "cell_type": "code",
   "execution_count": null,
   "metadata": {
    "collapsed": true
   },
   "outputs": [],
   "source": []
  },
  {
   "cell_type": "markdown",
   "metadata": {},
   "source": [
    "```c \n",
    "void open_uri(char* uri, \n",
    "              void* user_data, \n",
    "              void (*o_cb)(void* user_data, FfiResult* result));\n",
    "```"
   ]
  },
  {
   "cell_type": "code",
   "execution_count": 34,
   "metadata": {
    "collapsed": true
   },
   "outputs": [],
   "source": [
    "@sysUri.callback(\"void(void *, FfiResult *)\")\n",
    "def openerFeedback(userData, result):\n",
    "    global res\n",
    "    res = result\n",
    "    print(userData)\n",
    "    print(result.error_code)"
   ]
  },
  {
   "cell_type": "code",
   "execution_count": 35,
   "metadata": {},
   "outputs": [
    {
     "data": {
      "text/plain": [
       "b'PyTest'"
      ]
     },
     "execution_count": 35,
     "metadata": {},
     "output_type": "execute_result"
    }
   ],
   "source": [
    "ffi.string(myAuth.app.name)"
   ]
  },
  {
   "cell_type": "code",
   "execution_count": 36,
   "metadata": {},
   "outputs": [
    {
     "data": {
      "text/plain": [
       "b'rid never work'"
      ]
     },
     "execution_count": 36,
     "metadata": {},
     "output_type": "execute_result"
    }
   ],
   "source": [
    "ffi.string(myAuth.app.vendor)"
   ]
  },
  {
   "cell_type": "code",
   "execution_count": 37,
   "metadata": {},
   "outputs": [
    {
     "data": {
      "text/plain": [
       "b'PyTest'"
      ]
     },
     "execution_count": 37,
     "metadata": {},
     "output_type": "execute_result"
    }
   ],
   "source": [
    "ffi.string(myAuth.app.name)"
   ]
  },
  {
   "cell_type": "code",
   "execution_count": 38,
   "metadata": {
    "collapsed": true
   },
   "outputs": [],
   "source": [
    "uri=sysUri.new('char[]',b'safe-auth://' + encodedAuth)\n",
    "user_data=sysUri.NULL"
   ]
  },
  {
   "cell_type": "code",
   "execution_count": 39,
   "metadata": {
    "scrolled": true
   },
   "outputs": [
    {
     "name": "stdout",
     "output_type": "stream",
     "text": [
      "<cdata 'void *' NULL>\n",
      "0\n"
     ]
    }
   ],
   "source": [
    "lib2.open_uri(uri,user_data,openerFeedback)"
   ]
  },
  {
   "cell_type": "code",
   "execution_count": null,
   "metadata": {
    "collapsed": true
   },
   "outputs": [],
   "source": []
  },
  {
   "cell_type": "code",
   "execution_count": null,
   "metadata": {
    "collapsed": true
   },
   "outputs": [],
   "source": []
  },
  {
   "cell_type": "code",
   "execution_count": null,
   "metadata": {
    "collapsed": true
   },
   "outputs": [],
   "source": []
  },
  {
   "cell_type": "markdown",
   "metadata": {},
   "source": [
    "```c \n",
    "void decode_ipc_msg(char* msg, \n",
    "                    void* user_data, \n",
    "                    void (*o_auth)(void* user_data, uint32_t req_id, AuthGranted* auth_granted), \n",
    "                    void (*o_unregistered)(void* user_data, uint32_t req_id, uint8_t* serialised_cfg, \n",
    "                                            uintptr_t serialised_cfg_len), \n",
    "                    void (*o_containers)(void* user_data, uint32_t req_id), \n",
    "                    void (*o_share_mdata)(void* user_data, uint32_t req_id), \n",
    "                    void (*o_revoked)(void* user_data), \n",
    "                    void (*o_err)(void* user_data, FfiResult* result, uint32_t req_id));\n",
    "```"
   ]
  },
  {
   "cell_type": "code",
   "execution_count": 40,
   "metadata": {
    "collapsed": true
   },
   "outputs": [],
   "source": [
    "import time"
   ]
  },
  {
   "cell_type": "code",
   "execution_count": 41,
   "metadata": {},
   "outputs": [],
   "source": [
    "grantedAuth=None\n",
    "innerVals=None\n",
    "anotherVal=None\n",
    "@ffi.callback(\"void(void *, uint32_t, AuthGranted *)\")\n",
    "def o_auth_decode_ipc_msg(userData, req_id, auth_granted):\n",
    "    global grantedAuth\n",
    "    global innerVals\n",
    "    global anotherVal\n",
    "    grantedAuth = auth_granted\n",
    "    print('o_auth')\n",
    "    print(userData)\n",
    "    print(req_id)"
   ]
  },
  {
   "cell_type": "code",
   "execution_count": 42,
   "metadata": {
    "collapsed": true
   },
   "outputs": [],
   "source": [
    "@ffi.callback(\"void(void *, uint32_t, uint8_t *, uintptr_t)\")\n",
    "def o_unregistered_decode_ipc_msg(userData, req_id, serialised_cfg, serialised_cfg_len):\n",
    "    print('o_unregistered')\n",
    "    print(req_id)"
   ]
  },
  {
   "cell_type": "code",
   "execution_count": 43,
   "metadata": {
    "collapsed": true
   },
   "outputs": [],
   "source": [
    "@ffi.callback(\"void(void *, uint32_t)\")\n",
    "def o_containers_decode_ipc_msg(userData, req_id):\n",
    "    print('o_containers')\n",
    "    print(req_id)"
   ]
  },
  {
   "cell_type": "code",
   "execution_count": 44,
   "metadata": {
    "collapsed": true
   },
   "outputs": [],
   "source": [
    "@ffi.callback(\"void(void *, uint32_t)\")\n",
    "def o_share_mdata_decode_ipc_msg(userData, req_id):\n",
    "    print('o_share')\n",
    "    print(req_id)"
   ]
  },
  {
   "cell_type": "code",
   "execution_count": 45,
   "metadata": {
    "collapsed": true
   },
   "outputs": [],
   "source": [
    "@ffi.callback(\"void(void *)\")\n",
    "def o_revoked_decode_ipc_msg(userData):\n",
    "    print('o_revoked')\n",
    "    print(req_id)"
   ]
  },
  {
   "cell_type": "code",
   "execution_count": 46,
   "metadata": {
    "collapsed": true
   },
   "outputs": [],
   "source": [
    "@ffi.callback(\"void(void *, FfiResult *, uint32_t)\")\n",
    "def o_error_decode_ipc_msg(userData, result, req_id):\n",
    "    global res\n",
    "    res = result\n",
    "    print('o_err')\n",
    "    print(userData)\n",
    "    print(req_id)\n",
    "    print(result.error_code)\n",
    "    print(ffi.string(result.description))"
   ]
  },
  {
   "cell_type": "code",
   "execution_count": 47,
   "metadata": {
    "collapsed": true
   },
   "outputs": [],
   "source": [
    "with open('answer','r') as f:\n",
    "    answer=f.readlines()"
   ]
  },
  {
   "cell_type": "code",
   "execution_count": 48,
   "metadata": {},
   "outputs": [],
   "source": [
    "import re\n",
    "data=re.compile(\"'safe-.+?:(.+?)'\")"
   ]
  },
  {
   "cell_type": "code",
   "execution_count": 49,
   "metadata": {},
   "outputs": [],
   "source": [
    "my=data.findall(answer[-1])"
   ]
  },
  {
   "cell_type": "code",
   "execution_count": 50,
   "metadata": {
    "collapsed": true
   },
   "outputs": [],
   "source": [
    "msg = ffi.new('char[]',my[-1].encode())"
   ]
  },
  {
   "cell_type": "code",
   "execution_count": 51,
   "metadata": {},
   "outputs": [
    {
     "data": {
      "text/plain": [
       "'AQAAAIoBIfgAAAAAAAAAACAAAAAAAAAAFPQGLSdsVchlMKaX25kVQ4-n_UYx6JCq_YEzrG2U6D0gAAAAAAAAAFJbpubdtxmnWpp36TUd4PJdCcEatr_6aMckmKE6KkGYIAAAAAAAAABSuFz4NeMk-IDyYZneNZ5PRWo5XswEp51XRkEEIFE2mUAAAAAAAAAA_1HfcHLZcvmghE8-gzZe1VNGtNZx0b7NYhk77KQ7iBFSuFz4NeMk-IDyYZneNZ5PRWo5XswEp51XRkEEIFE2mSAAAAAAAAAAzfFpdP7KOBUPzTXWazTEorsdQOLs-gCjDmydSOb5ljAgAAAAAAAAAHl8wGPQAW1hnrJ13ObJLzMGdo4l3_KoaiIZmIRSdj2WAAAAAAAAAAAAAAAAAAAAAH-RX6Jgcj0mGZo1ZhGdiBPw3LtXTwaog2MV-IlilODcmDoAAAAAAAAYAAAAAAAAAIZpVRK736kjFA-mE1vEhozs_nEBesosCAAAAAAAAAAA'"
      ]
     },
     "execution_count": 51,
     "metadata": {},
     "output_type": "execute_result"
    }
   ],
   "source": [
    "my[-1]"
   ]
  },
  {
   "cell_type": "code",
   "execution_count": 52,
   "metadata": {
    "scrolled": true
   },
   "outputs": [
    {
     "name": "stdout",
     "output_type": "stream",
     "text": [
      "o_auth\n",
      "<cdata 'void *' NULL>\n",
      "4162912650\n"
     ]
    }
   ],
   "source": [
    "lib.decode_ipc_msg(msg,ffi.NULL,o_auth_decode_ipc_msg,o_unregistered_decode_ipc_msg\n",
    "                   ,o_containers_decode_ipc_msg,o_share_mdata_decode_ipc_msg,\n",
    "                   o_revoked_decode_ipc_msg,o_error_decode_ipc_msg)"
   ]
  },
  {
   "cell_type": "markdown",
   "metadata": {},
   "source": [
    "----"
   ]
  },
  {
   "cell_type": "markdown",
   "metadata": {},
   "source": [
    "now the app"
   ]
  },
  {
   "cell_type": "code",
   "execution_count": 53,
   "metadata": {
    "collapsed": true
   },
   "outputs": [],
   "source": [
    "myApp = None"
   ]
  },
  {
   "cell_type": "code",
   "execution_count": 54,
   "metadata": {
    "collapsed": true
   },
   "outputs": [],
   "source": [
    "@ffi.callback(\"void(void*)\")\n",
    "def disconnect_app_registered(user_data):\n",
    "    print('disconnected - callback from app_registered')"
   ]
  },
  {
   "cell_type": "code",
   "execution_count": 55,
   "metadata": {
    "collapsed": true
   },
   "outputs": [],
   "source": [
    "@ffi.callback(\"void(void* , FfiResult* , App* app)\")\n",
    "def result_app_registered(user_data, result, app):\n",
    "    print('results')\n",
    "    global myApp\n",
    "    myApp = app\n",
    "    print(result.error_code)\n",
    "    if result.error_code != 0:\n",
    "        print(ffi.string(result.description))"
   ]
  },
  {
   "cell_type": "code",
   "execution_count": 56,
   "metadata": {
    "scrolled": true
   },
   "outputs": [
    {
     "data": {
      "text/plain": [
       "<cdata 'char *' 0x562273b148b0>"
      ]
     },
     "execution_count": 56,
     "metadata": {},
     "output_type": "execute_result"
    }
   ],
   "source": [
    "myAuth.app.id"
   ]
  },
  {
   "cell_type": "code",
   "execution_count": 57,
   "metadata": {},
   "outputs": [
    {
     "data": {
      "text/plain": [
       "<cdata 'AuthGranted *' 0x7ffda43be560>"
      ]
     },
     "execution_count": 57,
     "metadata": {},
     "output_type": "execute_result"
    }
   ],
   "source": [
    "grantedAuth"
   ]
  },
  {
   "cell_type": "code",
   "execution_count": 58,
   "metadata": {
    "scrolled": false
   },
   "outputs": [
    {
     "name": "stdout",
     "output_type": "stream",
     "text": [
      "results\n",
      "-1\n",
      "b'Serialisation error'\n"
     ]
    }
   ],
   "source": [
    "lib.app_registered(myAuth.app.id,grantedAuth,ffi.NULL,disconnect_app_registered,result_app_registered)"
   ]
  },
  {
   "cell_type": "markdown",
   "metadata": {},
   "source": [
    "---"
   ]
  },
  {
   "cell_type": "code",
   "execution_count": null,
   "metadata": {
    "collapsed": true
   },
   "outputs": [],
   "source": []
  },
  {
   "cell_type": "markdown",
   "metadata": {},
   "source": [
    "## looking into the granted authentication"
   ]
  },
  {
   "cell_type": "code",
   "execution_count": null,
   "metadata": {
    "collapsed": true
   },
   "outputs": [],
   "source": []
  },
  {
   "cell_type": "code",
   "execution_count": 72,
   "metadata": {
    "collapsed": true
   },
   "outputs": [],
   "source": [
    "def printArray(array):\n",
    "    arr=[]\n",
    "    for element in array:\n",
    "        arr.append(element)\n",
    "    print(arr)"
   ]
  },
  {
   "cell_type": "code",
   "execution_count": 59,
   "metadata": {},
   "outputs": [
    {
     "data": {
      "text/plain": [
       "<cdata 'unsigned char[32]' 0x7ffea2566a90>"
      ]
     },
     "execution_count": 59,
     "metadata": {},
     "output_type": "execute_result"
    }
   ],
   "source": [
    "grantedAuth.app_keys.owner_key"
   ]
  },
  {
   "cell_type": "code",
   "execution_count": 60,
   "metadata": {},
   "outputs": [
    {
     "data": {
      "text/plain": [
       "32"
      ]
     },
     "execution_count": 60,
     "metadata": {},
     "output_type": "execute_result"
    }
   ],
   "source": [
    "len(grantedAuth.app_keys.owner_key)"
   ]
  },
  {
   "cell_type": "code",
   "execution_count": 73,
   "metadata": {},
   "outputs": [
    {
     "name": "stdout",
     "output_type": "stream",
     "text": [
      "[0, 0, 0, 0, 0, 0, 0, 0, 176, 132, 122, 173, 182, 85, 0, 0, 0, 0, 0, 0, 0, 0, 0, 0, 174, 134, 144, 171, 182, 85, 0, 0]\n"
     ]
    }
   ],
   "source": [
    "printArray(grantedAuth.app_keys.owner_key)"
   ]
  },
  {
   "cell_type": "code",
   "execution_count": 62,
   "metadata": {},
   "outputs": [
    {
     "data": {
      "text/plain": [
       "32"
      ]
     },
     "execution_count": 62,
     "metadata": {},
     "output_type": "execute_result"
    }
   ],
   "source": [
    "len(grantedAuth.app_keys.enc_key)"
   ]
  },
  {
   "cell_type": "code",
   "execution_count": 63,
   "metadata": {},
   "outputs": [
    {
     "data": {
      "text/plain": [
       "32"
      ]
     },
     "execution_count": 63,
     "metadata": {},
     "output_type": "execute_result"
    }
   ],
   "source": [
    "len(grantedAuth.app_keys.sign_pk)"
   ]
  },
  {
   "cell_type": "code",
   "execution_count": 64,
   "metadata": {},
   "outputs": [
    {
     "data": {
      "text/plain": [
       "64"
      ]
     },
     "execution_count": 64,
     "metadata": {},
     "output_type": "execute_result"
    }
   ],
   "source": [
    "len(grantedAuth.app_keys.sign_sk)"
   ]
  },
  {
   "cell_type": "code",
   "execution_count": 65,
   "metadata": {},
   "outputs": [
    {
     "data": {
      "text/plain": [
       "32"
      ]
     },
     "execution_count": 65,
     "metadata": {},
     "output_type": "execute_result"
    }
   ],
   "source": [
    "len(grantedAuth.app_keys.enc_pk)"
   ]
  },
  {
   "cell_type": "code",
   "execution_count": 66,
   "metadata": {},
   "outputs": [
    {
     "data": {
      "text/plain": [
       "32"
      ]
     },
     "execution_count": 66,
     "metadata": {},
     "output_type": "execute_result"
    }
   ],
   "source": [
    "len(grantedAuth.app_keys.enc_sk)"
   ]
  },
  {
   "cell_type": "code",
   "execution_count": null,
   "metadata": {
    "collapsed": true
   },
   "outputs": [],
   "source": []
  },
  {
   "cell_type": "code",
   "execution_count": null,
   "metadata": {
    "collapsed": true
   },
   "outputs": [],
   "source": []
  },
  {
   "cell_type": "code",
   "execution_count": null,
   "metadata": {
    "collapsed": true
   },
   "outputs": [],
   "source": []
  }
 ],
 "metadata": {
  "kernelspec": {
   "display_name": "Python 3",
   "language": "python",
   "name": "python3"
  },
  "language_info": {
   "codemirror_mode": {
    "name": "ipython",
    "version": 3
   },
   "file_extension": ".py",
   "mimetype": "text/x-python",
   "name": "python",
   "nbconvert_exporter": "python",
   "pygments_lexer": "ipython3",
   "version": "3.6.2"
  }
 },
 "nbformat": 4,
 "nbformat_minor": 2
}
