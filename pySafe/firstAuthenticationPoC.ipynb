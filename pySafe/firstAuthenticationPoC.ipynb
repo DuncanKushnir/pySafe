{
 "cells": [
  {
   "cell_type": "code",
   "execution_count": 1,
   "metadata": {},
   "outputs": [],
   "source": [
    "useMock=False"
   ]
  },
  {
   "cell_type": "code",
   "execution_count": 2,
   "metadata": {},
   "outputs": [],
   "source": [
    "from cffi import FFI\n",
    "ffi = FFI()\n",
    "with open('extracted_headers/safe_c_ffi_data.h','r') as f:\n",
    "    myHeaders=f.read()\n",
    "ffi.cdef(myHeaders)\n",
    "with open('extracted_headers/safe_c_ffi_funcs.h','r') as f:\n",
    "    funs=f.read()\n",
    "ffi.cdef(funs)\n",
    "lib=ffi.dlopen('../compiled_binaries/libsafe_app' + useMock*'_mock' + '.so')"
   ]
  },
  {
   "cell_type": "markdown",
   "metadata": {},
   "source": [
    "---"
   ]
  },
  {
   "cell_type": "markdown",
   "metadata": {},
   "source": [
    "maybe it makes most sense to really define the data types by hand and just check them for changes with updates on the api - not entirely sure\n",
    "\n",
    "- rid"
   ]
  },
  {
   "cell_type": "markdown",
   "metadata": {},
   "source": [
    "---"
   ]
  },
  {
   "cell_type": "markdown",
   "metadata": {},
   "source": [
    "```c\n",
    "typedef unsigned long int uintptr_t;\n",
    "\n",
    "typedef struct {\n",
    " char* id;\n",
    " char* scope;\n",
    " char* name;\n",
    " char* vendor;\n",
    "} AppExchangeInfo;\n",
    "```"
   ]
  },
  {
   "cell_type": "code",
   "execution_count": 3,
   "metadata": {},
   "outputs": [],
   "source": [
    "class AppExchangeInfo:\n",
    "    def __init__(self,id=b'noId',scope=b'noScope',name=b'noName',vendor=b'nobody'):\n",
    "        self.id = ffi.new('char[]',id)\n",
    "        self.scope = ffi.new('char[]',scope)\n",
    "        self.name = ffi.new('char[]',name)\n",
    "        self.vendor = ffi.new('char[]',vendor)\n",
    "\n",
    "        self.entity = ffi.new('AppExchangeInfo *',[self.id,self.scope,self.name,self.vendor])"
   ]
  },
  {
   "cell_type": "code",
   "execution_count": 4,
   "metadata": {},
   "outputs": [],
   "source": [
    "def AppExchangeInfo(id=b'noId',scope=b'noScope',name=b'noName',vendor=b'nobody'):\n",
    "    id = ffi.new('char[]',id)\n",
    "    scope = ffi.new('char[]',scope)\n",
    "    name = ffi.new('char[]',name)\n",
    "    vendor = ffi.new('char[]',vendor)\n",
    "\n",
    "    myStruct = ffi.new('AppExchangeInfo *',[id,scope,name,vendor])\n",
    "    \n",
    "    return myStruct, [id, scope, name, vendor]"
   ]
  },
  {
   "cell_type": "markdown",
   "metadata": {},
   "source": [
    "newExChangeInfo,infopayload = AppExchangeInfo(b'0.0.2',name=b'pyTest',vendor=b'rid')"
   ]
  },
  {
   "cell_type": "code",
   "execution_count": 5,
   "metadata": {},
   "outputs": [],
   "source": [
    "newExChangeInfo,infopayload = AppExchangeInfo(id=b'net.maidsafe.tutorials.nodejs',scope=b'0.0.1',\n",
    "                                              name=b'PyTest never ever',vendor=b'riddim from over there')"
   ]
  },
  {
   "cell_type": "code",
   "execution_count": 6,
   "metadata": {
    "scrolled": true
   },
   "outputs": [
    {
     "data": {
      "text/plain": [
       "b'riddim from over there'"
      ]
     },
     "execution_count": 6,
     "metadata": {},
     "output_type": "execute_result"
    }
   ],
   "source": [
    "ffi.string(newExChangeInfo.vendor)"
   ]
  },
  {
   "cell_type": "code",
   "execution_count": 7,
   "metadata": {},
   "outputs": [
    {
     "data": {
      "text/plain": [
       "b'PyTest never ever'"
      ]
     },
     "execution_count": 7,
     "metadata": {},
     "output_type": "execute_result"
    }
   ],
   "source": [
    "ffi.string(newExChangeInfo.name)"
   ]
  },
  {
   "cell_type": "markdown",
   "metadata": {},
   "source": [
    "```c\n",
    "typedef struct {\n",
    " _Bool read;\n",
    " _Bool insert;\n",
    " _Bool update;\n",
    " _Bool delete;\n",
    " _Bool manage_permissions;\n",
    "} PermissionSet;\n",
    "```"
   ]
  },
  {
   "cell_type": "code",
   "execution_count": 8,
   "metadata": {},
   "outputs": [],
   "source": [
    "def PermissionSet(read=True,insert=True,update=True,delete=True,manage_permissions=True):\n",
    "    return ffi.new('PermissionSet *',[read,insert,update,delete,manage_permissions])"
   ]
  },
  {
   "cell_type": "code",
   "execution_count": 9,
   "metadata": {},
   "outputs": [],
   "source": [
    "newPermissionSet = PermissionSet()"
   ]
  },
  {
   "cell_type": "markdown",
   "metadata": {},
   "source": [
    "```c\n",
    "typedef struct {\n",
    " char* cont_name;\n",
    " PermissionSet access;\n",
    "} ContainerPermissions;\n",
    "```"
   ]
  },
  {
   "cell_type": "code",
   "execution_count": 10,
   "metadata": {},
   "outputs": [],
   "source": [
    "def ContainerPermissions(name=b'noName',access=None):\n",
    "    containerName = ffi.new('char[]',name)\n",
    "    if not access:\n",
    "        access = PermissionSet()\n",
    "    container = ffi.new('ContainerPermissions *',[containerName,access[0]])\n",
    "    \n",
    "    return container, [containerName,access]"
   ]
  },
  {
   "cell_type": "code",
   "execution_count": 11,
   "metadata": {},
   "outputs": [],
   "source": [
    "newPermissions,permission_addon=ContainerPermissions(b'_pictures',newPermissionSet)"
   ]
  },
  {
   "cell_type": "code",
   "execution_count": 12,
   "metadata": {},
   "outputs": [],
   "source": [
    "newPermissions,permission_addon=ContainerPermissions(b'_pictures')"
   ]
  },
  {
   "cell_type": "code",
   "execution_count": 13,
   "metadata": {},
   "outputs": [
    {
     "data": {
      "text/plain": [
       "True"
      ]
     },
     "execution_count": 13,
     "metadata": {},
     "output_type": "execute_result"
    }
   ],
   "source": [
    "newPermissions.access.insert"
   ]
  },
  {
   "cell_type": "code",
   "execution_count": 14,
   "metadata": {},
   "outputs": [
    {
     "data": {
      "text/plain": [
       "b'_pictures'"
      ]
     },
     "execution_count": 14,
     "metadata": {},
     "output_type": "execute_result"
    }
   ],
   "source": [
    "ffi.string(newPermissions.cont_name)"
   ]
  },
  {
   "cell_type": "markdown",
   "metadata": {},
   "source": [
    "```c\n",
    "typedef struct {\n",
    " AppExchangeInfo app;\n",
    " _Bool app_container;\n",
    " ContainerPermissions* containers;\n",
    " uintptr_t containers_len;\n",
    " uintptr_t containers_cap;\n",
    "} AuthReq;\n",
    "```"
   ]
  },
  {
   "cell_type": "code",
   "execution_count": 15,
   "metadata": {},
   "outputs": [],
   "source": [
    "def AuthReq(permissions,containers_len,containers_cap,id=b'noId',scope=b'pythonscript',\n",
    "            name=b'noName',vendor=b'nobody',app_container=True):\n",
    "    \n",
    "    newExChangeInfo,infopayload = AppExchangeInfo(id,scope,name,vendor)\n",
    "    \n",
    "    authReq = ffi.new('AuthReq *',[newExChangeInfo[0],app_container,permissions,containers_len,containers_cap])\n",
    "    \n",
    "    return authReq, [newExChangeInfo,infopayload]"
   ]
  },
  {
   "cell_type": "markdown",
   "metadata": {},
   "source": [
    "myAuth,addData=AuthReq(newPermissions,0,0,id=b'ridsTest',scope=b'pythonscript'\n",
    "                       ,name=b'PyTest',vendor=b'rid never work',app_container=True)"
   ]
  },
  {
   "cell_type": "code",
   "execution_count": 16,
   "metadata": {},
   "outputs": [],
   "source": [
    "myAuth,addData=AuthReq(newPermissions,0,0,id=b'ridsTest',scope=b'pythonscript'\n",
    "                       ,name=b'PyTest',vendor=b'nobody',app_container=True)"
   ]
  },
  {
   "cell_type": "code",
   "execution_count": null,
   "metadata": {},
   "outputs": [],
   "source": []
  },
  {
   "cell_type": "code",
   "execution_count": null,
   "metadata": {},
   "outputs": [],
   "source": []
  },
  {
   "cell_type": "code",
   "execution_count": null,
   "metadata": {},
   "outputs": [],
   "source": []
  },
  {
   "cell_type": "code",
   "execution_count": 17,
   "metadata": {},
   "outputs": [],
   "source": [
    "@ffi.callback(\"void(void *, FfiResult *)\")\n",
    "def feedback(userData, result):\n",
    "    print(userData)\n",
    "    print(result.error_code)"
   ]
  },
  {
   "cell_type": "code",
   "execution_count": 18,
   "metadata": {},
   "outputs": [
    {
     "name": "stdout",
     "output_type": "stream",
     "text": [
      "<cdata 'void *' NULL>\n",
      "0\n"
     ]
    }
   ],
   "source": [
    "lib.app_set_additional_search_path(ffi.new('char[]',b'../compiled_binaries/'),ffi.NULL,feedback)"
   ]
  },
  {
   "cell_type": "code",
   "execution_count": null,
   "metadata": {},
   "outputs": [],
   "source": []
  },
  {
   "cell_type": "code",
   "execution_count": null,
   "metadata": {},
   "outputs": [],
   "source": []
  },
  {
   "cell_type": "markdown",
   "metadata": {
    "collapsed": true
   },
   "source": [
    "@ffi.callback(\"void(void *, FfiResult *, unsigned int, char *)\")\n",
    "def o_cb(userData, result, noClueWhatNumber, resultString):\n",
    "    print(userData)\n",
    "    print(result)\n",
    "    print(noClueWhatNumber)\n",
    "    print(resultString)"
   ]
  },
  {
   "cell_type": "markdown",
   "metadata": {},
   "source": [
    "lib.encode_auth_req(myAuth,ffi.NULL,o_cb)"
   ]
  },
  {
   "cell_type": "code",
   "execution_count": null,
   "metadata": {},
   "outputs": [],
   "source": []
  },
  {
   "cell_type": "code",
   "execution_count": null,
   "metadata": {},
   "outputs": [],
   "source": []
  },
  {
   "cell_type": "markdown",
   "metadata": {},
   "source": [
    "myAuth.containers.access.insert=True"
   ]
  },
  {
   "cell_type": "markdown",
   "metadata": {
    "collapsed": true
   },
   "source": [
    "myAuth.containers.access.delete=True"
   ]
  },
  {
   "cell_type": "markdown",
   "metadata": {
    "collapsed": true
   },
   "source": [
    "myAuth.containers.access.read=True"
   ]
  },
  {
   "cell_type": "code",
   "execution_count": 19,
   "metadata": {},
   "outputs": [
    {
     "data": {
      "text/plain": [
       "b'PyTest'"
      ]
     },
     "execution_count": 19,
     "metadata": {},
     "output_type": "execute_result"
    }
   ],
   "source": [
    "ffi.string(myAuth.app.name)"
   ]
  },
  {
   "cell_type": "code",
   "execution_count": 20,
   "metadata": {},
   "outputs": [
    {
     "data": {
      "text/plain": [
       "b'ridsTest'"
      ]
     },
     "execution_count": 20,
     "metadata": {},
     "output_type": "execute_result"
    }
   ],
   "source": [
    "ffi.string(myAuth.app.id)"
   ]
  },
  {
   "cell_type": "code",
   "execution_count": 21,
   "metadata": {},
   "outputs": [],
   "source": [
    "encodedAuth=None"
   ]
  },
  {
   "cell_type": "code",
   "execution_count": 22,
   "metadata": {},
   "outputs": [],
   "source": [
    "@ffi.callback(\"void(void *, FfiResult *, unsigned long int, char *)\")\n",
    "def o_cb(userData, result, reqId, encodedReq):\n",
    "    global encodedAuth\n",
    "    print(userData)\n",
    "    print(result.error_code)\n",
    "    if result.error_code != 0:\n",
    "        print(ffi.string(result.description))\n",
    "    print(reqId)\n",
    "    print(ffi.string(encodedReq))\n",
    "    encodedAuth = ffi.string(encodedReq)"
   ]
  },
  {
   "cell_type": "code",
   "execution_count": 23,
   "metadata": {},
   "outputs": [],
   "source": [
    "@ffi.callback(\"void(void *, FfiResult *, unsigned int, char *)\")\n",
    "def o_cb(userData, result, reqId, encodedReq):\n",
    "    global encodedAuth\n",
    "    print(userData)\n",
    "    print(result.error_code)\n",
    "    if result.error_code != 0:\n",
    "        print(ffi.string(result.description))\n",
    "    print(reqId)\n",
    "    print(ffi.string(encodedReq))\n",
    "    encodedAuth = ffi.string(encodedReq)"
   ]
  },
  {
   "cell_type": "code",
   "execution_count": 24,
   "metadata": {
    "scrolled": true
   },
   "outputs": [
    {
     "name": "stdout",
     "output_type": "stream",
     "text": [
      "<cdata 'void *' NULL>\n",
      "0\n",
      "4078155827\n",
      "b'AAAAADO4E_MAAAAACAAAAAAAAAByaWRzVGVzdAEMAAAAAAAAAHB5dGhvbnNjcmlwdAYAAAAAAAAAUHlUZXN0BgAAAAAAAABub2JvZHkBAAAAAAAAAAA'\n"
     ]
    }
   ],
   "source": [
    "lib.encode_auth_req(myAuth,ffi.NULL,o_cb)"
   ]
  },
  {
   "cell_type": "code",
   "execution_count": 25,
   "metadata": {},
   "outputs": [
    {
     "data": {
      "text/plain": [
       "b'safe-auth://AAAAADO4E_MAAAAACAAAAAAAAAByaWRzVGVzdAEMAAAAAAAAAHB5dGhvbnNjcmlwdAYAAAAAAAAAUHlUZXN0BgAAAAAAAABub2JvZHkBAAAAAAAAAAA'"
      ]
     },
     "execution_count": 25,
     "metadata": {},
     "output_type": "execute_result"
    }
   ],
   "source": [
    "b'safe-auth://' + encodedAuth"
   ]
  },
  {
   "cell_type": "code",
   "execution_count": null,
   "metadata": {},
   "outputs": [],
   "source": []
  },
  {
   "cell_type": "code",
   "execution_count": 26,
   "metadata": {},
   "outputs": [],
   "source": [
    "import base64"
   ]
  },
  {
   "cell_type": "code",
   "execution_count": 27,
   "metadata": {},
   "outputs": [],
   "source": [
    "schemeName=b'safe-'+base64.encodebytes(ffi.string(myAuth.app.id))[:-2]"
   ]
  },
  {
   "cell_type": "code",
   "execution_count": null,
   "metadata": {},
   "outputs": [],
   "source": []
  },
  {
   "cell_type": "code",
   "execution_count": 28,
   "metadata": {
    "scrolled": true
   },
   "outputs": [],
   "source": [
    "\n",
    "sysUri = FFI()\n",
    "with open('extracted_headers/safe_c_ffi_data.h','r') as f:\n",
    "    myHeaders=f.read()\n",
    "sysUri.cdef(myHeaders)\n",
    "with open('extracted_headers/system_uri.h','r') as f:\n",
    "    funs=f.read()\n",
    "sysUri.cdef(funs)\n",
    "lib2=sysUri.dlopen('../compiled_binaries/libsystem_uri.so')"
   ]
  },
  {
   "cell_type": "code",
   "execution_count": 29,
   "metadata": {},
   "outputs": [],
   "source": [
    "@sysUri.callback(\"void(void *, FfiResult *)\")\n",
    "def installerFeedback(userData, result):\n",
    "    print(userData)\n",
    "    print(result.error_code)"
   ]
  },
  {
   "cell_type": "markdown",
   "metadata": {},
   "source": [
    "```c\n",
    "void install(char* bundle, \n",
    "             char* vendor, \n",
    "             char* name, \n",
    "             char* exec_args, \n",
    "             uint_least64_t exec_args_len, \n",
    "             char* icon, \n",
    "             char* schemes, \n",
    "             void* user_data, \n",
    "             void (*o_cb)(void* user_data, FfiResult* result));\n",
    "```"
   ]
  },
  {
   "cell_type": "code",
   "execution_count": 30,
   "metadata": {},
   "outputs": [
    {
     "name": "stdout",
     "output_type": "stream",
     "text": [
      "b'PyTest'\n",
      "b'nobody'\n",
      "b'pythonscript'\n"
     ]
    }
   ],
   "source": [
    "print(ffi.string(myAuth.app.name))\n",
    "print(ffi.string(myAuth.app.vendor))\n",
    "print(ffi.string(myAuth.app.scope))"
   ]
  },
  {
   "cell_type": "code",
   "execution_count": 31,
   "metadata": {},
   "outputs": [
    {
     "name": "stdout",
     "output_type": "stream",
     "text": [
      "/home/yomuga/maidsafe/pySafe/pySafe\n"
     ]
    }
   ],
   "source": [
    "import os\n",
    "print(os.getcwd())"
   ]
  },
  {
   "cell_type": "code",
   "execution_count": 32,
   "metadata": {},
   "outputs": [],
   "source": [
    "pathToHandler=(os.getcwd()+'/uriHandler.py').encode()"
   ]
  },
  {
   "cell_type": "code",
   "execution_count": 33,
   "metadata": {},
   "outputs": [
    {
     "data": {
      "text/plain": [
       "b'/home/yomuga/maidsafe/pySafe/pySafe/uriHandler.py'"
      ]
     },
     "execution_count": 33,
     "metadata": {},
     "output_type": "execute_result"
    }
   ],
   "source": [
    "pathToHandler"
   ]
  },
  {
   "cell_type": "code",
   "execution_count": 34,
   "metadata": {},
   "outputs": [],
   "source": [
    "bundle=sysUri.new('char[]',ffi.string(myAuth.app.id))\n",
    "vendor=sysUri.new('char[]',ffi.string(myAuth.app.vendor))\n",
    "name=sysUri.new('char[]',ffi.string(myAuth.app.name))\n",
    "exec_args=sysUri.new('char[]',b'python')\n",
    "exec_args2=sysUri.new('char[]',pathToHandler)\n",
    "exec_args_len=2\n",
    "icon=sysUri.new('char[]',b'')\n",
    "schemes=sysUri.new('char[]',schemeName)\n",
    "user_data=sysUri.NULL"
   ]
  },
  {
   "cell_type": "code",
   "execution_count": 35,
   "metadata": {},
   "outputs": [],
   "source": [
    "exec_args_1 = sysUri.new('char*[]',[exec_args,exec_args2])"
   ]
  },
  {
   "cell_type": "code",
   "execution_count": null,
   "metadata": {},
   "outputs": [],
   "source": []
  },
  {
   "cell_type": "code",
   "execution_count": 36,
   "metadata": {},
   "outputs": [
    {
     "name": "stdout",
     "output_type": "stream",
     "text": [
      "<cdata 'void *' NULL>\n",
      "0\n"
     ]
    }
   ],
   "source": [
    "lib2.install(bundle,vendor,name,exec_args_1 ,exec_args_len,icon,schemes,user_data,installerFeedback)"
   ]
  },
  {
   "cell_type": "code",
   "execution_count": null,
   "metadata": {},
   "outputs": [],
   "source": []
  },
  {
   "cell_type": "markdown",
   "metadata": {},
   "source": [
    "```c \n",
    "void open_uri(char* uri, \n",
    "              void* user_data, \n",
    "              void (*o_cb)(void* user_data, FfiResult* result));\n",
    "```"
   ]
  },
  {
   "cell_type": "code",
   "execution_count": 37,
   "metadata": {},
   "outputs": [],
   "source": [
    "@sysUri.callback(\"void(void *, FfiResult *)\")\n",
    "def openerFeedback(userData, result):\n",
    "    global res\n",
    "    res = result\n",
    "    print(userData)\n",
    "    print(result.error_code)"
   ]
  },
  {
   "cell_type": "code",
   "execution_count": 38,
   "metadata": {},
   "outputs": [
    {
     "data": {
      "text/plain": [
       "b'PyTest'"
      ]
     },
     "execution_count": 38,
     "metadata": {},
     "output_type": "execute_result"
    }
   ],
   "source": [
    "ffi.string(myAuth.app.name)"
   ]
  },
  {
   "cell_type": "code",
   "execution_count": 39,
   "metadata": {},
   "outputs": [
    {
     "data": {
      "text/plain": [
       "b'nobody'"
      ]
     },
     "execution_count": 39,
     "metadata": {},
     "output_type": "execute_result"
    }
   ],
   "source": [
    "ffi.string(myAuth.app.vendor)"
   ]
  },
  {
   "cell_type": "code",
   "execution_count": 40,
   "metadata": {
    "scrolled": true
   },
   "outputs": [
    {
     "data": {
      "text/plain": [
       "b'PyTest'"
      ]
     },
     "execution_count": 40,
     "metadata": {},
     "output_type": "execute_result"
    }
   ],
   "source": [
    "ffi.string(myAuth.app.name)"
   ]
  },
  {
   "cell_type": "code",
   "execution_count": 41,
   "metadata": {},
   "outputs": [],
   "source": [
    "uri=sysUri.new('char[]',b'safe-auth://' + encodedAuth)\n",
    "user_data=sysUri.NULL"
   ]
  },
  {
   "cell_type": "markdown",
   "metadata": {
    "scrolled": true
   },
   "source": [
    "lib2.open_uri(uri,user_data,openerFeedback)"
   ]
  },
  {
   "cell_type": "code",
   "execution_count": null,
   "metadata": {},
   "outputs": [],
   "source": []
  },
  {
   "cell_type": "code",
   "execution_count": null,
   "metadata": {},
   "outputs": [],
   "source": []
  },
  {
   "cell_type": "code",
   "execution_count": null,
   "metadata": {},
   "outputs": [],
   "source": []
  },
  {
   "cell_type": "code",
   "execution_count": 42,
   "metadata": {},
   "outputs": [],
   "source": [
    "def printCrustConfig(configAddress,configlength=42):\n",
    "    lali=[]\n",
    "    for i in range(configlength):\n",
    "        lali.append(configAddress[i])\n",
    "    print(lali)"
   ]
  },
  {
   "cell_type": "markdown",
   "metadata": {},
   "source": [
    "```c \n",
    "void decode_ipc_msg(char* msg, \n",
    "                    void* user_data, \n",
    "                    void (*o_auth)(void* user_data, uint32_t req_id, AuthGranted* auth_granted), \n",
    "                    void (*o_unregistered)(void* user_data, uint32_t req_id, uint8_t* serialised_cfg, \n",
    "                                            uintptr_t serialised_cfg_len), \n",
    "                    void (*o_containers)(void* user_data, uint32_t req_id), \n",
    "                    void (*o_share_mdata)(void* user_data, uint32_t req_id), \n",
    "                    void (*o_revoked)(void* user_data), \n",
    "                    void (*o_err)(void* user_data, FfiResult* result, uint32_t req_id));\n",
    "```"
   ]
  },
  {
   "cell_type": "code",
   "execution_count": 43,
   "metadata": {},
   "outputs": [],
   "source": [
    "import time"
   ]
  },
  {
   "cell_type": "code",
   "execution_count": 44,
   "metadata": {},
   "outputs": [],
   "source": [
    "import safeUtils"
   ]
  },
  {
   "cell_type": "code",
   "execution_count": null,
   "metadata": {},
   "outputs": [],
   "source": []
  },
  {
   "cell_type": "code",
   "execution_count": 45,
   "metadata": {},
   "outputs": [],
   "source": [
    "@ffi.callback(\"void(void *, uint32_t, AuthGranted *)\")\n",
    "def o_auth_decode_ipc_msg(userData, req_id, auth_granted):\n",
    "    \n",
    "    printCrustConfig(auth_granted.bootstrap_config)\n",
    "    \n",
    "    print('o_auth')\n",
    "    print(userData)\n",
    "    print(req_id)\n",
    "    returnDict = ffi.from_handle(userData)\n",
    "    #returnDict['AuthGranted'] = picData\n",
    "    returnDict['AuthGranted'] = safeUtils.copy(auth_granted,ffi)\n"
   ]
  },
  {
   "cell_type": "code",
   "execution_count": 46,
   "metadata": {},
   "outputs": [],
   "source": [
    "@ffi.callback(\"void(void *, uint32_t, uint8_t *, uintptr_t)\")\n",
    "def o_unregistered_decode_ipc_msg(userData, req_id, serialised_cfg, serialised_cfg_len):\n",
    "    print('o_unregistered')\n",
    "    print(req_id)"
   ]
  },
  {
   "cell_type": "code",
   "execution_count": 47,
   "metadata": {},
   "outputs": [],
   "source": [
    "@ffi.callback(\"void(void *, uint32_t)\")\n",
    "def o_containers_decode_ipc_msg(userData, req_id):\n",
    "    print('o_containers')\n",
    "    print(req_id)"
   ]
  },
  {
   "cell_type": "code",
   "execution_count": 48,
   "metadata": {},
   "outputs": [],
   "source": [
    "@ffi.callback(\"void(void *, uint32_t)\")\n",
    "def o_share_mdata_decode_ipc_msg(userData, req_id):\n",
    "    print('o_share')\n",
    "    print(req_id)"
   ]
  },
  {
   "cell_type": "code",
   "execution_count": 49,
   "metadata": {},
   "outputs": [],
   "source": [
    "@ffi.callback(\"void(void *)\")\n",
    "def o_revoked_decode_ipc_msg(userData):\n",
    "    print('o_revoked')\n",
    "    print(req_id)"
   ]
  },
  {
   "cell_type": "code",
   "execution_count": 50,
   "metadata": {},
   "outputs": [],
   "source": [
    "@ffi.callback(\"void(void *, FfiResult *, uint32_t)\")\n",
    "def o_error_decode_ipc_msg(userData, result, req_id):\n",
    "    global res\n",
    "    res = result\n",
    "    print('o_err')\n",
    "    print(userData)\n",
    "    print(req_id)\n",
    "    print(result.error_code)\n",
    "    print(ffi.string(result.description))"
   ]
  },
  {
   "cell_type": "code",
   "execution_count": 51,
   "metadata": {},
   "outputs": [],
   "source": [
    "with open('answer','r') as f:\n",
    "    answer=f.readlines()"
   ]
  },
  {
   "cell_type": "code",
   "execution_count": 52,
   "metadata": {},
   "outputs": [],
   "source": [
    "import re\n",
    "data=re.compile(\"'safe-.+?:(.+?)'\")"
   ]
  },
  {
   "cell_type": "code",
   "execution_count": 53,
   "metadata": {},
   "outputs": [],
   "source": [
    "my=data.findall(answer[-1])"
   ]
  },
  {
   "cell_type": "code",
   "execution_count": 54,
   "metadata": {},
   "outputs": [],
   "source": [
    "msg = ffi.new('char[]',my[-1].encode())"
   ]
  },
  {
   "cell_type": "code",
   "execution_count": 55,
   "metadata": {},
   "outputs": [
    {
     "data": {
      "text/plain": [
       "'AQAAAERm9F4AAAAAAAAAACAAAAAAAAAAbhJf-9V6xLIwtiYS1eDRWmvSSRSBSUm2bmaPvH9TQoYgAAAAAAAAANEHn6z_mvlCCQG3gMz4x9JQos2yaD1oeFP-sy_2mSwbIAAAAAAAAABwVihtc2ek186DLfUojF5nHDrNoktCNBa19ABTzMMVlkAAAAAAAAAA1jQqhkRHuVtu26YtPkQlCps-xjZLOPJTf-GxyMrkBb1wVihtc2ek186DLfUojF5nHDrNoktCNBa19ABTzMMVliAAAAAAAAAA0HNx5-_v7_uZdui9JexQ6_vlVMfswycj2jZLiaErJQEgAAAAAAAAAPW3Qr7LuwRb5L768yIJMLqvPVCKwgzhGs2IjLBDS2qyGQAAAAAAAAAQAAAAAAAAADE3OC42Mi43Ni44OjU0ODMTAAAAAAAAADEzOC42OC4xODUuMjE4OjU0ODMSAAAAAAAAADEzOC42OC4xODEuNTc6NTQ4MxIAAAAAAAAAMTM4LjY4LjE4MS42MDo1NDgzEgAAAAAAAAAxMzguNjguMTgxLjg2OjU0ODMSAAAAAAAAADEzOC42OC4xODEuODc6NTQ4MxMAAAAAAAAAMTM4LjY4LjE4MS4xNjg6NTQ4MxMAAAAAAAAAMTM4LjY4LjE4MS4xNzY6NTQ4MxMAAAAAAAAAMTM4LjY4LjE4MS4xNzk6NTQ4MxMAAAAAAAAAMTM4LjY4LjE4MS4xODA6NTQ4MxMAAAAAAAAAMTM4LjY4LjE4MS4xODI6NTQ4MxMAAAAAAAAAMTM4LjY4LjE4MS4yNDI6NTQ4MxMAAAAAAAAAMTM4LjY4LjE4MS4yNDM6NTQ4MxMAAAAAAAAAMTM4LjY4LjE4MS4yNDk6NTQ4MxIAAAAAAAAAMTM4LjY4LjE4OS4xNDo1NDgzEgAAAAAAAAAxMzguNjguMTg5LjE1OjU0ODMSAAAAAAAAADEzOC42OC4xODkuMTc6NTQ4MxIAAAAAAAAAMTM4LjY4LjE4OS4xODo1NDgzEgAAAAAAAAAxMzguNjguMTg5LjE5OjU0ODMSAAAAAAAAADEzOC42OC4xODkuMzE6NTQ4MxIAAAAAAAAAMTM4LjY4LjE4OS4zNDo1NDgzEgAAAAAAAAAxMzguNjguMTg5LjM2OjU0ODMSAAAAAAAAADEzOC42OC4xODkuMzg6NTQ4MxIAAAAAAAAAMTM4LjY4LjE4OS4zOTo1NDgzEQAAAAAAAAA0Ni4xMDEuNS4xNzk6NTQ4MwFrFQAAAAAAAQcAAAAAAAAAYWxwaGFfMgAFlf5pOC0qZUXG14UN8ew1nNZt-3XpLhLgUqatLXRb6pg6AAAAAAAAGAAAAAAAAABttjbyaHC7Tx-S2Tw01AzOIifGoIltz7sBAAAAAAAAAA0AAAAAAAAAYXBwcy9yaWRzVGVzdBygzm1o169rs_cKQ-21IvUSpKeD0rBUOIQtNGxRTI32mDoAAAAAAAABIAAAAAAAAACsBrNd9GE2AIZPfvNGEcN4I_c68rVIrVTzU8CMnqJPUhgAAAAAAAAAdL9VOMW3UKZcY788jpJvCMQkOaO1udoOAAUAAAAAAAAAAAAAAAEAAAACAAAAAwAAAAQAAAA'"
      ]
     },
     "execution_count": 55,
     "metadata": {},
     "output_type": "execute_result"
    }
   ],
   "source": [
    "my[-1]"
   ]
  },
  {
   "cell_type": "code",
   "execution_count": 57,
   "metadata": {},
   "outputs": [],
   "source": [
    "returnDict={}"
   ]
  },
  {
   "cell_type": "code",
   "execution_count": 58,
   "metadata": {},
   "outputs": [],
   "source": [
    "myHand=ffi.new_handle(returnDict)"
   ]
  },
  {
   "cell_type": "code",
   "execution_count": null,
   "metadata": {},
   "outputs": [],
   "source": []
  },
  {
   "cell_type": "code",
   "execution_count": 59,
   "metadata": {
    "scrolled": true
   },
   "outputs": [
    {
     "name": "stdout",
     "output_type": "stream",
     "text": [
      "[25, 0, 0, 0, 0, 0, 0, 0, 16, 0, 0, 0, 0, 0, 0, 0, 49, 55, 56, 46, 54, 50, 46, 55, 54, 46, 56, 58, 53, 52, 56, 51, 19, 0, 0, 0, 0, 0, 0, 0, 49, 51]\n",
      "o_auth\n",
      "<cdata 'void *' 0x7fb93820f868>\n",
      "1593075268\n"
     ]
    }
   ],
   "source": [
    "lib.decode_ipc_msg(msg,myHand,o_auth_decode_ipc_msg,o_unregistered_decode_ipc_msg\n",
    "                   ,o_containers_decode_ipc_msg,o_share_mdata_decode_ipc_msg,\n",
    "                   o_revoked_decode_ipc_msg,o_error_decode_ipc_msg)"
   ]
  },
  {
   "cell_type": "markdown",
   "metadata": {
    "scrolled": true
   },
   "source": [
    "#time.sleep(3)\n",
    "lib.decode_ipc_msg(msg,ffi.new_handle(returnDict),o_auth_decode_ipc_msg,o_unregistered_decode_ipc_msg\n",
    "                   ,o_containers_decode_ipc_msg,o_share_mdata_decode_ipc_msg,\n",
    "                   o_revoked_decode_ipc_msg,o_error_decode_ipc_msg)"
   ]
  },
  {
   "cell_type": "code",
   "execution_count": 60,
   "metadata": {},
   "outputs": [
    {
     "data": {
      "text/plain": [
       "{'AuthGranted': (<cdata 'AuthGranted *' owning 336 bytes>,\n",
       "  [<cdata 'unsigned char[]' owning 689 bytes>,\n",
       "   <cdata 'ContainerInfo[]' owning 176 bytes>,\n",
       "   [<cdata 'char[]' owning 14 bytes>]])}"
      ]
     },
     "execution_count": 60,
     "metadata": {},
     "output_type": "execute_result"
    }
   ],
   "source": [
    "returnDict"
   ]
  },
  {
   "cell_type": "code",
   "execution_count": null,
   "metadata": {},
   "outputs": [],
   "source": []
  },
  {
   "cell_type": "code",
   "execution_count": null,
   "metadata": {},
   "outputs": [],
   "source": []
  },
  {
   "cell_type": "code",
   "execution_count": null,
   "metadata": {},
   "outputs": [],
   "source": []
  },
  {
   "cell_type": "code",
   "execution_count": 64,
   "metadata": {},
   "outputs": [
    {
     "ename": "TypeError",
     "evalue": "cdata 'AuthGranted *' does not support iteration",
     "output_type": "error",
     "traceback": [
      "\u001b[0;31m---------------------------------------------------------------------------\u001b[0m",
      "\u001b[0;31mTypeError\u001b[0m                                 Traceback (most recent call last)",
      "\u001b[0;32m<ipython-input-64-d1344d76e933>\u001b[0m in \u001b[0;36m<module>\u001b[0;34m()\u001b[0m\n\u001b[0;32m----> 1\u001b[0;31m \u001b[0mgrantedAuth\u001b[0m\u001b[0;34m,\u001b[0m\u001b[0mgrantedAuth_data\u001b[0m \u001b[0;34m=\u001b[0m \u001b[0mreturnDict\u001b[0m\u001b[0;34m[\u001b[0m\u001b[0;34m'AuthGranted'\u001b[0m\u001b[0;34m]\u001b[0m\u001b[0;34m\u001b[0m\u001b[0m\n\u001b[0m",
      "\u001b[0;31mTypeError\u001b[0m: cdata 'AuthGranted *' does not support iteration"
     ]
    }
   ],
   "source": [
    "grantedAuth,grantedAuth_data = returnDict['AuthGranted']"
   ]
  },
  {
   "cell_type": "code",
   "execution_count": null,
   "metadata": {},
   "outputs": [],
   "source": []
  },
  {
   "cell_type": "code",
   "execution_count": 71,
   "metadata": {},
   "outputs": [
    {
     "data": {
      "text/plain": [
       "2"
      ]
     },
     "execution_count": 71,
     "metadata": {},
     "output_type": "execute_result"
    }
   ],
   "source": [
    "ffi.sizeof(ffi.new('short int[1]',[1]))"
   ]
  },
  {
   "cell_type": "code",
   "execution_count": 64,
   "metadata": {},
   "outputs": [
    {
     "data": {
      "text/plain": [
       "1"
      ]
     },
     "execution_count": 64,
     "metadata": {},
     "output_type": "execute_result"
    }
   ],
   "source": [
    "len(ffi.new('unsigned char[1]'))"
   ]
  },
  {
   "cell_type": "code",
   "execution_count": 72,
   "metadata": {},
   "outputs": [
    {
     "data": {
      "text/plain": [
       "1"
      ]
     },
     "execution_count": 72,
     "metadata": {},
     "output_type": "execute_result"
    }
   ],
   "source": [
    "ffi.new('short int[1]',[1])[0]"
   ]
  },
  {
   "cell_type": "code",
   "execution_count": 66,
   "metadata": {},
   "outputs": [
    {
     "data": {
      "text/plain": [
       "4"
      ]
     },
     "execution_count": 66,
     "metadata": {},
     "output_type": "execute_result"
    }
   ],
   "source": [
    "ffi.sizeof(ffi.new('short int[2]', [2,3]))"
   ]
  },
  {
   "cell_type": "code",
   "execution_count": 77,
   "metadata": {},
   "outputs": [
    {
     "data": {
      "text/plain": [
       "8"
      ]
     },
     "execution_count": 77,
     "metadata": {},
     "output_type": "execute_result"
    }
   ],
   "source": [
    "ffi.sizeof(ffi.new('FfiResult *'))"
   ]
  },
  {
   "cell_type": "code",
   "execution_count": 80,
   "metadata": {},
   "outputs": [
    {
     "data": {
      "text/plain": [
       "16"
      ]
     },
     "execution_count": 80,
     "metadata": {},
     "output_type": "execute_result"
    }
   ],
   "source": [
    "ffi.sizeof(ffi.new('FfiResult *')[0])"
   ]
  },
  {
   "cell_type": "code",
   "execution_count": null,
   "metadata": {},
   "outputs": [],
   "source": []
  },
  {
   "cell_type": "code",
   "execution_count": 61,
   "metadata": {},
   "outputs": [
    {
     "data": {
      "text/plain": [
       "<cffi.api.FFI at 0x7f3d597c2390>"
      ]
     },
     "execution_count": 61,
     "metadata": {},
     "output_type": "execute_result"
    }
   ],
   "source": [
    "returnDict['ffi']"
   ]
  },
  {
   "cell_type": "code",
   "execution_count": 62,
   "metadata": {},
   "outputs": [
    {
     "data": {
      "text/plain": [
       "<cffi.api.FFI at 0x7f3d597c2390>"
      ]
     },
     "execution_count": 62,
     "metadata": {},
     "output_type": "execute_result"
    }
   ],
   "source": [
    "ffi"
   ]
  },
  {
   "cell_type": "code",
   "execution_count": 63,
   "metadata": {},
   "outputs": [
    {
     "data": {
      "text/plain": [
       "<ctype 'FfiResult *'>"
      ]
     },
     "execution_count": 63,
     "metadata": {},
     "output_type": "execute_result"
    }
   ],
   "source": [
    "returnDict['ffi'].typeof('FfiResult *')"
   ]
  },
  {
   "cell_type": "code",
   "execution_count": 60,
   "metadata": {},
   "outputs": [
    {
     "ename": "TypeError",
     "evalue": "<class '_sre.SRE_Pattern'>",
     "output_type": "error",
     "traceback": [
      "\u001b[0;31m---------------------------------------------------------------------------\u001b[0m",
      "\u001b[0;31mTypeError\u001b[0m                                 Traceback (most recent call last)",
      "\u001b[0;32m<ipython-input-60-69e7691e0172>\u001b[0m in \u001b[0;36m<module>\u001b[0;34m()\u001b[0m\n\u001b[0;32m----> 1\u001b[0;31m \u001b[0mprint\u001b[0m\u001b[0;34m(\u001b[0m\u001b[0mreturnDict\u001b[0m\u001b[0;34m[\u001b[0m\u001b[0;34m'ffi'\u001b[0m\u001b[0;34m]\u001b[0m\u001b[0;34m.\u001b[0m\u001b[0mtypeof\u001b[0m\u001b[0;34m(\u001b[0m\u001b[0mdata\u001b[0m\u001b[0;34m)\u001b[0m \u001b[0;34m==\u001b[0m \u001b[0mreturnDict\u001b[0m\u001b[0;34m[\u001b[0m\u001b[0;34m'ffi'\u001b[0m\u001b[0;34m]\u001b[0m\u001b[0;34m.\u001b[0m\u001b[0mtypeof\u001b[0m\u001b[0;34m(\u001b[0m\u001b[0;34m'FfiResult *'\u001b[0m\u001b[0;34m)\u001b[0m\u001b[0;34m)\u001b[0m\u001b[0;34m\u001b[0m\u001b[0m\n\u001b[0m",
      "\u001b[0;32m~/anaconda3/envs/py36/lib/python3.6/site-packages/cffi/api.py\u001b[0m in \u001b[0;36mtypeof\u001b[0;34m(self, cdecl)\u001b[0m\n\u001b[1;32m    193\u001b[0m             \u001b[0;32mwith\u001b[0m \u001b[0mself\u001b[0m\u001b[0;34m.\u001b[0m\u001b[0m_lock\u001b[0m\u001b[0;34m:\u001b[0m\u001b[0;34m\u001b[0m\u001b[0m\n\u001b[1;32m    194\u001b[0m                 \u001b[0;32mreturn\u001b[0m \u001b[0mself\u001b[0m\u001b[0;34m.\u001b[0m\u001b[0m_get_cached_btype\u001b[0m\u001b[0;34m(\u001b[0m\u001b[0mcdecl\u001b[0m\u001b[0;34m.\u001b[0m\u001b[0m_cffi_base_type\u001b[0m\u001b[0;34m)\u001b[0m\u001b[0;34m\u001b[0m\u001b[0m\n\u001b[0;32m--> 195\u001b[0;31m         \u001b[0;32mraise\u001b[0m \u001b[0mTypeError\u001b[0m\u001b[0;34m(\u001b[0m\u001b[0mtype\u001b[0m\u001b[0;34m(\u001b[0m\u001b[0mcdecl\u001b[0m\u001b[0;34m)\u001b[0m\u001b[0;34m)\u001b[0m\u001b[0;34m\u001b[0m\u001b[0m\n\u001b[0m\u001b[1;32m    196\u001b[0m \u001b[0;34m\u001b[0m\u001b[0m\n\u001b[1;32m    197\u001b[0m     \u001b[0;32mdef\u001b[0m \u001b[0msizeof\u001b[0m\u001b[0;34m(\u001b[0m\u001b[0mself\u001b[0m\u001b[0;34m,\u001b[0m \u001b[0mcdecl\u001b[0m\u001b[0;34m)\u001b[0m\u001b[0;34m:\u001b[0m\u001b[0;34m\u001b[0m\u001b[0m\n",
      "\u001b[0;31mTypeError\u001b[0m: <class '_sre.SRE_Pattern'>"
     ]
    }
   ],
   "source": [
    "print(returnDict['ffi'].typeof(data) == returnDict['ffi'].typeof('FfiResult *'))"
   ]
  },
  {
   "cell_type": "code",
   "execution_count": null,
   "metadata": {},
   "outputs": [],
   "source": [
    "returnDict"
   ]
  },
  {
   "cell_type": "code",
   "execution_count": 1,
   "metadata": {},
   "outputs": [
    {
     "data": {
      "text/plain": [
       "2"
      ]
     },
     "execution_count": 1,
     "metadata": {},
     "output_type": "execute_result"
    }
   ],
   "source": [
    "1+1"
   ]
  },
  {
   "cell_type": "code",
   "execution_count": null,
   "metadata": {},
   "outputs": [],
   "source": []
  },
  {
   "cell_type": "code",
   "execution_count": null,
   "metadata": {},
   "outputs": [],
   "source": [
    "lib.mdata_put()"
   ]
  },
  {
   "cell_type": "code",
   "execution_count": null,
   "metadata": {},
   "outputs": [],
   "source": []
  },
  {
   "cell_type": "code",
   "execution_count": 68,
   "metadata": {},
   "outputs": [
    {
     "name": "stdout",
     "output_type": "stream",
     "text": [
      "answer                        interface.py     \u001b[0m\u001b[01;34m__pycache__\u001b[0m/\r\n",
      "connection.py                 localization.py  pySafeUtils.py\r\n",
      "\u001b[01;34mextracted_headers\u001b[0m/            logging.py       safe_ffi_interface.py\r\n",
      "firstAuthenticationPoC.ipynb  log.toml         safeUtils.py\r\n",
      "__init__.py                   \u001b[01;35mpicData.jpeg\u001b[0m     uriHandler.py\r\n"
     ]
    }
   ],
   "source": [
    "ls"
   ]
  },
  {
   "cell_type": "code",
   "execution_count": 69,
   "metadata": {},
   "outputs": [],
   "source": [
    "with open('picData.jpeg','rb') as f:\n",
    "    picData = f.read()"
   ]
  },
  {
   "cell_type": "code",
   "execution_count": 71,
   "metadata": {
    "scrolled": false
   },
   "outputs": [],
   "source": [
    "with open('picOut.jpeg','wb') as f:\n",
    "    f.write(picData)"
   ]
  },
  {
   "cell_type": "code",
   "execution_count": null,
   "metadata": {},
   "outputs": [],
   "source": [
    "picDataHandle=ffi.new_handle(picData)"
   ]
  },
  {
   "cell_type": "markdown",
   "metadata": {},
   "source": [
    "----"
   ]
  },
  {
   "cell_type": "markdown",
   "metadata": {},
   "source": [
    "now the app"
   ]
  },
  {
   "cell_type": "code",
   "execution_count": 60,
   "metadata": {},
   "outputs": [],
   "source": [
    "myApp = None"
   ]
  },
  {
   "cell_type": "code",
   "execution_count": 61,
   "metadata": {},
   "outputs": [],
   "source": [
    "@ffi.callback(\"void(void*)\")\n",
    "def disconnect_app_registered(user_data):\n",
    "    print('disconnected - callback from app_registered')"
   ]
  },
  {
   "cell_type": "code",
   "execution_count": 62,
   "metadata": {},
   "outputs": [],
   "source": [
    "myApp"
   ]
  },
  {
   "cell_type": "code",
   "execution_count": 63,
   "metadata": {},
   "outputs": [],
   "source": [
    "innerData=None\n",
    "@ffi.callback(\"void(void* , FfiResult* , App* app)\")\n",
    "def result_app_registered(user_data, result, app):\n",
    "    print('results')\n",
    "    global myApp\n",
    "    if app != ffi.NULL:\n",
    "        myApp = ffi.new('App *',app[0])\n",
    "    print('error code: ')\n",
    "    print(result.error_code)\n",
    "    if result.error_code != 0:\n",
    "        print(ffi.string(result.description))\n",
    "    returnDict = ffi.from_handle(user_data)\n",
    "    returnDict['app'] = safeUtils.copy(app,ffi)"
   ]
  },
  {
   "cell_type": "markdown",
   "metadata": {
    "scrolled": false
   },
   "source": [
    "lib.app_registered(myAuth.app.id,grantedAuth,ffi.NULL,disconnect_app_registered,result_app_registered)"
   ]
  },
  {
   "cell_type": "code",
   "execution_count": 64,
   "metadata": {},
   "outputs": [
    {
     "data": {
      "text/plain": [
       "<cdata 'unsigned char *' 0x56351bf54540>"
      ]
     },
     "execution_count": 64,
     "metadata": {},
     "output_type": "execute_result"
    }
   ],
   "source": [
    "grantedAuth.bootstrap_config"
   ]
  },
  {
   "cell_type": "code",
   "execution_count": 65,
   "metadata": {},
   "outputs": [
    {
     "data": {
      "text/plain": [
       "{'AuthGranted': (<cdata 'AuthGranted *' owning 336 bytes>,\n",
       "  [<cdata 'unsigned char[]' owning 689 bytes>,\n",
       "   <cdata 'ContainerInfo[]' owning 0 bytes>,\n",
       "   []])}"
      ]
     },
     "execution_count": 65,
     "metadata": {},
     "output_type": "execute_result"
    }
   ],
   "source": [
    "returnDict"
   ]
  },
  {
   "cell_type": "markdown",
   "metadata": {},
   "source": [
    "returnDict={}"
   ]
  },
  {
   "cell_type": "code",
   "execution_count": null,
   "metadata": {},
   "outputs": [],
   "source": []
  },
  {
   "cell_type": "code",
   "execution_count": null,
   "metadata": {},
   "outputs": [],
   "source": []
  },
  {
   "cell_type": "code",
   "execution_count": 66,
   "metadata": {
    "scrolled": false
   },
   "outputs": [
    {
     "name": "stdout",
     "output_type": "stream",
     "text": [
      "results\n",
      "error code: \n",
      "0\n"
     ]
    }
   ],
   "source": [
    "lib.app_registered(myAuth.app.id,grantedAuth,ffi.new_handle(returnDict),disconnect_app_registered,result_app_registered)"
   ]
  },
  {
   "cell_type": "code",
   "execution_count": 67,
   "metadata": {},
   "outputs": [
    {
     "data": {
      "text/plain": [
       "{'AuthGranted': (<cdata 'AuthGranted *' owning 336 bytes>,\n",
       "  [<cdata 'unsigned char[]' owning 689 bytes>,\n",
       "   <cdata 'ContainerInfo[]' owning 0 bytes>,\n",
       "   []]),\n",
       " 'app': (<cdata 'void * *' owning 8 bytes>, [])}"
      ]
     },
     "execution_count": 67,
     "metadata": {},
     "output_type": "execute_result"
    }
   ],
   "source": [
    "returnDict"
   ]
  },
  {
   "cell_type": "code",
   "execution_count": 68,
   "metadata": {},
   "outputs": [],
   "source": [
    "myApp=returnDict['app']"
   ]
  },
  {
   "cell_type": "code",
   "execution_count": 72,
   "metadata": {},
   "outputs": [
    {
     "ename": "TypeError",
     "evalue": "index() takes at least 1 argument (0 given)",
     "output_type": "error",
     "traceback": [
      "\u001b[0;31m---------------------------------------------------------------------------\u001b[0m",
      "\u001b[0;31mTypeError\u001b[0m                                 Traceback (most recent call last)",
      "\u001b[0;32m<ipython-input-72-8556b39b2d9f>\u001b[0m in \u001b[0;36m<module>\u001b[0;34m()\u001b[0m\n\u001b[0;32m----> 1\u001b[0;31m \u001b[0mmyApp\u001b[0m\u001b[0;34m.\u001b[0m\u001b[0mindex\u001b[0m\u001b[0;34m(\u001b[0m\u001b[0;34m)\u001b[0m\u001b[0;34m\u001b[0m\u001b[0m\n\u001b[0m",
      "\u001b[0;31mTypeError\u001b[0m: index() takes at least 1 argument (0 given)"
     ]
    }
   ],
   "source": []
  },
  {
   "cell_type": "code",
   "execution_count": null,
   "metadata": {},
   "outputs": [],
   "source": [
    "lib.app_account_info()"
   ]
  },
  {
   "cell_type": "code",
   "execution_count": null,
   "metadata": {},
   "outputs": [],
   "source": []
  },
  {
   "cell_type": "code",
   "execution_count": 73,
   "metadata": {},
   "outputs": [
    {
     "data": {
      "text/plain": [
       "<cdata 'AuthGranted *' owning 336 bytes>"
      ]
     },
     "execution_count": 73,
     "metadata": {},
     "output_type": "execute_result"
    }
   ],
   "source": [
    "grantedAuth"
   ]
  },
  {
   "cell_type": "code",
   "execution_count": null,
   "metadata": {},
   "outputs": [],
   "source": []
  },
  {
   "cell_type": "code",
   "execution_count": 63,
   "metadata": {},
   "outputs": [],
   "source": [
    "grantedAuth.bootstrap_config = bootstrap_config"
   ]
  },
  {
   "cell_type": "code",
   "execution_count": 64,
   "metadata": {},
   "outputs": [
    {
     "data": {
      "text/plain": [
       "<cdata 'unsigned char *' 0x55b1e87cdb20>"
      ]
     },
     "execution_count": 64,
     "metadata": {},
     "output_type": "execute_result"
    }
   ],
   "source": [
    "grantedAuth.bootstrap_config"
   ]
  },
  {
   "cell_type": "code",
   "execution_count": 65,
   "metadata": {
    "scrolled": false
   },
   "outputs": [
    {
     "name": "stdout",
     "output_type": "stream",
     "text": [
      "results\n",
      "error code: \n",
      "0\n"
     ]
    }
   ],
   "source": [
    "lib.app_registered(myAuth.app.id,grantedAuth,ffi.NULL,disconnect_app_registered,result_app_registered)"
   ]
  },
  {
   "cell_type": "code",
   "execution_count": null,
   "metadata": {},
   "outputs": [],
   "source": []
  },
  {
   "cell_type": "code",
   "execution_count": null,
   "metadata": {},
   "outputs": [],
   "source": []
  },
  {
   "cell_type": "code",
   "execution_count": 65,
   "metadata": {
    "scrolled": true
   },
   "outputs": [
    {
     "data": {
      "text/plain": [
       "<cdata 'void *' 0x55acbc6d6c20>"
      ]
     },
     "execution_count": 65,
     "metadata": {},
     "output_type": "execute_result"
    }
   ],
   "source": [
    "myApp[0]"
   ]
  },
  {
   "cell_type": "code",
   "execution_count": 163,
   "metadata": {
    "scrolled": true
   },
   "outputs": [
    {
     "data": {
      "text/plain": [
       "8"
      ]
     },
     "execution_count": 163,
     "metadata": {},
     "output_type": "execute_result"
    }
   ],
   "source": [
    "ffi.sizeof(grantedAuth.access_container_entry.containers)"
   ]
  },
  {
   "cell_type": "code",
   "execution_count": 166,
   "metadata": {},
   "outputs": [
    {
     "data": {
      "text/plain": [
       "8"
      ]
     },
     "execution_count": 166,
     "metadata": {},
     "output_type": "execute_result"
    }
   ],
   "source": [
    "ffi.sizeof(grantedAuth.bootstrap_config)"
   ]
  },
  {
   "cell_type": "code",
   "execution_count": 170,
   "metadata": {},
   "outputs": [
    {
     "data": {
      "text/plain": [
       "16"
      ]
     },
     "execution_count": 170,
     "metadata": {},
     "output_type": "execute_result"
    }
   ],
   "source": [
    "grantedAuth.bootstrap_config_len"
   ]
  },
  {
   "cell_type": "code",
   "execution_count": 182,
   "metadata": {},
   "outputs": [],
   "source": [
    "test=ffi.from_buffer(ffi.buffer(grantedAuth.bootstrap_config,int(grantedAuth.bootstrap_config_len))[:])"
   ]
  },
  {
   "cell_type": "code",
   "execution_count": 205,
   "metadata": {},
   "outputs": [
    {
     "data": {
      "text/plain": [
       "(<cdata 'AuthGranted *' owning 336 bytes>,\n",
       " <cdata 'char[]' buffer len 16 from 'bytes' object>)"
      ]
     },
     "execution_count": 205,
     "metadata": {},
     "output_type": "execute_result"
    }
   ],
   "source": [
    "getCopy(grantedAuth)"
   ]
  },
  {
   "cell_type": "code",
   "execution_count": 204,
   "metadata": {},
   "outputs": [],
   "source": [
    "def getCopy(data):\n",
    "    if ffi.typeof(grantedAuth) == ffi.typeof(ffi.new('AuthGranted *')):\n",
    "        newData = ffi.new('AuthGranted *',data[0])\n",
    "        bootstrapData = ffi.new('unsigned char[]',ffi.buffer(data.bootstrap_config,int(data.bootstrap_config_len))[:])\n",
    "        newData.bootstrap_config = bootstrapData\n",
    "        return newData,bootstrapData"
   ]
  },
  {
   "cell_type": "code",
   "execution_count": 282,
   "metadata": {},
   "outputs": [],
   "source": [
    "test=ffi.new('short int[]',[1,4])"
   ]
  },
  {
   "cell_type": "code",
   "execution_count": 285,
   "metadata": {},
   "outputs": [],
   "source": [
    "test=ffi.new('short int *',1)"
   ]
  },
  {
   "cell_type": "code",
   "execution_count": 284,
   "metadata": {},
   "outputs": [
    {
     "data": {
      "text/plain": [
       "<cdata 'short[]' owning 4 bytes>"
      ]
     },
     "execution_count": 284,
     "metadata": {},
     "output_type": "execute_result"
    }
   ],
   "source": [
    "test"
   ]
  },
  {
   "cell_type": "code",
   "execution_count": 272,
   "metadata": {},
   "outputs": [
    {
     "data": {
      "text/plain": [
       "8"
      ]
     },
     "execution_count": 272,
     "metadata": {},
     "output_type": "execute_result"
    }
   ],
   "source": [
    "ffi.sizeof(test)"
   ]
  },
  {
   "cell_type": "code",
   "execution_count": 286,
   "metadata": {},
   "outputs": [
    {
     "data": {
      "text/plain": [
       "b'\\x01\\x00\\x00\\x00\\x00\\x00\\x00\\x00'"
      ]
     },
     "execution_count": 286,
     "metadata": {},
     "output_type": "execute_result"
    }
   ],
   "source": [
    "ffi.buffer(test,ffi.sizeof(test))[:]=ffi.buffer(test,ffi.sizeof(test))[:]"
   ]
  },
  {
   "cell_type": "code",
   "execution_count": 274,
   "metadata": {},
   "outputs": [
    {
     "data": {
      "text/plain": [
       "8"
      ]
     },
     "execution_count": 274,
     "metadata": {},
     "output_type": "execute_result"
    }
   ],
   "source": [
    "ffi.alignof(ffi.typeof(test))"
   ]
  },
  {
   "cell_type": "code",
   "execution_count": 308,
   "metadata": {},
   "outputs": [
    {
     "data": {
      "text/plain": [
       "<cdata 'AuthGranted *' owning 336 bytes>"
      ]
     },
     "execution_count": 308,
     "metadata": {},
     "output_type": "execute_result"
    }
   ],
   "source": [
    "ffi.new(ffi.typeof(grantedAuth),grantedAuth[0])"
   ]
  },
  {
   "cell_type": "code",
   "execution_count": 295,
   "metadata": {},
   "outputs": [
    {
     "data": {
      "text/plain": [
       "<cdata 'ContainerInfo *' 0x8>"
      ]
     },
     "execution_count": 295,
     "metadata": {},
     "output_type": "execute_result"
    }
   ],
   "source": [
    "grantedAuth.access_container_entry.containers"
   ]
  },
  {
   "cell_type": "code",
   "execution_count": 295,
   "metadata": {},
   "outputs": [
    {
     "data": {
      "text/plain": [
       "<cdata 'ContainerInfo *' 0x8>"
      ]
     },
     "execution_count": 295,
     "metadata": {},
     "output_type": "execute_result"
    }
   ],
   "source": [
    "grantedAuth.access_container_info."
   ]
  },
  {
   "cell_type": "code",
   "execution_count": 295,
   "metadata": {},
   "outputs": [
    {
     "data": {
      "text/plain": [
       "<cdata 'ContainerInfo *' 0x8>"
      ]
     },
     "execution_count": 295,
     "metadata": {},
     "output_type": "execute_result"
    }
   ],
   "source": [
    "grantedAuth.access_container_entry.containers[0]"
   ]
  },
  {
   "cell_type": "code",
   "execution_count": 300,
   "metadata": {},
   "outputs": [
    {
     "data": {
      "text/plain": [
       "b'haha'"
      ]
     },
     "execution_count": 300,
     "metadata": {},
     "output_type": "execute_result"
    }
   ],
   "source": [
    "ffi.string(ffi.new('char[]',b'haha'))"
   ]
  },
  {
   "cell_type": "code",
   "execution_count": 68,
   "metadata": {},
   "outputs": [],
   "source": [
    "def getCopy(data):\n",
    "    if ffi.typeof(data) == ffi.typeof(ffi.new('FfiResult *')):\n",
    "        newData = ffi.new(ffi.typeof(data),data[0])\n",
    "        \n",
    "        if data.description != ffi.NULL:\n",
    "            description = ffi.new('char[]',ffi.string(data.description))\n",
    "        else:\n",
    "            description = ffi.NULL\n",
    "        newData.description = description\n",
    "        \n",
    "        return newData,[description]\n",
    "    \n",
    "    elif ffi.typeof(data) == ffi.typeof(ffi.new('File *')):\n",
    "        newData = ffi.new(ffi.typeof(data),data[0])\n",
    "        \n",
    "        user_metadata_ptr = ffi.new('uint8_t[]',data.user_metadata_len)\n",
    "        copyLen=int(ffi.sizeof(data.user_metadata_ptr)*data.user_metadata_len)\n",
    "        ffi.buffer(user_metadata_ptr,copyLen)[:]=ffi.buffer(data.user_metadata_ptr,copyLen)[:]\n",
    "        newData.user_metadata_ptr = user_metadata_ptr\n",
    "        \n",
    "        return newData,[user_metadata_ptr]\n",
    "    \n",
    "    elif ffi.typeof(data) == ffi.typeof(ffi.new('AppExchangeInfo *')):\n",
    "        newData = ffi.new(ffi.typeof(data),data[0])\n",
    "        \n",
    "        id = ffi.new('char[]',ffi.string(data.id))\n",
    "        scope = ffi.new('char[]',ffi.string(data.scope))\n",
    "        name = ffi.new('char[]',ffi.string(data.name))\n",
    "        vendor = ffi.new('char[]',ffi.string(data.vendor))\n",
    "        newData.id = id\n",
    "        newData.scope = scope\n",
    "        newData.name = name\n",
    "        newData.vendor = vendor\n",
    "        \n",
    "        return newData,[id, scope, name, vendor]\n",
    "    \n",
    "    elif ffi.typeof(data) == ffi.typeof(ffi.new('ContainerPermissions *')):\n",
    "        newData = ffi.new(ffi.typeof(data),data[0])\n",
    "        \n",
    "        cont_name = ffi.new('char[]',ffi.string(data.cont_name))\n",
    "        newData.cont_name = cont_name\n",
    "        \n",
    "        return newData,[cont_name]\n",
    "    \n",
    "    elif ffi.typeof(data) == ffi.typeof(ffi.new('AuthReq *')):\n",
    "        newData = ffi.new(ffi.typeof(data),data[0])\n",
    "        \n",
    "        containers = ffi.new('ContainerPermissions[]',data.containers_len)\n",
    "        copyLen=int(ffi.sizeof(data.containers)*data.containers_len)\n",
    "        ffi.buffer(containers,copyLen)[:]=ffi.buffer(data.containers,copyLen)[:]\n",
    "        newData.containers = containers\n",
    "        containerNames=[]\n",
    "        for i in range(data.containers_len):\n",
    "            containerNames.append(ffi.new('char[]',ffi.string(data.containers[i].cont_name)))\n",
    "            newData.containers[i].cont_name=containerNames[-1]\n",
    "        \n",
    "        return newData,[containers,containerNames]\n",
    "    \n",
    "    elif ffi.typeof(data) == ffi.typeof(ffi.new('ContainersReq *')):\n",
    "        newData = ffi.new(ffi.typeof(data),data[0])\n",
    "        \n",
    "        containers = ffi.new('ContainerPermissions[]',data.containers_len)\n",
    "        copyLen=int(ffi.sizeof(data.containers)*data.containers_len)\n",
    "        ffi.buffer(containers,copyLen)[:]=ffi.buffer(data.containers,copyLen)[:]\n",
    "        newData.containers = containers\n",
    "        containerNames=[]\n",
    "        for i in range(data.containers_len):\n",
    "            containerNames.append(ffi.new('char[]',ffi.string(data.containers[i].cont_name)))\n",
    "            newData.containers[i].cont_name=containerNames[-1]\n",
    "        \n",
    "        return newData,[containers,containerNames]\n",
    "    \n",
    "    elif ffi.typeof(data) == ffi.typeof(ffi.new('ShareMDataReq *')):\n",
    "        newData = ffi.new(ffi.typeof(data),data[0])\n",
    "        \n",
    "        mdata = ffi.new('ShareMData[]',data.mdata_len)\n",
    "        copyLen=int(ffi.sizeof(data.mdata)*data.mdata_len)\n",
    "        ffi.buffer(mdata,copyLen)[:]=ffi.buffer(data.mdata,copyLen)[:]\n",
    "        newData.mdata = mdata\n",
    "        \n",
    "        return newData,[mdata]\n",
    "    \n",
    "    elif ffi.typeof(data) == ffi.typeof(ffi.new('ContainerInfo *')):\n",
    "        newData = ffi.new(ffi.typeof(data),data[0])\n",
    "        \n",
    "        name = ffi.new('char[]',ffi.string(data.name))\n",
    "        newData.name = name\n",
    "        \n",
    "        return newData,[name]\n",
    "    \n",
    "    elif ffi.typeof(data) == ffi.typeof(ffi.new('AccessContainerEntry *')):\n",
    "        newData = ffi.new(ffi.typeof(data),data[0])\n",
    "        \n",
    "        containers = ffi.new('ContainerInfo[]',data.containers_len)\n",
    "        copyLen=int(ffi.sizeof(data.containers)*data.containers_len)\n",
    "        ffi.buffer(containers,copyLen)[:]=ffi.buffer(data.containers,copyLen)[:]\n",
    "        newData.containers = containers\n",
    "        \n",
    "        return newData,[containers]\n",
    "    \n",
    "    elif ffi.typeof(data) == ffi.typeof(ffi.new('AuthGranted *')):\n",
    "        newData = ffi.new(ffi.typeof(data),data[0])\n",
    "        \n",
    "        bootstrap_config = ffi.new('unsigned char[]',data.bootstrap_config_len)\n",
    "        copyLen=int(ffi.sizeof(data.bootstrap_config)*data.bootstrap_config_len)\n",
    "        ffi.buffer(bootstrap_config,copyLen)[:]=ffi.buffer(data.bootstrap_config,copyLen)[:]\n",
    "        newData.bootstrap_config = bootstrap_config\n",
    "        \n",
    "        containers = ffi.new('ContainerInfo[]',data.access_container_entry.containers_len)\n",
    "        copyLen=int(ffi.sizeof(data.access_container_entry.containers)*data.access_container_entry.containers_len)\n",
    "        ffi.buffer(containers,copyLen)[:]=ffi.buffer(data.access_container_entry.containers,copyLen)[:]\n",
    "        newData.access_container_entry.containers = containers\n",
    "        containerNames=[]\n",
    "        for i in range(data.access_container_entry.containers_len):\n",
    "            containerNames.append(ffi.new('char[]',ffi.string(data.access_container_entry.containers[i].name)))\n",
    "            newData.access_container_entry.containers[i].name=containerNames[-1]\n",
    "        \n",
    "        return newData,[bootstrap_config,containers,containerNames]\n",
    "    \n",
    "    elif ffi.typeof(data) == ffi.typeof(ffi.new('AppAccess *')):\n",
    "        newData = ffi.new(ffi.typeof(data),data[0])\n",
    "        \n",
    "        name = ffi.new('char[]',ffi.string(data.name))\n",
    "        app_id = ffi.new('char[]',ffi.string(data.app_id))\n",
    "        newData.name = name\n",
    "        newData.app_id = app_id\n",
    "        \n",
    "        return newData,[name, app_id]\n",
    "    \n",
    "    elif ffi.typeof(data) == ffi.typeof(ffi.new('MetadataResponse *')):\n",
    "        newData = ffi.new(ffi.typeof(data),data[0])\n",
    "        \n",
    "        name = ffi.new('char[]',ffi.string(data.name))\n",
    "        description = ffi.new('char[]',ffi.string(data.description))\n",
    "        newData.name = name\n",
    "        newData.description = description\n",
    "        \n",
    "        return newData,[name, description]\n",
    "    \n",
    "    elif ffi.typeof(data) == ffi.typeof(ffi.new('MDataKey *')):\n",
    "        newData = ffi.new(ffi.typeof(data),data[0])\n",
    "        \n",
    "        val = ffi.new('uint8_t[]',data.val_len)\n",
    "        copyLen=int(ffi.sizeof(data.val)*data.val_len)\n",
    "        ffi.buffer(val,copyLen)[:]=ffi.buffer(data.val,copyLen)[:]\n",
    "        newData.val = val\n",
    "        \n",
    "        return newData,[val]\n",
    "    \n",
    "    elif ffi.typeof(data) == ffi.typeof(ffi.new('MDataValue *')):\n",
    "        newData = ffi.new(ffi.typeof(data),data[0])\n",
    "        \n",
    "        content = ffi.new('uint8_t[]',data.content_len)\n",
    "        copyLen=int(ffi.sizeof(data.content)*data.content_len)\n",
    "        ffi.buffer(content,copyLen)[:]=ffi.buffer(data.content,copyLen)[:]\n",
    "        newData.content = content\n",
    "        \n",
    "        return newData,[content]\n",
    "    \n",
    "    elif ffi.typeof(data) == ffi.typeof(ffi.new('MDataEntry *')):\n",
    "        newData = ffi.new(ffi.typeof(data),data[0])\n",
    "        \n",
    "        val = ffi.new('uint8_t[]',data.key.val_len)\n",
    "        copyLen=int(ffi.sizeof(data.key.val)*data.key.val_len)\n",
    "        ffi.buffer(val,copyLen)[:]=ffi.buffer(data.key.val,copyLen)[:]\n",
    "        newData.key.val = val\n",
    "        \n",
    "        content = ffi.new('uint8_t[]',data.value.content_len)\n",
    "        copyLen=int(ffi.sizeof(data.value.content)*data.value.content_len)\n",
    "        ffi.buffer(content,copyLen)[:]=ffi.buffer(data.value.content,copyLen)[:]\n",
    "        newData.value.content = content\n",
    "        \n",
    "        return newData,[val,content]\n",
    "    \n",
    "    else:\n",
    "        newData = ffi.new(ffi.typeof(data),data[0])\n",
    "        return newData,[]"
   ]
  },
  {
   "cell_type": "code",
   "execution_count": 66,
   "metadata": {},
   "outputs": [],
   "source": [
    "import safeUtils"
   ]
  },
  {
   "cell_type": "code",
   "execution_count": null,
   "metadata": {},
   "outputs": [],
   "source": [
    "safeUtils."
   ]
  },
  {
   "cell_type": "code",
   "execution_count": 68,
   "metadata": {},
   "outputs": [],
   "source": [
    "import importlib"
   ]
  },
  {
   "cell_type": "code",
   "execution_count": 72,
   "metadata": {},
   "outputs": [
    {
     "ename": "ModuleNotFoundError",
     "evalue": "No module named 'pySafe'",
     "output_type": "error",
     "traceback": [
      "\u001b[0;31m---------------------------------------------------------------------------\u001b[0m",
      "\u001b[0;31mModuleNotFoundError\u001b[0m                       Traceback (most recent call last)",
      "\u001b[0;32m<ipython-input-72-40bb2233d006>\u001b[0m in \u001b[0;36m<module>\u001b[0;34m()\u001b[0m\n\u001b[0;32m----> 1\u001b[0;31m \u001b[0mimportlib\u001b[0m\u001b[0;34m.\u001b[0m\u001b[0mreload\u001b[0m\u001b[0;34m(\u001b[0m\u001b[0msafeUtils\u001b[0m\u001b[0;34m)\u001b[0m\u001b[0;34m\u001b[0m\u001b[0m\n\u001b[0m",
      "\u001b[0;32m~/anaconda3/envs/py36/lib/python3.6/importlib/__init__.py\u001b[0m in \u001b[0;36mreload\u001b[0;34m(module)\u001b[0m\n\u001b[1;32m    164\u001b[0m         \u001b[0mtarget\u001b[0m \u001b[0;34m=\u001b[0m \u001b[0mmodule\u001b[0m\u001b[0;34m\u001b[0m\u001b[0m\n\u001b[1;32m    165\u001b[0m         \u001b[0mspec\u001b[0m \u001b[0;34m=\u001b[0m \u001b[0mmodule\u001b[0m\u001b[0;34m.\u001b[0m\u001b[0m__spec__\u001b[0m \u001b[0;34m=\u001b[0m \u001b[0m_bootstrap\u001b[0m\u001b[0;34m.\u001b[0m\u001b[0m_find_spec\u001b[0m\u001b[0;34m(\u001b[0m\u001b[0mname\u001b[0m\u001b[0;34m,\u001b[0m \u001b[0mpkgpath\u001b[0m\u001b[0;34m,\u001b[0m \u001b[0mtarget\u001b[0m\u001b[0;34m)\u001b[0m\u001b[0;34m\u001b[0m\u001b[0m\n\u001b[0;32m--> 166\u001b[0;31m         \u001b[0m_bootstrap\u001b[0m\u001b[0;34m.\u001b[0m\u001b[0m_exec\u001b[0m\u001b[0;34m(\u001b[0m\u001b[0mspec\u001b[0m\u001b[0;34m,\u001b[0m \u001b[0mmodule\u001b[0m\u001b[0;34m)\u001b[0m\u001b[0;34m\u001b[0m\u001b[0m\n\u001b[0m\u001b[1;32m    167\u001b[0m         \u001b[0;31m# The module may have replaced itself in sys.modules!\u001b[0m\u001b[0;34m\u001b[0m\u001b[0;34m\u001b[0m\u001b[0m\n\u001b[1;32m    168\u001b[0m         \u001b[0;32mreturn\u001b[0m \u001b[0msys\u001b[0m\u001b[0;34m.\u001b[0m\u001b[0mmodules\u001b[0m\u001b[0;34m[\u001b[0m\u001b[0mname\u001b[0m\u001b[0;34m]\u001b[0m\u001b[0;34m\u001b[0m\u001b[0m\n",
      "\u001b[0;32m~/anaconda3/envs/py36/lib/python3.6/importlib/_bootstrap.py\u001b[0m in \u001b[0;36m_exec\u001b[0;34m(spec, module)\u001b[0m\n",
      "\u001b[0;32m~/anaconda3/envs/py36/lib/python3.6/importlib/_bootstrap_external.py\u001b[0m in \u001b[0;36mexec_module\u001b[0;34m(self, module)\u001b[0m\n",
      "\u001b[0;32m~/anaconda3/envs/py36/lib/python3.6/importlib/_bootstrap.py\u001b[0m in \u001b[0;36m_call_with_frames_removed\u001b[0;34m(f, *args, **kwds)\u001b[0m\n",
      "\u001b[0;32m~/maidsafe/pySafe/pySafe/safeUtils.py\u001b[0m in \u001b[0;36m<module>\u001b[0;34m()\u001b[0m\n\u001b[1;32m     13\u001b[0m \u001b[0;31m#from pySafe.safe_ffi_interface import *\u001b[0m\u001b[0;34m\u001b[0m\u001b[0;34m\u001b[0m\u001b[0m\n\u001b[1;32m     14\u001b[0m \u001b[0;32mimport\u001b[0m \u001b[0mlocalization\u001b[0m\u001b[0;34m\u001b[0m\u001b[0m\n\u001b[0;32m---> 15\u001b[0;31m \u001b[0;32mfrom\u001b[0m \u001b[0msafe_ffi_interface\u001b[0m \u001b[0;32mimport\u001b[0m \u001b[0;34m*\u001b[0m\u001b[0;34m\u001b[0m\u001b[0m\n\u001b[0m\u001b[1;32m     16\u001b[0m \u001b[0;34m\u001b[0m\u001b[0m\n\u001b[1;32m     17\u001b[0m '''\n",
      "\u001b[0;32m~/maidsafe/pySafe/pySafe/safe_ffi_interface.py\u001b[0m in \u001b[0;36m<module>\u001b[0;34m()\u001b[0m\n\u001b[1;32m     18\u001b[0m \u001b[0;31m#\u001b[0m\u001b[0;34m\u001b[0m\u001b[0;34m\u001b[0m\u001b[0m\n\u001b[1;32m     19\u001b[0m \u001b[0;31m########################################################################################################################\u001b[0m\u001b[0;34m\u001b[0m\u001b[0;34m\u001b[0m\u001b[0m\n\u001b[0;32m---> 20\u001b[0;31m \u001b[0;32mimport\u001b[0m \u001b[0mpySafe\u001b[0m\u001b[0;34m.\u001b[0m\u001b[0mlocalization\u001b[0m\u001b[0;34m\u001b[0m\u001b[0m\n\u001b[0m\u001b[1;32m     21\u001b[0m \u001b[0;32mfrom\u001b[0m \u001b[0mcffi\u001b[0m \u001b[0;32mimport\u001b[0m \u001b[0mFFI\u001b[0m\u001b[0;34m\u001b[0m\u001b[0m\n\u001b[1;32m     22\u001b[0m \u001b[0mffi\u001b[0m \u001b[0;34m=\u001b[0m \u001b[0mFFI\u001b[0m\u001b[0;34m(\u001b[0m\u001b[0;34m)\u001b[0m\u001b[0;34m\u001b[0m\u001b[0m\n",
      "\u001b[0;31mModuleNotFoundError\u001b[0m: No module named 'pySafe'"
     ]
    }
   ],
   "source": [
    "importlib.reload(safeUtils)"
   ]
  },
  {
   "cell_type": "code",
   "execution_count": 70,
   "metadata": {},
   "outputs": [
    {
     "ename": "CDefError",
     "evalue": "cannot parse \"FfiResult *\"\n<cdef source string>:2:11: before: *",
     "output_type": "error",
     "traceback": [
      "\u001b[0;31m---------------------------------------------------------------------------\u001b[0m",
      "\u001b[0;31mKeyError\u001b[0m                                  Traceback (most recent call last)",
      "\u001b[0;32m~/anaconda3/envs/py36/lib/python3.6/site-packages/cffi/api.py\u001b[0m in \u001b[0;36m_typeof\u001b[0;34m(self, cdecl, consider_function_as_funcptr)\u001b[0m\n\u001b[1;32m    166\u001b[0m         \u001b[0;32mtry\u001b[0m\u001b[0;34m:\u001b[0m\u001b[0;34m\u001b[0m\u001b[0m\n\u001b[0;32m--> 167\u001b[0;31m             \u001b[0mresult\u001b[0m \u001b[0;34m=\u001b[0m \u001b[0mself\u001b[0m\u001b[0;34m.\u001b[0m\u001b[0m_parsed_types\u001b[0m\u001b[0;34m[\u001b[0m\u001b[0mcdecl\u001b[0m\u001b[0;34m]\u001b[0m\u001b[0;34m\u001b[0m\u001b[0m\n\u001b[0m\u001b[1;32m    168\u001b[0m         \u001b[0;32mexcept\u001b[0m \u001b[0mKeyError\u001b[0m\u001b[0;34m:\u001b[0m\u001b[0;34m\u001b[0m\u001b[0m\n",
      "\u001b[0;31mKeyError\u001b[0m: 'FfiResult *'",
      "\nDuring handling of the above exception, another exception occurred:\n",
      "\u001b[0;31mParseError\u001b[0m                                Traceback (most recent call last)",
      "\u001b[0;32m~/anaconda3/envs/py36/lib/python3.6/site-packages/cffi/cparser.py\u001b[0m in \u001b[0;36m_parse\u001b[0;34m(self, csource)\u001b[0m\n\u001b[1;32m    275\u001b[0m         \u001b[0;32mtry\u001b[0m\u001b[0;34m:\u001b[0m\u001b[0;34m\u001b[0m\u001b[0m\n\u001b[0;32m--> 276\u001b[0;31m             \u001b[0mast\u001b[0m \u001b[0;34m=\u001b[0m \u001b[0m_get_parser\u001b[0m\u001b[0;34m(\u001b[0m\u001b[0;34m)\u001b[0m\u001b[0;34m.\u001b[0m\u001b[0mparse\u001b[0m\u001b[0;34m(\u001b[0m\u001b[0mfullcsource\u001b[0m\u001b[0;34m)\u001b[0m\u001b[0;34m\u001b[0m\u001b[0m\n\u001b[0m\u001b[1;32m    277\u001b[0m         \u001b[0;32mexcept\u001b[0m \u001b[0mpycparser\u001b[0m\u001b[0;34m.\u001b[0m\u001b[0mc_parser\u001b[0m\u001b[0;34m.\u001b[0m\u001b[0mParseError\u001b[0m \u001b[0;32mas\u001b[0m \u001b[0me\u001b[0m\u001b[0;34m:\u001b[0m\u001b[0;34m\u001b[0m\u001b[0m\n",
      "\u001b[0;32m~/anaconda3/envs/py36/lib/python3.6/site-packages/pycparser/c_parser.py\u001b[0m in \u001b[0;36mparse\u001b[0;34m(self, text, filename, debuglevel)\u001b[0m\n\u001b[1;32m    151\u001b[0m                 \u001b[0mlexer\u001b[0m\u001b[0;34m=\u001b[0m\u001b[0mself\u001b[0m\u001b[0;34m.\u001b[0m\u001b[0mclex\u001b[0m\u001b[0;34m,\u001b[0m\u001b[0;34m\u001b[0m\u001b[0m\n\u001b[0;32m--> 152\u001b[0;31m                 debug=debuglevel)\n\u001b[0m\u001b[1;32m    153\u001b[0m \u001b[0;34m\u001b[0m\u001b[0m\n",
      "\u001b[0;32m~/anaconda3/envs/py36/lib/python3.6/site-packages/pycparser/ply/yacc.py\u001b[0m in \u001b[0;36mparse\u001b[0;34m(self, input, lexer, debug, tracking, tokenfunc)\u001b[0m\n\u001b[1;32m    330\u001b[0m         \u001b[0;32melse\u001b[0m\u001b[0;34m:\u001b[0m\u001b[0;34m\u001b[0m\u001b[0m\n\u001b[0;32m--> 331\u001b[0;31m             \u001b[0;32mreturn\u001b[0m \u001b[0mself\u001b[0m\u001b[0;34m.\u001b[0m\u001b[0mparseopt_notrack\u001b[0m\u001b[0;34m(\u001b[0m\u001b[0minput\u001b[0m\u001b[0;34m,\u001b[0m \u001b[0mlexer\u001b[0m\u001b[0;34m,\u001b[0m \u001b[0mdebug\u001b[0m\u001b[0;34m,\u001b[0m \u001b[0mtracking\u001b[0m\u001b[0;34m,\u001b[0m \u001b[0mtokenfunc\u001b[0m\u001b[0;34m)\u001b[0m\u001b[0;34m\u001b[0m\u001b[0m\n\u001b[0m\u001b[1;32m    332\u001b[0m \u001b[0;34m\u001b[0m\u001b[0m\n",
      "\u001b[0;32m~/anaconda3/envs/py36/lib/python3.6/site-packages/pycparser/ply/yacc.py\u001b[0m in \u001b[0;36mparseopt_notrack\u001b[0;34m(self, input, lexer, debug, tracking, tokenfunc)\u001b[0m\n\u001b[1;32m   1198\u001b[0m                         \u001b[0mself\u001b[0m\u001b[0;34m.\u001b[0m\u001b[0mstate\u001b[0m \u001b[0;34m=\u001b[0m \u001b[0mstate\u001b[0m\u001b[0;34m\u001b[0m\u001b[0m\n\u001b[0;32m-> 1199\u001b[0;31m                         \u001b[0mtok\u001b[0m \u001b[0;34m=\u001b[0m \u001b[0mcall_errorfunc\u001b[0m\u001b[0;34m(\u001b[0m\u001b[0mself\u001b[0m\u001b[0;34m.\u001b[0m\u001b[0merrorfunc\u001b[0m\u001b[0;34m,\u001b[0m \u001b[0merrtoken\u001b[0m\u001b[0;34m,\u001b[0m \u001b[0mself\u001b[0m\u001b[0;34m)\u001b[0m\u001b[0;34m\u001b[0m\u001b[0m\n\u001b[0m\u001b[1;32m   1200\u001b[0m                         \u001b[0;32mif\u001b[0m \u001b[0mself\u001b[0m\u001b[0;34m.\u001b[0m\u001b[0merrorok\u001b[0m\u001b[0;34m:\u001b[0m\u001b[0;34m\u001b[0m\u001b[0m\n",
      "\u001b[0;32m~/anaconda3/envs/py36/lib/python3.6/site-packages/pycparser/ply/yacc.py\u001b[0m in \u001b[0;36mcall_errorfunc\u001b[0;34m(errorfunc, token, parser)\u001b[0m\n\u001b[1;32m    192\u001b[0m     \u001b[0m_restart\u001b[0m \u001b[0;34m=\u001b[0m \u001b[0mparser\u001b[0m\u001b[0;34m.\u001b[0m\u001b[0mrestart\u001b[0m\u001b[0;34m\u001b[0m\u001b[0m\n\u001b[0;32m--> 193\u001b[0;31m     \u001b[0mr\u001b[0m \u001b[0;34m=\u001b[0m \u001b[0merrorfunc\u001b[0m\u001b[0;34m(\u001b[0m\u001b[0mtoken\u001b[0m\u001b[0;34m)\u001b[0m\u001b[0;34m\u001b[0m\u001b[0m\n\u001b[0m\u001b[1;32m    194\u001b[0m     \u001b[0;32mtry\u001b[0m\u001b[0;34m:\u001b[0m\u001b[0;34m\u001b[0m\u001b[0m\n",
      "\u001b[0;32m~/anaconda3/envs/py36/lib/python3.6/site-packages/pycparser/c_parser.py\u001b[0m in \u001b[0;36mp_error\u001b[0;34m(self, p)\u001b[0m\n\u001b[1;32m   1760\u001b[0m                 self._coord(lineno=p.lineno,\n\u001b[0;32m-> 1761\u001b[0;31m                             column=self.clex.find_tok_column(p)))\n\u001b[0m\u001b[1;32m   1762\u001b[0m         \u001b[0;32melse\u001b[0m\u001b[0;34m:\u001b[0m\u001b[0;34m\u001b[0m\u001b[0m\n",
      "\u001b[0;32m~/anaconda3/envs/py36/lib/python3.6/site-packages/pycparser/plyparser.py\u001b[0m in \u001b[0;36m_parse_error\u001b[0;34m(self, msg, coord)\u001b[0m\n\u001b[1;32m     65\u001b[0m     \u001b[0;32mdef\u001b[0m \u001b[0m_parse_error\u001b[0m\u001b[0;34m(\u001b[0m\u001b[0mself\u001b[0m\u001b[0;34m,\u001b[0m \u001b[0mmsg\u001b[0m\u001b[0;34m,\u001b[0m \u001b[0mcoord\u001b[0m\u001b[0;34m)\u001b[0m\u001b[0;34m:\u001b[0m\u001b[0;34m\u001b[0m\u001b[0m\n\u001b[0;32m---> 66\u001b[0;31m         \u001b[0;32mraise\u001b[0m \u001b[0mParseError\u001b[0m\u001b[0;34m(\u001b[0m\u001b[0;34m\"%s: %s\"\u001b[0m \u001b[0;34m%\u001b[0m \u001b[0;34m(\u001b[0m\u001b[0mcoord\u001b[0m\u001b[0;34m,\u001b[0m \u001b[0mmsg\u001b[0m\u001b[0;34m)\u001b[0m\u001b[0;34m)\u001b[0m\u001b[0;34m\u001b[0m\u001b[0m\n\u001b[0m\u001b[1;32m     67\u001b[0m \u001b[0;34m\u001b[0m\u001b[0m\n",
      "\u001b[0;31mParseError\u001b[0m: <cdef source string>:2:11: before: *",
      "\nDuring handling of the above exception, another exception occurred:\n",
      "\u001b[0;31mCDefError\u001b[0m                                 Traceback (most recent call last)",
      "\u001b[0;32m<ipython-input-70-0db6ff9ce948>\u001b[0m in \u001b[0;36m<module>\u001b[0;34m()\u001b[0m\n\u001b[0;32m----> 1\u001b[0;31m \u001b[0msafeUtils\u001b[0m\u001b[0;34m.\u001b[0m\u001b[0mcopy\u001b[0m\u001b[0;34m(\u001b[0m\u001b[0mgrantedAuth\u001b[0m\u001b[0;34m)\u001b[0m\u001b[0;34m\u001b[0m\u001b[0m\n\u001b[0m",
      "\u001b[0;32m~/maidsafe/pySafe/pySafe/safeUtils.py\u001b[0m in \u001b[0;36mcopy\u001b[0;34m(data)\u001b[0m\n\u001b[1;32m     15\u001b[0m \u001b[0;34m\u001b[0m\u001b[0m\n\u001b[1;32m     16\u001b[0m \u001b[0;32mdef\u001b[0m \u001b[0mcopy\u001b[0m\u001b[0;34m(\u001b[0m\u001b[0mdata\u001b[0m\u001b[0;34m)\u001b[0m\u001b[0;34m:\u001b[0m\u001b[0;34m\u001b[0m\u001b[0m\n\u001b[0;32m---> 17\u001b[0;31m     \u001b[0;32mif\u001b[0m \u001b[0mffi\u001b[0m\u001b[0;34m.\u001b[0m\u001b[0mtypeof\u001b[0m\u001b[0;34m(\u001b[0m\u001b[0mdata\u001b[0m\u001b[0;34m)\u001b[0m \u001b[0;34m==\u001b[0m \u001b[0mffi\u001b[0m\u001b[0;34m.\u001b[0m\u001b[0mtypeof\u001b[0m\u001b[0;34m(\u001b[0m\u001b[0mffi\u001b[0m\u001b[0;34m.\u001b[0m\u001b[0mnew\u001b[0m\u001b[0;34m(\u001b[0m\u001b[0;34m'FfiResult *'\u001b[0m\u001b[0;34m)\u001b[0m\u001b[0;34m)\u001b[0m\u001b[0;34m:\u001b[0m\u001b[0;34m\u001b[0m\u001b[0m\n\u001b[0m\u001b[1;32m     18\u001b[0m         \u001b[0mnewData\u001b[0m \u001b[0;34m=\u001b[0m \u001b[0mffi\u001b[0m\u001b[0;34m.\u001b[0m\u001b[0mnew\u001b[0m\u001b[0;34m(\u001b[0m\u001b[0mffi\u001b[0m\u001b[0;34m.\u001b[0m\u001b[0mtypeof\u001b[0m\u001b[0;34m(\u001b[0m\u001b[0mdata\u001b[0m\u001b[0;34m)\u001b[0m\u001b[0;34m,\u001b[0m\u001b[0mdata\u001b[0m\u001b[0;34m[\u001b[0m\u001b[0;36m0\u001b[0m\u001b[0;34m]\u001b[0m\u001b[0;34m)\u001b[0m\u001b[0;34m\u001b[0m\u001b[0m\n\u001b[1;32m     19\u001b[0m \u001b[0;34m\u001b[0m\u001b[0m\n",
      "\u001b[0;32m~/anaconda3/envs/py36/lib/python3.6/site-packages/cffi/api.py\u001b[0m in \u001b[0;36mnew\u001b[0;34m(self, cdecl, init)\u001b[0m\n\u001b[1;32m    248\u001b[0m         \"\"\"\n\u001b[1;32m    249\u001b[0m         \u001b[0;32mif\u001b[0m \u001b[0misinstance\u001b[0m\u001b[0;34m(\u001b[0m\u001b[0mcdecl\u001b[0m\u001b[0;34m,\u001b[0m \u001b[0mbasestring\u001b[0m\u001b[0;34m)\u001b[0m\u001b[0;34m:\u001b[0m\u001b[0;34m\u001b[0m\u001b[0m\n\u001b[0;32m--> 250\u001b[0;31m             \u001b[0mcdecl\u001b[0m \u001b[0;34m=\u001b[0m \u001b[0mself\u001b[0m\u001b[0;34m.\u001b[0m\u001b[0m_typeof\u001b[0m\u001b[0;34m(\u001b[0m\u001b[0mcdecl\u001b[0m\u001b[0;34m)\u001b[0m\u001b[0;34m\u001b[0m\u001b[0m\n\u001b[0m\u001b[1;32m    251\u001b[0m         \u001b[0;32mreturn\u001b[0m \u001b[0mself\u001b[0m\u001b[0;34m.\u001b[0m\u001b[0m_backend\u001b[0m\u001b[0;34m.\u001b[0m\u001b[0mnewp\u001b[0m\u001b[0;34m(\u001b[0m\u001b[0mcdecl\u001b[0m\u001b[0;34m,\u001b[0m \u001b[0minit\u001b[0m\u001b[0;34m)\u001b[0m\u001b[0;34m\u001b[0m\u001b[0m\n\u001b[1;32m    252\u001b[0m \u001b[0;34m\u001b[0m\u001b[0m\n",
      "\u001b[0;32m~/anaconda3/envs/py36/lib/python3.6/site-packages/cffi/api.py\u001b[0m in \u001b[0;36m_typeof\u001b[0;34m(self, cdecl, consider_function_as_funcptr)\u001b[0m\n\u001b[1;32m    168\u001b[0m         \u001b[0;32mexcept\u001b[0m \u001b[0mKeyError\u001b[0m\u001b[0;34m:\u001b[0m\u001b[0;34m\u001b[0m\u001b[0m\n\u001b[1;32m    169\u001b[0m             \u001b[0;32mwith\u001b[0m \u001b[0mself\u001b[0m\u001b[0;34m.\u001b[0m\u001b[0m_lock\u001b[0m\u001b[0;34m:\u001b[0m\u001b[0;34m\u001b[0m\u001b[0m\n\u001b[0;32m--> 170\u001b[0;31m                 \u001b[0mresult\u001b[0m \u001b[0;34m=\u001b[0m \u001b[0mself\u001b[0m\u001b[0;34m.\u001b[0m\u001b[0m_typeof_locked\u001b[0m\u001b[0;34m(\u001b[0m\u001b[0mcdecl\u001b[0m\u001b[0;34m)\u001b[0m\u001b[0;34m\u001b[0m\u001b[0m\n\u001b[0m\u001b[1;32m    171\u001b[0m         \u001b[0;31m#\u001b[0m\u001b[0;34m\u001b[0m\u001b[0;34m\u001b[0m\u001b[0m\n\u001b[1;32m    172\u001b[0m         \u001b[0mbtype\u001b[0m\u001b[0;34m,\u001b[0m \u001b[0mreally_a_function_type\u001b[0m \u001b[0;34m=\u001b[0m \u001b[0mresult\u001b[0m\u001b[0;34m\u001b[0m\u001b[0m\n",
      "\u001b[0;32m~/anaconda3/envs/py36/lib/python3.6/site-packages/cffi/api.py\u001b[0m in \u001b[0;36m_typeof_locked\u001b[0;34m(self, cdecl)\u001b[0m\n\u001b[1;32m    153\u001b[0m             \u001b[0mcdecl\u001b[0m \u001b[0;34m=\u001b[0m \u001b[0mcdecl\u001b[0m\u001b[0;34m.\u001b[0m\u001b[0mencode\u001b[0m\u001b[0;34m(\u001b[0m\u001b[0;34m'ascii'\u001b[0m\u001b[0;34m)\u001b[0m\u001b[0;34m\u001b[0m\u001b[0m\n\u001b[1;32m    154\u001b[0m         \u001b[0;31m#\u001b[0m\u001b[0;34m\u001b[0m\u001b[0;34m\u001b[0m\u001b[0m\n\u001b[0;32m--> 155\u001b[0;31m         \u001b[0mtype\u001b[0m \u001b[0;34m=\u001b[0m \u001b[0mself\u001b[0m\u001b[0;34m.\u001b[0m\u001b[0m_parser\u001b[0m\u001b[0;34m.\u001b[0m\u001b[0mparse_type\u001b[0m\u001b[0;34m(\u001b[0m\u001b[0mcdecl\u001b[0m\u001b[0;34m)\u001b[0m\u001b[0;34m\u001b[0m\u001b[0m\n\u001b[0m\u001b[1;32m    156\u001b[0m         \u001b[0mreally_a_function_type\u001b[0m \u001b[0;34m=\u001b[0m \u001b[0mtype\u001b[0m\u001b[0;34m.\u001b[0m\u001b[0mis_raw_function\u001b[0m\u001b[0;34m\u001b[0m\u001b[0m\n\u001b[1;32m    157\u001b[0m         \u001b[0;32mif\u001b[0m \u001b[0mreally_a_function_type\u001b[0m\u001b[0;34m:\u001b[0m\u001b[0;34m\u001b[0m\u001b[0m\n",
      "\u001b[0;32m~/anaconda3/envs/py36/lib/python3.6/site-packages/cffi/cparser.py\u001b[0m in \u001b[0;36mparse_type\u001b[0;34m(self, cdecl)\u001b[0m\n\u001b[1;32m    474\u001b[0m \u001b[0;34m\u001b[0m\u001b[0m\n\u001b[1;32m    475\u001b[0m     \u001b[0;32mdef\u001b[0m \u001b[0mparse_type\u001b[0m\u001b[0;34m(\u001b[0m\u001b[0mself\u001b[0m\u001b[0;34m,\u001b[0m \u001b[0mcdecl\u001b[0m\u001b[0;34m)\u001b[0m\u001b[0;34m:\u001b[0m\u001b[0;34m\u001b[0m\u001b[0m\n\u001b[0;32m--> 476\u001b[0;31m         \u001b[0;32mreturn\u001b[0m \u001b[0mself\u001b[0m\u001b[0;34m.\u001b[0m\u001b[0mparse_type_and_quals\u001b[0m\u001b[0;34m(\u001b[0m\u001b[0mcdecl\u001b[0m\u001b[0;34m)\u001b[0m\u001b[0;34m[\u001b[0m\u001b[0;36m0\u001b[0m\u001b[0;34m]\u001b[0m\u001b[0;34m\u001b[0m\u001b[0m\n\u001b[0m\u001b[1;32m    477\u001b[0m \u001b[0;34m\u001b[0m\u001b[0m\n\u001b[1;32m    478\u001b[0m     \u001b[0;32mdef\u001b[0m \u001b[0mparse_type_and_quals\u001b[0m\u001b[0;34m(\u001b[0m\u001b[0mself\u001b[0m\u001b[0;34m,\u001b[0m \u001b[0mcdecl\u001b[0m\u001b[0;34m)\u001b[0m\u001b[0;34m:\u001b[0m\u001b[0;34m\u001b[0m\u001b[0m\n",
      "\u001b[0;32m~/anaconda3/envs/py36/lib/python3.6/site-packages/cffi/cparser.py\u001b[0m in \u001b[0;36mparse_type_and_quals\u001b[0;34m(self, cdecl)\u001b[0m\n\u001b[1;32m    477\u001b[0m \u001b[0;34m\u001b[0m\u001b[0m\n\u001b[1;32m    478\u001b[0m     \u001b[0;32mdef\u001b[0m \u001b[0mparse_type_and_quals\u001b[0m\u001b[0;34m(\u001b[0m\u001b[0mself\u001b[0m\u001b[0;34m,\u001b[0m \u001b[0mcdecl\u001b[0m\u001b[0;34m)\u001b[0m\u001b[0;34m:\u001b[0m\u001b[0;34m\u001b[0m\u001b[0m\n\u001b[0;32m--> 479\u001b[0;31m         \u001b[0mast\u001b[0m\u001b[0;34m,\u001b[0m \u001b[0mmacros\u001b[0m \u001b[0;34m=\u001b[0m \u001b[0mself\u001b[0m\u001b[0;34m.\u001b[0m\u001b[0m_parse\u001b[0m\u001b[0;34m(\u001b[0m\u001b[0;34m'void __dummy(\\n%s\\n);'\u001b[0m \u001b[0;34m%\u001b[0m \u001b[0mcdecl\u001b[0m\u001b[0;34m)\u001b[0m\u001b[0;34m[\u001b[0m\u001b[0;34m:\u001b[0m\u001b[0;36m2\u001b[0m\u001b[0;34m]\u001b[0m\u001b[0;34m\u001b[0m\u001b[0m\n\u001b[0m\u001b[1;32m    480\u001b[0m         \u001b[0;32massert\u001b[0m \u001b[0;32mnot\u001b[0m \u001b[0mmacros\u001b[0m\u001b[0;34m\u001b[0m\u001b[0m\n\u001b[1;32m    481\u001b[0m         \u001b[0mexprnode\u001b[0m \u001b[0;34m=\u001b[0m \u001b[0mast\u001b[0m\u001b[0;34m.\u001b[0m\u001b[0mext\u001b[0m\u001b[0;34m[\u001b[0m\u001b[0;34m-\u001b[0m\u001b[0;36m1\u001b[0m\u001b[0;34m]\u001b[0m\u001b[0;34m.\u001b[0m\u001b[0mtype\u001b[0m\u001b[0;34m.\u001b[0m\u001b[0margs\u001b[0m\u001b[0;34m.\u001b[0m\u001b[0mparams\u001b[0m\u001b[0;34m[\u001b[0m\u001b[0;36m0\u001b[0m\u001b[0;34m]\u001b[0m\u001b[0;34m\u001b[0m\u001b[0m\n",
      "\u001b[0;32m~/anaconda3/envs/py36/lib/python3.6/site-packages/cffi/cparser.py\u001b[0m in \u001b[0;36m_parse\u001b[0;34m(self, csource)\u001b[0m\n\u001b[1;32m    276\u001b[0m             \u001b[0mast\u001b[0m \u001b[0;34m=\u001b[0m \u001b[0m_get_parser\u001b[0m\u001b[0;34m(\u001b[0m\u001b[0;34m)\u001b[0m\u001b[0;34m.\u001b[0m\u001b[0mparse\u001b[0m\u001b[0;34m(\u001b[0m\u001b[0mfullcsource\u001b[0m\u001b[0;34m)\u001b[0m\u001b[0;34m\u001b[0m\u001b[0m\n\u001b[1;32m    277\u001b[0m         \u001b[0;32mexcept\u001b[0m \u001b[0mpycparser\u001b[0m\u001b[0;34m.\u001b[0m\u001b[0mc_parser\u001b[0m\u001b[0;34m.\u001b[0m\u001b[0mParseError\u001b[0m \u001b[0;32mas\u001b[0m \u001b[0me\u001b[0m\u001b[0;34m:\u001b[0m\u001b[0;34m\u001b[0m\u001b[0m\n\u001b[0;32m--> 278\u001b[0;31m             \u001b[0mself\u001b[0m\u001b[0;34m.\u001b[0m\u001b[0mconvert_pycparser_error\u001b[0m\u001b[0;34m(\u001b[0m\u001b[0me\u001b[0m\u001b[0;34m,\u001b[0m \u001b[0mcsource\u001b[0m\u001b[0;34m)\u001b[0m\u001b[0;34m\u001b[0m\u001b[0m\n\u001b[0m\u001b[1;32m    279\u001b[0m         \u001b[0;32mfinally\u001b[0m\u001b[0;34m:\u001b[0m\u001b[0;34m\u001b[0m\u001b[0m\n\u001b[1;32m    280\u001b[0m             \u001b[0;32mif\u001b[0m \u001b[0mlock\u001b[0m \u001b[0;32mis\u001b[0m \u001b[0;32mnot\u001b[0m \u001b[0;32mNone\u001b[0m\u001b[0;34m:\u001b[0m\u001b[0;34m\u001b[0m\u001b[0m\n",
      "\u001b[0;32m~/anaconda3/envs/py36/lib/python3.6/site-packages/cffi/cparser.py\u001b[0m in \u001b[0;36mconvert_pycparser_error\u001b[0;34m(self, e, csource)\u001b[0m\n\u001b[1;32m    305\u001b[0m         \u001b[0;32melse\u001b[0m\u001b[0;34m:\u001b[0m\u001b[0;34m\u001b[0m\u001b[0m\n\u001b[1;32m    306\u001b[0m             \u001b[0mmsg\u001b[0m \u001b[0;34m=\u001b[0m \u001b[0;34m'parse error\\n%s'\u001b[0m \u001b[0;34m%\u001b[0m \u001b[0;34m(\u001b[0m\u001b[0mmsg\u001b[0m\u001b[0;34m,\u001b[0m\u001b[0;34m)\u001b[0m\u001b[0;34m\u001b[0m\u001b[0m\n\u001b[0;32m--> 307\u001b[0;31m         \u001b[0;32mraise\u001b[0m \u001b[0mCDefError\u001b[0m\u001b[0;34m(\u001b[0m\u001b[0mmsg\u001b[0m\u001b[0;34m)\u001b[0m\u001b[0;34m\u001b[0m\u001b[0m\n\u001b[0m\u001b[1;32m    308\u001b[0m \u001b[0;34m\u001b[0m\u001b[0m\n\u001b[1;32m    309\u001b[0m     \u001b[0;32mdef\u001b[0m \u001b[0mparse\u001b[0m\u001b[0;34m(\u001b[0m\u001b[0mself\u001b[0m\u001b[0;34m,\u001b[0m \u001b[0mcsource\u001b[0m\u001b[0;34m,\u001b[0m \u001b[0moverride\u001b[0m\u001b[0;34m=\u001b[0m\u001b[0;32mFalse\u001b[0m\u001b[0;34m,\u001b[0m \u001b[0mpacked\u001b[0m\u001b[0;34m=\u001b[0m\u001b[0;32mFalse\u001b[0m\u001b[0;34m,\u001b[0m \u001b[0mdllexport\u001b[0m\u001b[0;34m=\u001b[0m\u001b[0;32mFalse\u001b[0m\u001b[0;34m)\u001b[0m\u001b[0;34m:\u001b[0m\u001b[0;34m\u001b[0m\u001b[0m\n",
      "\u001b[0;31mCDefError\u001b[0m: cannot parse \"FfiResult *\"\n<cdef source string>:2:11: before: *"
     ]
    }
   ],
   "source": [
    "safeUtils.copy(grantedAuth)"
   ]
  },
  {
   "cell_type": "code",
   "execution_count": 69,
   "metadata": {},
   "outputs": [
    {
     "data": {
      "text/plain": [
       "(<cdata 'AuthGranted *' owning 336 bytes>,\n",
       " [<cdata 'unsigned char[]' owning 16 bytes>,\n",
       "  <cdata 'ContainerInfo[]' owning 0 bytes>,\n",
       "  []])"
      ]
     },
     "execution_count": 69,
     "metadata": {},
     "output_type": "execute_result"
    }
   ],
   "source": [
    "getCopy(grantedAuth)"
   ]
  },
  {
   "cell_type": "code",
   "execution_count": 208,
   "metadata": {},
   "outputs": [
    {
     "ename": "TypeError",
     "evalue": "unpack() argument 1 must be _cffi_backend.CData, not str",
     "output_type": "error",
     "traceback": [
      "\u001b[0;31m---------------------------------------------------------------------------\u001b[0m",
      "\u001b[0;31mTypeError\u001b[0m                                 Traceback (most recent call last)",
      "\u001b[0;32m<ipython-input-208-ae851526979f>\u001b[0m in \u001b[0;36m<module>\u001b[0;34m()\u001b[0m\n\u001b[0;32m----> 1\u001b[0;31m \u001b[0mffi\u001b[0m\u001b[0;34m.\u001b[0m\u001b[0munpack\u001b[0m\u001b[0;34m(\u001b[0m\u001b[0;34m'int[]'\u001b[0m\u001b[0;34m,\u001b[0m\u001b[0mffi\u001b[0m\u001b[0;34m.\u001b[0m\u001b[0mbuffer\u001b[0m\u001b[0;34m(\u001b[0m\u001b[0mgrantedAuth\u001b[0m\u001b[0;34m.\u001b[0m\u001b[0mbootstrap_config\u001b[0m\u001b[0;34m,\u001b[0m\u001b[0mint\u001b[0m\u001b[0;34m(\u001b[0m\u001b[0mgrantedAuth\u001b[0m\u001b[0;34m.\u001b[0m\u001b[0mbootstrap_config_len\u001b[0m\u001b[0;34m)\u001b[0m\u001b[0;34m)\u001b[0m\u001b[0;34m[\u001b[0m\u001b[0;34m:\u001b[0m\u001b[0;34m]\u001b[0m\u001b[0;34m)\u001b[0m\u001b[0;34m\u001b[0m\u001b[0m\n\u001b[0m",
      "\u001b[0;32m~/anaconda3/envs/py36/lib/python3.6/site-packages/cffi/api.py\u001b[0m in \u001b[0;36munpack\u001b[0;34m(self, cdata, length)\u001b[0m\n\u001b[1;32m    317\u001b[0m         \u001b[0;34m[\u001b[0m\u001b[0mcdata\u001b[0m\u001b[0;34m[\u001b[0m\u001b[0mi\u001b[0m\u001b[0;34m]\u001b[0m \u001b[0;32mfor\u001b[0m \u001b[0mi\u001b[0m \u001b[0;32min\u001b[0m \u001b[0mrange\u001b[0m\u001b[0;34m(\u001b[0m\u001b[0mlength\u001b[0m\u001b[0;34m)\u001b[0m\u001b[0;34m]\u001b[0m\u001b[0;34m\u001b[0m\u001b[0m\n\u001b[1;32m    318\u001b[0m         \"\"\"\n\u001b[0;32m--> 319\u001b[0;31m         \u001b[0;32mreturn\u001b[0m \u001b[0mself\u001b[0m\u001b[0;34m.\u001b[0m\u001b[0m_backend\u001b[0m\u001b[0;34m.\u001b[0m\u001b[0munpack\u001b[0m\u001b[0;34m(\u001b[0m\u001b[0mcdata\u001b[0m\u001b[0;34m,\u001b[0m \u001b[0mlength\u001b[0m\u001b[0;34m)\u001b[0m\u001b[0;34m\u001b[0m\u001b[0m\n\u001b[0m\u001b[1;32m    320\u001b[0m \u001b[0;34m\u001b[0m\u001b[0m\n\u001b[1;32m    321\u001b[0m    \u001b[0;31m#def buffer(self, cdata, size=-1):\u001b[0m\u001b[0;34m\u001b[0m\u001b[0;34m\u001b[0m\u001b[0m\n",
      "\u001b[0;31mTypeError\u001b[0m: unpack() argument 1 must be _cffi_backend.CData, not str"
     ]
    }
   ],
   "source": [
    "ffi.unpack('int[]',ffi.from_buffer(ffi.buffer(grantedAuth.bootstrap_config,int(grantedAuth.bootstrap_config_len))[:]))"
   ]
  },
  {
   "cell_type": "code",
   "execution_count": 208,
   "metadata": {},
   "outputs": [
    {
     "ename": "TypeError",
     "evalue": "unpack() argument 1 must be _cffi_backend.CData, not str",
     "output_type": "error",
     "traceback": [
      "\u001b[0;31m---------------------------------------------------------------------------\u001b[0m",
      "\u001b[0;31mTypeError\u001b[0m                                 Traceback (most recent call last)",
      "\u001b[0;32m<ipython-input-208-ae851526979f>\u001b[0m in \u001b[0;36m<module>\u001b[0;34m()\u001b[0m\n\u001b[0;32m----> 1\u001b[0;31m \u001b[0mffi\u001b[0m\u001b[0;34m.\u001b[0m\u001b[0munpack\u001b[0m\u001b[0;34m(\u001b[0m\u001b[0;34m'int[]'\u001b[0m\u001b[0;34m,\u001b[0m\u001b[0mffi\u001b[0m\u001b[0;34m.\u001b[0m\u001b[0mbuffer\u001b[0m\u001b[0;34m(\u001b[0m\u001b[0mgrantedAuth\u001b[0m\u001b[0;34m.\u001b[0m\u001b[0mbootstrap_config\u001b[0m\u001b[0;34m,\u001b[0m\u001b[0mint\u001b[0m\u001b[0;34m(\u001b[0m\u001b[0mgrantedAuth\u001b[0m\u001b[0;34m.\u001b[0m\u001b[0mbootstrap_config_len\u001b[0m\u001b[0;34m)\u001b[0m\u001b[0;34m)\u001b[0m\u001b[0;34m[\u001b[0m\u001b[0;34m:\u001b[0m\u001b[0;34m]\u001b[0m\u001b[0;34m)\u001b[0m\u001b[0;34m\u001b[0m\u001b[0m\n\u001b[0m",
      "\u001b[0;32m~/anaconda3/envs/py36/lib/python3.6/site-packages/cffi/api.py\u001b[0m in \u001b[0;36munpack\u001b[0;34m(self, cdata, length)\u001b[0m\n\u001b[1;32m    317\u001b[0m         \u001b[0;34m[\u001b[0m\u001b[0mcdata\u001b[0m\u001b[0;34m[\u001b[0m\u001b[0mi\u001b[0m\u001b[0;34m]\u001b[0m \u001b[0;32mfor\u001b[0m \u001b[0mi\u001b[0m \u001b[0;32min\u001b[0m \u001b[0mrange\u001b[0m\u001b[0;34m(\u001b[0m\u001b[0mlength\u001b[0m\u001b[0;34m)\u001b[0m\u001b[0;34m]\u001b[0m\u001b[0;34m\u001b[0m\u001b[0m\n\u001b[1;32m    318\u001b[0m         \"\"\"\n\u001b[0;32m--> 319\u001b[0;31m         \u001b[0;32mreturn\u001b[0m \u001b[0mself\u001b[0m\u001b[0;34m.\u001b[0m\u001b[0m_backend\u001b[0m\u001b[0;34m.\u001b[0m\u001b[0munpack\u001b[0m\u001b[0;34m(\u001b[0m\u001b[0mcdata\u001b[0m\u001b[0;34m,\u001b[0m \u001b[0mlength\u001b[0m\u001b[0;34m)\u001b[0m\u001b[0;34m\u001b[0m\u001b[0m\n\u001b[0m\u001b[1;32m    320\u001b[0m \u001b[0;34m\u001b[0m\u001b[0m\n\u001b[1;32m    321\u001b[0m    \u001b[0;31m#def buffer(self, cdata, size=-1):\u001b[0m\u001b[0;34m\u001b[0m\u001b[0;34m\u001b[0m\u001b[0m\n",
      "\u001b[0;31mTypeError\u001b[0m: unpack() argument 1 must be _cffi_backend.CData, not str"
     ]
    }
   ],
   "source": [
    "ffi.unpack('int[]',ffi.from_buffer(ffi.buffer(grantedAuth.bootstrap_config,int(grantedAuth.bootstrap_config_len))[:]))"
   ]
  },
  {
   "cell_type": "code",
   "execution_count": 193,
   "metadata": {},
   "outputs": [
    {
     "data": {
      "text/plain": [
       "True"
      ]
     },
     "execution_count": 193,
     "metadata": {},
     "output_type": "execute_result"
    }
   ],
   "source": [
    "ffi.typeof(grantedAuth) == ffi.typeof(ffi.new('AuthGranted *'))"
   ]
  },
  {
   "cell_type": "code",
   "execution_count": 194,
   "metadata": {},
   "outputs": [
    {
     "data": {
      "text/plain": [
       "False"
      ]
     },
     "execution_count": 194,
     "metadata": {},
     "output_type": "execute_result"
    }
   ],
   "source": [
    "ffi.typeof(grantedAuth.app_keys) == ffi.typeof(ffi.new('AuthGranted *'))"
   ]
  },
  {
   "cell_type": "code",
   "execution_count": 189,
   "metadata": {},
   "outputs": [
    {
     "data": {
      "text/plain": [
       "'AuthGranted *'"
      ]
     },
     "execution_count": 189,
     "metadata": {},
     "output_type": "execute_result"
    }
   ],
   "source": []
  },
  {
   "cell_type": "code",
   "execution_count": 184,
   "metadata": {},
   "outputs": [
    {
     "ename": "TypeError",
     "evalue": "cannot cast to ctype 'int[]'",
     "output_type": "error",
     "traceback": [
      "\u001b[0;31m---------------------------------------------------------------------------\u001b[0m",
      "\u001b[0;31mTypeError\u001b[0m                                 Traceback (most recent call last)",
      "\u001b[0;32m<ipython-input-184-30f544294dce>\u001b[0m in \u001b[0;36m<module>\u001b[0;34m()\u001b[0m\n\u001b[0;32m----> 1\u001b[0;31m \u001b[0mffi\u001b[0m\u001b[0;34m.\u001b[0m\u001b[0mcast\u001b[0m\u001b[0;34m(\u001b[0m\u001b[0;34m'int []'\u001b[0m\u001b[0;34m,\u001b[0m\u001b[0mtest\u001b[0m\u001b[0;34m)\u001b[0m\u001b[0;34m\u001b[0m\u001b[0m\n\u001b[0m",
      "\u001b[0;32m~/anaconda3/envs/py36/lib/python3.6/site-packages/cffi/api.py\u001b[0m in \u001b[0;36mcast\u001b[0;34m(self, cdecl, source)\u001b[0m\n\u001b[1;32m    282\u001b[0m         \u001b[0;32mif\u001b[0m \u001b[0misinstance\u001b[0m\u001b[0;34m(\u001b[0m\u001b[0mcdecl\u001b[0m\u001b[0;34m,\u001b[0m \u001b[0mbasestring\u001b[0m\u001b[0;34m)\u001b[0m\u001b[0;34m:\u001b[0m\u001b[0;34m\u001b[0m\u001b[0m\n\u001b[1;32m    283\u001b[0m             \u001b[0mcdecl\u001b[0m \u001b[0;34m=\u001b[0m \u001b[0mself\u001b[0m\u001b[0;34m.\u001b[0m\u001b[0m_typeof\u001b[0m\u001b[0;34m(\u001b[0m\u001b[0mcdecl\u001b[0m\u001b[0;34m)\u001b[0m\u001b[0;34m\u001b[0m\u001b[0m\n\u001b[0;32m--> 284\u001b[0;31m         \u001b[0;32mreturn\u001b[0m \u001b[0mself\u001b[0m\u001b[0;34m.\u001b[0m\u001b[0m_backend\u001b[0m\u001b[0;34m.\u001b[0m\u001b[0mcast\u001b[0m\u001b[0;34m(\u001b[0m\u001b[0mcdecl\u001b[0m\u001b[0;34m,\u001b[0m \u001b[0msource\u001b[0m\u001b[0;34m)\u001b[0m\u001b[0;34m\u001b[0m\u001b[0m\n\u001b[0m\u001b[1;32m    285\u001b[0m \u001b[0;34m\u001b[0m\u001b[0m\n\u001b[1;32m    286\u001b[0m     \u001b[0;32mdef\u001b[0m \u001b[0mstring\u001b[0m\u001b[0;34m(\u001b[0m\u001b[0mself\u001b[0m\u001b[0;34m,\u001b[0m \u001b[0mcdata\u001b[0m\u001b[0;34m,\u001b[0m \u001b[0mmaxlen\u001b[0m\u001b[0;34m=\u001b[0m\u001b[0;34m-\u001b[0m\u001b[0;36m1\u001b[0m\u001b[0;34m)\u001b[0m\u001b[0;34m:\u001b[0m\u001b[0;34m\u001b[0m\u001b[0m\n",
      "\u001b[0;31mTypeError\u001b[0m: cannot cast to ctype 'int[]'"
     ]
    }
   ],
   "source": [
    "ffi.cast('int[]',test)"
   ]
  },
  {
   "cell_type": "code",
   "execution_count": 199,
   "metadata": {},
   "outputs": [
    {
     "data": {
      "text/plain": [
       "0"
      ]
     },
     "execution_count": 199,
     "metadata": {},
     "output_type": "execute_result"
    }
   ],
   "source": [
    "grantedAuth.bootstrap_config[0]"
   ]
  },
  {
   "cell_type": "code",
   "execution_count": 201,
   "metadata": {},
   "outputs": [
    {
     "data": {
      "text/plain": [
       "b'\\x00\\x00\\x00\\x00\\x00\\x00\\x00\\x00\\x00\\x00\\x00\\x00\\x00\\x00\\x00\\x00'"
      ]
     },
     "execution_count": 201,
     "metadata": {},
     "output_type": "execute_result"
    }
   ],
   "source": [
    "ffi.buffer(grantedAuth.bootstrap_config,int(grantedAuth.bootstrap_config_len))[:]"
   ]
  },
  {
   "cell_type": "code",
   "execution_count": 195,
   "metadata": {},
   "outputs": [
    {
     "data": {
      "text/plain": [
       "<cdata 'char[]' buffer len 16 from 'bytes' object>"
      ]
     },
     "execution_count": 195,
     "metadata": {},
     "output_type": "execute_result"
    }
   ],
   "source": [
    "ffi.from_buffer(ffi.buffer(grantedAuth.bootstrap_config,int(grantedAuth.bootstrap_config_len))[:])"
   ]
  },
  {
   "cell_type": "code",
   "execution_count": 179,
   "metadata": {},
   "outputs": [
    {
     "data": {
      "text/plain": [
       "<cdata 'unsigned char[]' owning 17 bytes>"
      ]
     },
     "execution_count": 179,
     "metadata": {},
     "output_type": "execute_result"
    }
   ],
   "source": [
    "ffi.new('unsigned char[]',ffi.buffer(grantedAuth.bootstrap_config,int(grantedAuth.bootstrap_config_len))[:])"
   ]
  },
  {
   "cell_type": "code",
   "execution_count": 215,
   "metadata": {},
   "outputs": [
    {
     "data": {
      "text/plain": [
       "<cdata 'unsigned char[]' owning 16 bytes>"
      ]
     },
     "execution_count": 215,
     "metadata": {},
     "output_type": "execute_result"
    }
   ],
   "source": [
    "ffi.new('unsigned char[]',16)"
   ]
  },
  {
   "cell_type": "code",
   "execution_count": 211,
   "metadata": {},
   "outputs": [
    {
     "data": {
      "text/plain": [
       "b'\\x00\\x00\\x00\\x00\\x00\\x00\\x00\\x00\\x00\\x00\\x00\\x00\\x00\\x00\\x00\\x00'"
      ]
     },
     "execution_count": 211,
     "metadata": {},
     "output_type": "execute_result"
    }
   ],
   "source": [
    "ffi.buffer(grantedAuth.bootstrap_config,int(grantedAuth.bootstrap_config_len))[:]"
   ]
  },
  {
   "cell_type": "code",
   "execution_count": null,
   "metadata": {},
   "outputs": [],
   "source": [
    "ffi.sizeof()"
   ]
  },
  {
   "cell_type": "code",
   "execution_count": 67,
   "metadata": {},
   "outputs": [
    {
     "data": {
      "text/plain": [
       "16"
      ]
     },
     "execution_count": 67,
     "metadata": {},
     "output_type": "execute_result"
    }
   ],
   "source": [
    "grantedAuth.bootstrap_config_cap"
   ]
  },
  {
   "cell_type": "code",
   "execution_count": 209,
   "metadata": {},
   "outputs": [
    {
     "data": {
      "text/plain": [
       "[0, 0, 0, 0, 0, 0, 0, 0, 0, 0, 0, 0, 0, 0, 0, 0]"
      ]
     },
     "execution_count": 209,
     "metadata": {},
     "output_type": "execute_result"
    }
   ],
   "source": [
    "ffi.unpack(grantedAuth.bootstrap_config,16)"
   ]
  },
  {
   "cell_type": "code",
   "execution_count": null,
   "metadata": {},
   "outputs": [],
   "source": []
  },
  {
   "cell_type": "code",
   "execution_count": 157,
   "metadata": {},
   "outputs": [
    {
     "data": {
      "text/plain": [
       "<cdata 'AuthGranted *' owning 336 bytes>"
      ]
     },
     "execution_count": 157,
     "metadata": {},
     "output_type": "execute_result"
    }
   ],
   "source": [
    "grantedAuth"
   ]
  },
  {
   "cell_type": "code",
   "execution_count": 159,
   "metadata": {},
   "outputs": [
    {
     "data": {
      "text/plain": [
       "(['AccessContInfo',\n",
       "  'AccessContainerEntry',\n",
       "  'AccountInfo',\n",
       "  'App',\n",
       "  'AppAccess',\n",
       "  'AppExchangeInfo',\n",
       "  'AppKeys',\n",
       "  'AsymNonce',\n",
       "  'AsymPublicKey',\n",
       "  'AsymSecretKey',\n",
       "  'AuthGranted',\n",
       "  'AuthReq',\n",
       "  'CipherOptHandle',\n",
       "  'ContainerInfo',\n",
       "  'ContainerPermissions',\n",
       "  'ContainersReq',\n",
       "  'EncryptPubKeyHandle',\n",
       "  'EncryptSecKeyHandle',\n",
       "  'FfiResult',\n",
       "  'File',\n",
       "  'FileContextHandle',\n",
       "  'MDataAction',\n",
       "  'MDataEntriesHandle',\n",
       "  'MDataEntry',\n",
       "  'MDataEntryActionsHandle',\n",
       "  'MDataInfo',\n",
       "  'MDataKey',\n",
       "  'MDataPermissionsHandle',\n",
       "  'MDataValue',\n",
       "  'MetadataResponse',\n",
       "  'ObjectHandle',\n",
       "  'PermissionSet',\n",
       "  'SEReaderHandle',\n",
       "  'SEWriterHandle',\n",
       "  'SelfEncryptorReaderHandle',\n",
       "  'SelfEncryptorWriterHandle',\n",
       "  'ShareMData',\n",
       "  'ShareMDataReq',\n",
       "  'SignPubKeyHandle',\n",
       "  'SignPublicKey',\n",
       "  'SignSecKeyHandle',\n",
       "  'SignSecretKey',\n",
       "  'SymNonce',\n",
       "  'SymSecretKey',\n",
       "  'UserPermissionSet',\n",
       "  'XorNameArray',\n",
       "  'int16_t',\n",
       "  'int32_t',\n",
       "  'int64_t',\n",
       "  'int8_t',\n",
       "  'int_fast16_t',\n",
       "  'int_fast32_t',\n",
       "  'int_fast64_t',\n",
       "  'int_fast8_t',\n",
       "  'int_least16_t',\n",
       "  'int_least32_t',\n",
       "  'int_least64_t',\n",
       "  'int_least8_t',\n",
       "  'intmax_t',\n",
       "  'intptr_t',\n",
       "  'uint16_t',\n",
       "  'uint32_t',\n",
       "  'uint64_t',\n",
       "  'uint8_t',\n",
       "  'uint_fast16_t',\n",
       "  'uint_fast32_t',\n",
       "  'uint_fast64_t',\n",
       "  'uint_fast8_t',\n",
       "  'uint_least16_t',\n",
       "  'uint_least32_t',\n",
       "  'uint_least64_t',\n",
       "  'uint_least8_t',\n",
       "  'uintmax_t',\n",
       "  'uintptr_t'],\n",
       " [],\n",
       " [])"
      ]
     },
     "execution_count": 159,
     "metadata": {},
     "output_type": "execute_result"
    }
   ],
   "source": [
    "ffi."
   ]
  },
  {
   "cell_type": "code",
   "execution_count": 158,
   "metadata": {},
   "outputs": [
    {
     "ename": "SyntaxError",
     "evalue": "invalid syntax (<ipython-input-158-8cc55b270ca7>, line 1)",
     "output_type": "error",
     "traceback": [
      "\u001b[0;36m  File \u001b[0;32m\"<ipython-input-158-8cc55b270ca7>\"\u001b[0;36m, line \u001b[0;32m1\u001b[0m\n\u001b[0;31m    grantedAuth[]\u001b[0m\n\u001b[0m                ^\u001b[0m\n\u001b[0;31mSyntaxError\u001b[0m\u001b[0;31m:\u001b[0m invalid syntax\n"
     ]
    }
   ],
   "source": [
    "grantedAuth"
   ]
  },
  {
   "cell_type": "code",
   "execution_count": null,
   "metadata": {},
   "outputs": [],
   "source": []
  },
  {
   "cell_type": "code",
   "execution_count": 94,
   "metadata": {
    "scrolled": false
   },
   "outputs": [
    {
     "name": "stdout",
     "output_type": "stream",
     "text": [
      "results\n",
      "140247862083583\n",
      "b'Serialisation error'\n"
     ]
    }
   ],
   "source": [
    "lib.app_registered(myAuth.app.name,testDataAuth,ffi.NULL,disconnect_app_registered,result_app_registered)"
   ]
  },
  {
   "cell_type": "code",
   "execution_count": null,
   "metadata": {},
   "outputs": [],
   "source": []
  },
  {
   "cell_type": "code",
   "execution_count": null,
   "metadata": {},
   "outputs": [],
   "source": []
  },
  {
   "cell_type": "code",
   "execution_count": 148,
   "metadata": {},
   "outputs": [],
   "source": [
    "def printCrustConfig(configAddress,configlength=42):\n",
    "    lali=[]\n",
    "    for i in range(configlength):\n",
    "        lali.append(configAddress[i])\n",
    "    print(lali)"
   ]
  },
  {
   "cell_type": "code",
   "execution_count": 149,
   "metadata": {},
   "outputs": [
    {
     "name": "stdout",
     "output_type": "stream",
     "text": [
      "[0, 0, 0, 0, 0, 0, 0, 0, 11, 0, 0, 0, 1, 0, 1, 0]\n"
     ]
    }
   ],
   "source": [
    "printCrustConfig(testDataAuth.bootstrap_config)"
   ]
  },
  {
   "cell_type": "code",
   "execution_count": 136,
   "metadata": {},
   "outputs": [
    {
     "name": "stdout",
     "output_type": "stream",
     "text": [
      "[0, 0, 0, 0, 0, 0, 0, 0, 11, 0, 0, 0, 1, 0, 1, 0]\n"
     ]
    }
   ],
   "source": [
    "lali=[]\n",
    "for i in range(16):\n",
    "    lali.append(testDataAuth.bootstrap_config[i])\n",
    "print(lali)"
   ]
  },
  {
   "cell_type": "code",
   "execution_count": 71,
   "metadata": {},
   "outputs": [
    {
     "data": {
      "text/plain": [
       "16"
      ]
     },
     "execution_count": 71,
     "metadata": {},
     "output_type": "execute_result"
    }
   ],
   "source": [
    "testDataAuth.bootstrap_config_len"
   ]
  },
  {
   "cell_type": "code",
   "execution_count": 134,
   "metadata": {},
   "outputs": [],
   "source": [
    "testDataAuth=ffi.new('AuthGranted *',grantedAuth[0])"
   ]
  },
  {
   "cell_type": "code",
   "execution_count": null,
   "metadata": {},
   "outputs": [],
   "source": []
  },
  {
   "cell_type": "code",
   "execution_count": 93,
   "metadata": {},
   "outputs": [
    {
     "data": {
      "text/plain": [
       "b'ridsTest'"
      ]
     },
     "execution_count": 93,
     "metadata": {},
     "output_type": "execute_result"
    }
   ],
   "source": [
    "ffi.string(myAuth.app.id)"
   ]
  },
  {
   "cell_type": "code",
   "execution_count": 63,
   "metadata": {},
   "outputs": [
    {
     "data": {
      "text/plain": [
       "<cdata 'unsigned char[32]' 0x7ffd1d44c6e0>"
      ]
     },
     "execution_count": 63,
     "metadata": {},
     "output_type": "execute_result"
    }
   ],
   "source": [
    "grantedAuth.access_container_info.id"
   ]
  },
  {
   "cell_type": "code",
   "execution_count": 64,
   "metadata": {},
   "outputs": [
    {
     "data": {
      "text/plain": [
       "int"
      ]
     },
     "execution_count": 64,
     "metadata": {},
     "output_type": "execute_result"
    }
   ],
   "source": [
    "type(grantedAuth.access_container_info.tag)"
   ]
  },
  {
   "cell_type": "code",
   "execution_count": 65,
   "metadata": {},
   "outputs": [
    {
     "data": {
      "text/plain": [
       "<cdata 'AccessContInfo &' 0x7ffd1d44c6e0>"
      ]
     },
     "execution_count": 65,
     "metadata": {},
     "output_type": "execute_result"
    }
   ],
   "source": [
    "grantedAuth.access_container_info"
   ]
  },
  {
   "cell_type": "code",
   "execution_count": 66,
   "metadata": {},
   "outputs": [
    {
     "data": {
      "text/plain": [
       "15000"
      ]
     },
     "execution_count": 66,
     "metadata": {},
     "output_type": "execute_result"
    }
   ],
   "source": [
    "grantedAuth.access_container_info.tag"
   ]
  },
  {
   "cell_type": "code",
   "execution_count": 67,
   "metadata": {},
   "outputs": [
    {
     "data": {
      "text/plain": [
       "0"
      ]
     },
     "execution_count": 67,
     "metadata": {},
     "output_type": "execute_result"
    }
   ],
   "source": [
    "grantedAuth.access_container_entry.containers_len"
   ]
  },
  {
   "cell_type": "code",
   "execution_count": 68,
   "metadata": {},
   "outputs": [
    {
     "data": {
      "text/plain": [
       "<cdata 'unsigned char[24]' 0x7ffd1d44c708>"
      ]
     },
     "execution_count": 68,
     "metadata": {},
     "output_type": "execute_result"
    }
   ],
   "source": [
    "grantedAuth.access_container_info.nonce"
   ]
  },
  {
   "cell_type": "code",
   "execution_count": 69,
   "metadata": {},
   "outputs": [
    {
     "data": {
      "text/plain": [
       "16"
      ]
     },
     "execution_count": 69,
     "metadata": {},
     "output_type": "execute_result"
    }
   ],
   "source": [
    "grantedAuth.bootstrap_config_len"
   ]
  },
  {
   "cell_type": "code",
   "execution_count": 70,
   "metadata": {
    "scrolled": false
   },
   "outputs": [
    {
     "data": {
      "text/plain": [
       "16"
      ]
     },
     "execution_count": 70,
     "metadata": {},
     "output_type": "execute_result"
    }
   ],
   "source": [
    "grantedAuth.bootstrap_config_cap"
   ]
  },
  {
   "cell_type": "markdown",
   "metadata": {},
   "source": [
    "---"
   ]
  },
  {
   "cell_type": "code",
   "execution_count": 65,
   "metadata": {},
   "outputs": [
    {
     "data": {
      "text/plain": [
       "<cdata 'AuthGranted *' owning 336 bytes>"
      ]
     },
     "execution_count": 65,
     "metadata": {},
     "output_type": "execute_result"
    }
   ],
   "source": [
    "grantedAuth"
   ]
  },
  {
   "cell_type": "code",
   "execution_count": 66,
   "metadata": {},
   "outputs": [
    {
     "data": {
      "text/plain": [
       "<cdata 'unsigned char[32]' 0x560214c901e0>"
      ]
     },
     "execution_count": 66,
     "metadata": {},
     "output_type": "execute_result"
    }
   ],
   "source": [
    "grantedAuth.access_container_info.id"
   ]
  },
  {
   "cell_type": "code",
   "execution_count": 67,
   "metadata": {},
   "outputs": [
    {
     "data": {
      "text/plain": [
       "int"
      ]
     },
     "execution_count": 67,
     "metadata": {},
     "output_type": "execute_result"
    }
   ],
   "source": [
    "type(grantedAuth.access_container_info.tag)"
   ]
  },
  {
   "cell_type": "code",
   "execution_count": 68,
   "metadata": {},
   "outputs": [
    {
     "data": {
      "text/plain": [
       "<cdata 'AccessContInfo &' 0x560214c901e0>"
      ]
     },
     "execution_count": 68,
     "metadata": {},
     "output_type": "execute_result"
    }
   ],
   "source": [
    "grantedAuth.access_container_info"
   ]
  },
  {
   "cell_type": "code",
   "execution_count": 69,
   "metadata": {},
   "outputs": [
    {
     "data": {
      "text/plain": [
       "15000"
      ]
     },
     "execution_count": 69,
     "metadata": {},
     "output_type": "execute_result"
    }
   ],
   "source": [
    "grantedAuth.access_container_info.tag"
   ]
  },
  {
   "cell_type": "code",
   "execution_count": 70,
   "metadata": {},
   "outputs": [
    {
     "data": {
      "text/plain": [
       "0"
      ]
     },
     "execution_count": 70,
     "metadata": {},
     "output_type": "execute_result"
    }
   ],
   "source": [
    "grantedAuth.access_container_entry.containers_len"
   ]
  },
  {
   "cell_type": "code",
   "execution_count": 71,
   "metadata": {},
   "outputs": [
    {
     "data": {
      "text/plain": [
       "<cdata 'unsigned char[24]' 0x560214c90208>"
      ]
     },
     "execution_count": 71,
     "metadata": {},
     "output_type": "execute_result"
    }
   ],
   "source": [
    "grantedAuth.access_container_info.nonce"
   ]
  },
  {
   "cell_type": "code",
   "execution_count": 72,
   "metadata": {},
   "outputs": [
    {
     "data": {
      "text/plain": [
       "16"
      ]
     },
     "execution_count": 72,
     "metadata": {},
     "output_type": "execute_result"
    }
   ],
   "source": [
    "grantedAuth.bootstrap_config_len"
   ]
  },
  {
   "cell_type": "code",
   "execution_count": 73,
   "metadata": {
    "scrolled": true
   },
   "outputs": [
    {
     "data": {
      "text/plain": [
       "16"
      ]
     },
     "execution_count": 73,
     "metadata": {},
     "output_type": "execute_result"
    }
   ],
   "source": [
    "grantedAuth.bootstrap_config_cap"
   ]
  },
  {
   "cell_type": "markdown",
   "metadata": {},
   "source": [
    "## looking into the granted authentication"
   ]
  },
  {
   "cell_type": "code",
   "execution_count": null,
   "metadata": {
    "collapsed": true
   },
   "outputs": [],
   "source": []
  },
  {
   "cell_type": "code",
   "execution_count": 58,
   "metadata": {},
   "outputs": [],
   "source": [
    "def printArray(array):\n",
    "    arr=[]\n",
    "    for element in array:\n",
    "        arr.append(element)\n",
    "    print(arr)"
   ]
  },
  {
   "cell_type": "code",
   "execution_count": 59,
   "metadata": {},
   "outputs": [
    {
     "data": {
      "text/plain": [
       "<cdata 'unsigned char[32]' 0x7ffea2566a90>"
      ]
     },
     "execution_count": 59,
     "metadata": {},
     "output_type": "execute_result"
    }
   ],
   "source": [
    "grantedAuth.app_keys.owner_key"
   ]
  },
  {
   "cell_type": "code",
   "execution_count": 56,
   "metadata": {},
   "outputs": [
    {
     "data": {
      "text/plain": [
       "32"
      ]
     },
     "execution_count": 56,
     "metadata": {},
     "output_type": "execute_result"
    }
   ],
   "source": [
    "len(grantedAuth.app_keys.owner_key)"
   ]
  },
  {
   "cell_type": "code",
   "execution_count": 59,
   "metadata": {},
   "outputs": [
    {
     "name": "stdout",
     "output_type": "stream",
     "text": [
      "[176, 107, 43, 207, 210, 127, 0, 0, 8, 235, 13, 192, 210, 127, 0, 0, 176, 107, 43, 207, 210, 127, 0, 0, 48, 238, 38, 207, 210, 127, 0, 0]\n"
     ]
    }
   ],
   "source": [
    "printArray(grantedAuth.app_keys.owner_key)"
   ]
  },
  {
   "cell_type": "code",
   "execution_count": 62,
   "metadata": {},
   "outputs": [
    {
     "data": {
      "text/plain": [
       "32"
      ]
     },
     "execution_count": 62,
     "metadata": {},
     "output_type": "execute_result"
    }
   ],
   "source": [
    "len(grantedAuth.app_keys.enc_key)"
   ]
  },
  {
   "cell_type": "code",
   "execution_count": 61,
   "metadata": {},
   "outputs": [
    {
     "data": {
      "text/plain": [
       "32"
      ]
     },
     "execution_count": 61,
     "metadata": {},
     "output_type": "execute_result"
    }
   ],
   "source": [
    "len(grantedAuth.app_keys.sign_pk)"
   ]
  },
  {
   "cell_type": "code",
   "execution_count": 62,
   "metadata": {},
   "outputs": [
    {
     "data": {
      "text/plain": [
       "64"
      ]
     },
     "execution_count": 62,
     "metadata": {},
     "output_type": "execute_result"
    }
   ],
   "source": [
    "len(grantedAuth.app_keys.sign_sk)"
   ]
  },
  {
   "cell_type": "code",
   "execution_count": 63,
   "metadata": {},
   "outputs": [
    {
     "data": {
      "text/plain": [
       "32"
      ]
     },
     "execution_count": 63,
     "metadata": {},
     "output_type": "execute_result"
    }
   ],
   "source": [
    "len(grantedAuth.app_keys.enc_pk)"
   ]
  },
  {
   "cell_type": "code",
   "execution_count": 64,
   "metadata": {},
   "outputs": [
    {
     "data": {
      "text/plain": [
       "32"
      ]
     },
     "execution_count": 64,
     "metadata": {},
     "output_type": "execute_result"
    }
   ],
   "source": [
    "len(grantedAuth.app_keys.enc_sk)"
   ]
  },
  {
   "cell_type": "code",
   "execution_count": null,
   "metadata": {
    "collapsed": true
   },
   "outputs": [],
   "source": []
  },
  {
   "cell_type": "code",
   "execution_count": null,
   "metadata": {
    "collapsed": true
   },
   "outputs": [],
   "source": []
  },
  {
   "cell_type": "code",
   "execution_count": null,
   "metadata": {
    "collapsed": true
   },
   "outputs": [],
   "source": []
  }
 ],
 "metadata": {
  "kernelspec": {
   "display_name": "Python 3",
   "language": "python",
   "name": "python3"
  },
  "language_info": {
   "codemirror_mode": {
    "name": "ipython",
    "version": 3
   },
   "file_extension": ".py",
   "mimetype": "text/x-python",
   "name": "python",
   "nbconvert_exporter": "python",
   "pygments_lexer": "ipython3",
   "version": "3.6.4"
  }
 },
 "nbformat": 4,
 "nbformat_minor": 2
}
