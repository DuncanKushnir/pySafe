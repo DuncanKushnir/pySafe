{
 "cells": [
  {
   "cell_type": "code",
   "execution_count": 80,
   "metadata": {},
   "outputs": [],
   "source": [
    "useMock=False"
   ]
  },
  {
   "cell_type": "code",
   "execution_count": 81,
   "metadata": {},
   "outputs": [],
   "source": [
    "from cffi import FFI\n",
    "ffi = FFI()\n",
    "with open('extracted_headers/safe_app_datatype_declarations','r') as f:\n",
    "    myHeaders=f.read()\n",
    "ffi.cdef(myHeaders)\n",
    "with open('extracted_headers/safe_app_function_declarations','r') as f:\n",
    "    funs=f.read()\n",
    "ffi.cdef(funs)\n",
    "lib=ffi.dlopen('../compiled_binaries/libsafe_app' + useMock*'_mock' + '.so')\n",
    "libAuth=ffi.dlopen('../compiled_binaries/libsafe_authenticator' + useMock*'_mock' + '.so')"
   ]
  },
  {
   "cell_type": "markdown",
   "metadata": {},
   "source": [
    "---"
   ]
  },
  {
   "cell_type": "code",
   "execution_count": 82,
   "metadata": {},
   "outputs": [],
   "source": [
    "from threading import Thread\n",
    "\n",
    "def threader(function):\n",
    "    def innerThread(*args):\n",
    "        oneThread=Thread(target=function,args=tuple(args))\n",
    "        oneThread.start()\n",
    "    return innerThread"
   ]
  },
  {
   "cell_type": "code",
   "execution_count": 83,
   "metadata": {},
   "outputs": [],
   "source": [
    "from IPython.core import magic_arguments\n",
    "from IPython.core.magic import line_magic, cell_magic, line_cell_magic, Magics, magics_class\n",
    " \n",
    "@magics_class\n",
    "class TestMagics(Magics):\n",
    "    @cell_magic\n",
    "    def threadcell(self, line='', cell=None):\n",
    "        @threader\n",
    "        def threadedAction():\n",
    "            exec(cell)\n",
    "        threadedAction()\n",
    " \n",
    "    @line_magic\n",
    "    def thread(self, line):\n",
    "        @threader\n",
    "        def threadedAction():\n",
    "            exec(line)\n",
    "        threadedAction()\n",
    " \n",
    "ip = get_ipython()\n",
    "ip.register_magics(TestMagics)"
   ]
  },
  {
   "cell_type": "code",
   "execution_count": 84,
   "metadata": {},
   "outputs": [],
   "source": [
    "import time"
   ]
  },
  {
   "cell_type": "code",
   "execution_count": 85,
   "metadata": {},
   "outputs": [],
   "source": [
    "def print3():\n",
    "    for i in range(3):\n",
    "        print(i)\n",
    "        time.sleep(1)"
   ]
  },
  {
   "cell_type": "markdown",
   "metadata": {},
   "source": [
    "%thread print3()\n",
    "%thread print3()"
   ]
  },
  {
   "cell_type": "markdown",
   "metadata": {},
   "source": [
    "%%threadcell\n",
    "print3()"
   ]
  },
  {
   "cell_type": "markdown",
   "metadata": {},
   "source": [
    "%%threadcell\n",
    "print3()"
   ]
  },
  {
   "cell_type": "markdown",
   "metadata": {},
   "source": [
    "---"
   ]
  },
  {
   "cell_type": "markdown",
   "metadata": {},
   "source": [
    "maybe it makes most sense to really define the data types by hand and just check them for changes with updates on the api - not entirely sure\n",
    "\n",
    "- rid"
   ]
  },
  {
   "cell_type": "markdown",
   "metadata": {},
   "source": [
    "---"
   ]
  },
  {
   "cell_type": "markdown",
   "metadata": {},
   "source": [
    "```c\n",
    "typedef unsigned long int uintptr_t;\n",
    "\n",
    "typedef struct {\n",
    " char* id;\n",
    " char* scope;\n",
    " char* name;\n",
    " char* vendor;\n",
    "} AppExchangeInfo;\n",
    "```"
   ]
  },
  {
   "cell_type": "code",
   "execution_count": 86,
   "metadata": {},
   "outputs": [],
   "source": [
    "class AppExchangeInfo:\n",
    "    def __init__(self,id=b'noId',scope=b'noScope',name=b'noName',vendor=b'nobody'):\n",
    "        self.id = ffi.new('char[]',id)\n",
    "        self.scope = ffi.new('char[]',scope)\n",
    "        self.name = ffi.new('char[]',name)\n",
    "        self.vendor = ffi.new('char[]',vendor)\n",
    "\n",
    "        self.entity = ffi.new('AppExchangeInfo *',[self.id,self.scope,self.name,self.vendor])"
   ]
  },
  {
   "cell_type": "code",
   "execution_count": 87,
   "metadata": {},
   "outputs": [],
   "source": [
    "def AppExchangeInfo(id=b'noId',scope=b'noScope',name=b'noName',vendor=b'nobody'):\n",
    "    id = ffi.new('char[]',id)\n",
    "    scope = ffi.new('char[]',scope)\n",
    "    name = ffi.new('char[]',name)\n",
    "    vendor = ffi.new('char[]',vendor)\n",
    "\n",
    "    myStruct = ffi.new('AppExchangeInfo *',[id,scope,name,vendor])\n",
    "    \n",
    "    return myStruct, [id, scope, name, vendor]"
   ]
  },
  {
   "cell_type": "markdown",
   "metadata": {},
   "source": [
    "newExChangeInfo,infopayload = AppExchangeInfo(b'0.0.2',name=b'pyTest',vendor=b'rid')"
   ]
  },
  {
   "cell_type": "markdown",
   "metadata": {},
   "source": [
    "newExChangeInfo,infopayload = AppExchangeInfo(id=b'meh',scope=b'myScope',\n",
    "                                              name=b'PyTests only today',vendor=b'rid')"
   ]
  },
  {
   "cell_type": "markdown",
   "metadata": {
    "scrolled": true
   },
   "source": [
    "ffi.string(newExChangeInfo.vendor)"
   ]
  },
  {
   "cell_type": "markdown",
   "metadata": {},
   "source": [
    "ffi.string(newExChangeInfo.name)"
   ]
  },
  {
   "cell_type": "markdown",
   "metadata": {},
   "source": [
    "```c\n",
    "typedef struct {\n",
    " _Bool read;\n",
    " _Bool insert;\n",
    " _Bool update;\n",
    " _Bool delete;\n",
    " _Bool manage_permissions;\n",
    "} PermissionSet;\n",
    "```"
   ]
  },
  {
   "cell_type": "code",
   "execution_count": 88,
   "metadata": {},
   "outputs": [],
   "source": [
    "def PermissionSet(read=True,insert=True,update=True,delete=True,manage_permissions=True):\n",
    "    return ffi.new('PermissionSet *',[read,insert,update,delete,manage_permissions])"
   ]
  },
  {
   "cell_type": "markdown",
   "metadata": {},
   "source": [
    "newPermissionSet = PermissionSet()"
   ]
  },
  {
   "cell_type": "markdown",
   "metadata": {},
   "source": [
    "```c\n",
    "typedef struct {\n",
    " char* cont_name;\n",
    " PermissionSet access;\n",
    "} ContainerPermissions;\n",
    "```"
   ]
  },
  {
   "cell_type": "code",
   "execution_count": 89,
   "metadata": {},
   "outputs": [],
   "source": [
    "def ContainerPermissions(name=b'noName',access=None):\n",
    "    containerName = ffi.new('char[]',name)\n",
    "    if not access:\n",
    "        access = PermissionSet()\n",
    "    container = ffi.new('ContainerPermissions *',[containerName,access[0]])\n",
    "    \n",
    "    return container, [containerName,access]"
   ]
  },
  {
   "cell_type": "markdown",
   "metadata": {},
   "source": [
    "newPermissions,permission_addon=ContainerPermissions(b'_pictures',newPermissionSet)"
   ]
  },
  {
   "cell_type": "code",
   "execution_count": 90,
   "metadata": {},
   "outputs": [],
   "source": [
    "newPermissions,permission_addon=ContainerPermissions(b'_publicNames')"
   ]
  },
  {
   "cell_type": "code",
   "execution_count": 91,
   "metadata": {},
   "outputs": [],
   "source": [
    "newPermissions,permission_addon=ContainerPermissions(b'_music')"
   ]
  },
  {
   "cell_type": "code",
   "execution_count": null,
   "metadata": {},
   "outputs": [],
   "source": []
  },
  {
   "cell_type": "code",
   "execution_count": 92,
   "metadata": {},
   "outputs": [
    {
     "data": {
      "text/plain": [
       "b'_music'"
      ]
     },
     "execution_count": 92,
     "metadata": {},
     "output_type": "execute_result"
    }
   ],
   "source": [
    "ffi.string(newPermissions.cont_name)"
   ]
  },
  {
   "cell_type": "markdown",
   "metadata": {},
   "source": [
    "```c\n",
    "typedef struct {\n",
    " AppExchangeInfo app;\n",
    " _Bool app_container;\n",
    " ContainerPermissions* containers;\n",
    " uintptr_t containers_len;\n",
    " uintptr_t containers_cap;\n",
    "} AuthReq;\n",
    "```"
   ]
  },
  {
   "cell_type": "code",
   "execution_count": 93,
   "metadata": {},
   "outputs": [],
   "source": [
    "def AuthReq(permissions,containers_len,containers_cap,id=b'noId',scope=b'pythonscript',\n",
    "            name=b'noName',vendor=b'nobody',app_container=True):\n",
    "    \n",
    "    newExChangeInfo,infopayload = AppExchangeInfo(id,scope,name,vendor)\n",
    "    \n",
    "    authReq = ffi.new('AuthReq *',[newExChangeInfo[0],app_container,permissions,containers_len,containers_cap])\n",
    "    \n",
    "    return authReq, [newExChangeInfo,infopayload]"
   ]
  },
  {
   "cell_type": "markdown",
   "metadata": {},
   "source": [
    "myAuth,addData=AuthReq(newPermissions,0,0,id=b'ridsTest',scope=b'pythonscript'\n",
    "                       ,name=b'PyTest',vendor=b'rid never work',app_container=True)"
   ]
  },
  {
   "cell_type": "markdown",
   "metadata": {},
   "source": [
    "myAuth,addData=AuthReq(newPermissions,0,0,id=b'ridsTest',scope=b'pythonscript'\n",
    "                       ,name=b'PyTest',vendor=b'nobody',app_container=True)"
   ]
  },
  {
   "cell_type": "code",
   "execution_count": 94,
   "metadata": {},
   "outputs": [],
   "source": [
    "myAuth,addData=AuthReq(newPermissions,1,1,id=b'newProgId_unique_thing',scope=b'lalali'\n",
    "                       ,name=b'newProgramName',vendor=b'nobody',app_container=True)"
   ]
  },
  {
   "cell_type": "code",
   "execution_count": null,
   "metadata": {},
   "outputs": [],
   "source": []
  },
  {
   "cell_type": "code",
   "execution_count": 97,
   "metadata": {},
   "outputs": [],
   "source": [
    "@ffi.callback(\"void(void *, FfiResult *)\")\n",
    "def feedback(userData, result):\n",
    "    print(userData)\n",
    "    print(result.error_code)"
   ]
  },
  {
   "cell_type": "code",
   "execution_count": 98,
   "metadata": {},
   "outputs": [
    {
     "name": "stdout",
     "output_type": "stream",
     "text": [
      "<cdata 'void *' NULL>\n",
      "0\n"
     ]
    }
   ],
   "source": [
    "lib.app_set_additional_search_path(ffi.new('char[]',b'../compiled_binaries/'),ffi.NULL,feedback)"
   ]
  },
  {
   "cell_type": "code",
   "execution_count": null,
   "metadata": {},
   "outputs": [],
   "source": []
  },
  {
   "cell_type": "code",
   "execution_count": null,
   "metadata": {},
   "outputs": [],
   "source": []
  },
  {
   "cell_type": "markdown",
   "metadata": {
    "collapsed": true
   },
   "source": [
    "@ffi.callback(\"void(void *, FfiResult *, unsigned int, char *)\")\n",
    "def o_cb(userData, result, noClueWhatNumber, resultString):\n",
    "    print(userData)\n",
    "    print(result)\n",
    "    print(noClueWhatNumber)\n",
    "    print(resultString)"
   ]
  },
  {
   "cell_type": "markdown",
   "metadata": {},
   "source": [
    "lib.encode_auth_req(myAuth,ffi.NULL,o_cb)"
   ]
  },
  {
   "cell_type": "code",
   "execution_count": null,
   "metadata": {},
   "outputs": [],
   "source": []
  },
  {
   "cell_type": "code",
   "execution_count": null,
   "metadata": {},
   "outputs": [],
   "source": []
  },
  {
   "cell_type": "markdown",
   "metadata": {},
   "source": [
    "myAuth.containers.access.insert=True"
   ]
  },
  {
   "cell_type": "markdown",
   "metadata": {
    "collapsed": true
   },
   "source": [
    "myAuth.containers.access.delete=True"
   ]
  },
  {
   "cell_type": "markdown",
   "metadata": {
    "collapsed": true
   },
   "source": [
    "myAuth.containers.access.read=True"
   ]
  },
  {
   "cell_type": "code",
   "execution_count": 18,
   "metadata": {},
   "outputs": [
    {
     "data": {
      "text/plain": [
       "b'newProgramName'"
      ]
     },
     "execution_count": 18,
     "metadata": {},
     "output_type": "execute_result"
    }
   ],
   "source": [
    "ffi.string(myAuth.app.name)"
   ]
  },
  {
   "cell_type": "code",
   "execution_count": 19,
   "metadata": {},
   "outputs": [
    {
     "data": {
      "text/plain": [
       "b'newProgId_unique_thing'"
      ]
     },
     "execution_count": 19,
     "metadata": {},
     "output_type": "execute_result"
    }
   ],
   "source": [
    "ffi.string(myAuth.app.id)"
   ]
  },
  {
   "cell_type": "code",
   "execution_count": 20,
   "metadata": {},
   "outputs": [],
   "source": [
    "encodedAuth=None"
   ]
  },
  {
   "cell_type": "code",
   "execution_count": 21,
   "metadata": {},
   "outputs": [],
   "source": [
    "@ffi.callback(\"void(void *, FfiResult *, unsigned long int, char *)\")\n",
    "def o_cb(userData, result, reqId, encodedReq):\n",
    "    global encodedAuth\n",
    "    print(userData)\n",
    "    print(result.error_code)\n",
    "    if result.error_code != 0:\n",
    "        print(ffi.string(result.description))\n",
    "    print(reqId)\n",
    "    print(ffi.string(encodedReq))\n",
    "    encodedAuth = ffi.string(encodedReq)"
   ]
  },
  {
   "cell_type": "code",
   "execution_count": 22,
   "metadata": {},
   "outputs": [],
   "source": [
    "@ffi.callback(\"void(void *, FfiResult *, unsigned int, char *)\")\n",
    "def o_cb(userData, result, reqId, encodedReq):\n",
    "    global encodedAuth\n",
    "    print(userData)\n",
    "    print(result.error_code)\n",
    "    if result.error_code != 0:\n",
    "        print(ffi.string(result.description))\n",
    "    print(reqId)\n",
    "    print(ffi.string(encodedReq))\n",
    "    encodedAuth = ffi.string(encodedReq)"
   ]
  },
  {
   "cell_type": "code",
   "execution_count": 23,
   "metadata": {
    "scrolled": true
   },
   "outputs": [
    {
     "name": "stdout",
     "output_type": "stream",
     "text": [
      "<cdata 'void *' NULL>\n",
      "0\n",
      "1200104540\n",
      "b'bAAAAAAC4ESEEOAAAAAABMAAAAAAAAAAANZSXOUDSN5TUSZC7OVXGS4LVMVPXI2DJNZTQCBQAAAAAAAAAABWGC3DBNRUQ4AAAAAAAAAAANZSXOUDSN5TXEYLNJZQW2ZIGAAAAAAAAAAAG433CN5SHSAIBAAAAAAAAAAAAMAAAAAAAAAAAL5WXK43JMMCQAAAAAAAAAAAAAAAAAAIAAAAAEAAAAABQAAAAAQAAAAAA'\n"
     ]
    }
   ],
   "source": [
    "lib.encode_auth_req(myAuth,ffi.NULL,o_cb)"
   ]
  },
  {
   "cell_type": "code",
   "execution_count": 24,
   "metadata": {},
   "outputs": [
    {
     "data": {
      "text/plain": [
       "b'safe-auth://bAAAAAAC4ESEEOAAAAAABMAAAAAAAAAAANZSXOUDSN5TUSZC7OVXGS4LVMVPXI2DJNZTQCBQAAAAAAAAAABWGC3DBNRUQ4AAAAAAAAAAANZSXOUDSN5TXEYLNJZQW2ZIGAAAAAAAAAAAG433CN5SHSAIBAAAAAAAAAAAAMAAAAAAAAAAAL5WXK43JMMCQAAAAAAAAAAAAAAAAAAIAAAAAEAAAAABQAAAAAQAAAAAA'"
      ]
     },
     "execution_count": 24,
     "metadata": {},
     "output_type": "execute_result"
    }
   ],
   "source": [
    "b'safe-auth://' + encodedAuth"
   ]
  },
  {
   "cell_type": "code",
   "execution_count": null,
   "metadata": {},
   "outputs": [],
   "source": []
  },
  {
   "cell_type": "code",
   "execution_count": 25,
   "metadata": {},
   "outputs": [],
   "source": [
    "import base64"
   ]
  },
  {
   "cell_type": "code",
   "execution_count": 26,
   "metadata": {},
   "outputs": [
    {
     "data": {
      "text/plain": [
       "b'bmV3UHJvZ0lkX3VuaXF1ZV90aGluZw==\\n'"
      ]
     },
     "execution_count": 26,
     "metadata": {},
     "output_type": "execute_result"
    }
   ],
   "source": [
    "base64.encodebytes(ffi.string(myAuth.app.id))"
   ]
  },
  {
   "cell_type": "code",
   "execution_count": 27,
   "metadata": {},
   "outputs": [
    {
     "data": {
      "text/plain": [
       "b'bmV3UHJvZ0lkX3VuaXF1ZV90aGluZw'"
      ]
     },
     "execution_count": 27,
     "metadata": {},
     "output_type": "execute_result"
    }
   ],
   "source": [
    "base64.b64encode(b'newProgId_unique_thing').strip(b'=')"
   ]
  },
  {
   "cell_type": "code",
   "execution_count": 28,
   "metadata": {},
   "outputs": [],
   "source": [
    "schemeName=b'safe-'+base64.b64encode(b'newProgId_unique_thing').strip(b'=')"
   ]
  },
  {
   "cell_type": "code",
   "execution_count": 29,
   "metadata": {},
   "outputs": [
    {
     "data": {
      "text/plain": [
       "b'safe-bmV3UHJvZ0lkX3VuaXF1ZV90aGluZw'"
      ]
     },
     "execution_count": 29,
     "metadata": {},
     "output_type": "execute_result"
    }
   ],
   "source": [
    "schemeName"
   ]
  },
  {
   "cell_type": "code",
   "execution_count": 30,
   "metadata": {
    "scrolled": true
   },
   "outputs": [],
   "source": [
    "\n",
    "sysUri = FFI()\n",
    "with open('extracted_headers/safe_app_datatype_declarations','r') as f:\n",
    "    myHeaders=f.read()\n",
    "sysUri.cdef(myHeaders)\n",
    "with open('extracted_headers/system_uri.h','r') as f:\n",
    "    funs=f.read()\n",
    "sysUri.cdef(funs)\n",
    "lib2=sysUri.dlopen('../compiled_binaries/libsystem_uri.so')"
   ]
  },
  {
   "cell_type": "code",
   "execution_count": 31,
   "metadata": {},
   "outputs": [],
   "source": [
    "@sysUri.callback(\"void(void *, FfiResult *)\")\n",
    "def installerFeedback(userData, result):\n",
    "    print(userData)\n",
    "    print(result.error_code)"
   ]
  },
  {
   "cell_type": "markdown",
   "metadata": {},
   "source": [
    "```c\n",
    "void install(char* bundle, \n",
    "             char* vendor, \n",
    "             char* name, \n",
    "             char* exec_args, \n",
    "             uint_least64_t exec_args_len, \n",
    "             char* icon, \n",
    "             char* schemes, \n",
    "             void* user_data, \n",
    "             void (*o_cb)(void* user_data, FfiResult* result));\n",
    "```"
   ]
  },
  {
   "cell_type": "code",
   "execution_count": 32,
   "metadata": {},
   "outputs": [
    {
     "name": "stdout",
     "output_type": "stream",
     "text": [
      "b'newProgramName'\n",
      "b'nobody'\n",
      "b'lalali'\n"
     ]
    }
   ],
   "source": [
    "print(ffi.string(myAuth.app.name))\n",
    "print(ffi.string(myAuth.app.vendor))\n",
    "print(ffi.string(myAuth.app.scope))"
   ]
  },
  {
   "cell_type": "code",
   "execution_count": 33,
   "metadata": {},
   "outputs": [
    {
     "name": "stdout",
     "output_type": "stream",
     "text": [
      "/home/riddim/safe/pySafe/safenet\n"
     ]
    }
   ],
   "source": [
    "import os\n",
    "print(os.getcwd())"
   ]
  },
  {
   "cell_type": "code",
   "execution_count": 34,
   "metadata": {},
   "outputs": [],
   "source": [
    "pathToHandler=(os.getcwd()+'/uriHandler.py').encode()"
   ]
  },
  {
   "cell_type": "code",
   "execution_count": 35,
   "metadata": {},
   "outputs": [
    {
     "data": {
      "text/plain": [
       "b'/home/riddim/safe/pySafe/safenet/uriHandler.py'"
      ]
     },
     "execution_count": 35,
     "metadata": {},
     "output_type": "execute_result"
    }
   ],
   "source": [
    "pathToHandler"
   ]
  },
  {
   "cell_type": "markdown",
   "metadata": {},
   "source": [
    "```c\n",
    "myAuth,addData=AuthReq(newPermissions,1,1,id=b'newProgId',scope=b'lalali'\n",
    "                       ,name=b'newProgramName',vendor=b'nobody',app_container=False)\n",
    "```"
   ]
  },
  {
   "cell_type": "code",
   "execution_count": 36,
   "metadata": {},
   "outputs": [],
   "source": [
    "bundle=sysUri.new('char[]',ffi.string(myAuth.app.id))\n",
    "vendor=sysUri.new('char[]',ffi.string(myAuth.app.vendor))\n",
    "name=sysUri.new('char[]',ffi.string(myAuth.app.name))\n",
    "exec_args=sysUri.new('char[]',b'python')\n",
    "exec_args2=sysUri.new('char[]',pathToHandler)\n",
    "exec_args_len=2\n",
    "icon=sysUri.new('char[]',b'')\n",
    "schemes=sysUri.new('char[]',schemeName)\n",
    "user_data=sysUri.NULL"
   ]
  },
  {
   "cell_type": "code",
   "execution_count": 37,
   "metadata": {},
   "outputs": [],
   "source": [
    "exec_args_1 = sysUri.new('char*[]',[exec_args,exec_args2])"
   ]
  },
  {
   "cell_type": "code",
   "execution_count": null,
   "metadata": {},
   "outputs": [],
   "source": []
  },
  {
   "cell_type": "code",
   "execution_count": 38,
   "metadata": {},
   "outputs": [
    {
     "name": "stdout",
     "output_type": "stream",
     "text": [
      "<cdata 'void *' NULL>\n",
      "0\n"
     ]
    }
   ],
   "source": [
    "lib2.install(bundle,vendor,name,exec_args_1 ,exec_args_len,icon,schemes,user_data,installerFeedback)"
   ]
  },
  {
   "cell_type": "code",
   "execution_count": null,
   "metadata": {},
   "outputs": [],
   "source": []
  },
  {
   "cell_type": "markdown",
   "metadata": {},
   "source": [
    "```c \n",
    "void open_uri(char* uri, \n",
    "              void* user_data, \n",
    "              void (*o_cb)(void* user_data, FfiResult* result));\n",
    "```"
   ]
  },
  {
   "cell_type": "code",
   "execution_count": 39,
   "metadata": {},
   "outputs": [],
   "source": [
    "@sysUri.callback(\"void(void *, FfiResult *)\")\n",
    "def openerFeedback(userData, result):\n",
    "    global res\n",
    "    res = result\n",
    "    print(userData)\n",
    "    print(result.error_code)"
   ]
  },
  {
   "cell_type": "code",
   "execution_count": 40,
   "metadata": {},
   "outputs": [
    {
     "data": {
      "text/plain": [
       "b'newProgramName'"
      ]
     },
     "execution_count": 40,
     "metadata": {},
     "output_type": "execute_result"
    }
   ],
   "source": [
    "ffi.string(myAuth.app.name)"
   ]
  },
  {
   "cell_type": "code",
   "execution_count": 41,
   "metadata": {},
   "outputs": [
    {
     "data": {
      "text/plain": [
       "b'nobody'"
      ]
     },
     "execution_count": 41,
     "metadata": {},
     "output_type": "execute_result"
    }
   ],
   "source": [
    "ffi.string(myAuth.app.vendor)"
   ]
  },
  {
   "cell_type": "code",
   "execution_count": 42,
   "metadata": {
    "scrolled": true
   },
   "outputs": [
    {
     "data": {
      "text/plain": [
       "b'newProgramName'"
      ]
     },
     "execution_count": 42,
     "metadata": {},
     "output_type": "execute_result"
    }
   ],
   "source": [
    "ffi.string(myAuth.app.name)"
   ]
  },
  {
   "cell_type": "code",
   "execution_count": 43,
   "metadata": {},
   "outputs": [],
   "source": [
    "uri=sysUri.new('char[]',b'safe-auth://' + encodedAuth)\n",
    "user_data=sysUri.NULL"
   ]
  },
  {
   "cell_type": "code",
   "execution_count": 44,
   "metadata": {
    "scrolled": true
   },
   "outputs": [
    {
     "name": "stdout",
     "output_type": "stream",
     "text": [
      "<cdata 'void *' NULL>\n",
      "0\n"
     ]
    }
   ],
   "source": [
    "lib2.open_uri(uri,user_data,openerFeedback)"
   ]
  },
  {
   "cell_type": "code",
   "execution_count": null,
   "metadata": {},
   "outputs": [],
   "source": []
  },
  {
   "cell_type": "code",
   "execution_count": null,
   "metadata": {},
   "outputs": [],
   "source": []
  },
  {
   "cell_type": "code",
   "execution_count": 45,
   "metadata": {},
   "outputs": [],
   "source": [
    "def printCrustConfig(configAddress,configlength=42):\n",
    "    lali=[]\n",
    "    for i in range(configlength):\n",
    "        lali.append(configAddress[i])\n",
    "    print(lali)"
   ]
  },
  {
   "cell_type": "markdown",
   "metadata": {},
   "source": [
    "```c \n",
    "void decode_ipc_msg(char* msg, \n",
    "                    void* user_data, \n",
    "                    void (*o_auth)(void* user_data, uint32_t req_id, AuthGranted* auth_granted), \n",
    "                    void (*o_unregistered)(void* user_data, uint32_t req_id, uint8_t* serialised_cfg, \n",
    "                                            uintptr_t serialised_cfg_len), \n",
    "                    void (*o_containers)(void* user_data, uint32_t req_id), \n",
    "                    void (*o_share_mdata)(void* user_data, uint32_t req_id), \n",
    "                    void (*o_revoked)(void* user_data), \n",
    "                    void (*o_err)(void* user_data, FfiResult* result, uint32_t req_id));\n",
    "```"
   ]
  },
  {
   "cell_type": "code",
   "execution_count": 46,
   "metadata": {},
   "outputs": [],
   "source": [
    "import time"
   ]
  },
  {
   "cell_type": "code",
   "execution_count": 47,
   "metadata": {},
   "outputs": [],
   "source": [
    "import safeUtils"
   ]
  },
  {
   "cell_type": "code",
   "execution_count": null,
   "metadata": {},
   "outputs": [],
   "source": []
  },
  {
   "cell_type": "code",
   "execution_count": 48,
   "metadata": {},
   "outputs": [],
   "source": [
    "@ffi.callback(\"void(void *, uint32_t, AuthGranted *)\")\n",
    "def o_auth_decode_ipc_msg(userData, req_id, auth_granted):\n",
    "    \n",
    "    printCrustConfig(auth_granted.bootstrap_config)\n",
    "    \n",
    "    print('o_auth')\n",
    "    print(userData)\n",
    "    print(req_id)\n",
    "    returnDict = ffi.from_handle(userData)\n",
    "    #returnDict['AuthGranted'] = picData\n",
    "    returnDict['AuthGranted'] = safeUtils.copy(auth_granted,ffi)\n",
    "    #print(returnDict)\n",
    "    myContainer=auth_granted.access_container_entry.containers[0]\n",
    "    print(myContainer)\n",
    "    print(auth_granted.access_container_entry.containers_len)\n",
    "    print(auth_granted.access_container_entry.containers_cap)\n",
    "    print(ffi.string(myContainer.name))\n",
    "    print(myContainer.mdata_info)\n",
    "    print(ffi.sizeof(myContainer.mdata_info))\n",
    "    print(myContainer.permissions)\n",
    "    print(ffi.sizeof(myContainer.permissions))\n"
   ]
  },
  {
   "cell_type": "code",
   "execution_count": 49,
   "metadata": {},
   "outputs": [],
   "source": [
    "@ffi.callback(\"void(void *, uint32_t, uint8_t *, uintptr_t)\")\n",
    "def o_unregistered_decode_ipc_msg(userData, req_id, serialised_cfg, serialised_cfg_len):\n",
    "    print('o_unregistered')\n",
    "    print(req_id)"
   ]
  },
  {
   "cell_type": "code",
   "execution_count": 50,
   "metadata": {},
   "outputs": [],
   "source": [
    "@ffi.callback(\"void(void *, uint32_t)\")\n",
    "def o_containers_decode_ipc_msg(userData, req_id):\n",
    "    print('o_containers')\n",
    "    print(req_id)"
   ]
  },
  {
   "cell_type": "code",
   "execution_count": 51,
   "metadata": {},
   "outputs": [],
   "source": [
    "@ffi.callback(\"void(void *, uint32_t)\")\n",
    "def o_share_mdata_decode_ipc_msg(userData, req_id):\n",
    "    print('o_share')\n",
    "    print(req_id)"
   ]
  },
  {
   "cell_type": "code",
   "execution_count": 52,
   "metadata": {},
   "outputs": [],
   "source": [
    "@ffi.callback(\"void(void *)\")\n",
    "def o_revoked_decode_ipc_msg(userData):\n",
    "    print('o_revoked')\n",
    "    print(req_id)"
   ]
  },
  {
   "cell_type": "code",
   "execution_count": 53,
   "metadata": {},
   "outputs": [],
   "source": [
    "@ffi.callback(\"void(void *, FfiResult *, uint32_t)\")\n",
    "def o_error_decode_ipc_msg(userData, result, req_id):\n",
    "    global res\n",
    "    res = result\n",
    "    print('o_err')\n",
    "    print(userData)\n",
    "    print(req_id)\n",
    "    print(result.error_code)\n",
    "    print(ffi.string(result.description))"
   ]
  },
  {
   "cell_type": "code",
   "execution_count": 54,
   "metadata": {},
   "outputs": [],
   "source": [
    "with open('answer','r') as f:\n",
    "    answer=f.readlines()"
   ]
  },
  {
   "cell_type": "code",
   "execution_count": 55,
   "metadata": {},
   "outputs": [],
   "source": [
    "import re\n",
    "data=re.compile(\"'safe-.+?:(.+?)'\")"
   ]
  },
  {
   "cell_type": "code",
   "execution_count": 56,
   "metadata": {},
   "outputs": [],
   "source": [
    "my=data.findall(answer[-1])"
   ]
  },
  {
   "cell_type": "code",
   "execution_count": 57,
   "metadata": {},
   "outputs": [],
   "source": [
    "msg = ffi.new('char[]',my[-1].encode())"
   ]
  },
  {
   "cell_type": "code",
   "execution_count": 58,
   "metadata": {
    "scrolled": true
   },
   "outputs": [
    {
     "data": {
      "text/plain": [
       "'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'"
      ]
     },
     "execution_count": 58,
     "metadata": {},
     "output_type": "execute_result"
    }
   ],
   "source": [
    "my[-1]"
   ]
  },
  {
   "cell_type": "code",
   "execution_count": 59,
   "metadata": {},
   "outputs": [],
   "source": [
    "returnDict={}"
   ]
  },
  {
   "cell_type": "code",
   "execution_count": 60,
   "metadata": {},
   "outputs": [],
   "source": [
    "myHand=ffi.new_handle(returnDict)"
   ]
  },
  {
   "cell_type": "code",
   "execution_count": null,
   "metadata": {},
   "outputs": [],
   "source": []
  },
  {
   "cell_type": "markdown",
   "metadata": {
    "scrolled": false
   },
   "source": [
    "lib.decode_ipc_msg(msg,myHand,o_auth_decode_ipc_msg,o_unregistered_decode_ipc_msg\n",
    "                   ,o_containers_decode_ipc_msg,o_share_mdata_decode_ipc_msg,\n",
    "                   o_revoked_decode_ipc_msg,o_error_decode_ipc_msg)"
   ]
  },
  {
   "cell_type": "code",
   "execution_count": 61,
   "metadata": {
    "scrolled": true
   },
   "outputs": [
    {
     "name": "stdout",
     "output_type": "stream",
     "text": [
      "[25, 0, 0, 0, 0, 0, 0, 0, 16, 0, 0, 0, 0, 0, 0, 0, 49, 55, 56, 46, 54, 50, 46, 55, 54, 46, 56, 58, 53, 52, 56, 51, 19, 0, 0, 0, 0, 0, 0, 0, 49, 51]\n",
      "o_auth\n",
      "<cdata 'void *' 0x7f3e406f4958>\n",
      "1200104540\n",
      "<cdata 'ContainerInfo &' 0x7f3e20004980>\n",
      "2\n",
      "2\n",
      "b'_music'\n",
      "<cdata 'MDataInfo &' 0x7f3e20004988>\n",
      "160\n",
      "<cdata 'PermissionSet &' 0x7f3e20004a28>\n",
      "5\n"
     ]
    }
   ],
   "source": [
    "%%threadcell\n",
    "lib.decode_ipc_msg(msg,myHand,o_auth_decode_ipc_msg,o_unregistered_decode_ipc_msg\n",
    "                   ,o_containers_decode_ipc_msg,o_share_mdata_decode_ipc_msg,\n",
    "                   o_revoked_decode_ipc_msg,o_error_decode_ipc_msg)"
   ]
  },
  {
   "cell_type": "markdown",
   "metadata": {
    "scrolled": true
   },
   "source": [
    "#time.sleep(3)\n",
    "lib.decode_ipc_msg(msg,ffi.new_handle(returnDict),o_auth_decode_ipc_msg,o_unregistered_decode_ipc_msg\n",
    "                   ,o_containers_decode_ipc_msg,o_share_mdata_decode_ipc_msg,\n",
    "                   o_revoked_decode_ipc_msg,o_error_decode_ipc_msg)"
   ]
  },
  {
   "cell_type": "markdown",
   "metadata": {},
   "source": [
    "----"
   ]
  },
  {
   "cell_type": "markdown",
   "metadata": {},
   "source": [
    "now the app"
   ]
  },
  {
   "cell_type": "markdown",
   "metadata": {},
   "source": [
    "ffi.cdef('''\n",
    "typedef struct { ...; } foo_t;\n",
    "''')"
   ]
  },
  {
   "cell_type": "code",
   "execution_count": 62,
   "metadata": {},
   "outputs": [],
   "source": [
    "@ffi.callback(\"void(void*)\")\n",
    "def disconnect_app_registered(user_data):\n",
    "    print('disconnected - callback from app_registered')"
   ]
  },
  {
   "cell_type": "code",
   "execution_count": 63,
   "metadata": {},
   "outputs": [],
   "source": [
    "innerData=None\n",
    "@ffi.callback(\"void(void* , FfiResult* , App* app)\")\n",
    "def result_app_registered(user_data, result, app):\n",
    "    print('results')\n",
    "    print('error code: ')\n",
    "    print(result.error_code)\n",
    "    if result.error_code != 0:\n",
    "        print(ffi.string(result.description))\n",
    "    returnDict = ffi.from_handle(user_data)\n",
    "    returnDict['app']=app"
   ]
  },
  {
   "cell_type": "markdown",
   "metadata": {
    "scrolled": false
   },
   "source": [
    "lib.app_registered(myAuth.app.id,grantedAuth,ffi.NULL,disconnect_app_registered,result_app_registered)"
   ]
  },
  {
   "cell_type": "code",
   "execution_count": 64,
   "metadata": {
    "scrolled": true
   },
   "outputs": [],
   "source": [
    "%%threadcell\n",
    "\n",
    "lib.app_registered(myAuth.app.id,returnDict['AuthGranted'][0],ffi.new_handle(returnDict),disconnect_app_registered,result_app_registered)"
   ]
  },
  {
   "cell_type": "code",
   "execution_count": null,
   "metadata": {},
   "outputs": [],
   "source": []
  },
  {
   "cell_type": "markdown",
   "metadata": {},
   "source": [
    "@ffi.callback(\"void(void* , FfiResult*)\")\n",
    "def result_clearCache(user_data, result):\n",
    "    print('results')\n",
    "    print('error code: ')\n",
    "    print(result.error_code)\n",
    "    if result.error_code != 0:\n",
    "        print(ffi.string(result.description))"
   ]
  },
  {
   "cell_type": "markdown",
   "metadata": {},
   "source": [
    "lib.app_reset_object_cache(returnDict['app'],ffi.new_handle(returnDict),result_clearCache)"
   ]
  },
  {
   "cell_type": "code",
   "execution_count": 68,
   "metadata": {},
   "outputs": [],
   "source": [
    "with open('myNewMutableData_as_bytes','rb') as f:\n",
    "    readData=f.read()"
   ]
  },
  {
   "cell_type": "code",
   "execution_count": 69,
   "metadata": {},
   "outputs": [],
   "source": [
    "firstPythonDataOnSafe=ffi.new('MDataInfo *')"
   ]
  },
  {
   "cell_type": "code",
   "execution_count": 70,
   "metadata": {},
   "outputs": [],
   "source": [
    "ffi.buffer(firstPythonDataOnSafe)[:]=readData"
   ]
  },
  {
   "cell_type": "code",
   "execution_count": null,
   "metadata": {},
   "outputs": [],
   "source": []
  },
  {
   "cell_type": "markdown",
   "metadata": {},
   "source": [
    "```c\n",
    "pub unsafe extern \"C\" fn mdata_list_keys(\n",
    "    app: *const App, \n",
    "    info: *const FfiMDataInfo, \n",
    "    user_data: *mut c_void, \n",
    "    o_cb: extern \"C\" fn(_: *mut c_void, _: *const FfiResult, _: *const FfiMDataKey, _: usize)\n",
    ")\n",
    "```"
   ]
  },
  {
   "cell_type": "code",
   "execution_count": 77,
   "metadata": {},
   "outputs": [],
   "source": [
    "@ffi.callback(\"void(void* , FfiResult*, MDataKey*, uint64_t)\")\n",
    "def result_mdata_list_keys(user_data, result, key, size):\n",
    "    #print('results')\n",
    "    #print('error code: ')\n",
    "    #print(result.error_code)\n",
    "    if result.error_code != 0:\n",
    "        print(ffi.string(result.description))\n",
    "    #print(key.val_len)\n",
    "    #print(size)\n",
    "    if size>0:\n",
    "        #print(key.val_len)\n",
    "        print(ffi.string(key.key))\n",
    "    #returnDict = ffi.from_handle(user_data)\n",
    "    #returnDict['myMdata']=mdataInfo"
   ]
  },
  {
   "cell_type": "code",
   "execution_count": 78,
   "metadata": {
    "scrolled": false
   },
   "outputs": [
    {
     "name": "stdout",
     "output_type": "stream",
     "text": [
      "b'dask'\n"
     ]
    }
   ],
   "source": [
    "lib.mdata_list_keys(returnDict['app'],firstPythonDataOnSafe,ffi.NULL,result_mdata_list_keys)"
   ]
  },
  {
   "cell_type": "code",
   "execution_count": 79,
   "metadata": {
    "scrolled": false
   },
   "outputs": [
    {
     "name": "stdout",
     "output_type": "stream",
     "text": [
      "b'we get closer...'\n"
     ]
    }
   ],
   "source": [
    "lib.mdata_list_values(returnDict['app'],firstPythonDataOnSafe,ffi.NULL,result_mdata_list_values)"
   ]
  },
  {
   "cell_type": "code",
   "execution_count": null,
   "metadata": {},
   "outputs": [],
   "source": []
  },
  {
   "cell_type": "markdown",
   "metadata": {},
   "source": [
    "```c\n",
    "pub unsafe extern \"C\" fn mdata_list_values(\n",
    "    app: *const App, \n",
    "    info: *const FfiMDataInfo, \n",
    "    user_data: *mut c_void, \n",
    "    o_cb: extern \"C\" fn(_: *mut c_void, _: *const FfiResult, _: *const FfiMDataValue, _: usize)\n",
    ")\n",
    "```"
   ]
  },
  {
   "cell_type": "code",
   "execution_count": 72,
   "metadata": {},
   "outputs": [],
   "source": [
    "@ffi.callback(\"void(void* , FfiResult*, MDataValue*, uint64_t)\")\n",
    "def result_mdata_list_values(user_data, result, value, size):\n",
    "    #print('results')\n",
    "    #print('error code: ')\n",
    "    #print(result.error_code)\n",
    "    if result.error_code != 0:\n",
    "        print(ffi.string(result.description))\n",
    "    #print(key.val_len)\n",
    "    #print(size)\n",
    "    if size>0:\n",
    "        #print(value.content_len)\n",
    "        print(ffi.string(value.content))\n",
    "    #returnDict = ffi.from_handle(user_data)\n",
    "    #returnDict['myMdata']=mdataInfo"
   ]
  },
  {
   "cell_type": "code",
   "execution_count": 73,
   "metadata": {
    "scrolled": false
   },
   "outputs": [
    {
     "ename": "NameError",
     "evalue": "name 'newMdata' is not defined",
     "traceback": [
      "\u001b[0;31m---------------------------------------------------------------------------\u001b[0m",
      "\u001b[0;31mNameError\u001b[0m                                 Traceback (most recent call last)",
      "\u001b[0;32m<ipython-input-73-1f2ce9f67fc4>\u001b[0m in \u001b[0;36m<module>\u001b[0;34m\u001b[0m\n\u001b[0;32m----> 1\u001b[0;31m \u001b[0mlib\u001b[0m\u001b[0;34m.\u001b[0m\u001b[0mmdata_list_values\u001b[0m\u001b[0;34m(\u001b[0m\u001b[0mreturnDict\u001b[0m\u001b[0;34m[\u001b[0m\u001b[0;34m'app'\u001b[0m\u001b[0;34m]\u001b[0m\u001b[0;34m,\u001b[0m\u001b[0mnewMdata\u001b[0m\u001b[0;34m,\u001b[0m\u001b[0mffi\u001b[0m\u001b[0;34m.\u001b[0m\u001b[0mNULL\u001b[0m\u001b[0;34m,\u001b[0m\u001b[0mresult_mdata_list_values\u001b[0m\u001b[0;34m)\u001b[0m\u001b[0;34m\u001b[0m\u001b[0;34m\u001b[0m\u001b[0m\n\u001b[0m",
      "\u001b[0;31mNameError\u001b[0m: name 'newMdata' is not defined"
     ],
     "output_type": "error"
    }
   ],
   "source": [
    "lib.mdata_list_values(returnDict['app'],firstPythonDataOnSafe,ffi.NULL,result_mdata_list_values)"
   ]
  },
  {
   "cell_type": "code",
   "execution_count": null,
   "metadata": {},
   "outputs": [],
   "source": []
  },
  {
   "cell_type": "code",
   "execution_count": null,
   "metadata": {},
   "outputs": [],
   "source": []
  },
  {
   "cell_type": "code",
   "execution_count": null,
   "metadata": {},
   "outputs": [],
   "source": []
  },
  {
   "cell_type": "code",
   "execution_count": 67,
   "metadata": {},
   "outputs": [],
   "source": [
    "containerName=ffi.new('unsigned char[]',b'_music')"
   ]
  },
  {
   "cell_type": "code",
   "execution_count": 68,
   "metadata": {},
   "outputs": [],
   "source": [
    "@ffi.callback(\"void(void* , FfiResult*, MDataInfo *)\")\n",
    "def result_mdataInfoContainer(user_data, result, mdataInfo):\n",
    "    global myMdata\n",
    "    myMdata=mdataInfo\n",
    "    print('results')\n",
    "    print('error code: ')\n",
    "    print(result.error_code)\n",
    "    if result.error_code != 0:\n",
    "        print(ffi.string(result.description))\n",
    "    print(mdataInfo)\n",
    "    #returnDict = ffi.from_handle(user_data)\n",
    "    #returnDict['myMdata']=mdataInfo"
   ]
  },
  {
   "cell_type": "code",
   "execution_count": 69,
   "metadata": {
    "scrolled": false
   },
   "outputs": [
    {
     "name": "stdout",
     "output_type": "stream",
     "text": [
      "results\n",
      "error code: \n",
      "0\n",
      "<cdata 'MDataInfo *' 0x7f67c02f3238>\n"
     ]
    }
   ],
   "source": [
    "lib.access_container_get_container_mdata_info(returnDict['app'],containerName,ffi.new_handle(returnDict),result_mdataInfoContainer)"
   ]
  },
  {
   "cell_type": "code",
   "execution_count": 70,
   "metadata": {},
   "outputs": [],
   "source": [
    "returnDict['newMdata']=myMdata"
   ]
  },
  {
   "cell_type": "code",
   "execution_count": 71,
   "metadata": {},
   "outputs": [
    {
     "data": {
      "text/plain": [
       "15000"
      ]
     },
     "execution_count": 71,
     "metadata": {},
     "output_type": "execute_result"
    }
   ],
   "source": [
    "myMdata.type_tag"
   ]
  },
  {
   "cell_type": "code",
   "execution_count": null,
   "metadata": {},
   "outputs": [],
   "source": []
  },
  {
   "cell_type": "markdown",
   "metadata": {},
   "source": [
    "```c\n",
    "pub unsafe extern \"C\" fn mdata_list_keys(\n",
    "    app: *const App, \n",
    "    info: *const FfiMDataInfo, \n",
    "    user_data: *mut c_void, \n",
    "    o_cb: extern \"C\" fn(_: *mut c_void, _: *const FfiResult, _: *const FfiMDataKey, _: usize)\n",
    ")\n",
    "```"
   ]
  },
  {
   "cell_type": "code",
   "execution_count": 72,
   "metadata": {},
   "outputs": [],
   "source": [
    "@ffi.callback(\"void(void* , FfiResult*, MDataKey*, uint64_t)\")\n",
    "def result_mdata_list_keys(user_data, result, key, size):\n",
    "    print('results')\n",
    "    print('error code: ')\n",
    "    print(result.error_code)\n",
    "    if result.error_code != 0:\n",
    "        print(ffi.string(result.description))\n",
    "    #print(key.val_len)\n",
    "    print(size)\n",
    "    if size>0:\n",
    "        print(key.val_len)\n",
    "        print(ffi.string(key.val))\n",
    "    #returnDict = ffi.from_handle(user_data)\n",
    "    #returnDict['myMdata']=mdataInfo"
   ]
  },
  {
   "cell_type": "code",
   "execution_count": 73,
   "metadata": {
    "scrolled": false
   },
   "outputs": [
    {
     "name": "stdout",
     "output_type": "stream",
     "text": [
      "results\n",
      "error code: \n",
      "0\n",
      "0\n"
     ]
    }
   ],
   "source": [
    "lib.mdata_list_keys(returnDict['app'],myMdata,ffi.NULL,result_mdata_list_keys)"
   ]
  },
  {
   "cell_type": "code",
   "execution_count": 253,
   "metadata": {
    "scrolled": false
   },
   "outputs": [
    {
     "name": "stdout",
     "output_type": "stream",
     "text": [
      "results\n",
      "error code: \n",
      "0\n",
      "1\n",
      "5\n",
      "b'dask'\n"
     ]
    }
   ],
   "source": [
    "lib.mdata_list_keys(returnDict['app'],returnDict['random'],ffi.NULL,result_mdata_list_keys)"
   ]
  },
  {
   "cell_type": "code",
   "execution_count": 71,
   "metadata": {
    "scrolled": false
   },
   "outputs": [
    {
     "name": "stdout",
     "output_type": "stream",
     "text": [
      "results\n",
      "error code: \n",
      "0\n",
      "1\n",
      "5\n",
      "b'dask'\n"
     ]
    }
   ],
   "source": [
    "lib.mdata_list_keys(returnDict['app'],newMdata,ffi.NULL,result_mdata_list_keys)"
   ]
  },
  {
   "cell_type": "code",
   "execution_count": null,
   "metadata": {},
   "outputs": [],
   "source": []
  },
  {
   "cell_type": "code",
   "execution_count": null,
   "metadata": {},
   "outputs": [],
   "source": []
  },
  {
   "cell_type": "code",
   "execution_count": null,
   "metadata": {},
   "outputs": [],
   "source": []
  },
  {
   "cell_type": "code",
   "execution_count": null,
   "metadata": {},
   "outputs": [],
   "source": []
  },
  {
   "cell_type": "code",
   "execution_count": 94,
   "metadata": {},
   "outputs": [],
   "source": [
    "with open('myNewMutableData_as_bytes_3','wb') as f:\n",
    "    writeData=ffi.buffer(returnDict['random'])[:]\n",
    "    f.write(writeData)"
   ]
  },
  {
   "cell_type": "code",
   "execution_count": 65,
   "metadata": {},
   "outputs": [],
   "source": [
    "with open('myNewMutableData_as_bytes','rb') as f:\n",
    "    readData2=f.read()"
   ]
  },
  {
   "cell_type": "code",
   "execution_count": 66,
   "metadata": {},
   "outputs": [
    {
     "data": {
      "text/plain": [
       "b'\\x8f\\x7f\\xdd\\x83\\x1e\\x0e\\xf3^\\xb7\\xf4ie\\xb8\\xb0\\x91^ce\"\\xa0\\xff\\xda\\x8cs&\\x19\\x83\\xb5\\x01\\x88(\\x9d\\t\\x03\\x00\\x00\\x00\\x00\\x00\\x00\\x00\\x00\\x00\\x00\\x00\\x00\\x00\\x00\\x00\\x00\\x00\\x00\\x00\\x00\\x00\\x00\\x00\\x00\\x00\\x00\\x00\\x00\\x00\\x00\\x00\\x00\\x00\\x00\\x00\\x00\\x00\\x00\\x00\\x00\\x00\\x00\\x00\\x00\\x00\\x00\\x00\\x00\\x00\\x00\\x00\\x00\\x00\\x00\\x00\\x00\\x00\\x00\\x00\\x00\\x00\\x00\\x00\\x00\\x00\\x00\\x00\\x00\\x00\\x00\\x00\\x00\\x00\\x00\\x00\\x00\\x00\\x00\\x00\\x00\\x00\\x00\\x00\\x00\\x00\\x00\\x00\\x00\\x00\\x00\\x00\\x00\\x00\\x00\\x00\\x00\\x00\\x00\\x00\\x00\\x00\\x00\\x00\\x00\\x00\\x00\\x00\\x00\\x00\\x00\\x00\\x00\\x00\\x00\\x00\\x00\\x00\\x00\\x00\\x00\\x85R\\xb2U\\x00\\x00'"
      ]
     },
     "execution_count": 66,
     "metadata": {},
     "output_type": "execute_result"
    }
   ],
   "source": [
    "readData2"
   ]
  },
  {
   "cell_type": "code",
   "execution_count": 202,
   "metadata": {},
   "outputs": [
    {
     "data": {
      "text/plain": [
       "<cdata 'MDataInfo *' owning 160 bytes>"
      ]
     },
     "execution_count": 202,
     "metadata": {},
     "output_type": "execute_result"
    }
   ],
   "source": [
    "returnDict['random']"
   ]
  },
  {
   "cell_type": "code",
   "execution_count": null,
   "metadata": {},
   "outputs": [],
   "source": []
  },
  {
   "cell_type": "code",
   "execution_count": 209,
   "metadata": {},
   "outputs": [
    {
     "data": {
      "text/plain": [
       "140594294999616"
      ]
     },
     "execution_count": 209,
     "metadata": {},
     "output_type": "execute_result"
    }
   ],
   "source": [
    "myMdata.type_tag"
   ]
  },
  {
   "cell_type": "code",
   "execution_count": 254,
   "metadata": {},
   "outputs": [],
   "source": [
    "dataBuffer=ffi.buffer(returnDict['random'])"
   ]
  },
  {
   "cell_type": "code",
   "execution_count": 255,
   "metadata": {},
   "outputs": [
    {
     "data": {
      "text/plain": [
       "b'\\x8f\\x7f\\xdd\\x83\\x1e\\x0e\\xf3^\\xb7\\xf4ie\\xb8\\xb0\\x91^ce\"\\xa0\\xff\\xda\\x8cs&\\x19\\x83\\xb5\\x01\\x88(\\x9d\\t\\x03\\x00\\x00\\x00\\x00\\x00\\x00\\x00\\x00\\x00\\x00\\x00\\x00\\x00\\x00\\x00\\x00\\x00\\x00\\x00\\x00\\x00\\x00\\x00\\x00\\x00\\x00\\x00\\x00\\x00\\x00\\x00\\x00\\x00\\x00\\x00\\x00\\x00\\x00\\x00\\x00\\x00\\x00\\x00\\x00\\x00\\x00\\x00\\x00\\x00\\x00\\x00\\x00\\x00\\x00\\x00\\x00\\x00\\x00\\x00\\x00\\x00\\x00\\x00\\x00\\x00\\x00\\x00\\x00\\x00\\x00\\x00\\x00\\x00\\x00\\x00\\x00\\x00\\x00\\x00\\x00\\x00\\x00\\x00\\x00\\x00\\x00\\x00\\x00\\x00\\x00\\x00\\x00\\x00\\x00\\x00\\x00\\x00\\x00\\x00\\x00\\x00\\x00\\x00\\x00\\x00\\x00\\x00\\x00\\x00\\x00\\x00\\x00\\x00\\x00\\x00\\x00\\x00\\x00\\x00\\x00\\x85R\\xb2U\\x00\\x00'"
      ]
     },
     "execution_count": 255,
     "metadata": {},
     "output_type": "execute_result"
    }
   ],
   "source": [
    "dataBuffer[:]"
   ]
  },
  {
   "cell_type": "code",
   "execution_count": 200,
   "metadata": {},
   "outputs": [],
   "source": [
    "copyData=ffi.from_buffer(dataBuffer)"
   ]
  },
  {
   "cell_type": "code",
   "execution_count": 216,
   "metadata": {},
   "outputs": [
    {
     "data": {
      "text/plain": [
       "b'\\xc0\\xa4\\x7fR\\xb2U'"
      ]
     },
     "execution_count": 216,
     "metadata": {},
     "output_type": "execute_result"
    }
   ],
   "source": [
    "ffi.string(copyData)"
   ]
  },
  {
   "cell_type": "code",
   "execution_count": 67,
   "metadata": {},
   "outputs": [],
   "source": [
    "newMdata=ffi.new('MDataInfo *')"
   ]
  },
  {
   "cell_type": "code",
   "execution_count": 203,
   "metadata": {},
   "outputs": [
    {
     "data": {
      "text/plain": [
       "0"
      ]
     },
     "execution_count": 203,
     "metadata": {},
     "output_type": "execute_result"
    }
   ],
   "source": [
    "newMdata.type_tag"
   ]
  },
  {
   "cell_type": "code",
   "execution_count": 211,
   "metadata": {},
   "outputs": [],
   "source": [
    "insertBuffer=ffi.buffer(newMdata)"
   ]
  },
  {
   "cell_type": "code",
   "execution_count": 236,
   "metadata": {},
   "outputs": [
    {
     "data": {
      "text/plain": [
       "b'\\xc0\\xa4\\x7fR\\xb2U\\x00\\x00X\\xd3\\xb1j\\xde\\x7f\\x00\\x00H\\x90\\x94j\\xde\\x7f\\x00\\x00\\x01\\x00\\x00\\x00\\x00\\x00\\x00\\x00@\\xca\\x02\\xa9\\xde\\x7f\\x00\\x00\\x00\\x00\\x00\\x00\\x00\\x00\\x00\\x00\\x80\\xa1\\x85R\\xb2U\\x00\\x00H\\x90\\x94j\\xde\\x7f\\x00\\x00\\x81C\\x81R\\xb2U\\x00\\x00@\\xca\\x02\\xa9\\xde\\x7f\\x00\\x00\\x00|\\xb0\\xb0\\x02Y\\xae\\x8d@\\xca\\x02\\xa9\\xde\\x7f\\x00\\x00\\xb8\\xe0\\x9c\\xa3\\xde\\x7f\\x00\\x00\\xb8\\xe0\\x9c\\xa3\\xde\\x7f\\x00\\x00\\x9a\\x9f\\x8aR\\xb2U\\x00\\x00\\x10\\xcf\\x9cj\\xde\\x7f\\x00\\x00\\x00|\\xb0\\xb0\\x02Y\\xae\\x8d\\x00\\xab\\xb0j\\xde\\x7f\\x00\\x00\\x00\\xab\\xb0j\\xde\\x7f\\x00\\x00\\x01\\x00\\x00\\x00\\x00\\x00\\x00\\x00'"
      ]
     },
     "execution_count": 236,
     "metadata": {},
     "output_type": "execute_result"
    }
   ],
   "source": [
    "ffi.buffer(myMdata)[:]"
   ]
  },
  {
   "cell_type": "code",
   "execution_count": 223,
   "metadata": {},
   "outputs": [
    {
     "data": {
      "text/plain": [
       "160"
      ]
     },
     "execution_count": 223,
     "metadata": {},
     "output_type": "execute_result"
    }
   ],
   "source": [
    "ffi.sizeof(copyData)"
   ]
  },
  {
   "cell_type": "code",
   "execution_count": 224,
   "metadata": {},
   "outputs": [],
   "source": [
    "freshData=ffi.unpack(copyData,ffi.sizeof(copyData))"
   ]
  },
  {
   "cell_type": "code",
   "execution_count": 239,
   "metadata": {},
   "outputs": [],
   "source": [
    "ffi.buffer(newMdata)[:]=ffi.buffer(returnDict['random'])[:]"
   ]
  },
  {
   "cell_type": "code",
   "execution_count": 68,
   "metadata": {},
   "outputs": [],
   "source": [
    "ffi.buffer(newMdata)[:]=readData2"
   ]
  },
  {
   "cell_type": "code",
   "execution_count": 69,
   "metadata": {},
   "outputs": [
    {
     "data": {
      "text/plain": [
       "777"
      ]
     },
     "execution_count": 69,
     "metadata": {},
     "output_type": "execute_result"
    }
   ],
   "source": [
    "newMdata.type_tag"
   ]
  },
  {
   "cell_type": "code",
   "execution_count": null,
   "metadata": {},
   "outputs": [],
   "source": []
  },
  {
   "cell_type": "code",
   "execution_count": 180,
   "metadata": {},
   "outputs": [
    {
     "data": {
      "text/plain": [
       "140594294999616"
      ]
     },
     "execution_count": 180,
     "metadata": {},
     "output_type": "execute_result"
    }
   ],
   "source": [
    "myMdata.type_tag"
   ]
  },
  {
   "cell_type": "code",
   "execution_count": 249,
   "metadata": {},
   "outputs": [],
   "source": [
    "copied=ffi.new('MDataInfo *')"
   ]
  },
  {
   "cell_type": "code",
   "execution_count": 250,
   "metadata": {},
   "outputs": [],
   "source": [
    "ffi.buffer(copied)[:]=readData2"
   ]
  },
  {
   "cell_type": "code",
   "execution_count": 251,
   "metadata": {},
   "outputs": [
    {
     "data": {
      "text/plain": [
       "777"
      ]
     },
     "execution_count": 251,
     "metadata": {},
     "output_type": "execute_result"
    }
   ],
   "source": [
    "copied.type_tag"
   ]
  },
  {
   "cell_type": "code",
   "execution_count": null,
   "metadata": {},
   "outputs": [],
   "source": []
  },
  {
   "cell_type": "code",
   "execution_count": null,
   "metadata": {},
   "outputs": [],
   "source": []
  },
  {
   "cell_type": "code",
   "execution_count": 118,
   "metadata": {},
   "outputs": [
    {
     "data": {
      "text/plain": [
       "<cdata 'MDataInfo *' owning 160 bytes>"
      ]
     },
     "execution_count": 118,
     "metadata": {},
     "output_type": "execute_result"
    }
   ],
   "source": [
    "returnDict['random']"
   ]
  },
  {
   "cell_type": "code",
   "execution_count": null,
   "metadata": {},
   "outputs": [],
   "source": []
  },
  {
   "cell_type": "code",
   "execution_count": null,
   "metadata": {},
   "outputs": [],
   "source": []
  },
  {
   "cell_type": "markdown",
   "metadata": {},
   "source": [
    "createMutableData"
   ]
  },
  {
   "cell_type": "markdown",
   "metadata": {},
   "source": [
    "@ffi.callback(\"void(void* , FfiResult*, MDataInfo *)\")\n",
    "def result_mdataInfoRand(user_data, result, mdataInfo):\n",
    "    print('results')\n",
    "    print('error code: ')\n",
    "    print(result.error_code)\n",
    "    if result.error_code != 0:\n",
    "        print(ffi.string(result.description))\n",
    "    print(mdataInfo)\n",
    "    returnDict = ffi.from_handle(user_data)\n",
    "    returnDict['newMdata']=ffi.new('MDataInfo *',mdataInfo[0])"
   ]
  },
  {
   "cell_type": "markdown",
   "metadata": {
    "scrolled": false
   },
   "source": [
    "lib.mdata_info_random_public(15150,ffi.new_handle(returnDict),result_mdataInfoRand)"
   ]
  },
  {
   "cell_type": "markdown",
   "metadata": {},
   "source": [
    "lali=returnDict['newMdata']"
   ]
  },
  {
   "cell_type": "markdown",
   "metadata": {},
   "source": [
    "for i in range(22):\n",
    "    print(lali.name[i])"
   ]
  },
  {
   "cell_type": "code",
   "execution_count": null,
   "metadata": {},
   "outputs": [],
   "source": []
  },
  {
   "cell_type": "markdown",
   "metadata": {},
   "source": [
    "@ffi.callback(\"void(void* , FfiResult*, MDataInfo *)\")\n",
    "def result_mdataInfoRand(user_data, result, mdataInfo):\n",
    "    print('results')\n",
    "    print('error code: ')\n",
    "    print(result.error_code)\n",
    "    if result.error_code != 0:\n",
    "        print(ffi.string(result.description))\n",
    "    print(mdataInfo)\n",
    "    returnDict = ffi.from_handle(user_data)\n",
    "    returnDict['newMdata_private']=ffi.new('MDataInfo *',mdataInfo[0])"
   ]
  },
  {
   "cell_type": "markdown",
   "metadata": {
    "scrolled": false
   },
   "source": [
    "lib.mdata_info_random_private(15000,ffi.new_handle(returnDict),result_mdataInfoRand)"
   ]
  },
  {
   "cell_type": "code",
   "execution_count": null,
   "metadata": {},
   "outputs": [],
   "source": []
  },
  {
   "cell_type": "markdown",
   "metadata": {},
   "source": [
    "permission"
   ]
  },
  {
   "cell_type": "code",
   "execution_count": 74,
   "metadata": {},
   "outputs": [],
   "source": [
    "@ffi.callback(\"void(void* , FfiResult*, unsigned long)\")\n",
    "def result_newPermissions(user_data, result, handle):\n",
    "    print('results')\n",
    "    print('error code: ')\n",
    "    print(result.error_code)\n",
    "    if result.error_code != 0:\n",
    "        print(ffi.string(result.description))\n",
    "    print(handle)"
   ]
  },
  {
   "cell_type": "code",
   "execution_count": 75,
   "metadata": {
    "scrolled": false
   },
   "outputs": [
    {
     "name": "stdout",
     "output_type": "stream",
     "text": [
      "results\n",
      "error code: \n",
      "0\n",
      "1\n"
     ]
    }
   ],
   "source": [
    "lib.mdata_permissions_new(returnDict['app'],ffi.NULL,result_newPermissions)"
   ]
  },
  {
   "cell_type": "code",
   "execution_count": null,
   "metadata": {},
   "outputs": [],
   "source": []
  },
  {
   "cell_type": "code",
   "execution_count": 76,
   "metadata": {},
   "outputs": [],
   "source": [
    "@ffi.callback(\"void(void* , FfiResult* , unsigned long)\")\n",
    "def result_mdata_entries_new(user_data, result, entriesHandle):\n",
    "    print('results')\n",
    "    print('error code: ')\n",
    "    print(result.error_code)\n",
    "    if result.error_code != 0:\n",
    "        print(ffi.string(result.description))\n",
    "    #noway = ffi.from_handle(user_data)\n",
    "    print(entriesHandle)\n",
    "    #print(noway)\n",
    "    #noway['mdata'] = entriesHandle"
   ]
  },
  {
   "cell_type": "code",
   "execution_count": 77,
   "metadata": {
    "scrolled": true
   },
   "outputs": [
    {
     "name": "stdout",
     "output_type": "stream",
     "text": [
      "results\n",
      "error code: \n",
      "0\n",
      "2\n"
     ]
    }
   ],
   "source": [
    "lib.mdata_entries_new(returnDict['app'],ffi.NULL,result_mdata_entries_new)"
   ]
  },
  {
   "cell_type": "code",
   "execution_count": null,
   "metadata": {},
   "outputs": [],
   "source": []
  },
  {
   "cell_type": "code",
   "execution_count": 82,
   "metadata": {},
   "outputs": [],
   "source": [
    "oneKey=ffi.new('unsigned char[]',b'safe for Python is coming')"
   ]
  },
  {
   "cell_type": "code",
   "execution_count": 83,
   "metadata": {},
   "outputs": [
    {
     "data": {
      "text/plain": [
       "26"
      ]
     },
     "execution_count": 83,
     "metadata": {},
     "output_type": "execute_result"
    }
   ],
   "source": [
    "len(oneKey)"
   ]
  },
  {
   "cell_type": "code",
   "execution_count": 78,
   "metadata": {},
   "outputs": [],
   "source": [
    "value=ffi.new('unsigned char[]',b'and together we will change the world!!!! MUAAAHAHAHAHHAHAHAHAHAHAHHAHAHAHAHAHHAHAHAHAHAHHAHAHAAHAHAHAHA MUAAAHAHAHAHHAHAHAHAHAHAHHAHAHAHAHAHHAHAHAHAHAHHAHAHAAHAHAHAHA MUAAAHAHAHAHHAHAHAHAHAHAHHAHAHAHAHAHHAHAHAHAHAHHAHAHAAHAHAHAHA MUAAAHAHAHAHHAHAHAHAHAHAHHAHAHAHAHAHHAHAHAHAHAHHAHAHAAHAHAHAHA MUAAAHAHAHAHHAHAHAHAHAHAHHAHAHAHAHAHHAHAHAHAHAHHAHAHAAHAHAHAHA MUAAAHAHAHAHHAHAHAHAHAHAHHAHAHAHAHAHHAHAHAHAHAHHAHAHAAHAHAHAHA MUAAAHAHAHAHHAHAHAHAHAHAHHAHAHAHAHAHHAHAHAHAHAHHAHAHAAHAHAHAHA MUAAAHAHAHAHHAHAHAHAHAHAHHAHAHAHAHAHHAHAHAHAHAHHAHAHAAHAHAHAHA MUAAAHAHAHAHHAHAHAHAHAHAHHAHAHAHAHAHHAHAHAHAHAHHAHAHAAHAHAHAHA MUAAAHAHAHAHHAHAHAHAHAHAHHAHAHAHAHAHHAHAHAHAHAHHAHAHAAHAHAHAHA MUAAAHAHAHAHHAHAHAHAHAHAHHAHAHAHAHAHHAHAHAHAHAHHAHAHAAHAHAHAHA MUAAAHAHAHAHHAHAHAHAHAHAHHAHAHAHAHAHHAHAHAHAHAHHAHAHAAHAHAHAHA MUAAAHAHAHAHHAHAHAHAHAHAHHAHAHAHAHAHHAHAHAHAHAHHAHAHAAHAHAHAHA MUAAAHAHAHAHHAHAHAHAHAHAHHAHAHAHAHAHHAHAHAHAHAHHAHAHAAHAHAHAHA MUAAAHAHAHAHHAHAHAHAHAHAHHAHAHAHAHAHHAHAHAHAHAHHAHAHAAHAHAHAHA MUAAAHAHAHAHHAHAHAHAHAHAHHAHAHAHAHAHHAHAHAHAHAHHAHAHAAHAHAHAHA MUAAAHAHAHAHHAHAHAHAHAHAHHAHAHAHAHAHHAHAHAHAHAHHAHAHAAHAHAHAHA MUAAAHAHAHAHHAHAHAHAHAHAHHAHAHAHAHAHHAHAHAHAHAHHAHAHAAHAHAHAHA MUAAAHAHAHAHHAHAHAHAHAHAHHAHAHAHAHAHHAHAHAHAHAHHAHAHAAHAHAHAHA MUAAAHAHAHAHHAHAHAHAHAHAHHAHAHAHAHAHHAHAHAHAHAHHAHAHAAHAHAHAHA MUAAAHAHAHAHHAHAHAHAHAHAHHAHAHAHAHAHHAHAHAHAHAHHAHAHAAHAHAHAHA MUAAAHAHAHAHHAHAHAHAHAHAHHAHAHAHAHAHHAHAHAHAHAHHAHAHAAHAHAHAHA MUAAAHAHAHAHHAHAHAHAHAHAHHAHAHAHAHAHHAHAHAHAHAHHAHAHAAHAHAHAHA MUAAAHAHAHAHHAHAHAHAHAHAHHAHAHAHAHAHHAHAHAHAHAHHAHAHAAHAHAHAHA MUAAAHAHAHAHHAHAHAHAHAHAHHAHAHAHAHAHHAHAHAHAHAHHAHAHAAHAHAHAHA MUAAAHAHAHAHHAHAHAHAHAHAHHAHAHAHAHAHHAHAHAHAHAHHAHAHAAHAHAHAHA MUAAAHAHAHAHHAHAHAHAHAHAHHAHAHAHAHAHHAHAHAHAHAHHAHAHAAHAHAHAHA MUAAAHAHAHAHHAHAHAHAHAHAHHAHAHAHAHAHHAHAHAHAHAHHAHAHAAHAHAHAHA MUAAAHAHAHAHHAHAHAHAHAHAHHAHAHAHAHAHHAHAHAHAHAHHAHAHAAHAHAHAHA MUAAAHAHAHAHHAHAHAHAHAHAHHAHAHAHAHAHHAHAHAHAHAHHAHAHAAHAHAHAHA MUAAAHAHAHAHHAHAHAHAHAHAHHAHAHAHAHAHHAHAHAHAHAHHAHAHAAHAHAHAHA MUAAAHAHAHAHHAHAHAHAHAHAHHAHAHAHAHAHHAHAHAHAHAHHAHAHAAHAHAHAHA MUAAAHAHAHAHHAHAHAHAHAHAHHAHAHAHAHAHHAHAHAHAHAHHAHAHAAHAHAHAHA MUAAAHAHAHAHHAHAHAHAHAHAHHAHAHAHAHAHHAHAHAHAHAHHAHAHAAHAHAHAHA MUAAAHAHAHAHHAHAHAHAHAHAHHAHAHAHAHAHHAHAHAHAHAHHAHAHAAHAHAHAHA MUAAAHAHAHAHHAHAHAHAHAHAHHAHAHAHAHAHHAHAHAHAHAHHAHAHAAHAHAHAHA MUAAAHAHAHAHHAHAHAHAHAHAHHAHAHAHAHAHHAHAHAHAHAHHAHAHAAHAHAHAHA MUAAAHAHAHAHHAHAHAHAHAHAHHAHAHAHAHAHHAHAHAHAHAHHAHAHAAHAHAHAHA MUAAAHAHAHAHHAHAHAHAHAHAHHAHAHAHAHAHHAHAHAHAHAHHAHAHAAHAHAHAHA MUAAAHAHAHAHHAHAHAHAHAHAHHAHAHAHAHAHHAHAHAHAHAHHAHAHAAHAHAHAHA MUAAAHAHAHAHHAHAHAHAHAHAHHAHAHAHAHAHHAHAHAHAHAHHAHAHAAHAHAHAHA MUAAAHAHAHAHHAHAHAHAHAHAHHAHAHAHAHAHHAHAHAHAHAHHAHAHAAHAHAHAHA MUAAAHAHAHAHHAHAHAHAHAHAHHAHAHAHAHAHHAHAHAHAHAHHAHAHAAHAHAHAHA MUAAAHAHAHAHHAHAHAHAHAHAHHAHAHAHAHAHHAHAHAHAHAHHAHAHAAHAHAHAHA MUAAAHAHAHAHHAHAHAHAHAHAHHAHAHAHAHAHHAHAHAHAHAHHAHAHAAHAHAHAHA MUAAAHAHAHAHHAHAHAHAHAHAHHAHAHAHAHAHHAHAHAHAHAHHAHAHAAHAHAHAHA MUAAAHAHAHAHHAHAHAHAHAHAHHAHAHAHAHAHHAHAHAHAHAHHAHAHAAHAHAHAHA MUAAAHAHAHAHHAHAHAHAHAHAHHAHAHAHAHAHHAHAHAHAHAHHAHAHAAHAHAHAHA MUAAAHAHAHAHHAHAHAHAHAHAHHAHAHAHAHAHHAHAHAHAHAHHAHAHAAHAHAHAHA MUAAAHAHAHAHHAHAHAHAHAHAHHAHAHAHAHAHHAHAHAHAHAHHAHAHAAHAHAHAHA MUAAAHAHAHAHHAHAHAHAHAHAHHAHAHAHAHAHHAHAHAHAHAHHAHAHAAHAHAHAHA MUAAAHAHAHAHHAHAHAHAHAHAHHAHAHAHAHAHHAHAHAHAHAHHAHAHAAHAHAHAHA MUAAAHAHAHAHHAHAHAHAHAHAHHAHAHAHAHAHHAHAHAHAHAHHAHAHAAHAHAHAHA MUAAAHAHAHAHHAHAHAHAHAHAHHAHAHAHAHAHHAHAHAHAHAHHAHAHAAHAHAHAHA MUAAAHAHAHAHHAHAHAHAHAHAHHAHAHAHAHAHHAHAHAHAHAHHAHAHAAHAHAHAHA MUAAAHAHAHAHHAHAHAHAHAHAHHAHAHAHAHAHHAHAHAHAHAHHAHAHAAHAHAHAHA MUAAAHAHAHAHHAHAHAHAHAHAHHAHAHAHAHAHHAHAHAHAHAHHAHAHAAHAHAHAHA MUAAAHAHAHAHHAHAHAHAHAHAHHAHAHAHAHAHHAHAHAHAHAHHAHAHAAHAHAHAHA MUAAAHAHAHAHHAHAHAHAHAHAHHAHAHAHAHAHHAHAHAHAHAHHAHAHAAHAHAHAHA MUAAAHAHAHAHHAHAHAHAHAHAHHAHAHAHAHAHHAHAHAHAHAHHAHAHAAHAHAHAHA MUAAAHAHAHAHHAHAHAHAHAHAHHAHAHAHAHAHHAHAHAHAHAHHAHAHAAHAHAHAHA MUAAAHAHAHAHHAHAHAHAHAHAHHAHAHAHAHAHHAHAHAHAHAHHAHAHAAHAHAHAHA MUAAAHAHAHAHHAHAHAHAHAHAHHAHAHAHAHAHHAHAHAHAHAHHAHAHAAHAHAHAHA MUAAAHAHAHAHHAHAHAHAHAHAHHAHAHAHAHAHHAHAHAHAHAHHAHAHAAHAHAHAHA MUAAAHAHAHAHHAHAHAHAHAHAHHAHAHAHAHAHHAHAHAHAHAHHAHAHAAHAHAHAHA MUAAAHAHAHAHHAHAHAHAHAHAHHAHAHAHAHAHHAHAHAHAHAHHAHAHAAHAHAHAHA MUAAAHAHAHAHHAHAHAHAHAHAHHAHAHAHAHAHHAHAHAHAHAHHAHAHAAHAHAHAHA MUAAAHAHAHAHHAHAHAHAHAHAHHAHAHAHAHAHHAHAHAHAHAHHAHAHAAHAHAHAHA MUAAAHAHAHAHHAHAHAHAHAHAHHAHAHAHAHAHHAHAHAHAHAHHAHAHAAHAHAHAHA MUAAAHAHAHAHHAHAHAHAHAHAHHAHAHAHAHAHHAHAHAHAHAHHAHAHAAHAHAHAHA MUAAAHAHAHAHHAHAHAHAHAHAHHAHAHAHAHAHHAHAHAHAHAHHAHAHAAHAHAHAHA MUAAAHAHAHAHHAHAHAHAHAHAHHAHAHAHAHAHHAHAHAHAHAHHAHAHAAHAHAHAHA MUAAAHAHAHAHHAHAHAHAHAHAHHAHAHAHAHAHHAHAHAHAHAHHAHAHAAHAHAHAHA MUAAAHAHAHAHHAHAHAHAHAHAHHAHAHAHAHAHHAHAHAHAHAHHAHAHAAHAHAHAHA MUAAAHAHAHAHHAHAHAHAHAHAHHAHAHAHAHAHHAHAHAHAHAHHAHAHAAHAHAHAHA MUAAAHAHAHAHHAHAHAHAHAHAHHAHAHAHAHAHHAHAHAHAHAHHAHAHAAHAHAHAHA MUAAAHAHAHAHHAHAHAHAHAHAHHAHAHAHAHAHHAHAHAHAHAHHAHAHAAHAHAHAHA MUAAAHAHAHAHHAHAHAHAHAHAHHAHAHAHAHAHHAHAHAHAHAHHAHAHAAHAHAHAHA MUAAAHAHAHAHHAHAHAHAHAHAHHAHAHAHAHAHHAHAHAHAHAHHAHAHAAHAHAHAHA MUAAAHAHAHAHHAHAHAHAHAHAHHAHAHAHAHAHHAHAHAHAHAHHAHAHAAHAHAHAHA MUAAAHAHAHAHHAHAHAHAHAHAHHAHAHAHAHAHHAHAHAHAHAHHAHAHAAHAHAHAHA MUAAAHAHAHAHHAHAHAHAHAHAHHAHAHAHAHAHHAHAHAHAHAHHAHAHAAHAHAHAHA MUAAAHAHAHAHHAHAHAHAHAHAHHAHAHAHAHAHHAHAHAHAHAHHAHAHAAHAHAHAHA MUAAAHAHAHAHHAHAHAHAHAHAHHAHAHAHAHAHHAHAHAHAHAHHAHAHAAHAHAHAHA MUAAAHAHAHAHHAHAHAHAHAHAHHAHAHAHAHAHHAHAHAHAHAHHAHAHAAHAHAHAHA MUAAAHAHAHAHHAHAHAHAHAHAHHAHAHAHAHAHHAHAHAHAHAHHAHAHAAHAHAHAHA MUAAAHAHAHAHHAHAHAHAHAHAHHAHAHAHAHAHHAHAHAHAHAHHAHAHAAHAHAHAHA MUAAAHAHAHAHHAHAHAHAHAHAHHAHAHAHAHAHHAHAHAHAHAHHAHAHAAHAHAHAHA MUAAAHAHAHAHHAHAHAHAHAHAHHAHAHAHAHAHHAHAHAHAHAHHAHAHAAHAHAHAHA MUAAAHAHAHAHHAHAHAHAHAHAHHAHAHAHAHAHHAHAHAHAHAHHAHAHAAHAHAHAHA MUAAAHAHAHAHHAHAHAHAHAHAHHAHAHAHAHAHHAHAHAHAHAHHAHAHAAHAHAHAHA MUAAAHAHAHAHHAHAHAHAHAHAHHAHAHAHAHAHHAHAHAHAHAHHAHAHAAHAHAHAHA MUAAAHAHAHAHHAHAHAHAHAHAHHAHAHAHAHAHHAHAHAHAHAHHAHAHAAHAHAHAHA MUAAAHAHAHAHHAHAHAHAHAHAHHAHAHAHAHAHHAHAHAHAHAHHAHAHAAHAHAHAHA MUAAAHAHAHAHHAHAHAHAHAHAHHAHAHAHAHAHHAHAHAHAHAHHAHAHAAHAHAHAHA MUAAAHAHAHAHHAHAHAHAHAHAHHAHAHAHAHAHHAHAHAHAHAHHAHAHAAHAHAHAHA MUAAAHAHAHAHHAHAHAHAHAHAHHAHAHAHAHAHHAHAHAHAHAHHAHAHAAHAHAHAHA MUAAAHAHAHAHHAHAHAHAHAHAHHAHAHAHAHAHHAHAHAHAHAHHAHAHAAHAHAHAHA MUAAAHAHAHAHHAHAHAHAHAHAHHAHAHAHAHAHHAHAHAHAHAHHAHAHAAHAHAHAHA MUAAAHAHAHAHHAHAHAHAHAHAHHAHAHAHAHAHHAHAHAHAHAHHAHAHAAHAHAHAHA MUAAAHAHAHAHHAHAHAHAHAHAHHAHAHAHAHAHHAHAHAHAHAHHAHAHAAHAHAHAHA MUAAAHAHAHAHHAHAHAHAHAHAHHAHAHAHAHAHHAHAHAHAHAHHAHAHAAHAHAHAHA MUAAAHAHAHAHHAHAHAHAHAHAHHAHAHAHAHAHHAHAHAHAHAHHAHAHAAHAHAHAHA MUAAAHAHAHAHHAHAHAHAHAHAHHAHAHAHAHAHHAHAHAHAHAHHAHAHAAHAHAHAHA MUAAAHAHAHAHHAHAHAHAHAHAHHAHAHAHAHAHHAHAHAHAHAHHAHAHAAHAHAHAHA MUAAAHAHAHAHHAHAHAHAHAHAHHAHAHAHAHAHHAHAHAHAHAHHAHAHAAHAHAHAHA MUAAAHAHAHAHHAHAHAHAHAHAHHAHAHAHAHAHHAHAHAHAHAHHAHAHAAHAHAHAHA MUAAAHAHAHAHHAHAHAHAHAHAHHAHAHAHAHAHHAHAHAHAHAHHAHAHAAHAHAHAHA MUAAAHAHAHAHHAHAHAHAHAHAHHAHAHAHAHAHHAHAHAHAHAHHAHAHAAHAHAHAHA MUAAAHAHAHAHHAHAHAHAHAHAHHAHAHAHAHAHHAHAHAHAHAHHAHAHAAHAHAHAHA MUAAAHAHAHAHHAHAHAHAHAHAHHAHAHAHAHAHHAHAHAHAHAHHAHAHAAHAHAHAHA MUAAAHAHAHAHHAHAHAHAHAHAHHAHAHAHAHAHHAHAHAHAHAHHAHAHAAHAHAHAHA MUAAAHAHAHAHHAHAHAHAHAHAHHAHAHAHAHAHHAHAHAHAHAHHAHAHAAHAHAHAHA MUAAAHAHAHAHHAHAHAHAHAHAHHAHAHAHAHAHHAHAHAHAHAHHAHAHAAHAHAHAHA MUAAAHAHAHAHHAHAHAHAHAHAHHAHAHAHAHAHHAHAHAHAHAHHAHAHAAHAHAHAHA MUAAAHAHAHAHHAHAHAHAHAHAHHAHAHAHAHAHHAHAHAHAHAHHAHAHAAHAHAHAHA MUAAAHAHAHAHHAHAHAHAHAHAHHAHAHAHAHAHHAHAHAHAHAHHAHAHAAHAHAHAHA MUAAAHAHAHAHHAHAHAHAHAHAHHAHAHAHAHAHHAHAHAHAHAHHAHAHAAHAHAHAHA MUAAAHAHAHAHHAHAHAHAHAHAHHAHAHAHAHAHHAHAHAHAHAHHAHAHAAHAHAHAHA MUAAAHAHAHAHHAHAHAHAHAHAHHAHAHAHAHAHHAHAHAHAHAHHAHAHAAHAHAHAHA MUAAAHAHAHAHHAHAHAHAHAHAHHAHAHAHAHAHHAHAHAHAHAHHAHAHAAHAHAHAHA MUAAAHAHAHAHHAHAHAHAHAHAHHAHAHAHAHAHHAHAHAHAHAHHAHAHAAHAHAHAHA MUAAAHAHAHAHHAHAHAHAHAHAHHAHAHAHAHAHHAHAHAHAHAHHAHAHAAHAHAHAHA MUAAAHAHAHAHHAHAHAHAHAHAHHAHAHAHAHAHHAHAHAHAHAHHAHAHAAHAHAHAHA MUAAAHAHAHAHHAHAHAHAHAHAHHAHAHAHAHAHHAHAHAHAHAHHAHAHAAHAHAHAHA MUAAAHAHAHAHHAHAHAHAHAHAHHAHAHAHAHAHHAHAHAHAHAHHAHAHAAHAHAHAHA MUAAAHAHAHAHHAHAHAHAHAHAHHAHAHAHAHAHHAHAHAHAHAHHAHAHAAHAHAHAHA MUAAAHAHAHAHHAHAHAHAHAHAHHAHAHAHAHAHHAHAHAHAHAHHAHAHAAHAHAHAHA ')"
   ]
  },
  {
   "cell_type": "code",
   "execution_count": 79,
   "metadata": {},
   "outputs": [
    {
     "data": {
      "text/plain": [
       "8107"
      ]
     },
     "execution_count": 79,
     "metadata": {},
     "output_type": "execute_result"
    }
   ],
   "source": [
    "len(value)"
   ]
  },
  {
   "cell_type": "code",
   "execution_count": 80,
   "metadata": {},
   "outputs": [],
   "source": [
    "@ffi.callback(\"void(void* , FfiResult*)\")\n",
    "def result_mdata_entries_insert(user_data, result):\n",
    "    print('results')\n",
    "    print('error code: ')\n",
    "    print(result.error_code)\n",
    "    if result.error_code != 0:\n",
    "        print(ffi.string(result.description))"
   ]
  },
  {
   "cell_type": "code",
   "execution_count": 84,
   "metadata": {
    "scrolled": true
   },
   "outputs": [
    {
     "name": "stdout",
     "output_type": "stream",
     "text": [
      "results\n",
      "error code: \n",
      "0\n"
     ]
    }
   ],
   "source": [
    "lib.mdata_entries_insert(returnDict['app'],2,oneKey,len(oneKey),value,len(value),ffi.NULL,result_mdata_entries_insert)"
   ]
  },
  {
   "cell_type": "code",
   "execution_count": null,
   "metadata": {},
   "outputs": [],
   "source": []
  },
  {
   "cell_type": "code",
   "execution_count": null,
   "metadata": {},
   "outputs": [],
   "source": []
  },
  {
   "cell_type": "code",
   "execution_count": 85,
   "metadata": {},
   "outputs": [
    {
     "data": {
      "text/plain": [
       "b'safe for Python is coming'"
      ]
     },
     "execution_count": 85,
     "metadata": {},
     "output_type": "execute_result"
    }
   ],
   "source": [
    "ffi.string(oneKey)"
   ]
  },
  {
   "cell_type": "code",
   "execution_count": 86,
   "metadata": {},
   "outputs": [],
   "source": [
    "@ffi.callback(\"void(void* , FfiResult*, unsigned char*, unsigned long, unsigned long)\")\n",
    "def result_mdata_entries_get(user_data, result, value, val_length, noClueWhatThisIs):\n",
    "    print('results')\n",
    "    print('error code: ')\n",
    "    print(result.error_code)\n",
    "    if result.error_code != 0:\n",
    "        print(ffi.string(result.description))\n",
    "    print(ffi.string(value))\n",
    "    print(noClueWhatThisIs)"
   ]
  },
  {
   "cell_type": "code",
   "execution_count": 87,
   "metadata": {
    "scrolled": true
   },
   "outputs": [
    {
     "name": "stdout",
     "output_type": "stream",
     "text": [
      "results\n",
      "error code: \n",
      "0\n",
      "b'and together we will change the world!!!! MUAAAHAHAHAHHAHAHAHAHAHAHHAHAHAHAHAHHAHAHAHAHAHHAHAHAAHAHAHAHA MUAAAHAHAHAHHAHAHAHAHAHAHHAHAHAHAHAHHAHAHAHAHAHHAHAHAAHAHAHAHA MUAAAHAHAHAHHAHAHAHAHAHAHHAHAHAHAHAHHAHAHAHAHAHHAHAHAAHAHAHAHA MUAAAHAHAHAHHAHAHAHAHAHAHHAHAHAHAHAHHAHAHAHAHAHHAHAHAAHAHAHAHA MUAAAHAHAHAHHAHAHAHAHAHAHHAHAHAHAHAHHAHAHAHAHAHHAHAHAAHAHAHAHA MUAAAHAHAHAHHAHAHAHAHAHAHHAHAHAHAHAHHAHAHAHAHAHHAHAHAAHAHAHAHA MUAAAHAHAHAHHAHAHAHAHAHAHHAHAHAHAHAHHAHAHAHAHAHHAHAHAAHAHAHAHA MUAAAHAHAHAHHAHAHAHAHAHAHHAHAHAHAHAHHAHAHAHAHAHHAHAHAAHAHAHAHA MUAAAHAHAHAHHAHAHAHAHAHAHHAHAHAHAHAHHAHAHAHAHAHHAHAHAAHAHAHAHA MUAAAHAHAHAHHAHAHAHAHAHAHHAHAHAHAHAHHAHAHAHAHAHHAHAHAAHAHAHAHA MUAAAHAHAHAHHAHAHAHAHAHAHHAHAHAHAHAHHAHAHAHAHAHHAHAHAAHAHAHAHA MUAAAHAHAHAHHAHAHAHAHAHAHHAHAHAHAHAHHAHAHAHAHAHHAHAHAAHAHAHAHA MUAAAHAHAHAHHAHAHAHAHAHAHHAHAHAHAHAHHAHAHAHAHAHHAHAHAAHAHAHAHA MUAAAHAHAHAHHAHAHAHAHAHAHHAHAHAHAHAHHAHAHAHAHAHHAHAHAAHAHAHAHA MUAAAHAHAHAHHAHAHAHAHAHAHHAHAHAHAHAHHAHAHAHAHAHHAHAHAAHAHAHAHA MUAAAHAHAHAHHAHAHAHAHAHAHHAHAHAHAHAHHAHAHAHAHAHHAHAHAAHAHAHAHA MUAAAHAHAHAHHAHAHAHAHAHAHHAHAHAHAHAHHAHAHAHAHAHHAHAHAAHAHAHAHA MUAAAHAHAHAHHAHAHAHAHAHAHHAHAHAHAHAHHAHAHAHAHAHHAHAHAAHAHAHAHA MUAAAHAHAHAHHAHAHAHAHAHAHHAHAHAHAHAHHAHAHAHAHAHHAHAHAAHAHAHAHA MUAAAHAHAHAHHAHAHAHAHAHAHHAHAHAHAHAHHAHAHAHAHAHHAHAHAAHAHAHAHA MUAAAHAHAHAHHAHAHAHAHAHAHHAHAHAHAHAHHAHAHAHAHAHHAHAHAAHAHAHAHA MUAAAHAHAHAHHAHAHAHAHAHAHHAHAHAHAHAHHAHAHAHAHAHHAHAHAAHAHAHAHA MUAAAHAHAHAHHAHAHAHAHAHAHHAHAHAHAHAHHAHAHAHAHAHHAHAHAAHAHAHAHA MUAAAHAHAHAHHAHAHAHAHAHAHHAHAHAHAHAHHAHAHAHAHAHHAHAHAAHAHAHAHA MUAAAHAHAHAHHAHAHAHAHAHAHHAHAHAHAHAHHAHAHAHAHAHHAHAHAAHAHAHAHA MUAAAHAHAHAHHAHAHAHAHAHAHHAHAHAHAHAHHAHAHAHAHAHHAHAHAAHAHAHAHA MUAAAHAHAHAHHAHAHAHAHAHAHHAHAHAHAHAHHAHAHAHAHAHHAHAHAAHAHAHAHA MUAAAHAHAHAHHAHAHAHAHAHAHHAHAHAHAHAHHAHAHAHAHAHHAHAHAAHAHAHAHA MUAAAHAHAHAHHAHAHAHAHAHAHHAHAHAHAHAHHAHAHAHAHAHHAHAHAAHAHAHAHA MUAAAHAHAHAHHAHAHAHAHAHAHHAHAHAHAHAHHAHAHAHAHAHHAHAHAAHAHAHAHA MUAAAHAHAHAHHAHAHAHAHAHAHHAHAHAHAHAHHAHAHAHAHAHHAHAHAAHAHAHAHA MUAAAHAHAHAHHAHAHAHAHAHAHHAHAHAHAHAHHAHAHAHAHAHHAHAHAAHAHAHAHA MUAAAHAHAHAHHAHAHAHAHAHAHHAHAHAHAHAHHAHAHAHAHAHHAHAHAAHAHAHAHA MUAAAHAHAHAHHAHAHAHAHAHAHHAHAHAHAHAHHAHAHAHAHAHHAHAHAAHAHAHAHA MUAAAHAHAHAHHAHAHAHAHAHAHHAHAHAHAHAHHAHAHAHAHAHHAHAHAAHAHAHAHA MUAAAHAHAHAHHAHAHAHAHAHAHHAHAHAHAHAHHAHAHAHAHAHHAHAHAAHAHAHAHA MUAAAHAHAHAHHAHAHAHAHAHAHHAHAHAHAHAHHAHAHAHAHAHHAHAHAAHAHAHAHA MUAAAHAHAHAHHAHAHAHAHAHAHHAHAHAHAHAHHAHAHAHAHAHHAHAHAAHAHAHAHA MUAAAHAHAHAHHAHAHAHAHAHAHHAHAHAHAHAHHAHAHAHAHAHHAHAHAAHAHAHAHA MUAAAHAHAHAHHAHAHAHAHAHAHHAHAHAHAHAHHAHAHAHAHAHHAHAHAAHAHAHAHA MUAAAHAHAHAHHAHAHAHAHAHAHHAHAHAHAHAHHAHAHAHAHAHHAHAHAAHAHAHAHA MUAAAHAHAHAHHAHAHAHAHAHAHHAHAHAHAHAHHAHAHAHAHAHHAHAHAAHAHAHAHA MUAAAHAHAHAHHAHAHAHAHAHAHHAHAHAHAHAHHAHAHAHAHAHHAHAHAAHAHAHAHA MUAAAHAHAHAHHAHAHAHAHAHAHHAHAHAHAHAHHAHAHAHAHAHHAHAHAAHAHAHAHA MUAAAHAHAHAHHAHAHAHAHAHAHHAHAHAHAHAHHAHAHAHAHAHHAHAHAAHAHAHAHA MUAAAHAHAHAHHAHAHAHAHAHAHHAHAHAHAHAHHAHAHAHAHAHHAHAHAAHAHAHAHA MUAAAHAHAHAHHAHAHAHAHAHAHHAHAHAHAHAHHAHAHAHAHAHHAHAHAAHAHAHAHA MUAAAHAHAHAHHAHAHAHAHAHAHHAHAHAHAHAHHAHAHAHAHAHHAHAHAAHAHAHAHA MUAAAHAHAHAHHAHAHAHAHAHAHHAHAHAHAHAHHAHAHAHAHAHHAHAHAAHAHAHAHA MUAAAHAHAHAHHAHAHAHAHAHAHHAHAHAHAHAHHAHAHAHAHAHHAHAHAAHAHAHAHA MUAAAHAHAHAHHAHAHAHAHAHAHHAHAHAHAHAHHAHAHAHAHAHHAHAHAAHAHAHAHA MUAAAHAHAHAHHAHAHAHAHAHAHHAHAHAHAHAHHAHAHAHAHAHHAHAHAAHAHAHAHA MUAAAHAHAHAHHAHAHAHAHAHAHHAHAHAHAHAHHAHAHAHAHAHHAHAHAAHAHAHAHA MUAAAHAHAHAHHAHAHAHAHAHAHHAHAHAHAHAHHAHAHAHAHAHHAHAHAAHAHAHAHA MUAAAHAHAHAHHAHAHAHAHAHAHHAHAHAHAHAHHAHAHAHAHAHHAHAHAAHAHAHAHA MUAAAHAHAHAHHAHAHAHAHAHAHHAHAHAHAHAHHAHAHAHAHAHHAHAHAAHAHAHAHA MUAAAHAHAHAHHAHAHAHAHAHAHHAHAHAHAHAHHAHAHAHAHAHHAHAHAAHAHAHAHA MUAAAHAHAHAHHAHAHAHAHAHAHHAHAHAHAHAHHAHAHAHAHAHHAHAHAAHAHAHAHA MUAAAHAHAHAHHAHAHAHAHAHAHHAHAHAHAHAHHAHAHAHAHAHHAHAHAAHAHAHAHA MUAAAHAHAHAHHAHAHAHAHAHAHHAHAHAHAHAHHAHAHAHAHAHHAHAHAAHAHAHAHA MUAAAHAHAHAHHAHAHAHAHAHAHHAHAHAHAHAHHAHAHAHAHAHHAHAHAAHAHAHAHA MUAAAHAHAHAHHAHAHAHAHAHAHHAHAHAHAHAHHAHAHAHAHAHHAHAHAAHAHAHAHA MUAAAHAHAHAHHAHAHAHAHAHAHHAHAHAHAHAHHAHAHAHAHAHHAHAHAAHAHAHAHA MUAAAHAHAHAHHAHAHAHAHAHAHHAHAHAHAHAHHAHAHAHAHAHHAHAHAAHAHAHAHA MUAAAHAHAHAHHAHAHAHAHAHAHHAHAHAHAHAHHAHAHAHAHAHHAHAHAAHAHAHAHA MUAAAHAHAHAHHAHAHAHAHAHAHHAHAHAHAHAHHAHAHAHAHAHHAHAHAAHAHAHAHA MUAAAHAHAHAHHAHAHAHAHAHAHHAHAHAHAHAHHAHAHAHAHAHHAHAHAAHAHAHAHA MUAAAHAHAHAHHAHAHAHAHAHAHHAHAHAHAHAHHAHAHAHAHAHHAHAHAAHAHAHAHA MUAAAHAHAHAHHAHAHAHAHAHAHHAHAHAHAHAHHAHAHAHAHAHHAHAHAAHAHAHAHA MUAAAHAHAHAHHAHAHAHAHAHAHHAHAHAHAHAHHAHAHAHAHAHHAHAHAAHAHAHAHA MUAAAHAHAHAHHAHAHAHAHAHAHHAHAHAHAHAHHAHAHAHAHAHHAHAHAAHAHAHAHA MUAAAHAHAHAHHAHAHAHAHAHAHHAHAHAHAHAHHAHAHAHAHAHHAHAHAAHAHAHAHA MUAAAHAHAHAHHAHAHAHAHAHAHHAHAHAHAHAHHAHAHAHAHAHHAHAHAAHAHAHAHA MUAAAHAHAHAHHAHAHAHAHAHAHHAHAHAHAHAHHAHAHAHAHAHHAHAHAAHAHAHAHA MUAAAHAHAHAHHAHAHAHAHAHAHHAHAHAHAHAHHAHAHAHAHAHHAHAHAAHAHAHAHA MUAAAHAHAHAHHAHAHAHAHAHAHHAHAHAHAHAHHAHAHAHAHAHHAHAHAAHAHAHAHA MUAAAHAHAHAHHAHAHAHAHAHAHHAHAHAHAHAHHAHAHAHAHAHHAHAHAAHAHAHAHA MUAAAHAHAHAHHAHAHAHAHAHAHHAHAHAHAHAHHAHAHAHAHAHHAHAHAAHAHAHAHA MUAAAHAHAHAHHAHAHAHAHAHAHHAHAHAHAHAHHAHAHAHAHAHHAHAHAAHAHAHAHA MUAAAHAHAHAHHAHAHAHAHAHAHHAHAHAHAHAHHAHAHAHAHAHHAHAHAAHAHAHAHA MUAAAHAHAHAHHAHAHAHAHAHAHHAHAHAHAHAHHAHAHAHAHAHHAHAHAAHAHAHAHA MUAAAHAHAHAHHAHAHAHAHAHAHHAHAHAHAHAHHAHAHAHAHAHHAHAHAAHAHAHAHA MUAAAHAHAHAHHAHAHAHAHAHAHHAHAHAHAHAHHAHAHAHAHAHHAHAHAAHAHAHAHA MUAAAHAHAHAHHAHAHAHAHAHAHHAHAHAHAHAHHAHAHAHAHAHHAHAHAAHAHAHAHA MUAAAHAHAHAHHAHAHAHAHAHAHHAHAHAHAHAHHAHAHAHAHAHHAHAHAAHAHAHAHA MUAAAHAHAHAHHAHAHAHAHAHAHHAHAHAHAHAHHAHAHAHAHAHHAHAHAAHAHAHAHA MUAAAHAHAHAHHAHAHAHAHAHAHHAHAHAHAHAHHAHAHAHAHAHHAHAHAAHAHAHAHA MUAAAHAHAHAHHAHAHAHAHAHAHHAHAHAHAHAHHAHAHAHAHAHHAHAHAAHAHAHAHA MUAAAHAHAHAHHAHAHAHAHAHAHHAHAHAHAHAHHAHAHAHAHAHHAHAHAAHAHAHAHA MUAAAHAHAHAHHAHAHAHAHAHAHHAHAHAHAHAHHAHAHAHAHAHHAHAHAAHAHAHAHA MUAAAHAHAHAHHAHAHAHAHAHAHHAHAHAHAHAHHAHAHAHAHAHHAHAHAAHAHAHAHA MUAAAHAHAHAHHAHAHAHAHAHAHHAHAHAHAHAHHAHAHAHAHAHHAHAHAAHAHAHAHA MUAAAHAHAHAHHAHAHAHAHAHAHHAHAHAHAHAHHAHAHAHAHAHHAHAHAAHAHAHAHA MUAAAHAHAHAHHAHAHAHAHAHAHHAHAHAHAHAHHAHAHAHAHAHHAHAHAAHAHAHAHA MUAAAHAHAHAHHAHAHAHAHAHAHHAHAHAHAHAHHAHAHAHAHAHHAHAHAAHAHAHAHA MUAAAHAHAHAHHAHAHAHAHAHAHHAHAHAHAHAHHAHAHAHAHAHHAHAHAAHAHAHAHA MUAAAHAHAHAHHAHAHAHAHAHAHHAHAHAHAHAHHAHAHAHAHAHHAHAHAAHAHAHAHA MUAAAHAHAHAHHAHAHAHAHAHAHHAHAHAHAHAHHAHAHAHAHAHHAHAHAAHAHAHAHA MUAAAHAHAHAHHAHAHAHAHAHAHHAHAHAHAHAHHAHAHAHAHAHHAHAHAAHAHAHAHA MUAAAHAHAHAHHAHAHAHAHAHAHHAHAHAHAHAHHAHAHAHAHAHHAHAHAAHAHAHAHA MUAAAHAHAHAHHAHAHAHAHAHAHHAHAHAHAHAHHAHAHAHAHAHHAHAHAAHAHAHAHA MUAAAHAHAHAHHAHAHAHAHAHAHHAHAHAHAHAHHAHAHAHAHAHHAHAHAAHAHAHAHA MUAAAHAHAHAHHAHAHAHAHAHAHHAHAHAHAHAHHAHAHAHAHAHHAHAHAAHAHAHAHA MUAAAHAHAHAHHAHAHAHAHAHAHHAHAHAHAHAHHAHAHAHAHAHHAHAHAAHAHAHAHA MUAAAHAHAHAHHAHAHAHAHAHAHHAHAHAHAHAHHAHAHAHAHAHHAHAHAAHAHAHAHA MUAAAHAHAHAHHAHAHAHAHAHAHHAHAHAHAHAHHAHAHAHAHAHHAHAHAAHAHAHAHA MUAAAHAHAHAHHAHAHAHAHAHAHHAHAHAHAHAHHAHAHAHAHAHHAHAHAAHAHAHAHA MUAAAHAHAHAHHAHAHAHAHAHAHHAHAHAHAHAHHAHAHAHAHAHHAHAHAAHAHAHAHA MUAAAHAHAHAHHAHAHAHAHAHAHHAHAHAHAHAHHAHAHAHAHAHHAHAHAAHAHAHAHA MUAAAHAHAHAHHAHAHAHAHAHAHHAHAHAHAHAHHAHAHAHAHAHHAHAHAAHAHAHAHA MUAAAHAHAHAHHAHAHAHAHAHAHHAHAHAHAHAHHAHAHAHAHAHHAHAHAAHAHAHAHA MUAAAHAHAHAHHAHAHAHAHAHAHHAHAHAHAHAHHAHAHAHAHAHHAHAHAAHAHAHAHA MUAAAHAHAHAHHAHAHAHAHAHAHHAHAHAHAHAHHAHAHAHAHAHHAHAHAAHAHAHAHA MUAAAHAHAHAHHAHAHAHAHAHAHHAHAHAHAHAHHAHAHAHAHAHHAHAHAAHAHAHAHA MUAAAHAHAHAHHAHAHAHAHAHAHHAHAHAHAHAHHAHAHAHAHAHHAHAHAAHAHAHAHA MUAAAHAHAHAHHAHAHAHAHAHAHHAHAHAHAHAHHAHAHAHAHAHHAHAHAAHAHAHAHA MUAAAHAHAHAHHAHAHAHAHAHAHHAHAHAHAHAHHAHAHAHAHAHHAHAHAAHAHAHAHA MUAAAHAHAHAHHAHAHAHAHAHAHHAHAHAHAHAHHAHAHAHAHAHHAHAHAAHAHAHAHA MUAAAHAHAHAHHAHAHAHAHAHAHHAHAHAHAHAHHAHAHAHAHAHHAHAHAAHAHAHAHA MUAAAHAHAHAHHAHAHAHAHAHAHHAHAHAHAHAHHAHAHAHAHAHHAHAHAAHAHAHAHA MUAAAHAHAHAHHAHAHAHAHAHAHHAHAHAHAHAHHAHAHAHAHAHHAHAHAAHAHAHAHA MUAAAHAHAHAHHAHAHAHAHAHAHHAHAHAHAHAHHAHAHAHAHAHHAHAHAAHAHAHAHA MUAAAHAHAHAHHAHAHAHAHAHAHHAHAHAHAHAHHAHAHAHAHAHHAHAHAAHAHAHAHA MUAAAHAHAHAHHAHAHAHAHAHAHHAHAHAHAHAHHAHAHAHAHAHHAHAHAAHAHAHAHA MUAAAHAHAHAHHAHAHAHAHAHAHHAHAHAHAHAHHAHAHAHAHAHHAHAHAAHAHAHAHA MUAAAHAHAHAHHAHAHAHAHAHAHHAHAHAHAHAHHAHAHAHAHAHHAHAHAAHAHAHAHA MUAAAHAHAHAHHAHAHAHAHAHAHHAHAHAHAHAHHAHAHAHAHAHHAHAHAAHAHAHAHA MUAAAHAHAHAHHAHAHAHAHAHAHHAHAHAHAHAHHAHAHAHAHAHHAHAHAAHAHAHAHA '\n",
      "0\n"
     ]
    }
   ],
   "source": [
    "lib.mdata_entries_get(returnDict['app'],2,oneKey,len(oneKey),ffi.NULL,result_mdata_entries_get)"
   ]
  },
  {
   "cell_type": "code",
   "execution_count": null,
   "metadata": {},
   "outputs": [],
   "source": []
  },
  {
   "cell_type": "markdown",
   "metadata": {},
   "source": [
    "```c\n",
    "pub unsafe extern \"C\" fn mdata_entry_actions_new(\n",
    "    app: *const App, \n",
    "    user_data: *mut c_void, \n",
    "    o_cb: extern \"C\" fn(_: *mut c_void, _: *const FfiResult, _: MDataEntryActionsHandle)\n",
    ")\n",
    "```"
   ]
  },
  {
   "cell_type": "code",
   "execution_count": 101,
   "metadata": {},
   "outputs": [],
   "source": [
    "@ffi.callback(\"void(void* , FfiResult*, unsigned long)\")\n",
    "def result_mdata_entry_actions_new(user_data, result, handle):\n",
    "    print('results')\n",
    "    print('error code: ')\n",
    "    print(result.error_code)\n",
    "    if result.error_code != 0:\n",
    "        print(ffi.string(result.description))\n",
    "    print(handle)"
   ]
  },
  {
   "cell_type": "code",
   "execution_count": 149,
   "metadata": {
    "scrolled": true
   },
   "outputs": [
    {
     "name": "stdout",
     "output_type": "stream",
     "text": [
      "results\n",
      "error code: \n",
      "0\n",
      "6\n"
     ]
    }
   ],
   "source": [
    "lib.mdata_entry_actions_new(returnDict['app'],ffi.NULL,result_mdata_entry_actions_new)"
   ]
  },
  {
   "cell_type": "code",
   "execution_count": null,
   "metadata": {},
   "outputs": [],
   "source": []
  },
  {
   "cell_type": "code",
   "execution_count": null,
   "metadata": {},
   "outputs": [],
   "source": [
    "\n"
   ]
  },
  {
   "cell_type": "markdown",
   "metadata": {},
   "source": [
    "```c\n",
    "pub unsafe extern \"C\" fn mdata_entry_actions_insert(\n",
    "    app: *const App, \n",
    "    actions_h: MDataEntryActionsHandle, \n",
    "    key: *const u8, \n",
    "    key_len: usize, \n",
    "    value: *const u8, \n",
    "    value_len: usize, \n",
    "    user_data: *mut c_void, \n",
    "    o_cb: extern \"C\" fn(_: *mut c_void, _: *const FfiResult)\n",
    ")\n",
    "```"
   ]
  },
  {
   "cell_type": "code",
   "execution_count": 154,
   "metadata": {},
   "outputs": [],
   "source": [
    "@ffi.callback(\"void(void* , FfiResult*)\")\n",
    "def result_mdata_entry_actions_insert(user_data, result):\n",
    "    print('results')\n",
    "    print('error code: ')\n",
    "    print(result.error_code)\n",
    "    if result.error_code != 0:\n",
    "        print(ffi.string(result.description))\n",
    "    #print(handle)"
   ]
  },
  {
   "cell_type": "code",
   "execution_count": 155,
   "metadata": {
    "scrolled": true
   },
   "outputs": [
    {
     "name": "stdout",
     "output_type": "stream",
     "text": [
      "results\n",
      "error code: \n",
      "0\n"
     ]
    }
   ],
   "source": [
    "lib.mdata_entry_actions_insert(returnDict['app'],6,oneKey,len(oneKey),value,len(value),ffi.NULL,result_mdata_entry_actions_insert)"
   ]
  },
  {
   "cell_type": "code",
   "execution_count": null,
   "metadata": {},
   "outputs": [],
   "source": []
  },
  {
   "cell_type": "code",
   "execution_count": null,
   "metadata": {},
   "outputs": [],
   "source": []
  },
  {
   "cell_type": "markdown",
   "metadata": {},
   "source": [
    "```c\n",
    "pub unsafe extern \"C\" fn mdata_info_random_public(\n",
    "    type_tag: u64, \n",
    "    user_data: *mut c_void, \n",
    "    o_cb: extern \"C\" fn(_: *mut c_void, _: *const FfiResult, _: *const FfiMDataInfo)\n",
    ")\n",
    "```"
   ]
  },
  {
   "cell_type": "code",
   "execution_count": 88,
   "metadata": {},
   "outputs": [],
   "source": [
    "myMdata2=None"
   ]
  },
  {
   "cell_type": "code",
   "execution_count": 89,
   "metadata": {},
   "outputs": [],
   "source": [
    "@ffi.callback(\"void(void* , FfiResult*, MDataInfo*)\")\n",
    "def result_mdata_info_random_public(user_data, result, mData):\n",
    "    global myMdata2\n",
    "    myMdata2=mData\n",
    "    print('results')\n",
    "    print('error code: ')\n",
    "    print(result.error_code)\n",
    "    if result.error_code != 0:\n",
    "        print(ffi.string(result.description))\n",
    "    returnDict = ffi.from_handle(user_data)\n",
    "    returnDict['random']=ffi.new('MDataInfo*',mData[0])\n",
    "    print(mData.type_tag)"
   ]
  },
  {
   "cell_type": "code",
   "execution_count": 90,
   "metadata": {
    "scrolled": true
   },
   "outputs": [
    {
     "name": "stdout",
     "output_type": "stream",
     "text": [
      "results\n",
      "error code: \n",
      "0\n",
      "777\n"
     ]
    }
   ],
   "source": [
    "lib.mdata_info_random_public(777,ffi.new_handle(returnDict),result_mdata_info_random_public)"
   ]
  },
  {
   "cell_type": "code",
   "execution_count": null,
   "metadata": {},
   "outputs": [],
   "source": []
  },
  {
   "cell_type": "code",
   "execution_count": 105,
   "metadata": {},
   "outputs": [
    {
     "data": {
      "text/plain": [
       "777"
      ]
     },
     "execution_count": 105,
     "metadata": {},
     "output_type": "execute_result"
    }
   ],
   "source": [
    "returnDict['random'].type_tag"
   ]
  },
  {
   "cell_type": "code",
   "execution_count": null,
   "metadata": {},
   "outputs": [],
   "source": []
  },
  {
   "cell_type": "code",
   "execution_count": 106,
   "metadata": {},
   "outputs": [
    {
     "data": {
      "text/plain": [
       "<cdata 'MDataInfo *' 0x7f723cc15238>"
      ]
     },
     "execution_count": 106,
     "metadata": {},
     "output_type": "execute_result"
    }
   ],
   "source": [
    "myMdata"
   ]
  },
  {
   "cell_type": "code",
   "execution_count": 107,
   "metadata": {},
   "outputs": [
    {
     "data": {
      "text/plain": [
       "0"
      ]
     },
     "execution_count": 107,
     "metadata": {},
     "output_type": "execute_result"
    }
   ],
   "source": [
    "myMdata.type_tag"
   ]
  },
  {
   "cell_type": "code",
   "execution_count": 108,
   "metadata": {
    "scrolled": true
   },
   "outputs": [
    {
     "name": "stdout",
     "output_type": "stream",
     "text": [
      "results\n",
      "error code: \n",
      "0\n",
      "<cdata 'MDataInfo *' 0x7f723cc15238>\n"
     ]
    }
   ],
   "source": [
    "lib.access_container_get_container_mdata_info(returnDict['app'],containerName,ffi.new_handle(returnDict),result_mdataInfoContainer)"
   ]
  },
  {
   "cell_type": "code",
   "execution_count": 88,
   "metadata": {},
   "outputs": [
    {
     "data": {
      "text/plain": [
       "15000"
      ]
     },
     "execution_count": 88,
     "metadata": {},
     "output_type": "execute_result"
    }
   ],
   "source": [
    "myMdata.type_tag"
   ]
  },
  {
   "cell_type": "code",
   "execution_count": 90,
   "metadata": {},
   "outputs": [
    {
     "data": {
      "text/plain": [
       "140594294999616"
      ]
     },
     "execution_count": 90,
     "metadata": {},
     "output_type": "execute_result"
    }
   ],
   "source": [
    "newMDataInfo.type_tag"
   ]
  },
  {
   "cell_type": "code",
   "execution_count": 91,
   "metadata": {},
   "outputs": [],
   "source": [
    "newMDataInfo = ffi.new('MDataInfo*',myMdata[0])"
   ]
  },
  {
   "cell_type": "code",
   "execution_count": 93,
   "metadata": {},
   "outputs": [
    {
     "data": {
      "text/plain": [
       "15000"
      ]
     },
     "execution_count": 93,
     "metadata": {},
     "output_type": "execute_result"
    }
   ],
   "source": [
    "newMDataInfo.type_tag"
   ]
  },
  {
   "cell_type": "code",
   "execution_count": 88,
   "metadata": {
    "scrolled": true
   },
   "outputs": [
    {
     "name": "stdout",
     "output_type": "stream",
     "text": [
      "results\n",
      "error code: \n",
      "0\n",
      "777\n"
     ]
    }
   ],
   "source": [
    "lib.mdata_info_random_public(777,ffi.new_handle(returnDict),result_mdata_info_random_public)"
   ]
  },
  {
   "cell_type": "code",
   "execution_count": 90,
   "metadata": {},
   "outputs": [
    {
     "data": {
      "text/plain": [
       "0"
      ]
     },
     "execution_count": 90,
     "metadata": {},
     "output_type": "execute_result"
    }
   ],
   "source": [
    "myMdata2.type_tag"
   ]
  },
  {
   "cell_type": "code",
   "execution_count": 91,
   "metadata": {},
   "outputs": [
    {
     "data": {
      "text/plain": [
       "0"
      ]
     },
     "execution_count": 91,
     "metadata": {},
     "output_type": "execute_result"
    }
   ],
   "source": [
    "myMdata.type_tag"
   ]
  },
  {
   "cell_type": "code",
   "execution_count": 112,
   "metadata": {},
   "outputs": [
    {
     "data": {
      "text/plain": [
       "<cdata 'MDataInfo *' 0x7ffe209f5e20>"
      ]
     },
     "execution_count": 112,
     "metadata": {},
     "output_type": "execute_result"
    }
   ],
   "source": [
    "returnDict['newData']"
   ]
  },
  {
   "cell_type": "code",
   "execution_count": 113,
   "metadata": {},
   "outputs": [
    {
     "data": {
      "text/plain": [
       "0"
      ]
     },
     "execution_count": 113,
     "metadata": {},
     "output_type": "execute_result"
    }
   ],
   "source": [
    "returnDict['newData'].type_tag"
   ]
  },
  {
   "cell_type": "code",
   "execution_count": null,
   "metadata": {},
   "outputs": [],
   "source": []
  },
  {
   "cell_type": "code",
   "execution_count": 90,
   "metadata": {
    "scrolled": true
   },
   "outputs": [
    {
     "name": "stdout",
     "output_type": "stream",
     "text": [
      "results\n",
      "error code: \n",
      "0\n",
      "<cdata 'MDataInfo *' 0x7f9598494238>\n"
     ]
    }
   ],
   "source": [
    "lib.access_container_get_container_mdata_info(returnDict['app'],containerName,ffi.new_handle(returnDict),result_mdataInfoContainer)"
   ]
  },
  {
   "cell_type": "code",
   "execution_count": 91,
   "metadata": {},
   "outputs": [
    {
     "data": {
      "text/plain": [
       "15000"
      ]
     },
     "execution_count": 91,
     "metadata": {},
     "output_type": "execute_result"
    }
   ],
   "source": [
    "myMdata.type_tag"
   ]
  },
  {
   "cell_type": "code",
   "execution_count": 92,
   "metadata": {},
   "outputs": [
    {
     "data": {
      "text/plain": [
       "<cdata 'MDataInfo *' 0x7f9598494238>"
      ]
     },
     "execution_count": 92,
     "metadata": {},
     "output_type": "execute_result"
    }
   ],
   "source": [
    "myMdata"
   ]
  },
  {
   "cell_type": "code",
   "execution_count": null,
   "metadata": {},
   "outputs": [],
   "source": []
  },
  {
   "cell_type": "code",
   "execution_count": null,
   "metadata": {},
   "outputs": [],
   "source": []
  },
  {
   "cell_type": "code",
   "execution_count": null,
   "metadata": {},
   "outputs": [],
   "source": []
  },
  {
   "cell_type": "markdown",
   "metadata": {},
   "source": [
    "```c\n",
    "pub unsafe extern \"C\" fn mdata_put(\n",
    "    app: *const App, \n",
    "    info: *const FfiMDataInfo, \n",
    "    permissions_h: MDataPermissionsHandle, \n",
    "    entries_h: MDataEntriesHandle, \n",
    "    user_data: *mut c_void, \n",
    "    o_cb: extern \"C\" fn(_: *mut c_void, _: *const FfiResult)\n",
    ")\n",
    "```"
   ]
  },
  {
   "cell_type": "code",
   "execution_count": 91,
   "metadata": {},
   "outputs": [],
   "source": [
    "@ffi.callback(\"void(void* , FfiResult*)\")\n",
    "def result_mdata_put(user_data, result):\n",
    "    print('results')\n",
    "    print('error code: ')\n",
    "    print(result.error_code)\n",
    "    if result.error_code != 0:\n",
    "        print(ffi.string(result.description))"
   ]
  },
  {
   "cell_type": "code",
   "execution_count": 92,
   "metadata": {
    "scrolled": true
   },
   "outputs": [
    {
     "name": "stdout",
     "output_type": "stream",
     "text": [
      "results\n",
      "error code: \n",
      "0\n"
     ]
    }
   ],
   "source": [
    "lib.mdata_put(returnDict['app'],returnDict['random'],1,2,ffi.NULL,result_mdata_put)"
   ]
  },
  {
   "cell_type": "code",
   "execution_count": 93,
   "metadata": {},
   "outputs": [
    {
     "data": {
      "text/plain": [
       "777"
      ]
     },
     "execution_count": 93,
     "metadata": {},
     "output_type": "execute_result"
    }
   ],
   "source": [
    "returnDict['random'].type_tag"
   ]
  },
  {
   "cell_type": "code",
   "execution_count": 105,
   "metadata": {},
   "outputs": [
    {
     "data": {
      "text/plain": [
       "0"
      ]
     },
     "execution_count": 105,
     "metadata": {},
     "output_type": "execute_result"
    }
   ],
   "source": [
    "returnDict['newData'].type_tag"
   ]
  },
  {
   "cell_type": "code",
   "execution_count": 109,
   "metadata": {},
   "outputs": [
    {
     "data": {
      "text/plain": [
       "0"
      ]
     },
     "execution_count": 109,
     "metadata": {},
     "output_type": "execute_result"
    }
   ],
   "source": [
    "returnDict['newData'].enc_key[3]"
   ]
  },
  {
   "cell_type": "code",
   "execution_count": null,
   "metadata": {},
   "outputs": [],
   "source": []
  },
  {
   "cell_type": "code",
   "execution_count": null,
   "metadata": {},
   "outputs": [],
   "source": []
  },
  {
   "cell_type": "markdown",
   "metadata": {},
   "source": [
    "```c\n",
    "pub unsafe extern \"C\" fn mdata_mutate_entries(\n",
    "    app: *const App, \n",
    "    info: *const FfiMDataInfo, \n",
    "    actions_h: MDataEntryActionsHandle, \n",
    "    user_data: *mut c_void, \n",
    "    o_cb: extern \"C\" fn(_: *mut c_void, _: *const FfiResult)\n",
    ")\n",
    "```"
   ]
  },
  {
   "cell_type": "code",
   "execution_count": 138,
   "metadata": {},
   "outputs": [],
   "source": [
    "@ffi.callback(\"void(void* , FfiResult*)\")\n",
    "def result_mdata_mutate_entries(user_data, result):\n",
    "    print('results')\n",
    "    print('error code: ')\n",
    "    print(result.error_code)\n",
    "    if result.error_code != 0:\n",
    "        print(ffi.string(result.description))"
   ]
  },
  {
   "cell_type": "code",
   "execution_count": 100,
   "metadata": {},
   "outputs": [
    {
     "data": {
      "text/plain": [
       "94655951974784"
      ]
     },
     "execution_count": 100,
     "metadata": {},
     "output_type": "execute_result"
    }
   ],
   "source": [
    "returnDict['newMdata'].type_tag"
   ]
  },
  {
   "cell_type": "code",
   "execution_count": 136,
   "metadata": {},
   "outputs": [
    {
     "data": {
      "text/plain": [
       "777"
      ]
     },
     "execution_count": 136,
     "metadata": {},
     "output_type": "execute_result"
    }
   ],
   "source": [
    "returnDict['random'].type_tag"
   ]
  },
  {
   "cell_type": "code",
   "execution_count": 165,
   "metadata": {
    "scrolled": true
   },
   "outputs": [
    {
     "name": "stdout",
     "output_type": "stream",
     "text": [
      "results\n",
      "error code: \n",
      "0\n"
     ]
    }
   ],
   "source": [
    "lib.mdata_mutate_entries(returnDict['app'],returnDict['random'],3,ffi.NULL,result_mdata_mutate_entries)"
   ]
  },
  {
   "cell_type": "code",
   "execution_count": 166,
   "metadata": {
    "scrolled": true
   },
   "outputs": [
    {
     "name": "stdout",
     "output_type": "stream",
     "text": [
      "results\n",
      "error code: \n",
      "-100\n",
      "b'Core error: Routing client error -> Access denied'\n"
     ]
    }
   ],
   "source": [
    "lib.mdata_mutate_entries(returnDict['app'],returnDict['random'],6,ffi.NULL,result_mdata_mutate_entries)"
   ]
  },
  {
   "cell_type": "code",
   "execution_count": null,
   "metadata": {},
   "outputs": [],
   "source": []
  },
  {
   "cell_type": "code",
   "execution_count": null,
   "metadata": {},
   "outputs": [],
   "source": []
  },
  {
   "cell_type": "code",
   "execution_count": 109,
   "metadata": {},
   "outputs": [],
   "source": [
    "@ffi.callback(\"void(void* , FfiResult* , unsigned long)\")\n",
    "def result_app_pub_sign_key(user_data, result, entriesHandle):\n",
    "    print('results')\n",
    "    print('error code: ')\n",
    "    print(result.error_code)\n",
    "    if result.error_code != 0:\n",
    "        print(ffi.string(result.description))\n",
    "    print(entriesHandle)"
   ]
  },
  {
   "cell_type": "code",
   "execution_count": 110,
   "metadata": {
    "scrolled": true
   },
   "outputs": [
    {
     "name": "stdout",
     "output_type": "stream",
     "text": [
      "results\n",
      "error code: \n",
      "0\n",
      "3\n"
     ]
    }
   ],
   "source": [
    "lib.app_pub_sign_key(returnDict['app'],ffi.NULL,result_app_pub_sign_key)"
   ]
  },
  {
   "cell_type": "code",
   "execution_count": null,
   "metadata": {},
   "outputs": [],
   "source": []
  },
  {
   "cell_type": "code",
   "execution_count": null,
   "metadata": {},
   "outputs": [],
   "source": []
  },
  {
   "cell_type": "code",
   "execution_count": null,
   "metadata": {},
   "outputs": [],
   "source": []
  },
  {
   "cell_type": "code",
   "execution_count": 111,
   "metadata": {},
   "outputs": [],
   "source": [
    "@ffi.callback(\"void(void *, FfiResult *)\")\n",
    "def result_mdata_put(user_data, result):\n",
    "    print('results')\n",
    "    print('error code: ')\n",
    "    print(result.error_code)\n",
    "    if result.error_code != 0:\n",
    "        print(ffi.string(result.description))"
   ]
  },
  {
   "cell_type": "code",
   "execution_count": 112,
   "metadata": {},
   "outputs": [
    {
     "name": "stdout",
     "output_type": "stream",
     "text": [
      "results\n",
      "error code: \n",
      "0\n"
     ]
    }
   ],
   "source": [
    "lib.mdata_put(returnDict['app'],returnDict['newMdata'],1,2,ffi.NULL,result_mdata_put)"
   ]
  },
  {
   "cell_type": "code",
   "execution_count": null,
   "metadata": {},
   "outputs": [],
   "source": []
  },
  {
   "cell_type": "code",
   "execution_count": null,
   "metadata": {},
   "outputs": [],
   "source": []
  },
  {
   "cell_type": "code",
   "execution_count": 71,
   "metadata": {},
   "outputs": [],
   "source": [
    "newPermissions=PermissionSet()"
   ]
  },
  {
   "cell_type": "code",
   "execution_count": 164,
   "metadata": {},
   "outputs": [
    {
     "data": {
      "text/plain": [
       "True"
      ]
     },
     "execution_count": 164,
     "metadata": {},
     "output_type": "execute_result"
    }
   ],
   "source": [
    "newPermissions.access.read"
   ]
  },
  {
   "cell_type": "code",
   "execution_count": 73,
   "metadata": {},
   "outputs": [],
   "source": [
    "@ffi.callback(\"void(void* , FfiResult*)\")\n",
    "def result_setPermissions(user_data, result):\n",
    "    print('results')\n",
    "    print('error code: ')\n",
    "    print(result.error_code)\n",
    "    if result.error_code != 0:\n",
    "        print(ffi.string(result.description))\n",
    "    #returnDict = ffi.from_handle(user_data)\n",
    "    #returnDict['newMdata']=ffi.new('PermissionSet *',handle[0])"
   ]
  },
  {
   "cell_type": "code",
   "execution_count": 74,
   "metadata": {
    "scrolled": false
   },
   "outputs": [
    {
     "name": "stdout",
     "output_type": "stream",
     "text": [
      "results\n",
      "error code: \n",
      "-100\n",
      "b'Core error: Routing client error -> Access denied'\n"
     ]
    }
   ],
   "source": [
    "lib.mdata_set_user_permissions(returnDict['app'],returnDict['newMdata_private'],\n",
    "                               3,newPermissions,1,ffi.NULL,result_setPermissions)"
   ]
  },
  {
   "cell_type": "code",
   "execution_count": null,
   "metadata": {},
   "outputs": [],
   "source": []
  },
  {
   "cell_type": "code",
   "execution_count": null,
   "metadata": {},
   "outputs": [],
   "source": []
  },
  {
   "cell_type": "code",
   "execution_count": null,
   "metadata": {},
   "outputs": [],
   "source": []
  },
  {
   "cell_type": "code",
   "execution_count": null,
   "metadata": {},
   "outputs": [],
   "source": []
  },
  {
   "cell_type": "code",
   "execution_count": 77,
   "metadata": {},
   "outputs": [],
   "source": [
    "@ffi.callback(\"void(void* , FfiResult* , unsigned long, unsigned long)\")\n",
    "def result_sign_generate_key_pair(user_data, result, pubKeyHandle, secKeyHandle):\n",
    "    print('results')\n",
    "    print('error code: ')\n",
    "    print(result.error_code)\n",
    "    if result.error_code != 0:\n",
    "        print(ffi.string(result.description))\n",
    "    print(pubKeyHandle)\n",
    "    print(secKeyHandle)"
   ]
  },
  {
   "cell_type": "code",
   "execution_count": 78,
   "metadata": {
    "scrolled": true
   },
   "outputs": [
    {
     "name": "stdout",
     "output_type": "stream",
     "text": [
      "results\n",
      "error code: \n",
      "0\n",
      "4\n",
      "5\n"
     ]
    }
   ],
   "source": [
    "lib.sign_generate_key_pair(returnDict['app'],ffi.NULL,result_sign_generate_key_pair)"
   ]
  },
  {
   "cell_type": "code",
   "execution_count": null,
   "metadata": {},
   "outputs": [],
   "source": []
  },
  {
   "cell_type": "code",
   "execution_count": 75,
   "metadata": {},
   "outputs": [],
   "source": [
    "@ffi.callback(\"void(void* , FfiResult*, PermissionSet*)\")\n",
    "def result_getPermissions(user_data, result, handle):\n",
    "    print('results')\n",
    "    print('error code: ')\n",
    "    print(result.error_code)\n",
    "    if result.error_code != 0:\n",
    "        print(ffi.string(result.description))\n",
    "    print(handle)\n",
    "    #returnDict = ffi.from_handle(user_data)\n",
    "    #returnDict['newMdata']=ffi.new('PermissionSet *',handle[0])"
   ]
  },
  {
   "cell_type": "code",
   "execution_count": 77,
   "metadata": {
    "scrolled": false
   },
   "outputs": [
    {
     "name": "stdout",
     "output_type": "stream",
     "text": [
      "results\n",
      "error code: \n",
      "-1011\n",
      "b'Invalid sign public key handle'\n",
      "<cdata 'PermissionSet *' NULL>\n"
     ]
    }
   ],
   "source": [
    "lib.mdata_permissions_get(returnDict['app'],1,4,ffi.new_handle(returnDict),result_getPermissions)"
   ]
  },
  {
   "cell_type": "code",
   "execution_count": null,
   "metadata": {},
   "outputs": [],
   "source": []
  },
  {
   "cell_type": "code",
   "execution_count": null,
   "metadata": {},
   "outputs": [],
   "source": []
  },
  {
   "cell_type": "code",
   "execution_count": null,
   "metadata": {},
   "outputs": [],
   "source": []
  },
  {
   "cell_type": "code",
   "execution_count": 75,
   "metadata": {},
   "outputs": [],
   "source": [
    "@ffi.callback(\"void(void *, FfiResult *)\")\n",
    "def result_mdata_put(user_data, result):\n",
    "    print('results')\n",
    "    print('error code: ')\n",
    "    print(result.error_code)\n",
    "    if result.error_code != 0:\n",
    "        print(ffi.string(result.description))"
   ]
  },
  {
   "cell_type": "code",
   "execution_count": 76,
   "metadata": {},
   "outputs": [
    {
     "name": "stdout",
     "output_type": "stream",
     "text": [
      "results\n",
      "error code: \n",
      "-100\n",
      "b'Core error: Routing client error -> Access denied'\n"
     ]
    }
   ],
   "source": [
    "lib.mdata_put(returnDict['app'],returnDict['newMdata'],1,2,ffi.NULL,result_mdata_put)"
   ]
  },
  {
   "cell_type": "code",
   "execution_count": null,
   "metadata": {},
   "outputs": [],
   "source": []
  },
  {
   "cell_type": "code",
   "execution_count": null,
   "metadata": {},
   "outputs": [],
   "source": []
  },
  {
   "cell_type": "code",
   "execution_count": null,
   "metadata": {},
   "outputs": [],
   "source": []
  },
  {
   "cell_type": "code",
   "execution_count": 105,
   "metadata": {},
   "outputs": [],
   "source": [
    "@ffi.callback(\"void(void* , FfiResult*, PermissionSet*)\")\n",
    "def result_getPermissions(user_data, result, handle):\n",
    "    print('results')\n",
    "    print('error code: ')\n",
    "    print(result.error_code)\n",
    "    if result.error_code != 0:\n",
    "        print(ffi.string(result.description))\n",
    "    print(handle)\n",
    "    returnDict = ffi.from_handle(user_data)\n",
    "    returnDict['newMdata']=ffi.new('PermissionSet *',handle[0])"
   ]
  },
  {
   "cell_type": "code",
   "execution_count": null,
   "metadata": {
    "scrolled": false
   },
   "outputs": [
    {
     "name": "stdout",
     "output_type": "stream",
     "text": [
      "results\n",
      "error code: \n",
      "-1011\n",
      "b'Invalid sign public key handle'\n",
      "<cdata 'PermissionSet *' NULL>\n"
     ]
    }
   ],
   "source": [
    "lib.mdata_permissions_get(returnDict['app'],3,0,ffi.new_handle(returnDict),result_getPermissions)"
   ]
  },
  {
   "cell_type": "markdown",
   "metadata": {},
   "source": [
    "permissionSet"
   ]
  },
  {
   "cell_type": "code",
   "execution_count": 62,
   "metadata": {},
   "outputs": [],
   "source": [
    "@ffi.callback(\"void(void* , FfiResult*, unsigned long)\")\n",
    "def result_clearCache(user_data, result, handle):\n",
    "    print('results')\n",
    "    print('error code: ')\n",
    "    print(result.error_code)\n",
    "    if result.error_code != 0:\n",
    "        print(ffi.string(result.description))\n",
    "    print(handle)"
   ]
  },
  {
   "cell_type": "code",
   "execution_count": 63,
   "metadata": {
    "scrolled": false
   },
   "outputs": [
    {
     "name": "stdout",
     "output_type": "stream",
     "text": [
      "results\n",
      "error code: \n",
      "0\n",
      "1\n"
     ]
    }
   ],
   "source": [
    "lib.mdata_permissions_new(returnDict['app'],ffi.NULL,result_clearCache)"
   ]
  },
  {
   "cell_type": "code",
   "execution_count": null,
   "metadata": {},
   "outputs": [],
   "source": []
  },
  {
   "cell_type": "code",
   "execution_count": null,
   "metadata": {},
   "outputs": [],
   "source": []
  },
  {
   "cell_type": "code",
   "execution_count": null,
   "metadata": {},
   "outputs": [],
   "source": []
  },
  {
   "cell_type": "code",
   "execution_count": null,
   "metadata": {},
   "outputs": [],
   "source": []
  },
  {
   "cell_type": "code",
   "execution_count": 62,
   "metadata": {},
   "outputs": [],
   "source": [
    "@ffi.callback(\"void(void* , FfiResult*, unsigned long)\")\n",
    "def result_clearCache(user_data, result, handle):\n",
    "    print('results')\n",
    "    print('error code: ')\n",
    "    print(result.error_code)\n",
    "    if result.error_code != 0:\n",
    "        print(ffi.string(result.description))\n",
    "    print(handle)"
   ]
  },
  {
   "cell_type": "code",
   "execution_count": 63,
   "metadata": {
    "scrolled": true
   },
   "outputs": [
    {
     "name": "stdout",
     "output_type": "stream",
     "text": [
      "results\n",
      "error code: \n",
      "0\n",
      "1\n"
     ]
    }
   ],
   "source": [
    "lib.idata_new_self_encryptor(returnDict['app'],ffi.NULL,result_clearCache)"
   ]
  },
  {
   "cell_type": "code",
   "execution_count": null,
   "metadata": {},
   "outputs": [],
   "source": []
  },
  {
   "cell_type": "code",
   "execution_count": null,
   "metadata": {},
   "outputs": [],
   "source": []
  },
  {
   "cell_type": "code",
   "execution_count": 64,
   "metadata": {},
   "outputs": [],
   "source": [
    "with open('picData.jpeg','rb') as f:\n",
    "    picData = f.read()"
   ]
  },
  {
   "cell_type": "code",
   "execution_count": 67,
   "metadata": {},
   "outputs": [],
   "source": [
    "writeData=ffi.new('unsigned char[]',picData)"
   ]
  },
  {
   "cell_type": "code",
   "execution_count": 68,
   "metadata": {},
   "outputs": [
    {
     "data": {
      "text/plain": [
       "113025"
      ]
     },
     "execution_count": 68,
     "metadata": {},
     "output_type": "execute_result"
    }
   ],
   "source": [
    "ffi.sizeof(writeData)"
   ]
  },
  {
   "cell_type": "code",
   "execution_count": 69,
   "metadata": {},
   "outputs": [],
   "source": [
    "@ffi.callback(\"void(void* , FfiResult*)\")\n",
    "def result_writeData(user_data, result):\n",
    "    print('results')\n",
    "    print('error code: ')\n",
    "    print(result.error_code)\n",
    "    if result.error_code != 0:\n",
    "        print(ffi.string(result.description))"
   ]
  },
  {
   "cell_type": "code",
   "execution_count": 71,
   "metadata": {
    "scrolled": true
   },
   "outputs": [
    {
     "name": "stdout",
     "output_type": "stream",
     "text": [
      "results\n",
      "error code: \n",
      "0\n"
     ]
    }
   ],
   "source": [
    "lib.idata_write_to_self_encryptor(returnDict['app'],1,writeData,ffi.sizeof(writeData),ffi.NULL,result_writeData)"
   ]
  },
  {
   "cell_type": "code",
   "execution_count": null,
   "metadata": {},
   "outputs": [],
   "source": []
  },
  {
   "cell_type": "code",
   "execution_count": null,
   "metadata": {},
   "outputs": [],
   "source": []
  },
  {
   "cell_type": "code",
   "execution_count": 72,
   "metadata": {},
   "outputs": [],
   "source": [
    "@ffi.callback(\"void(void* , FfiResult*, unsigned long)\")\n",
    "def result_cipher(user_data, result, handle):\n",
    "    print('results')\n",
    "    print('error code: ')\n",
    "    print(result.error_code)\n",
    "    if result.error_code != 0:\n",
    "        print(ffi.string(result.description))\n",
    "    print(handle)"
   ]
  },
  {
   "cell_type": "code",
   "execution_count": 73,
   "metadata": {},
   "outputs": [
    {
     "name": "stdout",
     "output_type": "stream",
     "text": [
      "results\n",
      "error code: \n",
      "0\n",
      "2\n"
     ]
    }
   ],
   "source": [
    "lib.cipher_opt_new_symmetric(returnDict['app'],ffi.NULL,result_cipher)"
   ]
  },
  {
   "cell_type": "code",
   "execution_count": null,
   "metadata": {},
   "outputs": [],
   "source": []
  },
  {
   "cell_type": "code",
   "execution_count": 74,
   "metadata": {},
   "outputs": [],
   "source": [
    "@ffi.callback(\"void(void* , FfiResult*, XorNameArray*)\")\n",
    "def result_closeEncryptor(user_data, result,name):\n",
    "    print('results')\n",
    "    print('error code: ')\n",
    "    print(result.error_code)\n",
    "    if result.error_code != 0:\n",
    "        print(ffi.string(result.description))\n",
    "    for i in range(32):\n",
    "        try:\n",
    "            print(name[i])\n",
    "        except:\n",
    "            pass"
   ]
  },
  {
   "cell_type": "code",
   "execution_count": 75,
   "metadata": {
    "scrolled": true
   },
   "outputs": [
    {
     "name": "stdout",
     "output_type": "stream",
     "text": [
      "results\n",
      "error code: \n",
      "-16\n",
      "b'Self-encryption error: Storage error: Routing client error -> Access denied'\n"
     ]
    }
   ],
   "source": [
    "lib.idata_close_self_encryptor(returnDict['app'],1,2,ffi.NULL,result_closeEncryptor)"
   ]
  },
  {
   "cell_type": "code",
   "execution_count": null,
   "metadata": {},
   "outputs": [],
   "source": []
  },
  {
   "cell_type": "code",
   "execution_count": null,
   "metadata": {},
   "outputs": [],
   "source": []
  },
  {
   "cell_type": "code",
   "execution_count": 59,
   "metadata": {},
   "outputs": [],
   "source": [
    "lalai={}"
   ]
  },
  {
   "cell_type": "code",
   "execution_count": 61,
   "metadata": {},
   "outputs": [],
   "source": [
    "@ffi.callback(\"void(void* , FfiResult* , unsigned long)\")\n",
    "def result_mdata_entries_new(user_data, result, entriesHandle):\n",
    "    print('results')\n",
    "    print('error code: ')\n",
    "    print(result.error_code)\n",
    "    if result.error_code != 0:\n",
    "        print(ffi.string(result.description))\n",
    "    noway = ffi.from_handle(user_data)\n",
    "    print(entriesHandle)\n",
    "    print(noway)\n",
    "    #noway['mdata'] = entriesHandle"
   ]
  },
  {
   "cell_type": "markdown",
   "metadata": {
    "scrolled": false
   },
   "source": [
    "lib.mdata_entries_new(returnDict['app'],ffi.new_handle(returnDict),result_mdata_entries_new)"
   ]
  },
  {
   "cell_type": "code",
   "execution_count": null,
   "metadata": {
    "scrolled": true
   },
   "outputs": [
    {
     "name": "stdout",
     "output_type": "stream",
     "text": [
      "results\n",
      "error code: \n",
      "0\n"
     ]
    }
   ],
   "source": [
    "lib.mdata_entries_new(returnDict['app'],ffi.new_handle(returnDict),result_mdata_entries_new)"
   ]
  },
  {
   "cell_type": "code",
   "execution_count": null,
   "metadata": {},
   "outputs": [],
   "source": []
  },
  {
   "cell_type": "code",
   "execution_count": 58,
   "metadata": {},
   "outputs": [],
   "source": [
    "@ffi.callback(\"void(void* , FfiResult*)\")\n",
    "def result_access_container_refresh_access_info(user_data, result):\n",
    "    print('results')\n",
    "    print('error code: ')\n",
    "    print(result.error_code)\n",
    "    if result.error_code != 0:\n",
    "        print(ffi.string(result.description))\n",
    "    #noway['mdata'] = entriesHandle"
   ]
  },
  {
   "cell_type": "code",
   "execution_count": 59,
   "metadata": {},
   "outputs": [
    {
     "name": "stdout",
     "output_type": "stream",
     "text": [
      "results\n",
      "error code: \n",
      "-106\n",
      "b'Core error: Routing client error -> Requested entry not found'\n"
     ]
    }
   ],
   "source": [
    "lib.access_container_refresh_access_info(returnDict['app'],ffi.NULL,result_access_container_refresh_access_info)"
   ]
  },
  {
   "cell_type": "code",
   "execution_count": null,
   "metadata": {},
   "outputs": [],
   "source": []
  },
  {
   "cell_type": "code",
   "execution_count": 71,
   "metadata": {},
   "outputs": [],
   "source": [
    "@ffi.callback(\"void(void* , FfiResult* , ContainerPermissions*, unsigned long)\")\n",
    "def result_access_container_fetch(user_data, result, permissions, entriesHandle):\n",
    "    print('results')\n",
    "    print('error code: ')\n",
    "    print(result.error_code)\n",
    "    if result.error_code != 0:\n",
    "        print(ffi.string(result.description))\n",
    "    noway = ffi.from_handle(user_data)\n",
    "    print(entriesHandle)\n",
    "    print(noway)\n",
    "    #noway['mdata'] = entriesHandle"
   ]
  },
  {
   "cell_type": "code",
   "execution_count": 72,
   "metadata": {},
   "outputs": [
    {
     "name": "stdout",
     "output_type": "stream",
     "text": [
      "results\n",
      "error code: \n",
      "-106\n",
      "b'Core error: Routing client error -> Requested entry not found'\n"
     ]
    }
   ],
   "source": [
    "lib.access_container_fetch(returnDict['app'],ffi.new_handle(returnDict),result_access_container_fetch)"
   ]
  },
  {
   "cell_type": "code",
   "execution_count": null,
   "metadata": {},
   "outputs": [],
   "source": []
  },
  {
   "cell_type": "code",
   "execution_count": 115,
   "metadata": {},
   "outputs": [],
   "source": [
    "@ffi.callback(\"void(void* , FfiResult* , AccountInfo*)\")\n",
    "def result_app_account_info(user_data, result, info):\n",
    "    print('results')\n",
    "    print('error code: ')\n",
    "    print(result.error_code)\n",
    "    if result.error_code != 0:\n",
    "        print(ffi.string(result.description))\n",
    "    #returnDict = ffi.from_handle(user_data)\n",
    "    #if info != ffi.NULL:\n",
    "    #    returnDict['info'] = safeUtils.copy(info,ffi)\n",
    "    print(info)"
   ]
  },
  {
   "cell_type": "code",
   "execution_count": 116,
   "metadata": {},
   "outputs": [
    {
     "name": "stdout",
     "output_type": "stream",
     "text": [
      "results\n",
      "error code: \n",
      "-100\n",
      "b'Core error: Routing client error -> Access denied'\n",
      "<cdata 'AccountInfo *' NULL>\n"
     ]
    }
   ],
   "source": [
    "lib.app_account_info(returnDict['app'],ffi.new_handle(returnDict),result_app_account_info)"
   ]
  },
  {
   "cell_type": "code",
   "execution_count": null,
   "metadata": {},
   "outputs": [],
   "source": []
  },
  {
   "cell_type": "code",
   "execution_count": 121,
   "metadata": {},
   "outputs": [],
   "source": [
    "@ffi.callback(\"void(void *, FfiResult *, ContainerPermissions *, unsigned long)\")\n",
    "def result_access_container_fetch(user_data, result, permissions, permissionLength):\n",
    "    print('results')\n",
    "    print('error code: ')\n",
    "    print(result.error_code)\n",
    "    if result.error_code != 0:\n",
    "        print(ffi.string(result.description))\n",
    "    #returnDict = ffi.from_handle(user_data)\n",
    "    if permissions != ffi.NULL:\n",
    "        returnDict['info'] = safeUtils.copy(permissions,ffi)\n",
    "    print(permissions[0])"
   ]
  },
  {
   "cell_type": "code",
   "execution_count": 122,
   "metadata": {},
   "outputs": [
    {
     "name": "stdout",
     "output_type": "stream",
     "text": [
      "results\n",
      "error code: \n",
      "0\n",
      "<cdata 'ContainerPermissions &' 0x7fbc04015230>\n"
     ]
    }
   ],
   "source": [
    "lib.access_container_fetch(returnDict['app'],ffi.new_handle(returnDict),result_access_container_fetch)"
   ]
  },
  {
   "cell_type": "code",
   "execution_count": 127,
   "metadata": {},
   "outputs": [],
   "source": [
    "myConPerm=returnDict['info'][0]"
   ]
  },
  {
   "cell_type": "code",
   "execution_count": 129,
   "metadata": {},
   "outputs": [
    {
     "data": {
      "text/plain": [
       "b'_music'"
      ]
     },
     "execution_count": 129,
     "metadata": {},
     "output_type": "execute_result"
    }
   ],
   "source": [
    "ffi.string(myConPerm.cont_name)"
   ]
  },
  {
   "cell_type": "code",
   "execution_count": null,
   "metadata": {},
   "outputs": [],
   "source": []
  },
  {
   "cell_type": "code",
   "execution_count": null,
   "metadata": {},
   "outputs": [],
   "source": []
  },
  {
   "cell_type": "code",
   "execution_count": null,
   "metadata": {},
   "outputs": [],
   "source": [
    "lib.access_container_get_container_mdata_info()"
   ]
  },
  {
   "cell_type": "code",
   "execution_count": null,
   "metadata": {},
   "outputs": [],
   "source": []
  },
  {
   "cell_type": "code",
   "execution_count": 62,
   "metadata": {},
   "outputs": [],
   "source": [
    "@ffi.callback(\"void(void *, FfiResult *)\")\n",
    "def result_app_init_logging(user_data, result):\n",
    "    print('results')\n",
    "    print('error code: ')\n",
    "    print(result.error_code)\n",
    "    if result.error_code != 0:\n",
    "        print(ffi.string(result.description))\n",
    "    returnDict = ffi.from_handle(user_data)"
   ]
  },
  {
   "cell_type": "code",
   "execution_count": 63,
   "metadata": {},
   "outputs": [],
   "source": [
    "output_file_name=ffi.new('char[]',b'/home/yomuga/maidsafe/pySafe/pySafe/log_out')"
   ]
  },
  {
   "cell_type": "code",
   "execution_count": 64,
   "metadata": {},
   "outputs": [
    {
     "name": "stdout",
     "output_type": "stream",
     "text": [
      "results\n",
      "error code: \n",
      "0\n"
     ]
    }
   ],
   "source": [
    "lib.app_init_logging(output_file_name,ffi.new_handle(returnDict),result_app_init_logging)"
   ]
  },
  {
   "cell_type": "code",
   "execution_count": null,
   "metadata": {},
   "outputs": [],
   "source": []
  },
  {
   "cell_type": "code",
   "execution_count": null,
   "metadata": {},
   "outputs": [],
   "source": []
  },
  {
   "cell_type": "code",
   "execution_count": 128,
   "metadata": {},
   "outputs": [],
   "source": [
    "@ffi.callback(\"void(void *, FfiResult *, char *)\")\n",
    "def result_app_output_log_path(user_data, result,logFile):\n",
    "    print('results')\n",
    "    print('error code: ')\n",
    "    print(result.error_code)\n",
    "    if result.error_code != 0:\n",
    "        print(ffi.string(result.description))\n",
    "    print(ffi.string(logFile))\n",
    "    returnDict['filePath'] = ffi.string(logFile)"
   ]
  },
  {
   "cell_type": "code",
   "execution_count": 131,
   "metadata": {},
   "outputs": [],
   "source": [
    "file_name=ffi.new('char[]',b'log_out2')"
   ]
  },
  {
   "cell_type": "code",
   "execution_count": 132,
   "metadata": {},
   "outputs": [
    {
     "name": "stdout",
     "output_type": "stream",
     "text": [
      "results\n",
      "error code: \n",
      "0\n",
      "b'../compiled_binaries/log_out2'\n"
     ]
    }
   ],
   "source": [
    "lib.app_output_log_path(file_name,ffi.new_handle(returnDict),result_app_output_log_path)"
   ]
  },
  {
   "cell_type": "code",
   "execution_count": null,
   "metadata": {},
   "outputs": [],
   "source": []
  },
  {
   "cell_type": "code",
   "execution_count": 73,
   "metadata": {},
   "outputs": [],
   "source": [
    "newMdata=ffi.new('MDataInfo *')"
   ]
  },
  {
   "cell_type": "code",
   "execution_count": 74,
   "metadata": {},
   "outputs": [],
   "source": [
    "newMdata.type_tag=15017"
   ]
  },
  {
   "cell_type": "code",
   "execution_count": 67,
   "metadata": {},
   "outputs": [],
   "source": [
    "for i in range(32):\n",
    "    newMdata.name[i]=i+1"
   ]
  },
  {
   "cell_type": "code",
   "execution_count": 68,
   "metadata": {},
   "outputs": [],
   "source": [
    "@ffi.callback(\"void(void *, FfiResult *)\")\n",
    "def result_mdata_put(user_data, result):\n",
    "    print('results')\n",
    "    print('error code: ')\n",
    "    print(result.error_code)\n",
    "    if result.error_code != 0:\n",
    "        print(ffi.string(result.description))"
   ]
  },
  {
   "cell_type": "code",
   "execution_count": 69,
   "metadata": {},
   "outputs": [
    {
     "name": "stdout",
     "output_type": "stream",
     "text": [
      "results\n",
      "error code: \n",
      "-100\n",
      "b'Core error: Routing client error -> Access denied'\n"
     ]
    }
   ],
   "source": [
    "lib.mdata_put(returnDict['app'],newMdata,0,0,ffi.new_handle(returnDict),result_mdata_put)"
   ]
  },
  {
   "cell_type": "code",
   "execution_count": null,
   "metadata": {},
   "outputs": [],
   "source": []
  },
  {
   "cell_type": "code",
   "execution_count": 70,
   "metadata": {},
   "outputs": [
    {
     "data": {
      "text/plain": [
       "<cdata 'void * *' 0x5642362969c0>"
      ]
     },
     "execution_count": 70,
     "metadata": {},
     "output_type": "execute_result"
    }
   ],
   "source": [
    "returnDict['app']"
   ]
  },
  {
   "cell_type": "code",
   "execution_count": null,
   "metadata": {},
   "outputs": [],
   "source": []
  },
  {
   "cell_type": "code",
   "execution_count": null,
   "metadata": {},
   "outputs": [],
   "source": []
  },
  {
   "cell_type": "markdown",
   "metadata": {},
   "source": [
    "---"
   ]
  },
  {
   "cell_type": "code",
   "execution_count": null,
   "metadata": {},
   "outputs": [],
   "source": [
    "ffi.cdef('''\n",
    "void app_exe_file_stem(void* user_data, void(*)(void*, FfiResult*, char*));\n",
    "void login(char* account_locator, char* account_password, void* user_data, void(*)(void*), void(*)(void*, FfiResult*, Authenticator*));\n",
    "void create_acc(char* account_locator, char* account_password, char* invitation, void* user_data, void(*)(void*), void(*)(void*, FfiResult*, Authenticator*));\n",
    "''')"
   ]
  },
  {
   "cell_type": "code",
   "execution_count": null,
   "metadata": {},
   "outputs": [],
   "source": [
    "libAuth"
   ]
  }
 ],
 "metadata": {
  "kernelspec": {
   "display_name": "Python 3",
   "language": "python",
   "name": "python3"
  },
  "language_info": {
   "codemirror_mode": {
    "name": "ipython",
    "version": 3
   },
   "file_extension": ".py",
   "mimetype": "text/x-python",
   "name": "python",
   "nbconvert_exporter": "python",
   "pygments_lexer": "ipython3",
   "version": "3.6.7"
  }
 },
 "nbformat": 4,
 "nbformat_minor": 2
}
